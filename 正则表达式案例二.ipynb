{
 "cells": [
  {
   "cell_type": "code",
   "execution_count": null,
   "metadata": {},
   "outputs": [],
   "source": [
    "常用通用字符总结\n",
    "\n",
    "\\s 匹配空白字符\n",
    "\\w 匹配任意字母/数字/下划线 \\w=[a-zA-Z0-9_]\n",
    "\\W 和小写 w 相反，匹配任意字母/数字/下划线以外的字符 \\W=[^a-zA-Z0-9_]\n",
    "\\d 匹配十进制数字 \\d=[0-9]\n",
    "\\D 匹配除了十进制数以外的值 \\D=[^0-9]\n",
    "[0-9] 匹配一个0-9之间的数字\n",
    "[a-z] 匹配小写英文字母\n",
    "[A-Z] 匹配大写英文字母"
   ]
  },
  {
   "cell_type": "code",
   "execution_count": null,
   "metadata": {},
   "outputs": [],
   "source": [
    "# 匹配案例\n",
    "# 1、判断变量的名称:由数字、字母、下划线组成，不能以数字作为开头\n",
    "# [a-zA-Z_][a-zA-Z0-9_]$\n",
    "# 注意:如果不加$，中间如果有不符合字符如abc#()123就会匹配成功\n",
    "\n",
    "import re\n",
    "\n",
    "result = re.match(r\"[a-zA-Z_][a-zA-Z0-9_]*$\",\"Python123\")\n",
    "print(result)\n",
    "\n",
    "\n",
    "# 2、判断4-20位163邮箱格式\n",
    "# [a-zA-Z0-9_]@163.com$\n",
    "# 注意:如果末尾不加$符号，abc123@163.comcom也会匹配成功,.表示转义,变成普通的点号,因为点号在正则表达式里表示除\\n换行符以外的字符，所以需要转义\n",
    "\n",
    "import re\n",
    "\n",
    "result = re.match(r\"[a-zA-Z0-9_]{4,20}@163\\.com$\",\"abc123@163.com\")\n",
    "print(result)\n",
    "\n",
    "\n",
    "# 3、判断163邮箱、qq邮箱\n",
    "# [a-zA-Z0-9_]{4,20}@(163|qq|QQ).com$\n",
    "# 注意:同上\n",
    "\n",
    "import re\n",
    "\n",
    "result = re.match(r\"[a-zA-Z0-9_]{4,20}@(163|qq|QQ)\\.com$\",\"abc_123@QQ.com\")\n",
    "print(result)\n"
   ]
  },
  {
   "cell_type": "code",
   "execution_count": null,
   "metadata": {},
   "outputs": [],
   "source": [
    "# 案例1：需求：匹配一个以 <a 开头以 > 结尾的任意一串字符\n",
    "\n",
    "def getATag(theStr):\n",
    "    res_tag=r\"<a.*>\"\n",
    "    resultList=re.findall(res_tag,theStr)\n",
    "    for item in resultList:\n",
    "        print(item)\n",
    "\n",
    "# 案例2：需求：匹配以类似 1996.01 这样的日期字符串\n",
    "\n",
    "def if_match_date(the_str):\n",
    "    '''\n",
    "    匹配2009.02这种日期格式\n",
    "    :param the_str: 待匹配的字符串\n",
    "    :return: 1为匹配成功，0为匹配失败\n",
    "    '''\n",
    "    if re.match(r\"\\d{4}\\.\\d{1,2}\",the_str):\n",
    "        return 1\n",
    "    else:\n",
    "        return 0"
   ]
  },
  {
   "cell_type": "code",
   "execution_count": 4,
   "metadata": {},
   "outputs": [
    {
     "name": "stdout",
     "output_type": "stream",
     "text": [
      "(7, 13)\n"
     ]
    },
    {
     "data": {
      "text/plain": [
       "<re.Match object; span=(7, 13), match='python'>"
      ]
     },
     "execution_count": 4,
     "metadata": {},
     "output_type": "execute_result"
    }
   ],
   "source": [
    "# 案例3：查找第一个匹配串\n",
    "\n",
    "import re\n",
    "s='i love python very much'\n",
    "pat='python'\n",
    "r=re.search(pat,s)\n",
    "print(r.span())                #(7,13)\n"
   ]
  },
  {
   "cell_type": "code",
   "execution_count": null,
   "metadata": {},
   "outputs": [],
   "source": [
    "# 案例4： 查找所有1\n",
    "\n",
    "import re\n",
    "s='山东省潍坊市青州第1中学高三1班'\n",
    "pat='1'\n",
    "r=re.finditer(pat,s)\n",
    "for i in r:\n",
    "    print(i)"
   ]
  },
  {
   "cell_type": "code",
   "execution_count": 5,
   "metadata": {},
   "outputs": [
    {
     "name": "stdout",
     "output_type": "stream",
     "text": [
      "['20', '13', '59']\n"
     ]
    }
   ],
   "source": [
    "# 案例5： \\d匹配数字[0-9]\n",
    "\n",
    "import re\n",
    "s='一共20行代码运行时间13.59s'\n",
    "pat=r'\\d+'#+表示匹配数字(\\d表示数字的通用字符)1次或多次\n",
    "r=re.findall(pat,s)\n",
    "print(r)"
   ]
  },
  {
   "cell_type": "code",
   "execution_count": null,
   "metadata": {},
   "outputs": [],
   "source": [
    "# 案例6：^匹配字符串的开头\n",
    "\n",
    "import re\n",
    "\n",
    "s='This module provides regular expression matching operations similar to those found in Perl'\n",
    "pat=r'^[emrt]' #查找字符串是否以'e','m','r','t'中的一个字母为开头，如果是则输出开头字母\n",
    "r=re.findall(pat,s)\n",
    "print(r)"
   ]
  },
  {
   "cell_type": "code",
   "execution_count": null,
   "metadata": {},
   "outputs": [],
   "source": [
    "# 案例7：re.I 忽略大小写\n",
    "import re\n",
    "\n",
    "s='This module provides regular expression matching operations similar to those found in Perl'\n",
    "pat=r'^[emrt]' \n",
    "r=re.compile(pat,re.I).search(s)  #等价于re.search(pat,s,flags=re.I)\n",
    "print(r)\n"
   ]
  },
  {
   "cell_type": "code",
   "execution_count": 11,
   "metadata": {},
   "outputs": [
    {
     "data": {
      "text/plain": [
       "['This',\n",
       " 'module',\n",
       " 'provides',\n",
       " 'regular',\n",
       " 'expression',\n",
       " 'matching',\n",
       " 'operations',\n",
       " 'similar',\n",
       " 'to',\n",
       " 'those',\n",
       " 'found',\n",
       " 'in',\n",
       " 'Perl']"
      ]
     },
     "execution_count": 11,
     "metadata": {},
     "output_type": "execute_result"
    }
   ],
   "source": [
    "# 案例8：只捕获单词，去掉空格\n",
    "\n",
    "import re\n",
    "\n",
    "s='This module provides regular expression matching operations similar to those found in Perl'\n",
    "pat=r'\\s?([a-zA-Z]+)'\n",
    "r=re.findall(pat,s)\n",
    "r"
   ]
  },
  {
   "cell_type": "code",
   "execution_count": null,
   "metadata": {},
   "outputs": [],
   "source": []
  },
  {
   "cell_type": "code",
   "execution_count": null,
   "metadata": {},
   "outputs": [],
   "source": []
  }
 ],
 "metadata": {
  "kernelspec": {
   "display_name": "Python 3",
   "language": "python",
   "name": "python3"
  },
  "language_info": {
   "codemirror_mode": {
    "name": "ipython",
    "version": 3
   },
   "file_extension": ".py",
   "mimetype": "text/x-python",
   "name": "python",
   "nbconvert_exporter": "python",
   "pygments_lexer": "ipython3",
   "version": "3.8.8"
  }
 },
 "nbformat": 4,
 "nbformat_minor": 4
}
