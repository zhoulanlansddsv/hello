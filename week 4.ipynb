{
 "cells": [
  {
   "cell_type": "code",
   "execution_count": 1,
   "id": "06fc410e",
   "metadata": {},
   "outputs": [],
   "source": [
    "import requests"
   ]
  },
  {
   "cell_type": "code",
   "execution_count": 2,
   "id": "1d7fa3aa",
   "metadata": {},
   "outputs": [],
   "source": [
    "url = 'http://www.sse.com.cn//disclosure/listedinfo/announcement/c/2020-10-26/600519_20201026_3.pdf'\n",
    "res = requests.get(url)"
   ]
  },
  {
   "cell_type": "code",
   "execution_count": 3,
   "id": "b12771ec",
   "metadata": {},
   "outputs": [
    {
     "data": {
      "text/plain": [
       "<Response [200]>"
      ]
     },
     "execution_count": 3,
     "metadata": {},
     "output_type": "execute_result"
    }
   ],
   "source": [
    "res"
   ]
  },
  {
   "cell_type": "code",
   "execution_count": 4,
   "id": "c2da0c0a",
   "metadata": {},
   "outputs": [
    {
     "data": {
      "text/plain": [
       "b'<html><script>\\n        var arg1=\\'8002348604A5C95DEBC1DB5593D6DA71038FED44\\';\\n                    var _0x4818=function(name, arg1){var _0x3e9e=[\\'c3BsaXQ=\\',\\'c2xpY2U=\\',\\'dG9TdHJpbmc=\\',\\'c2V0VGltZQ==\\',\\'Z2V0VGltZQ==\\',\\'Y29va2ll\\',\\'YWN3X3NjX192Mj0=\\',\\'O2V4cGlyZXM9\\',\\'dG9HTVRTdHJpbmc=\\',\\'O21heC1hZ2U9MzYwMDtwYXRoPS8=\\',\\'MzAwMDE3NjAwMDg1NjAwNjA2MTUwMTUzMzAwMzY5MDAyNzgwMDM3NQ==\\',\\'bGVuZ3Ro\\',\\'am9pbg==\\',\\'MXw0fDN8MHwy\\'];(function(_0x2d8f05,_0x4b81bb){var _0x4d74cb=function(_0x32719f){while(--_0x32719f){_0x2d8f05[\\'push\\'](_0x2d8f05[\\'shift\\']());}};var _0x33748d=function(){var _0x3e4c21={\\'data\\':{\\'key\\':\\'cookie\\',\\'value\\':\\'timeout\\'},\\'setCookie\\':function(_0x5c685e,_0x3e3156,_0x1e9e81,_0x292610){_0x292610=_0x292610||{};var _0x151bd2=_0x3e3156+\\'=\\'+_0x1e9e81;var _0x558098=0x0;for(var _0x558098=0x0,_0x230f38=_0x5c685e[\\'length\\'];_0x558098<_0x230f38;_0x558098++){var _0x948b6c=_0x5c685e[_0x558098];_0x151bd2+=\\';\\\\x20\\'+_0x948b6c;var _0x29929c=_0x5c685e[_0x948b6c];_0x5c685e[\\'push\\'](_0x29929c);_0x230f38=_0x5c685e[\\'length\\'];if(_0x29929c!==!![]){_0x151bd2+=\\'=\\'+_0x29929c;}}_0x292610[\\'cookie\\']=_0x151bd2;},\\'removeCookie\\':function(){return\\'dev\\';},\\'getCookie\\':function(_0x5dd881,_0x550fbc){_0x5dd881=_0x5dd881||function(_0x18d5c9){return _0x18d5c9;};var _0x4ce2f1=_0x5dd881(new RegExp(\\'(?:^|;\\\\x20)\\'+_0x550fbc[\\'replace\\'](/([.$?*|{}()[]\\\\/+^])/g,\\'$1\\')+\\'=([^;]*)\\'));var _0x333808=function(_0x432180,_0x2ab90b){_0x432180(++_0x2ab90b);};_0x333808(_0x4d74cb,_0x4b81bb);return _0x4ce2f1?decodeURIComponent(_0x4ce2f1[0x1]):undefined;}};var _0x991246=function(){var _0x981158=new RegExp(\\'\\\\x5cw+\\\\x20*\\\\x5c(\\\\x5c)\\\\x20*{\\\\x5cw+\\\\x20*[\\\\x27|\\\\x22].+[\\\\x27|\\\\x22];?\\\\x20*}\\');return _0x981158[\\'test\\'](_0x3e4c21[\\'removeCookie\\'][\\'toString\\']());};_0x3e4c21[\\'updateCookie\\']=_0x991246;var _0x57b080=\\'\\';var _0x219af0=_0x3e4c21[\\'updateCookie\\']();if(!_0x219af0){_0x3e4c21[\\'setCookie\\']([\\'*\\'],\\'counter\\',0x1);}else if(_0x219af0){_0x57b080=_0x3e4c21[\\'getCookie\\'](null,\\'counter\\');}else{_0x3e4c21[\\'removeCookie\\']();}};_0x33748d();}(_0x3e9e,0x176));var _0x1e8e=function(_0x558645,_0x3571ed){_0x558645=_0x558645-0x0;var _0x23d32b=_0x3e9e[_0x558645];if(_0x1e8e[\\'jweSQB\\']===undefined){(function(){var _0x2a4aae;try{var _0x1ac753=Function(\\'return\\\\x20(function()\\\\x20\\'+\\'{}.constructor(\\\\x22return\\\\x20this\\\\x22)(\\\\x20)\\'+\\');\\');_0x2a4aae=_0x1ac753();}catch(_0x267ba9){_0x2a4aae=window;}var _0x22c6cf=\\'ABCDEFGHIJKLMNOPQRSTUVWXYZabcdefghijklmnopqrstuvwxyz0123456789+/=\\';_0x2a4aae[\\'atob\\']||(_0x2a4aae[\\'atob\\']=function(_0xb01b66){var _0x112e38=String(_0xb01b66)[\\'replace\\'](/=+$/,\\'\\');for(var _0x315811=0x0,_0x196945,_0x8ee65b,_0x111e6b=0x0,_0x2a5e7f=\\'\\';_0x8ee65b=_0x112e38[\\'charAt\\'](_0x111e6b++);~_0x8ee65b&&(_0x196945=_0x315811%0x4?_0x196945*0x40+_0x8ee65b:_0x8ee65b,_0x315811++%0x4)?_0x2a5e7f+=String[\\'fromCharCode\\'](0xff&_0x196945>>(-0x2*_0x315811&0x6)):0x0){_0x8ee65b=_0x22c6cf[\\'indexOf\\'](_0x8ee65b);}return _0x2a5e7f;});}());_0x1e8e[\\'VidPVs\\']=function(_0x539abf){var _0x126fa5=atob(_0x539abf);var _0x54d768=[];for(var _0x3d3645=0x0,_0x4289fc=_0x126fa5[\\'length\\'];_0x3d3645<_0x4289fc;_0x3d3645++){_0x54d768+=\\'%\\'+(\\'00\\'+_0x126fa5[\\'charCodeAt\\'](_0x3d3645)[\\'toString\\'](0x10))[\\'slice\\'](-0x2);}return decodeURIComponent(_0x54d768);};_0x1e8e[\\'BXvRsu\\']={};_0x1e8e[\\'jweSQB\\']=!![];}var _0x436197=_0x1e8e[\\'BXvRsu\\'][_0x558645];if(_0x436197===undefined){var _0x4f4121=function(_0x5e2adc){this[\\'nlcXFw\\']=_0x5e2adc;this[\\'HAmvBE\\']=[0x1,0x0,0x0];this[\\'YFWLey\\']=function(){return\\'newState\\';};this[\\'YpNXEl\\']=\\'\\\\x5cw+\\\\x20*\\\\x5c(\\\\x5c)\\\\x20*{\\\\x5cw+\\\\x20*\\';this[\\'JsKhOp\\']=\\'[\\\\x27|\\\\x22].+[\\\\x27|\\\\x22];?\\\\x20*}\\';};_0x4f4121[\\'prototype\\'][\\'pzRiIQ\\']=function(){var _0x3e581e=new RegExp(this[\\'YpNXEl\\']+this[\\'JsKhOp\\']);var _0x13a005=_0x3e581e[\\'test\\'](this[\\'YFWLey\\'][\\'toString\\']())?--this[\\'HAmvBE\\'][0x1]:--this[\\'HAmvBE\\'][0x0];return this[\\'gaiPha\\'](_0x13a005);};_0x4f4121[\\'prototype\\'][\\'gaiPha\\']=function(_0x1e6387){if(!Boolean(~_0x1e6387)){return _0x1e6387;}return this[\\'hpKQFb\\'](this[\\'nlcXFw\\']);};_0x4f4121[\\'prototype\\'][\\'hpKQFb\\']=function(_0x20dc19){for(var _0x19d402=0x0,_0x5a3818=this[\\'HAmvBE\\'][\\'length\\'];_0x19d402<_0x5a3818;_0x19d402++){this[\\'HAmvBE\\'][\\'push\\'](Math[\\'round\\'](Math[\\'random\\']()));_0x5a3818=this[\\'HAmvBE\\'][\\'length\\'];}return _0x20dc19(this[\\'HAmvBE\\'][0x0]);};new _0x4f4121(_0x1e8e)[\\'pzRiIQ\\']();_0x23d32b=_0x1e8e[\\'VidPVs\\'](_0x23d32b);_0x1e8e[\\'BXvRsu\\'][_0x558645]=_0x23d32b;}else{_0x23d32b=_0x436197;}return _0x23d32b;};var _0x52bd4a=function(){var _0x56121a=!![];return function(_0x215040,_0x309e1a){var _0x23d8c2=_0x56121a?function(){if(_0x309e1a){var _0x1d7a3f=_0x309e1a[\\'apply\\'](_0x215040,arguments);_0x309e1a=null;return _0x1d7a3f;}}:function(){};_0x56121a=![];return _0x23d8c2;};}();var _0x1297ed=_0x52bd4a(this,function(){var _0x31f094=function(){return\\'\\\\x64\\\\x65\\\\x76\\';},_0x114f69=function(){return\\'\\\\x77\\\\x69\\\\x6e\\\\x64\\\\x6f\\\\x77\\';};var _0x21d55e=function(){var _0x4b4425=new RegExp(\\'\\\\x5c\\\\x77\\\\x2b\\\\x20\\\\x2a\\\\x5c\\\\x28\\\\x5c\\\\x29\\\\x20\\\\x2a\\\\x7b\\\\x5c\\\\x77\\\\x2b\\\\x20\\\\x2a\\\\x5b\\\\x27\\\\x7c\\\\x22\\\\x5d\\\\x2e\\\\x2b\\\\x5b\\\\x27\\\\x7c\\\\x22\\\\x5d\\\\x3b\\\\x3f\\\\x20\\\\x2a\\\\x7d\\');return!_0x4b4425[\\'\\\\x74\\\\x65\\\\x73\\\\x74\\'](_0x31f094[\\'\\\\x74\\\\x6f\\\\x53\\\\x74\\\\x72\\\\x69\\\\x6e\\\\x67\\']());};var _0x2328d0=function(){var _0x56d0ca=new RegExp(\\'\\\\x28\\\\x5c\\\\x5c\\\\x5b\\\\x78\\\\x7c\\\\x75\\\\x5d\\\\x28\\\\x5c\\\\x77\\\\x29\\\\x7b\\\\x32\\\\x2c\\\\x34\\\\x7d\\\\x29\\\\x2b\\');return _0x56d0ca[\\'\\\\x74\\\\x65\\\\x73\\\\x74\\'](_0x114f69[\\'\\\\x74\\\\x6f\\\\x53\\\\x74\\\\x72\\\\x69\\\\x6e\\\\x67\\']());};var _0x29c9ca=function(_0x523426){var _0x17ebab=~-0x1>>0x1+0xff%0x0;if(_0x523426[\\'\\\\x69\\\\x6e\\\\x64\\\\x65\\\\x78\\\\x4f\\\\x66\\'](\\'\\\\x69\\'===_0x17ebab)){_0x442ac7(_0x523426);}};var _0x442ac7=function(_0x10471a){var _0x4d91ed=~-0x4>>0x1+0xff%0x0;if(_0x10471a[\\'\\\\x69\\\\x6e\\\\x64\\\\x65\\\\x78\\\\x4f\\\\x66\\']((!![]+\\'\\')[0x3])!==_0x4d91ed){_0x29c9ca(_0x10471a);}};if(!_0x21d55e()){if(!_0x2328d0()){_0x29c9ca(\\'\\\\x69\\\\x6e\\\\x64\\\\u0435\\\\x78\\\\x4f\\\\x66\\');}else{_0x29c9ca(\\'\\\\x69\\\\x6e\\\\x64\\\\x65\\\\x78\\\\x4f\\\\x66\\');}}else{_0x29c9ca(\\'\\\\x69\\\\x6e\\\\x64\\\\u0435\\\\x78\\\\x4f\\\\x66\\');}});_0x1297ed();var posList=[0xf,0x23,0x1d,0x18,0x21,0x10,0x1,0x26,0xa,0x9,0x13,0x1f,0x28,0x1b,0x16,0x17,0x19,0xd,0x6,0xb,0x27,0x12,0x14,0x8,0xe,0x15,0x20,0x1a,0x2,0x1e,0x7,0x4,0x11,0x5,0x3,0x1c,0x22,0x25,0xc,0x24];var mask=_0x1e8e(\\'0x0\\');var outPutList=[];var arg2=\\'\\';var arg3=\\'\\';for(var i=0x0;i<arg1[_0x1e8e(\\'0x1\\')];i++){var this_i=arg1[i];for(var j=0x0;j<posList[_0x1e8e(\\'0x1\\')];j++){if(posList[j]==i+0x1){outPutList[j]=this_i;}}}arg2=outPutList[_0x1e8e(\\'0x2\\')](\\'\\');for(var i=0x0;i<arg2[_0x1e8e(\\'0x1\\')]&&i<mask[_0x1e8e(\\'0x1\\')];i+=0x2){var GxjQsM=_0x1e8e(\\'0x3\\')[_0x1e8e(\\'0x4\\')](\\'|\\'),QoWazb=0x0;while(!![]){switch(GxjQsM[QoWazb++]){case\\'0\\':if(xorChar[_0x1e8e(\\'0x1\\')]==0x1){xorChar=\\'0\\'+xorChar;}continue;case\\'1\\':var strChar=parseInt(arg2[_0x1e8e(\\'0x5\\')](i,i+0x2),0x10);continue;case\\'2\\':arg3+=xorChar;continue;case\\'3\\':var xorChar=(strChar^maskChar)[_0x1e8e(\\'0x6\\')](0x10);continue;case\\'4\\':var maskChar=parseInt(mask[_0x1e8e(\\'0x5\\')](i,i+0x2),0x10);continue;}break;}}var expiredate=new Date();expiredate[_0x1e8e(\\'0x7\\')](expiredate[_0x1e8e(\\'0x8\\')]()+0xe10*0x3e8);var theHost=location.host,theHostSplit=theHost.split(\".\"),theHostSplitLength=theHostSplit.length;!/^(\\\\d+\\\\.)*\\\\d+$/.test(theHost)&&theHostSplitLength>2&&(\"com.cn\"!=(theHost=theHostSplit[theHostSplitLength-2]+\".\"+theHostSplit[theHostSplitLength-1])&&\"gov.cn\"!=theHost&&\"org.cn\"!=theHost&&\"net.cn\"!=theHost&&\"com.my\"!=theHost||(theHost=theHostSplit[theHostSplitLength-3]+\".\"+theHost));document[_0x1e8e(\\'0x9\\')]=_0x1e8e(\\'0xa\\')+arg3+_0x1e8e(\\'0xb\\')+expiredate[_0x1e8e(\\'0xc\\')]()+_0x1e8e(\\'0xd\\')+\\';domain=\\'+theHost;}\\n    \\n        _0x4818(\"acw_sc__v2\", arg1);document.location.reload()\\n        </script></html>\\n'"
      ]
     },
     "execution_count": 4,
     "metadata": {},
     "output_type": "execute_result"
    }
   ],
   "source": [
    "res.content"
   ]
  },
  {
   "cell_type": "code",
   "execution_count": 5,
   "id": "829ce6b8",
   "metadata": {},
   "outputs": [],
   "source": [
    "file = open('C:/Users/Administrator/Desktop/报告.pdf', 'wb')\n",
    "file.write(res.content)\n",
    "file.close()"
   ]
  },
  {
   "cell_type": "code",
   "execution_count": 6,
   "id": "118da5c5",
   "metadata": {},
   "outputs": [
    {
     "name": "stdout",
     "output_type": "stream",
     "text": [
      "['文本A百度新闻文本B']\n"
     ]
    }
   ],
   "source": [
    "import re\n",
    "res = '文本A百度新闻文本B'\n",
    "source = re.findall('文本A.*?文本B', res)\n",
    "print(source)"
   ]
  },
  {
   "cell_type": "code",
   "execution_count": 7,
   "id": "01e7cc10",
   "metadata": {},
   "outputs": [
    {
     "name": "stdout",
     "output_type": "stream",
     "text": [
      "['百度新闻']\n"
     ]
    }
   ],
   "source": [
    "res = '文本A百度新闻文本B'\n",
    "source = re.findall('文本A(.*?)文本B', res)\n",
    "print(source)"
   ]
  },
  {
   "cell_type": "code",
   "execution_count": 8,
   "id": "e9abe508",
   "metadata": {},
   "outputs": [
    {
     "name": "stdout",
     "output_type": "stream",
     "text": [
      "['百度新闻文本B,新闻标题文本A新浪财经文本B, 文本A搜狐新闻']\n"
     ]
    }
   ],
   "source": [
    "res = '文本A百度新闻文本B,新闻标题文本A新浪财经文本B, 文本A搜狐新闻文本B新闻网址'\n",
    "source = re.findall('文本A(.*)文本B', res)\n",
    "print(source)"
   ]
  },
  {
   "cell_type": "code",
   "execution_count": 9,
   "id": "7ae8a03b",
   "metadata": {},
   "outputs": [
    {
     "name": "stdout",
     "output_type": "stream",
     "text": [
      "['百度新闻', '新浪财经', '搜狐新闻']\n"
     ]
    }
   ],
   "source": [
    "res = '文本A百度新闻文本B,新闻标题文本A新浪财经文本B, 文本A搜狐新闻文本B新闻网址'\n",
    "source = re.findall('文本A(.*?)文本B', res)\n",
    "print(source)"
   ]
  },
  {
   "cell_type": "code",
   "execution_count": 10,
   "id": "00880907",
   "metadata": {},
   "outputs": [
    {
     "name": "stdout",
     "output_type": "stream",
     "text": [
      "['新闻标题']\n"
     ]
    }
   ],
   "source": [
    "res = '<h3>文本C<变化的网址>文本D新闻标题</h3>'\n",
    "p_title = '<h3>文本C.*?文本D(.*?)</h3>'\n",
    "title  = re.findall(p_title, res)\n",
    "print(title)"
   ]
  },
  {
   "cell_type": "code",
   "execution_count": 11,
   "id": "6da157ac",
   "metadata": {},
   "outputs": [
    {
     "name": "stdout",
     "output_type": "stream",
     "text": [
      "['<变化的网址>']\n"
     ]
    }
   ],
   "source": [
    "res = '<h3>文本C<变化的网址>文本D新闻标题</h3>'\n",
    "p_title = '<h3>文本C(.*?)文本D.*?</h3>'\n",
    "title  = re.findall(p_title, res)\n",
    "print(title)"
   ]
  },
  {
   "cell_type": "code",
   "execution_count": 12,
   "id": "884c46ee",
   "metadata": {},
   "outputs": [
    {
     "name": "stdout",
     "output_type": "stream",
     "text": [
      "['<!- - s - text- ->双十一点燃线下经济“小时达”服务或成<em>阿里巴巴</em>增长新引擎<!- -/s-text- ->']\n"
     ]
    }
   ],
   "source": [
    "res = '<h3 class=\"news-title_1YtI1\">网址及一堆不关心的内容><!- - s - text- ->双十一点燃线下经济“小时达”服务或成<em>阿里巴巴</em>增长新引擎<!- -/s-text- -></a>'\n",
    "p_title = '<h3 class=\"news-title_1YtI1\">.*?>(.*?)</a>'\n",
    "title = re.findall(p_title, res)\n",
    "print(title)"
   ]
  },
  {
   "cell_type": "code",
   "execution_count": 13,
   "id": "6055c51f",
   "metadata": {},
   "outputs": [
    {
     "name": "stdout",
     "output_type": "stream",
     "text": [
      "['\\n         百度新闻']\n"
     ]
    }
   ],
   "source": [
    "res = '''文本A\n",
    "         百度新闻文本B'''\n",
    "p_source = '文本A(.*?)文本B'\n",
    "source   = re.findall(p_source, res, re.S)\n",
    "print(source)"
   ]
  },
  {
   "cell_type": "code",
   "execution_count": 14,
   "id": "aeccf0fb",
   "metadata": {},
   "outputs": [
    {
     "name": "stdout",
     "output_type": "stream",
     "text": [
      "[]\n"
     ]
    }
   ],
   "source": [
    "res = '''文本A\n",
    "         百度新闻文本B'''\n",
    "p_source = '文本A(.*?)文本B'\n",
    "source   = re.findall(p_source, res)\n",
    "print(source)"
   ]
  },
  {
   "cell_type": "code",
   "execution_count": 15,
   "id": "d4f2fcb6",
   "metadata": {},
   "outputs": [
    {
     "name": "stdout",
     "output_type": "stream",
     "text": [
      "双十一点燃线下经济“小时达”服务或成阿里巴巴增长新引擎\n"
     ]
    }
   ],
   "source": [
    "title1 = '<!- - s - text- ->双十一点燃线下经济“小时达”服务或成<em>阿里巴巴</em>增长新引擎<!- - s - text- ->'\n",
    "title1 =title1.replace('<!- - s - text- ->','')\n",
    "title1 =title1.replace('<em>','')\n",
    "title1 =title1.replace('</em>','')\n",
    "print(title1)\n"
   ]
  },
  {
   "cell_type": "code",
   "execution_count": 16,
   "id": "2feecd69",
   "metadata": {},
   "outputs": [
    {
     "name": "stdout",
     "output_type": "stream",
     "text": [
      "双十一点燃线下经济“小时达”服务或成阿里巴巴增长新引擎\n"
     ]
    }
   ],
   "source": [
    "title2 = '<!- - s - text- ->双十一点燃线下经济“小时达”服务或成<em>阿里巴巴</em>增长新引擎<!- - s - text- ->'\n",
    "title2 = re.sub('<.*?>','', title2)\n",
    "print(title2)"
   ]
  },
  {
   "cell_type": "code",
   "execution_count": 18,
   "id": "2665908b",
   "metadata": {},
   "outputs": [],
   "source": [
    "head = {'User-Agent': 'Mozilla/5.0 (Windows NT 10.0; Win64; x64) AppleWebKit/537.36 (KHTML, like Gecko) Chrome/133.0.0.0 Safari/537.36 Edg/133.0.0.0'}\n"
   ]
  },
  {
   "cell_type": "code",
   "execution_count": 19,
   "id": "b873ddaa",
   "metadata": {},
   "outputs": [],
   "source": [
    "url = 'http://search.zqrb.cn/search.php?src=all&q=贵州茅台&f=_all&s=newsdate_DESC'\n",
    "res = requests.get(url, headers=head)"
   ]
  },
  {
   "cell_type": "code",
   "execution_count": 20,
   "id": "ea7f16e4",
   "metadata": {},
   "outputs": [
    {
     "data": {
      "text/plain": [
       "<Response [200]>"
      ]
     },
     "execution_count": 20,
     "metadata": {},
     "output_type": "execute_result"
    }
   ],
   "source": [
    "res"
   ]
  },
  {
   "cell_type": "code",
   "execution_count": 21,
   "id": "7482ad3d",
   "metadata": {},
   "outputs": [
    {
     "data": {
      "text/plain": [
       "'<!DOCTYPE html>\\n<html lang=\"en\">\\n<head>\\n<meta http-equiv=\"Content-Type\" content=\"text/html; charset=utf-8\" />\\n<meta name=\"googlebot\" content=\"index,noarchive,nofollow,noodp\" />\\n<meta name=\"robots\" content=\"index,nofollow,noarchive,noodp\" />\\n<meta content=\"width=device-width, initial-scale=1.0, maximum-scale=1.0, user-scalable=no;\" name=\"viewport\">\\n<meta name=\"apple-mobile-web-app-capable\" content=\"yes\">\\n<meta name=\"apple-mobile-web-app-status-bar-style\" content=\"black\">\\n<title>证券日报网</title>\\n<meta http-equiv=\"keywords\" content=\"Fulltext Search Engine Zqrb_search xunsearch\" />\\n<meta http-equiv=\"description\" content=\"Fulltext Search for Zqrb_search, Powered by xunsearch/1.4.11 \" />\\n<link rel=\"stylesheet\" type=\"text/css\" href=\"css/bootstrap.css\"/>\\n<link rel=\"stylesheet\" type=\"text/css\" href=\"css/style.css\"/>\\n<link rel=\"stylesheet\" href=\"http://apps.bdimg.com/libs/jqueryui/1.8.16/themes/redmond/jquery-ui.css\" type=\"text/css\" media=\"all\" />\\n<!--[if lt IE 9]>\\n<script src=\"http://html5shiv.googlecode.com/svn/trunk/html5.js\"></script>\\n<![endif]-->\\n<!--[if lte IE 6]>\\n<link rel=\"stylesheet\" type=\"text/css\" href=\"css/bootstrap-ie6.css\" />\\n<link rel=\"stylesheet\" type=\"text/css\" href=\"css/ie.css\" />\\n<![endif]-->\\n<style>\\n.popup a{position:absolute;text-decoration:none;}\\n.popup a:hover{text-decoration:none;background:none;}\\n.popup span{display:none;}\\n.popup a:hover span{display:block;top:228px;left:302px; width:200px; height:80px; relative:absolute;padding:10px;border:none;}\\n</style>\\n</head>\\n<!-- search.tpl Zqrb_search 搜索模板 -->\\n<body>\\n<div class=\"container\">\\n  <div class=\"row\">\\n\\t<!-- search form -->\\n    <div class=\"span12\">\\n\\t \\n      <h1><a href=\"/search.php\"><img src=\"http://www.zqrb.cn/zqrb_index/images/logoyeshou.jpg\" height=\"42\" width=\"160\"/></a></h1>\\n      <form class=\"form-search\" id=\"q-form\" method=\"get\">\\n        <div class=\"input-append\" id=\"q-input\">\\n                <select name=\"src\" style=\"width:auto;border-radius:14px;\">\\n\\t\\t\\t\\t\\t\\t<option value=\"all\"  selected=\"selected\"\">全部</option>\\n                        <option value=\"news\" \">新闻</option>\\n                        <option value=\"epaper\"  \">电子报</option>\\n\\n                </select>\\n          <input type=\"text\" class=\"span6 search-query\" name=\"q\" title=\"输入任意关键词皆可搜索\" value=\"贵州茅台 \">\\n          <button type=\"submit\" class=\"btn\" style=\"vertical-align:bottom;\">搜索</button>\\n          <span class=\"popup\">\\n          <a style=\"position:relative; width:90px; height:30px; font-size:20px; text-align:left\"  href=\"#\">\\n                  <img src=\"./img/question.png\" width=\"20\" heigth=\"20\" style=\"margin-left:10px;vertical-align:bottom;\" />\\n                  <span style=\"position:absolute; top:-10px; left:60px;width:495px; height:80px; font-size:14px; background-color:#f2f2f2; color:#000\">\\n\\t\\t\\t\\t          搜索技巧<br>\\n\\t\\t\\t\\t\\t\\t  如想搜索“证券日报”但是不想搜索结果中有“基金”，请输入“证券日报 -基金”<br>\\n如不确定搜索的关键词，请使用模糊搜索<br>\\n如不确定关键词的位置，请使用全文搜索<br>\\n                          \\n                  </span>\\n          </a>\\n\\t\\t  <p class=\"result\">大约有<b>4,347</b>项符合查询结果。（搜索耗时：0.018638秒）\\n  </span>\\n        </div>\\n        <div class=\"condition\" id=\"q-options\">\\n          <label class=\"radio inline\"><input type=\"radio\" name=\"f\" value=\"title\"  />标题</label>\\n\\t\\t        <label class=\"radio inline\"><input type=\"radio\" name=\"f\" value=\"author_name\"  />作者</label>\\n\\t\\t\\t\\n          <label class=\"radio inline\">\\n            <input type=\"radio\" name=\"f\" value=\"_all\"  checked  />全文\\n          </label>\\n          <label class=\"checkbox inline\">\\n            <input type=\"checkbox\" name=\"m\" value=\"yes\"  />模糊搜索\\n          </label>\\n          \\n          按\\n          <select name=\"s\" size=\"1\">\\n\\t\\t\\t<option value=\"newsdate_DESC\"  selected=\"selected\" >时间-降序</option>\\n\\t\\t\\t<option value=\"relevance\"  >相关性</option>\\n          </select>\\n          排序\\n\\t\\t</div>\\n      </form>\\n    </div>\\n\\n    \\n\\t\\t<div class=\"span12\"> <dl class=\"result-list\"><dt><a href=\"http://www.zqrb.cn/stock/zuixinbobao/2025-09-25/A1758771410384.html\" target=\"_blank\"><h4>1 午评：创业板指半日大涨2.22%，宁德时代再创新高</h4></a></dt><dd><p class=\"field-info text-error\"><span><strong>作者:</strong></span><span><strong>时间:</strong>2025年09月25日</span><span><strong>栏目:</strong>最新播报</span><span><strong>媒体:</strong>新浪财经</span></p><p>&ensp;&ensp;&ensp;&ensp;三大指数早盘集体上涨，截至午盘，上证指数涨0.16%，深成指涨1.14%，创业板指涨2.22%，北证50跌0.04%。沪深京三市半日成交额15558亿元，较上日放量1355亿元。全市场2000只个股上涨。&ensp;&ensp;&ensp;&ensp;板块题材方面，游戏、电商、视频等AI应用、可控核聚变、有色金属、铜缆高速连接等算力硬件股领涨；<em>贵</em>金属、港口航运、燃气、旅游及酒店、房地产、物流、银行板块跌幅居前。盘面上，游戏、电商、视频等AI应用集体爆发，昆仑万维大涨10%，壹网壹创、天下秀涨停。受消息面影响，有色金属板块集体走高，铜方向领涨，北方铜业、精艺股份、洛阳钼业封死涨停。铜缆高速连接等算力硬件股盘中拉升，新亚电子、浪潮信息涨停。此外，可控核聚变、电池板块均有异动，宁德时代盘中总市值超越<em>贵</em><em>州</em><em>茅</em><em>台</em>。港口航运板块多数调整，南京港、宁波远洋、...... </p></dd><dt><a href=\"http://www.zqrb.cn/gscy/gongsi/2025-09-25/A1758775785170.html\" target=\"_blank\"><h4>2 A股历史一刻！宁德时代总市值超越<em>贵</em><em>州</em><em>茅</em><em>台</em></h4></a></dt><dd><p class=\"field-info text-error\"><span><strong>作者:</strong>李婷 冯雨瑶</span><span><strong>时间:</strong>2025年09月25日</span><span><strong>栏目:</strong>上市公司</span><span><strong>媒体:</strong>证券日报网</span></p><p>&ensp;&ensp;&ensp;&ensp;本报记者 李婷 冯雨瑶&ensp;&ensp;&ensp;&ensp;A股历史性一刻！&ensp;&ensp;&ensp;&ensp;记者注意到，截至9月25日上午收盘时间，宁德时代A股最新市值为1.82万亿元，<em>贵</em><em>州</em><em>茅</em><em>台</em>最新市值为1.80万亿元。宁德时代A股市值暂时超越<em>贵</em><em>州</em><em>茅</em><em>台</em>。&ensp;&ensp;&ensp;&ensp;这一历史性事件，折射了A股市场怎样的变化？&ensp;&ensp;&ensp;&ensp;&ldquo;宁德时代A股市值超过<em>贵</em><em>州</em><em>茅</em><em>台</em>，反映出目前市场的方向在变化。&rdquo;财经评论员、鲸平<em>台</em>智库专家郭施亮对《证券日报》记者表示，<em>贵</em><em>州</em><em>茅</em><em>台</em>代表着消费股，而消费股的走势跟随着CPI（消费者物价指数）的变化，目前CPI尚处于筑底的阶段，<em>贵</em><em>州</em><em>茅</em><em>台</em>等消费股还没有形成上涨催化剂。&ensp;&ensp;&ensp;&ensp;福建...... </p></dd><dt><a href=\"http://www.zqrb.cn/shipin/shipinhangye/2025-09-23/A1758591090099.html\" target=\"_blank\"><h4>3 首款元宇宙主题白酒“国<em>台</em>元宇宙·启元”上市热销</h4></a></dt><dd><p class=\"field-info text-error\"><span><strong>作者:</strong>梁傲男</span><span><strong>时间:</strong>2025年09月23日</span><span><strong>栏目:</strong>食品行业</span><span><strong>媒体:</strong>证券日报网</span></p><p>&ensp;&ensp;&ensp;&ensp;本报讯 （记者梁傲男）9月21日，&ldquo;国<em>台</em>元宇宙&middot;启元&rdquo;在中国酒类TOP达人吴一快手直播间，正式上市销售，并取得了上线半小时销售超百万元的成绩。国<em>台</em>供图&ensp;&ensp;&ensp;&ensp;&ldquo;国<em>台</em>元宇宙&middot;启元&rdquo;是中国白酒行业第一款元宇宙主题产品。国<em>台</em>元宇宙&middot;启元酒以<em>贵</em><em>州</em>国<em>台</em>数智酒业集团股份有限公司（以下简称&ldquo;国<em>台</em>&rdquo;）智能酿造的创新技术为基础，又融合了元宇宙的概念、体验与价值，创造了新的酒饮体验。&ensp;&ensp;&ensp;&ensp;2024年，国<em>台</em>打造出中国白酒行业第一家元宇宙体验平<em>台</em>&mdash;&mdash;国<em>台</em>元宇宙体验馆。国<em>台</em>通过VR技术复刻<em>茅</em><em>台</em>镇产区环境、模拟酿酒工艺全过程，让人在虚拟空间中沉浸式体验正...... </p></dd><dt><a href=\"http://www.zqrb.cn/gscy/qiyexinxi/2025-09-22/A1758531062888.html\" target=\"_blank\"><h4>4 <em>贵</em><em>州</em><em>茅</em><em>台</em>生物科技研发有限责任公司成立</h4></a></dt><dd><p class=\"field-info text-error\"><span><strong>作者:</strong>袁传玺</span><span><strong>时间:</strong>2025年09月22日</span><span><strong>栏目:</strong>企业信息</span><span><strong>媒体:</strong>证券日报网</span></p><p>&ensp;&ensp;&ensp;&ensp;本报讯 （记者袁传玺）天眼查工商信息显示，近日，<em>贵</em><em>州</em><em>茅</em><em>台</em>生物科技研发有限责任公司成立，注册资本10亿元，经营范围含工程和技术研究和试验发展、生物化工产品技术研发、发酵过程优化技术研发、工业酶制剂研发等。股东信息显示，该公司由中国<em>贵</em><em>州</em><em>茅</em><em>台</em>酒厂（集团）有限责任公司、<em>贵</em><em>州</em><em>茅</em><em>台</em>共同持股。（编辑 张文玲 张伟）...... </p></dd><dt><a href=\"http://www.zqrb.cn/stock/zuixinbobao/2025-09-18/A1758159528242.html\" target=\"_blank\"><h4>5 开盘：沪指跌0.01%，创业板指跌0.88，<em>贵</em>金属及消费电子概念股普跌</h4></a></dt><dd><p class=\"field-info text-error\"><span><strong>作者:</strong></span><span><strong>时间:</strong>2025年09月18日</span><span><strong>栏目:</strong>最新播报</span><span><strong>媒体:</strong>金融界</span></p><p>&ensp;&ensp;&ensp;&ensp;9月18日，周四，A股集体低开，沪指跌0.01%报3876.06点，深成指跌0.41%报13161.15点，创业板指跌0.88报3119.77点，科创50指数涨1.1%，报1385.5点。<em>贵</em>金属、消费电子、CPO等板块指数跌幅居前。<em>贵</em>金属板块低开，西部黄金、晓程科技低开超5%，四川黄金、湖南白银、赤峰黄金跟跌；寒武纪高开4%股价重回1500元关口，再次超越<em>贵</em><em>州</em><em>茅</em><em>台</em>。&ensp;&ensp;&ensp;&ensp;盘面上，市场焦点股天普股份（11板）竞价涨停，机器人概念股首开股份（11天10板）高开5.59%、上海建工（4板）高开0.28%、万向钱潮（3板）高开5.92%，低价股山子高科（4板）高开8.11%、荣盛发展（4板）高开0.50%，纺织股泰慕士（3板）竞价涨停，算力板块罗曼股份（5天3板）低开0.08%、科博达（2板）竞价涨停，智能驾...... </p></dd><dt><a href=\"http://www.zqrb.cn/shipin/shipinhangye/2025-09-18/A1758171850345.html\" target=\"_blank\"><h4>6 <em>贵</em><em>州</em>酱酒行业分化加速 长远发展前景广阔</h4></a></dt><dd><p class=\"field-info text-error\"><span><strong>作者:</strong>梁傲男</span><span><strong>时间:</strong>2025年09月18日</span><span><strong>栏目:</strong>食品行业</span><span><strong>媒体:</strong>证券日报网</span></p><p>&ensp;&ensp;&ensp;&ensp;本报讯 （记者梁傲男）2025年上半年，酱酒产业表现如何？&ensp;&ensp;&ensp;&ensp;上半年，<em>贵</em><em>州</em><em>茅</em><em>台</em>酒股份有限公司依旧是一枝独秀，但是营收同比增速有所下滑。<em>贵</em><em>州</em>习酒投资控股集团有限责任公司的策略依旧是保持稳健，保持战略定力。&ensp;&ensp;&ensp;&ensp;<em>贵</em><em>州</em>国<em>台</em>数智酒业集团股份有限公司上半年营收约20亿元，作为<em>贵</em><em>州</em>酱酒的重要力量，其表现进一步印证了酱酒行业分化的加剧。在行业调整期内，公司依然保持了一定的市场规模，展现出品牌的基本盘韧性。&ensp;&ensp;&ensp;&ensp;珍酒李渡集团有限公司正在通过一系列产品端、渠道端、战略端的相应举措应对行业调整，代表了酱酒第二梯队企业的典型应对策略，通过产品创新、渠道变革和战略多元化来应对行业挑战。&ensp;&ensp;&ensp;&ensp;调整仍在...... </p></dd><dt><a href=\"http://epaper.zqrb.cn/html/2025-09/15/content_1182488.htm\" target=\"_blank\"><h4>7 甲骨文靠“卖铲子”出圈折射科技产业深层变革</h4></a></dt><dd><p class=\"field-info text-error\"><span><strong>作者:</strong></span><span><strong>时间:</strong>2025年09月15日</span><span><strong>栏目:</strong>A4</span><span><strong>媒体:</strong>证券日报电子报</span></p><p>\\u3000\\u3000■李春莲\\u3000\\u3000近日，AI领域再次出现标志性事件。美国当地时间9月10日，科技巨头甲骨文股价暴涨36%，创下1992年以来最大单日涨幅，股价达历史新高，公司市值更是达到9200亿美元。尽管随后甲骨文股价有所回落，但仍旧在市场引发热议。\\u3000\\u3000在美股，甲骨文股价的火热表现，实则是其长期布局AI算力基础设施的必然结果。而若将目光转向A股，前不久寒武纪股价大涨，曾短暂取代<em>贵</em><em>州</em><em>茅</em><em>台</em>成为A股“股王”。两个案例相互呼应，本质上是全球产业变革在不同区域的同频共振，折射出全球科技产业的深层变革。\\u3000\\u3000第一，AI重塑产业格局，云计算与基础设施成为核心竞争力。\\u3000\\u3000甲骨文此次股价飙升的核心动力源于其云计算业务的爆发。财报显示，甲骨文2026财年第一财季云收入同比增长28%至71.86亿美元，占总营收近半，且剩余履约义务（即已签订但尚未确认的收入）飙升至4550亿美元，其中新增订单主要来自OpenAI、xAI等AI巨头...... </p></dd><dt><a href=\"http://www.zqrb.cn/gscy/gongsi/2025-09-14/A1757756652942.html\" target=\"_blank\"><h4>8 中沁控股与国<em>台</em>达成战略合作</h4></a></dt><dd><p class=\"field-info text-error\"><span><strong>作者:</strong>梁傲男</span><span><strong>时间:</strong>2025年09月14日</span><span><strong>栏目:</strong>上市公司</span><span><strong>媒体:</strong>证券日报网</span></p><p>&ensp;&ensp;&ensp;&ensp;本报讯 （记者梁傲男）9月11日，中沁控股（浙江）有限公司（以下简称&ldquo;中沁控股&rdquo;）与<em>贵</em><em>州</em>国<em>台</em>数智酒业集团股份有限公司（以下简称&ldquo;国<em>台</em>&rdquo;）达成战略合作，在上海正式签订7000万元白酒销售合同。双方将在品牌定制、数字营销、供应链优化等多个维度展开深度合作，共同探索&ldquo;产业+资本&rdquo;的创新商业模式，为消费行业发展注入新动能。此举也标志着国<em>台</em>&ldquo;厂商同心、共创共享、尊享愉悦、长期共赢&rdquo;的合作发展理念获得越来越多认可，&ldquo;国<em>台</em>通之商道&rdquo;商业生态进一步得到壮大与完善。&ensp;&ensp;&ensp;&ensp;在&ldquo;携手国<em>台</em>，沪上启航&rdquo;战略合作签约仪式上，中沁控股总经理刘沁灵表示，国<em>台</em>是<em>茅</em><em>台</em>镇第二大酿酒企业。二十多年来...... </p></dd><dt><a href=\"http://www.zqrb.cn/review/chanjingpinglun/2025-09-14/A1757756652968.html\" target=\"_blank\"><h4>9 甲骨文靠“卖铲子”出圈折射科技产业深层变革</h4></a></dt><dd><p class=\"field-info text-error\"><span><strong>作者:</strong>李春莲</span><span><strong>时间:</strong>2025年09月14日</span><span><strong>栏目:</strong>产经评论</span><span><strong>媒体:</strong>证券日报</span></p><p>&ensp;&ensp;&ensp;&ensp;■李春莲&ensp;&ensp;&ensp;&ensp;近日，AI领域再次出现标志性事件。美国当地时间9月10日，科技巨头甲骨文股价暴涨36%，创下1992年以来最大单日涨幅，股价达历史新高，公司市值更是达到9200亿美元。尽管随后甲骨文股价有所回落，但仍旧在市场引发热议。&ensp;&ensp;&ensp;&ensp;在美股，甲骨文股价的火热表现，实则是其长期布局AI算力基础设施的必然结果。而若将目光转向A股，前不久寒武纪股价大涨，曾短暂取代<em>贵</em><em>州</em><em>茅</em><em>台</em>成为A股&ldquo;股王&rdquo;。两个案例相互呼应，本质上是全球产业变革在不同区域的同频共振，折射出全球科技产业的深层变革。&ensp;&ensp;&ensp;&ensp;第一，AI重塑产业格局，云计算与基础设施成为核心竞争力。&ensp;&ensp;&ensp;&ensp;甲骨文此次股...... </p></dd><dt><a href=\"http://www.zqrb.cn/gscy/gongsi/2025-09-08/A1757314940156.html\" target=\"_blank\"><h4>10 主动运用政策工具进行市值管理 <em>茅</em><em>台</em>集团获最高27亿元增持贷款支持</h4></a></dt><dd><p class=\"field-info text-error\"><span><strong>作者:</strong>冯雨瑶</span><span><strong>时间:</strong>2025年09月08日</span><span><strong>栏目:</strong>上市公司</span><span><strong>媒体:</strong>证券日报网</span></p><p>&ensp;&ensp;&ensp;&ensp;本报讯 （记者冯雨瑶）近日，<em>贵</em><em>州</em><em>茅</em><em>台</em>酒股份有限公司（以下简称&ldquo;<em>贵</em><em>州</em><em>茅</em><em>台</em>&rdquo;）发布公告称，公司控股股东中国<em>贵</em><em>州</em><em>茅</em><em>台</em>酒厂（集团）有限责任公司（以下简称&ldquo;<em>茅</em><em>台</em>集团&rdquo;）已获得中国农业银行股份有限公司<em>贵</em><em>州</em>省分行出具的贷款承诺函，承诺对<em>茅</em><em>台</em>集团股票增持事项提供贷款支持，贷款额度不高于人民币27亿元。&ensp;&ensp;&ensp;&ensp;公告显示，<em>茅</em><em>台</em>集团基于对公司长期价值的认可和未来发展的信心，计划自增持计划公告发布之日起6个月内，通过集中竞价交易方式增持公司股票，拟增持金额不低于人民币30亿元（含）且不高于人民币33亿元（含）。<em>茅</em><em>台</em>集团获农行<em>贵</em><em>州</em>省分行不超过27亿元贷款承诺函，用于支持不低于30亿元增持计划。&ensp;&ensp;&ensp;&ensp;这是股票回购增持再贷款政策于2024年10...... </p></dd><dt><a href=\"http://www.zqrb.cn/gscy/ggkx/2025-09-05/A1757062547767.html\" target=\"_blank\"><h4>11 <em>贵</em><em>州</em><em>茅</em><em>台</em>：关于控股股东取得增持股份贷款承诺函的公告</h4></a></dt><dd><p class=\"field-info text-error\"><span><strong>作者:</strong>楚丽君</span><span><strong>时间:</strong>2025年09月05日</span><span><strong>栏目:</strong>公告快讯</span><span><strong>媒体:</strong>证券日报网</span></p><p>&ensp;&ensp;&ensp;&ensp;证券日报网讯 \\xa09月5日晚间，<em>贵</em><em>州</em><em>茅</em><em>台</em>发布公告称，近日收到公司控股股东中国<em>贵</em><em>州</em><em>茅</em><em>台</em>酒厂（集团）有限责任公司（以下简称“<em>茅</em><em>台</em>集团”）通知，<em>茅</em><em>台</em>集团已获得中国农业银行股份有限公司<em>贵</em><em>州</em>省分行（以下简称“农业银行”）出具的贷款承诺函，农业银行承诺对<em>茅</em><em>台</em>集团股票增持事项提供贷款支持，贷款额度不高于人民币27亿元。（编辑 楚丽君）...... </p></dd><dt><a href=\"http://www.zqrb.cn/stock/redian/2025-09-03/A1756829424606.html\" target=\"_blank\"><h4>12 公募、券商与社保基金“同框”145只个股</h4></a></dt><dd><p class=\"field-info text-error\"><span><strong>作者:</strong>方凌晨</span><span><strong>时间:</strong>2025年09月03日</span><span><strong>栏目:</strong>热点关注</span><span><strong>媒体:</strong>证券日报</span></p><p>&ensp;&ensp;&ensp;&ensp;89只属于新质生产力概念，向&ldquo;新&rdquo;集聚趋势显著&ensp;&ensp;&ensp;&ensp;本报记者 方凌晨&ensp;&ensp;&ensp;&ensp;作为资本市场重要参与者，机构投资者的投资动向始终受到市场广泛关注。《证券日报》记者在梳理A股上市公司2025年半年报时注意到，截至今年二季度末，公募基金、券商（含券商集合理财，下同）和社保基金三者共同持有的个股共计145只。其中，有89只个股属于新质生产力概念，向&ldquo;新&rdquo;集聚趋势显著。&ensp;&ensp;&ensp;&ensp;在受访人士看来，上述三类机构在新质生产力概念个股上形成持仓共识，源于对政策导向、产业趋势与长期价值的共同判断。&ensp;&ensp;&ensp;&ensp;社保基金新晋130家公司&ensp;&ensp;&ens...... </p></dd><dt><a href=\"http://epaper.zqrb.cn/html/2025-09/03/content_1179254.htm\" target=\"_blank\"><h4>13 公募、券商与社保基金“同框”145只个股</h4></a></dt><dd><p class=\"field-info text-error\"><span><strong>作者:</strong>本报记者方凌晨</span><span><strong>时间:</strong>2025年09月03日</span><span><strong>栏目:</strong>B1</span><span><strong>媒体:</strong>证券日报电子报</span></p><p>\\u3000\\u3000本报记者方凌晨\\u3000\\u3000作为资本市场重要参与者，机构投资者的投资动向始终受到市场广泛关注。《证券日报》记者在梳理A股上市公司2025年半年报时注意到，截至今年二季度末，公募基金、券商（含券商集合理财，下同）和社保基金三者共同持有的个股共计145只。其中，有89只个股属于新质生产力概念，向“新”集聚趋势显著。\\u3000\\u3000在受访人士看来，上述三类机构在新质生产力概念个股上形成持仓共识，源于对政策导向、产业趋势与长期价值的共同判断。\\u3000\\u3000社保基金新晋130家公司\\u3000\\u3000前十大流通股股东\\u3000\\u3000中长期资金是维护市场平稳健康运行的“压舱石”“稳定器”，作为中长期资金的典型代表，社保基金持仓动向被市场高度关注。\\u3000\\u3000Wind资讯数据显示，截至二季度末，社保基金现身568家上市公司前十大流通股股东之列。按6月30日收盘价计算，社保基金合计持股市值达1650.68亿元。其中，社保基金对三一重工、传音控股、华鲁恒升等30只个股的...... </p></dd><dt><a href=\"http://www.zqrb.cn/gscy/gongsi/2025-08-30/A1756482210440.html\" target=\"_blank\"><h4>14 <em>贵</em><em>州</em><em>茅</em><em>台</em>大股东启动增持计划 多维举措夯实市值管理与投资者信心</h4></a></dt><dd><p class=\"field-info text-error\"><span><strong>作者:</strong>冯雨瑶</span><span><strong>时间:</strong>2025年08月30日</span><span><strong>栏目:</strong>上市公司</span><span><strong>媒体:</strong>证券日报网</span></p><p>&ensp;&ensp;&ensp;&ensp;本报讯 （记者冯雨瑶）&ensp;&ensp;&ensp;&ensp;8月29日晚间，<em>贵</em><em>州</em><em>茅</em><em>台</em>酒股份有限公司（以下简称&ldquo;<em>贵</em><em>州</em><em>茅</em><em>台</em>&rdquo;）发布公告，公司控股股东中国<em>贵</em><em>州</em><em>茅</em><em>台</em>酒厂（集团）有限责任公司（以下简称&ldquo;<em>茅</em><em>台</em>集团&rdquo;）正式推出增持公司股份的计划。公告明确，<em>茅</em><em>台</em>集团将通过自有资金和自筹资金来完成此次增持。&ensp;&ensp;&ensp;&ensp;业内人士分析，<em>茅</em><em>台</em>集团基于对公司未来发展前景的信心及长期价值的认可，计划于公告之日起正式启动增持计划，拟使用自有资金和自筹资金30亿元至33亿元，用于增持上市公司<em>贵</em><em>州</em><em>茅</em><em>台</em>股票，提振投资者信心，提升上市公司投资价值。&ensp;&ensp;&ensp;&ensp;响应政策导向&ensp;&ensp;&ensp;&ensp;筑牢市场&ldquo;压舱石&rd...... </p></dd><dt><a href=\"http://epaper.zqrb.cn/html/2025-08/30/content_1178012.htm\" target=\"_blank\"><h4>15 今日视点：A股“股王”更替背后的三重逻辑</h4></a></dt><dd><p class=\"field-info text-error\"><span><strong>作者:</strong></span><span><strong>时间:</strong>2025年08月30日</span><span><strong>栏目:</strong>A1</span><span><strong>媒体:</strong>证券日报电子报</span></p><p>\\u3000\\u3000■李春莲\\u3000\\u30008月28日，中科寒武纪科技股份有限公司（以下简称“寒武纪”）股价收报1587.91元/股，超越<em>贵</em><em>州</em><em>茅</em><em>台</em>酒股份有限公司（以下简称“<em>贵</em><em>州</em><em>茅</em><em>台</em>”），成为当日A股收盘价最高的“股王”。截至8月29日收盘，寒武纪股价虽有所回落，但仍高于<em>贵</em><em>州</em><em>茅</em><em>台</em>当日收盘价。\\u3000\\u3000A股“股王”更替，不是简单的股价波动，寒武纪的崛起也并非偶然，而是中国资本市场对科技创新的价值重估，其背后是三重深层次逻辑的叠加共振。\\u3000\\u3000其一，经济转型逻辑：从消费驱动到科技创新。\\u3000\\u3000此前，<em>贵</em><em>州</em><em>茅</em><em>台</em>作为A股“股王”，一直被视为传统消费的时代象征，稀缺性、高毛利率与稳定现金流使其成为价值投资的典范。如今，寒武纪成为新晋“股王”，说明AI大模型、算力、机器人等新兴产业的优质企业走到了资本市场舞<em>台</em>中央。\\u3000\\u3000当前，中国经济增长引擎从依赖传统消费逐渐切换至科技创新。在过去，传统消费产业是经济增长的重要支柱，消费升级带动了白酒等行业的繁荣，...... </p></dd> </dl> </div></div><div class=\"pagination pagination-centered\"><ul><li><a href=\"http://search.zqrb.cn/search.php?src=all&q=%E8%B4%B5%E5%B7%9E%E8%8C%85%E5%8F%B0&f=_all&s=newsdate_DESC&p=1\">1</a></li><li><a href=\"http://search.zqrb.cn/search.php?src=all&q=%E8%B4%B5%E5%B7%9E%E8%8C%85%E5%8F%B0&f=_all&s=newsdate_DESC&p=2\">2</a></li><li><a href=\"http://search.zqrb.cn/search.php?src=all&q=%E8%B4%B5%E5%B7%9E%E8%8C%85%E5%8F%B0&f=_all&s=newsdate_DESC&p=3\">3</a></li><li><a href=\"http://search.zqrb.cn/search.php?src=all&q=%E8%B4%B5%E5%B7%9E%E8%8C%85%E5%8F%B0&f=_all&s=newsdate_DESC&p=4\">4</a></li><li><a href=\"http://search.zqrb.cn/search.php?src=all&q=%E8%B4%B5%E5%B7%9E%E8%8C%85%E5%8F%B0&f=_all&s=newsdate_DESC&p=5\">5</a></li><li><a href=\"http://search.zqrb.cn/search.php?src=all&q=%E8%B4%B5%E5%B7%9E%E8%8C%85%E5%8F%B0&f=_all&s=newsdate_DESC&p=6\">6</a></li><li><a href=\"http://search.zqrb.cn/search.php?src=all&q=%E8%B4%B5%E5%B7%9E%E8%8C%85%E5%8F%B0&f=_all&s=newsdate_DESC&p=7\">7</a></li><li><a href=\"http://search.zqrb.cn/search.php?src=all&q=%E8%B4%B5%E5%B7%9E%E8%8C%85%E5%8F%B0&f=_all&s=newsdate_DESC&p=8\">8</a></li><li><a href=\"http://search.zqrb.cn/search.php?src=all&q=%E8%B4%B5%E5%B7%9E%E8%8C%85%E5%8F%B0&f=_all&s=newsdate_DESC&p=9\">9</a></li><li><a href=\"http://search.zqrb.cn/search.php?src=all&q=%E8%B4%B5%E5%B7%9E%E8%8C%85%E5%8F%B0&f=_all&s=newsdate_DESC&p=10\">10</a></li></div> </div>\\n\\t<footer>\\n  <div class=\"container\">\\n\\n  </div>\\n</footer>\\n<script type=\"text/javascript\" src=\"http://apps.bdimg.com/libs/jquery/1.6.2/jquery.min.js\"></script>\\n<script type=\"text/javascript\" src=\"http://apps.bdimg.com/libs/jqueryui/1.10.4/jquery-ui.min.js\"></script>\\n<script type=\"text/javascript\">\\n$(function(){\\n\\t// input tips\\n\\t$(\\'#q-input .search-query\\').focus(function(){\\n\\t\\tif ($(this).val() == $(this).attr(\\'title\\')) {\\n\\t\\t\\t$(this).val(\\'\\').removeClass(\\'tips\\');\\n\\t\\t}\\n\\t}).blur(function(){\\n\\t\\tif ($(this).val() == \\'\\' || $(this).val() == $(this).attr(\\'title\\')) {\\n\\t\\t\\t$(this).addClass(\\'tips\\').val($(this).attr(\\'title\\'));\\n\\t\\t}\\n\\t}).blur().autocomplete({\\n\\t\\t\\'source\\':\\'suggest.php\\',\\n\\t\\t\\'select\\':function(ev,ui) {\\n\\t\\t\\t$(\\'#q-input .search-query\\').val(ui.item.label);\\n\\t\\t\\t$(\\'#q-form\\').submit();\\n\\t\\t}\\n\\t});\\n\\t// submit check\\n\\t$(\\'#q-form\\').submit(function(){\\n\\t\\tvar  = $(\\'#q-input .search-query\\');\\n\\t\\tif (.val() == .attr(\\'title\\')) {\\n\\t\\t\\talert(\\'请先输入关键词\\');\\n\\t\\t\\t.focus();\\n\\t\\t\\treturn false;\\n\\t\\t}\\n\\t});\\n});\\n</script>\\n</body>\\n</html>'"
      ]
     },
     "execution_count": 21,
     "metadata": {},
     "output_type": "execute_result"
    }
   ],
   "source": [
    "res.text"
   ]
  },
  {
   "cell_type": "code",
   "execution_count": 22,
   "id": "0385b75a",
   "metadata": {},
   "outputs": [
    {
     "name": "stdout",
     "output_type": "stream",
     "text": [
      "<!DOCTYPE html>\n",
      "<html lang=\"en\">\n",
      "<head>\n",
      "<meta http-equiv=\"Content-Type\" content=\"text/html; charset=utf-8\" />\n",
      "<meta name=\"googlebot\" content=\"index,noarchive,nofollow,noodp\" />\n",
      "<meta name=\"robots\" content=\"index,nofollow,noarchive,noodp\" />\n",
      "<meta content=\"width=device-width, initial-scale=1.0, maximum-scale=1.0, user-scalable=no;\" name=\"viewport\">\n",
      "<meta name=\"apple-mobile-web-app-capable\" content=\"yes\">\n",
      "<meta name=\"apple-mobile-web-app-status-bar-style\" content=\"black\">\n",
      "<title>证券日报网</title>\n",
      "<meta http-equiv=\"keywords\" content=\"Fulltext Search Engine Zqrb_search xunsearch\" />\n",
      "<meta http-equiv=\"description\" content=\"Fulltext Search for Zqrb_search, Powered by xunsearch/1.4.11 \" />\n",
      "<link rel=\"stylesheet\" type=\"text/css\" href=\"css/bootstrap.css\"/>\n",
      "<link rel=\"stylesheet\" type=\"text/css\" href=\"css/style.css\"/>\n",
      "<link rel=\"stylesheet\" href=\"http://apps.bdimg.com/libs/jqueryui/1.8.16/themes/redmond/jquery-ui.css\" type=\"text/css\" media=\"all\" />\n",
      "<!--[if lt IE 9]>\n",
      "<script src=\"http://html5shiv.googlecode.com/svn/trunk/html5.js\"></script>\n",
      "<![endif]-->\n",
      "<!--[if lte IE 6]>\n",
      "<link rel=\"stylesheet\" type=\"text/css\" href=\"css/bootstrap-ie6.css\" />\n",
      "<link rel=\"stylesheet\" type=\"text/css\" href=\"css/ie.css\" />\n",
      "<![endif]-->\n",
      "<style>\n",
      ".popup a{position:absolute;text-decoration:none;}\n",
      ".popup a:hover{text-decoration:none;background:none;}\n",
      ".popup span{display:none;}\n",
      ".popup a:hover span{display:block;top:228px;left:302px; width:200px; height:80px; relative:absolute;padding:10px;border:none;}\n",
      "</style>\n",
      "</head>\n",
      "<!-- search.tpl Zqrb_search 搜索模板 -->\n",
      "<body>\n",
      "<div class=\"container\">\n",
      "  <div class=\"row\">\n",
      "\t<!-- search form -->\n",
      "    <div class=\"span12\">\n",
      "\t \n",
      "      <h1><a href=\"/search.php\"><img src=\"http://www.zqrb.cn/zqrb_index/images/logoyeshou.jpg\" height=\"42\" width=\"160\"/></a></h1>\n",
      "      <form class=\"form-search\" id=\"q-form\" method=\"get\">\n",
      "        <div class=\"input-append\" id=\"q-input\">\n",
      "                <select name=\"src\" style=\"width:auto;border-radius:14px;\">\n",
      "\t\t\t\t\t\t<option value=\"all\"  selected=\"selected\"\">全部</option>\n",
      "                        <option value=\"news\" \">新闻</option>\n",
      "                        <option value=\"epaper\"  \">电子报</option>\n",
      "\n",
      "                </select>\n",
      "          <input type=\"text\" class=\"span6 search-query\" name=\"q\" title=\"输入任意关键词皆可搜索\" value=\"贵州茅台 \">\n",
      "          <button type=\"submit\" class=\"btn\" style=\"vertical-align:bottom;\">搜索</button>\n",
      "          <span class=\"popup\">\n",
      "          <a style=\"position:relative; width:90px; height:30px; font-size:20px; text-align:left\"  href=\"#\">\n",
      "                  <img src=\"./img/question.png\" width=\"20\" heigth=\"20\" style=\"margin-left:10px;vertical-align:bottom;\" />\n",
      "                  <span style=\"position:absolute; top:-10px; left:60px;width:495px; height:80px; font-size:14px; background-color:#f2f2f2; color:#000\">\n",
      "\t\t\t\t          搜索技巧<br>\n",
      "\t\t\t\t\t\t  如想搜索“证券日报”但是不想搜索结果中有“基金”，请输入“证券日报 -基金”<br>\n",
      "如不确定搜索的关键词，请使用模糊搜索<br>\n",
      "如不确定关键词的位置，请使用全文搜索<br>\n",
      "                          \n",
      "                  </span>\n",
      "          </a>\n",
      "\t\t  <p class=\"result\">大约有<b>4,347</b>项符合查询结果。（搜索耗时：0.018638秒）\n",
      "  </span>\n",
      "        </div>\n",
      "        <div class=\"condition\" id=\"q-options\">\n",
      "          <label class=\"radio inline\"><input type=\"radio\" name=\"f\" value=\"title\"  />标题</label>\n",
      "\t\t        <label class=\"radio inline\"><input type=\"radio\" name=\"f\" value=\"author_name\"  />作者</label>\n",
      "\t\t\t\n",
      "          <label class=\"radio inline\">\n",
      "            <input type=\"radio\" name=\"f\" value=\"_all\"  checked  />全文\n",
      "          </label>\n",
      "          <label class=\"checkbox inline\">\n",
      "            <input type=\"checkbox\" name=\"m\" value=\"yes\"  />模糊搜索\n",
      "          </label>\n",
      "          \n",
      "          按\n",
      "          <select name=\"s\" size=\"1\">\n",
      "\t\t\t<option value=\"newsdate_DESC\"  selected=\"selected\" >时间-降序</option>\n",
      "\t\t\t<option value=\"relevance\"  >相关性</option>\n",
      "          </select>\n",
      "          排序\n",
      "\t\t</div>\n",
      "      </form>\n",
      "    </div>\n",
      "\n",
      "    \n",
      "\t\t<div class=\"span12\"> <dl class=\"result-list\"><dt><a href=\"http://www.zqrb.cn/stock/zuixinbobao/2025-09-25/A1758771410384.html\" target=\"_blank\"><h4>1 午评：创业板指半日大涨2.22%，宁德时代再创新高</h4></a></dt><dd><p class=\"field-info text-error\"><span><strong>作者:</strong></span><span><strong>时间:</strong>2025年09月25日</span><span><strong>栏目:</strong>最新播报</span><span><strong>媒体:</strong>新浪财经</span></p><p>&ensp;&ensp;&ensp;&ensp;三大指数早盘集体上涨，截至午盘，上证指数涨0.16%，深成指涨1.14%，创业板指涨2.22%，北证50跌0.04%。沪深京三市半日成交额15558亿元，较上日放量1355亿元。全市场2000只个股上涨。&ensp;&ensp;&ensp;&ensp;板块题材方面，游戏、电商、视频等AI应用、可控核聚变、有色金属、铜缆高速连接等算力硬件股领涨；<em>贵</em>金属、港口航运、燃气、旅游及酒店、房地产、物流、银行板块跌幅居前。盘面上，游戏、电商、视频等AI应用集体爆发，昆仑万维大涨10%，壹网壹创、天下秀涨停。受消息面影响，有色金属板块集体走高，铜方向领涨，北方铜业、精艺股份、洛阳钼业封死涨停。铜缆高速连接等算力硬件股盘中拉升，新亚电子、浪潮信息涨停。此外，可控核聚变、电池板块均有异动，宁德时代盘中总市值超越<em>贵</em><em>州</em><em>茅</em><em>台</em>。港口航运板块多数调整，南京港、宁波远洋、...... </p></dd><dt><a href=\"http://www.zqrb.cn/gscy/gongsi/2025-09-25/A1758775785170.html\" target=\"_blank\"><h4>2 A股历史一刻！宁德时代总市值超越<em>贵</em><em>州</em><em>茅</em><em>台</em></h4></a></dt><dd><p class=\"field-info text-error\"><span><strong>作者:</strong>李婷 冯雨瑶</span><span><strong>时间:</strong>2025年09月25日</span><span><strong>栏目:</strong>上市公司</span><span><strong>媒体:</strong>证券日报网</span></p><p>&ensp;&ensp;&ensp;&ensp;本报记者 李婷 冯雨瑶&ensp;&ensp;&ensp;&ensp;A股历史性一刻！&ensp;&ensp;&ensp;&ensp;记者注意到，截至9月25日上午收盘时间，宁德时代A股最新市值为1.82万亿元，<em>贵</em><em>州</em><em>茅</em><em>台</em>最新市值为1.80万亿元。宁德时代A股市值暂时超越<em>贵</em><em>州</em><em>茅</em><em>台</em>。&ensp;&ensp;&ensp;&ensp;这一历史性事件，折射了A股市场怎样的变化？&ensp;&ensp;&ensp;&ensp;&ldquo;宁德时代A股市值超过<em>贵</em><em>州</em><em>茅</em><em>台</em>，反映出目前市场的方向在变化。&rdquo;财经评论员、鲸平<em>台</em>智库专家郭施亮对《证券日报》记者表示，<em>贵</em><em>州</em><em>茅</em><em>台</em>代表着消费股，而消费股的走势跟随着CPI（消费者物价指数）的变化，目前CPI尚处于筑底的阶段，<em>贵</em><em>州</em><em>茅</em><em>台</em>等消费股还没有形成上涨催化剂。&ensp;&ensp;&ensp;&ensp;福建...... </p></dd><dt><a href=\"http://www.zqrb.cn/shipin/shipinhangye/2025-09-23/A1758591090099.html\" target=\"_blank\"><h4>3 首款元宇宙主题白酒“国<em>台</em>元宇宙·启元”上市热销</h4></a></dt><dd><p class=\"field-info text-error\"><span><strong>作者:</strong>梁傲男</span><span><strong>时间:</strong>2025年09月23日</span><span><strong>栏目:</strong>食品行业</span><span><strong>媒体:</strong>证券日报网</span></p><p>&ensp;&ensp;&ensp;&ensp;本报讯 （记者梁傲男）9月21日，&ldquo;国<em>台</em>元宇宙&middot;启元&rdquo;在中国酒类TOP达人吴一快手直播间，正式上市销售，并取得了上线半小时销售超百万元的成绩。国<em>台</em>供图&ensp;&ensp;&ensp;&ensp;&ldquo;国<em>台</em>元宇宙&middot;启元&rdquo;是中国白酒行业第一款元宇宙主题产品。国<em>台</em>元宇宙&middot;启元酒以<em>贵</em><em>州</em>国<em>台</em>数智酒业集团股份有限公司（以下简称&ldquo;国<em>台</em>&rdquo;）智能酿造的创新技术为基础，又融合了元宇宙的概念、体验与价值，创造了新的酒饮体验。&ensp;&ensp;&ensp;&ensp;2024年，国<em>台</em>打造出中国白酒行业第一家元宇宙体验平<em>台</em>&mdash;&mdash;国<em>台</em>元宇宙体验馆。国<em>台</em>通过VR技术复刻<em>茅</em><em>台</em>镇产区环境、模拟酿酒工艺全过程，让人在虚拟空间中沉浸式体验正...... </p></dd><dt><a href=\"http://www.zqrb.cn/gscy/qiyexinxi/2025-09-22/A1758531062888.html\" target=\"_blank\"><h4>4 <em>贵</em><em>州</em><em>茅</em><em>台</em>生物科技研发有限责任公司成立</h4></a></dt><dd><p class=\"field-info text-error\"><span><strong>作者:</strong>袁传玺</span><span><strong>时间:</strong>2025年09月22日</span><span><strong>栏目:</strong>企业信息</span><span><strong>媒体:</strong>证券日报网</span></p><p>&ensp;&ensp;&ensp;&ensp;本报讯 （记者袁传玺）天眼查工商信息显示，近日，<em>贵</em><em>州</em><em>茅</em><em>台</em>生物科技研发有限责任公司成立，注册资本10亿元，经营范围含工程和技术研究和试验发展、生物化工产品技术研发、发酵过程优化技术研发、工业酶制剂研发等。股东信息显示，该公司由中国<em>贵</em><em>州</em><em>茅</em><em>台</em>酒厂（集团）有限责任公司、<em>贵</em><em>州</em><em>茅</em><em>台</em>共同持股。（编辑 张文玲 张伟）...... </p></dd><dt><a href=\"http://www.zqrb.cn/stock/zuixinbobao/2025-09-18/A1758159528242.html\" target=\"_blank\"><h4>5 开盘：沪指跌0.01%，创业板指跌0.88，<em>贵</em>金属及消费电子概念股普跌</h4></a></dt><dd><p class=\"field-info text-error\"><span><strong>作者:</strong></span><span><strong>时间:</strong>2025年09月18日</span><span><strong>栏目:</strong>最新播报</span><span><strong>媒体:</strong>金融界</span></p><p>&ensp;&ensp;&ensp;&ensp;9月18日，周四，A股集体低开，沪指跌0.01%报3876.06点，深成指跌0.41%报13161.15点，创业板指跌0.88报3119.77点，科创50指数涨1.1%，报1385.5点。<em>贵</em>金属、消费电子、CPO等板块指数跌幅居前。<em>贵</em>金属板块低开，西部黄金、晓程科技低开超5%，四川黄金、湖南白银、赤峰黄金跟跌；寒武纪高开4%股价重回1500元关口，再次超越<em>贵</em><em>州</em><em>茅</em><em>台</em>。&ensp;&ensp;&ensp;&ensp;盘面上，市场焦点股天普股份（11板）竞价涨停，机器人概念股首开股份（11天10板）高开5.59%、上海建工（4板）高开0.28%、万向钱潮（3板）高开5.92%，低价股山子高科（4板）高开8.11%、荣盛发展（4板）高开0.50%，纺织股泰慕士（3板）竞价涨停，算力板块罗曼股份（5天3板）低开0.08%、科博达（2板）竞价涨停，智能驾...... </p></dd><dt><a href=\"http://www.zqrb.cn/shipin/shipinhangye/2025-09-18/A1758171850345.html\" target=\"_blank\"><h4>6 <em>贵</em><em>州</em>酱酒行业分化加速 长远发展前景广阔</h4></a></dt><dd><p class=\"field-info text-error\"><span><strong>作者:</strong>梁傲男</span><span><strong>时间:</strong>2025年09月18日</span><span><strong>栏目:</strong>食品行业</span><span><strong>媒体:</strong>证券日报网</span></p><p>&ensp;&ensp;&ensp;&ensp;本报讯 （记者梁傲男）2025年上半年，酱酒产业表现如何？&ensp;&ensp;&ensp;&ensp;上半年，<em>贵</em><em>州</em><em>茅</em><em>台</em>酒股份有限公司依旧是一枝独秀，但是营收同比增速有所下滑。<em>贵</em><em>州</em>习酒投资控股集团有限责任公司的策略依旧是保持稳健，保持战略定力。&ensp;&ensp;&ensp;&ensp;<em>贵</em><em>州</em>国<em>台</em>数智酒业集团股份有限公司上半年营收约20亿元，作为<em>贵</em><em>州</em>酱酒的重要力量，其表现进一步印证了酱酒行业分化的加剧。在行业调整期内，公司依然保持了一定的市场规模，展现出品牌的基本盘韧性。&ensp;&ensp;&ensp;&ensp;珍酒李渡集团有限公司正在通过一系列产品端、渠道端、战略端的相应举措应对行业调整，代表了酱酒第二梯队企业的典型应对策略，通过产品创新、渠道变革和战略多元化来应对行业挑战。&ensp;&ensp;&ensp;&ensp;调整仍在...... </p></dd><dt><a href=\"http://epaper.zqrb.cn/html/2025-09/15/content_1182488.htm\" target=\"_blank\"><h4>7 甲骨文靠“卖铲子”出圈折射科技产业深层变革</h4></a></dt><dd><p class=\"field-info text-error\"><span><strong>作者:</strong></span><span><strong>时间:</strong>2025年09月15日</span><span><strong>栏目:</strong>A4</span><span><strong>媒体:</strong>证券日报电子报</span></p><p>　　■李春莲　　近日，AI领域再次出现标志性事件。美国当地时间9月10日，科技巨头甲骨文股价暴涨36%，创下1992年以来最大单日涨幅，股价达历史新高，公司市值更是达到9200亿美元。尽管随后甲骨文股价有所回落，但仍旧在市场引发热议。　　在美股，甲骨文股价的火热表现，实则是其长期布局AI算力基础设施的必然结果。而若将目光转向A股，前不久寒武纪股价大涨，曾短暂取代<em>贵</em><em>州</em><em>茅</em><em>台</em>成为A股“股王”。两个案例相互呼应，本质上是全球产业变革在不同区域的同频共振，折射出全球科技产业的深层变革。　　第一，AI重塑产业格局，云计算与基础设施成为核心竞争力。　　甲骨文此次股价飙升的核心动力源于其云计算业务的爆发。财报显示，甲骨文2026财年第一财季云收入同比增长28%至71.86亿美元，占总营收近半，且剩余履约义务（即已签订但尚未确认的收入）飙升至4550亿美元，其中新增订单主要来自OpenAI、xAI等AI巨头...... </p></dd><dt><a href=\"http://www.zqrb.cn/gscy/gongsi/2025-09-14/A1757756652942.html\" target=\"_blank\"><h4>8 中沁控股与国<em>台</em>达成战略合作</h4></a></dt><dd><p class=\"field-info text-error\"><span><strong>作者:</strong>梁傲男</span><span><strong>时间:</strong>2025年09月14日</span><span><strong>栏目:</strong>上市公司</span><span><strong>媒体:</strong>证券日报网</span></p><p>&ensp;&ensp;&ensp;&ensp;本报讯 （记者梁傲男）9月11日，中沁控股（浙江）有限公司（以下简称&ldquo;中沁控股&rdquo;）与<em>贵</em><em>州</em>国<em>台</em>数智酒业集团股份有限公司（以下简称&ldquo;国<em>台</em>&rdquo;）达成战略合作，在上海正式签订7000万元白酒销售合同。双方将在品牌定制、数字营销、供应链优化等多个维度展开深度合作，共同探索&ldquo;产业+资本&rdquo;的创新商业模式，为消费行业发展注入新动能。此举也标志着国<em>台</em>&ldquo;厂商同心、共创共享、尊享愉悦、长期共赢&rdquo;的合作发展理念获得越来越多认可，&ldquo;国<em>台</em>通之商道&rdquo;商业生态进一步得到壮大与完善。&ensp;&ensp;&ensp;&ensp;在&ldquo;携手国<em>台</em>，沪上启航&rdquo;战略合作签约仪式上，中沁控股总经理刘沁灵表示，国<em>台</em>是<em>茅</em><em>台</em>镇第二大酿酒企业。二十多年来...... </p></dd><dt><a href=\"http://www.zqrb.cn/review/chanjingpinglun/2025-09-14/A1757756652968.html\" target=\"_blank\"><h4>9 甲骨文靠“卖铲子”出圈折射科技产业深层变革</h4></a></dt><dd><p class=\"field-info text-error\"><span><strong>作者:</strong>李春莲</span><span><strong>时间:</strong>2025年09月14日</span><span><strong>栏目:</strong>产经评论</span><span><strong>媒体:</strong>证券日报</span></p><p>&ensp;&ensp;&ensp;&ensp;■李春莲&ensp;&ensp;&ensp;&ensp;近日，AI领域再次出现标志性事件。美国当地时间9月10日，科技巨头甲骨文股价暴涨36%，创下1992年以来最大单日涨幅，股价达历史新高，公司市值更是达到9200亿美元。尽管随后甲骨文股价有所回落，但仍旧在市场引发热议。&ensp;&ensp;&ensp;&ensp;在美股，甲骨文股价的火热表现，实则是其长期布局AI算力基础设施的必然结果。而若将目光转向A股，前不久寒武纪股价大涨，曾短暂取代<em>贵</em><em>州</em><em>茅</em><em>台</em>成为A股&ldquo;股王&rdquo;。两个案例相互呼应，本质上是全球产业变革在不同区域的同频共振，折射出全球科技产业的深层变革。&ensp;&ensp;&ensp;&ensp;第一，AI重塑产业格局，云计算与基础设施成为核心竞争力。&ensp;&ensp;&ensp;&ensp;甲骨文此次股...... </p></dd><dt><a href=\"http://www.zqrb.cn/gscy/gongsi/2025-09-08/A1757314940156.html\" target=\"_blank\"><h4>10 主动运用政策工具进行市值管理 <em>茅</em><em>台</em>集团获最高27亿元增持贷款支持</h4></a></dt><dd><p class=\"field-info text-error\"><span><strong>作者:</strong>冯雨瑶</span><span><strong>时间:</strong>2025年09月08日</span><span><strong>栏目:</strong>上市公司</span><span><strong>媒体:</strong>证券日报网</span></p><p>&ensp;&ensp;&ensp;&ensp;本报讯 （记者冯雨瑶）近日，<em>贵</em><em>州</em><em>茅</em><em>台</em>酒股份有限公司（以下简称&ldquo;<em>贵</em><em>州</em><em>茅</em><em>台</em>&rdquo;）发布公告称，公司控股股东中国<em>贵</em><em>州</em><em>茅</em><em>台</em>酒厂（集团）有限责任公司（以下简称&ldquo;<em>茅</em><em>台</em>集团&rdquo;）已获得中国农业银行股份有限公司<em>贵</em><em>州</em>省分行出具的贷款承诺函，承诺对<em>茅</em><em>台</em>集团股票增持事项提供贷款支持，贷款额度不高于人民币27亿元。&ensp;&ensp;&ensp;&ensp;公告显示，<em>茅</em><em>台</em>集团基于对公司长期价值的认可和未来发展的信心，计划自增持计划公告发布之日起6个月内，通过集中竞价交易方式增持公司股票，拟增持金额不低于人民币30亿元（含）且不高于人民币33亿元（含）。<em>茅</em><em>台</em>集团获农行<em>贵</em><em>州</em>省分行不超过27亿元贷款承诺函，用于支持不低于30亿元增持计划。&ensp;&ensp;&ensp;&ensp;这是股票回购增持再贷款政策于2024年10...... </p></dd><dt><a href=\"http://www.zqrb.cn/gscy/ggkx/2025-09-05/A1757062547767.html\" target=\"_blank\"><h4>11 <em>贵</em><em>州</em><em>茅</em><em>台</em>：关于控股股东取得增持股份贷款承诺函的公告</h4></a></dt><dd><p class=\"field-info text-error\"><span><strong>作者:</strong>楚丽君</span><span><strong>时间:</strong>2025年09月05日</span><span><strong>栏目:</strong>公告快讯</span><span><strong>媒体:</strong>证券日报网</span></p><p>&ensp;&ensp;&ensp;&ensp;证券日报网讯  9月5日晚间，<em>贵</em><em>州</em><em>茅</em><em>台</em>发布公告称，近日收到公司控股股东中国<em>贵</em><em>州</em><em>茅</em><em>台</em>酒厂（集团）有限责任公司（以下简称“<em>茅</em><em>台</em>集团”）通知，<em>茅</em><em>台</em>集团已获得中国农业银行股份有限公司<em>贵</em><em>州</em>省分行（以下简称“农业银行”）出具的贷款承诺函，农业银行承诺对<em>茅</em><em>台</em>集团股票增持事项提供贷款支持，贷款额度不高于人民币27亿元。（编辑 楚丽君）...... </p></dd><dt><a href=\"http://www.zqrb.cn/stock/redian/2025-09-03/A1756829424606.html\" target=\"_blank\"><h4>12 公募、券商与社保基金“同框”145只个股</h4></a></dt><dd><p class=\"field-info text-error\"><span><strong>作者:</strong>方凌晨</span><span><strong>时间:</strong>2025年09月03日</span><span><strong>栏目:</strong>热点关注</span><span><strong>媒体:</strong>证券日报</span></p><p>&ensp;&ensp;&ensp;&ensp;89只属于新质生产力概念，向&ldquo;新&rdquo;集聚趋势显著&ensp;&ensp;&ensp;&ensp;本报记者 方凌晨&ensp;&ensp;&ensp;&ensp;作为资本市场重要参与者，机构投资者的投资动向始终受到市场广泛关注。《证券日报》记者在梳理A股上市公司2025年半年报时注意到，截至今年二季度末，公募基金、券商（含券商集合理财，下同）和社保基金三者共同持有的个股共计145只。其中，有89只个股属于新质生产力概念，向&ldquo;新&rdquo;集聚趋势显著。&ensp;&ensp;&ensp;&ensp;在受访人士看来，上述三类机构在新质生产力概念个股上形成持仓共识，源于对政策导向、产业趋势与长期价值的共同判断。&ensp;&ensp;&ensp;&ensp;社保基金新晋130家公司&ensp;&ensp;&ens...... </p></dd><dt><a href=\"http://epaper.zqrb.cn/html/2025-09/03/content_1179254.htm\" target=\"_blank\"><h4>13 公募、券商与社保基金“同框”145只个股</h4></a></dt><dd><p class=\"field-info text-error\"><span><strong>作者:</strong>本报记者方凌晨</span><span><strong>时间:</strong>2025年09月03日</span><span><strong>栏目:</strong>B1</span><span><strong>媒体:</strong>证券日报电子报</span></p><p>　　本报记者方凌晨　　作为资本市场重要参与者，机构投资者的投资动向始终受到市场广泛关注。《证券日报》记者在梳理A股上市公司2025年半年报时注意到，截至今年二季度末，公募基金、券商（含券商集合理财，下同）和社保基金三者共同持有的个股共计145只。其中，有89只个股属于新质生产力概念，向“新”集聚趋势显著。　　在受访人士看来，上述三类机构在新质生产力概念个股上形成持仓共识，源于对政策导向、产业趋势与长期价值的共同判断。　　社保基金新晋130家公司　　前十大流通股股东　　中长期资金是维护市场平稳健康运行的“压舱石”“稳定器”，作为中长期资金的典型代表，社保基金持仓动向被市场高度关注。　　Wind资讯数据显示，截至二季度末，社保基金现身568家上市公司前十大流通股股东之列。按6月30日收盘价计算，社保基金合计持股市值达1650.68亿元。其中，社保基金对三一重工、传音控股、华鲁恒升等30只个股的...... </p></dd><dt><a href=\"http://www.zqrb.cn/gscy/gongsi/2025-08-30/A1756482210440.html\" target=\"_blank\"><h4>14 <em>贵</em><em>州</em><em>茅</em><em>台</em>大股东启动增持计划 多维举措夯实市值管理与投资者信心</h4></a></dt><dd><p class=\"field-info text-error\"><span><strong>作者:</strong>冯雨瑶</span><span><strong>时间:</strong>2025年08月30日</span><span><strong>栏目:</strong>上市公司</span><span><strong>媒体:</strong>证券日报网</span></p><p>&ensp;&ensp;&ensp;&ensp;本报讯 （记者冯雨瑶）&ensp;&ensp;&ensp;&ensp;8月29日晚间，<em>贵</em><em>州</em><em>茅</em><em>台</em>酒股份有限公司（以下简称&ldquo;<em>贵</em><em>州</em><em>茅</em><em>台</em>&rdquo;）发布公告，公司控股股东中国<em>贵</em><em>州</em><em>茅</em><em>台</em>酒厂（集团）有限责任公司（以下简称&ldquo;<em>茅</em><em>台</em>集团&rdquo;）正式推出增持公司股份的计划。公告明确，<em>茅</em><em>台</em>集团将通过自有资金和自筹资金来完成此次增持。&ensp;&ensp;&ensp;&ensp;业内人士分析，<em>茅</em><em>台</em>集团基于对公司未来发展前景的信心及长期价值的认可，计划于公告之日起正式启动增持计划，拟使用自有资金和自筹资金30亿元至33亿元，用于增持上市公司<em>贵</em><em>州</em><em>茅</em><em>台</em>股票，提振投资者信心，提升上市公司投资价值。&ensp;&ensp;&ensp;&ensp;响应政策导向&ensp;&ensp;&ensp;&ensp;筑牢市场&ldquo;压舱石&rd...... </p></dd><dt><a href=\"http://epaper.zqrb.cn/html/2025-08/30/content_1178012.htm\" target=\"_blank\"><h4>15 今日视点：A股“股王”更替背后的三重逻辑</h4></a></dt><dd><p class=\"field-info text-error\"><span><strong>作者:</strong></span><span><strong>时间:</strong>2025年08月30日</span><span><strong>栏目:</strong>A1</span><span><strong>媒体:</strong>证券日报电子报</span></p><p>　　■李春莲　　8月28日，中科寒武纪科技股份有限公司（以下简称“寒武纪”）股价收报1587.91元/股，超越<em>贵</em><em>州</em><em>茅</em><em>台</em>酒股份有限公司（以下简称“<em>贵</em><em>州</em><em>茅</em><em>台</em>”），成为当日A股收盘价最高的“股王”。截至8月29日收盘，寒武纪股价虽有所回落，但仍高于<em>贵</em><em>州</em><em>茅</em><em>台</em>当日收盘价。　　A股“股王”更替，不是简单的股价波动，寒武纪的崛起也并非偶然，而是中国资本市场对科技创新的价值重估，其背后是三重深层次逻辑的叠加共振。　　其一，经济转型逻辑：从消费驱动到科技创新。　　此前，<em>贵</em><em>州</em><em>茅</em><em>台</em>作为A股“股王”，一直被视为传统消费的时代象征，稀缺性、高毛利率与稳定现金流使其成为价值投资的典范。如今，寒武纪成为新晋“股王”，说明AI大模型、算力、机器人等新兴产业的优质企业走到了资本市场舞<em>台</em>中央。　　当前，中国经济增长引擎从依赖传统消费逐渐切换至科技创新。在过去，传统消费产业是经济增长的重要支柱，消费升级带动了白酒等行业的繁荣，...... </p></dd> </dl> </div></div><div class=\"pagination pagination-centered\"><ul><li><a href=\"http://search.zqrb.cn/search.php?src=all&q=%E8%B4%B5%E5%B7%9E%E8%8C%85%E5%8F%B0&f=_all&s=newsdate_DESC&p=1\">1</a></li><li><a href=\"http://search.zqrb.cn/search.php?src=all&q=%E8%B4%B5%E5%B7%9E%E8%8C%85%E5%8F%B0&f=_all&s=newsdate_DESC&p=2\">2</a></li><li><a href=\"http://search.zqrb.cn/search.php?src=all&q=%E8%B4%B5%E5%B7%9E%E8%8C%85%E5%8F%B0&f=_all&s=newsdate_DESC&p=3\">3</a></li><li><a href=\"http://search.zqrb.cn/search.php?src=all&q=%E8%B4%B5%E5%B7%9E%E8%8C%85%E5%8F%B0&f=_all&s=newsdate_DESC&p=4\">4</a></li><li><a href=\"http://search.zqrb.cn/search.php?src=all&q=%E8%B4%B5%E5%B7%9E%E8%8C%85%E5%8F%B0&f=_all&s=newsdate_DESC&p=5\">5</a></li><li><a href=\"http://search.zqrb.cn/search.php?src=all&q=%E8%B4%B5%E5%B7%9E%E8%8C%85%E5%8F%B0&f=_all&s=newsdate_DESC&p=6\">6</a></li><li><a href=\"http://search.zqrb.cn/search.php?src=all&q=%E8%B4%B5%E5%B7%9E%E8%8C%85%E5%8F%B0&f=_all&s=newsdate_DESC&p=7\">7</a></li><li><a href=\"http://search.zqrb.cn/search.php?src=all&q=%E8%B4%B5%E5%B7%9E%E8%8C%85%E5%8F%B0&f=_all&s=newsdate_DESC&p=8\">8</a></li><li><a href=\"http://search.zqrb.cn/search.php?src=all&q=%E8%B4%B5%E5%B7%9E%E8%8C%85%E5%8F%B0&f=_all&s=newsdate_DESC&p=9\">9</a></li><li><a href=\"http://search.zqrb.cn/search.php?src=all&q=%E8%B4%B5%E5%B7%9E%E8%8C%85%E5%8F%B0&f=_all&s=newsdate_DESC&p=10\">10</a></li></div> </div>\n",
      "\t<footer>\n",
      "  <div class=\"container\">\n",
      "\n",
      "  </div>\n",
      "</footer>\n",
      "<script type=\"text/javascript\" src=\"http://apps.bdimg.com/libs/jquery/1.6.2/jquery.min.js\"></script>\n",
      "<script type=\"text/javascript\" src=\"http://apps.bdimg.com/libs/jqueryui/1.10.4/jquery-ui.min.js\"></script>\n",
      "<script type=\"text/javascript\">\n",
      "$(function(){\n",
      "\t// input tips\n",
      "\t$('#q-input .search-query').focus(function(){\n",
      "\t\tif ($(this).val() == $(this).attr('title')) {\n",
      "\t\t\t$(this).val('').removeClass('tips');\n",
      "\t\t}\n",
      "\t}).blur(function(){\n",
      "\t\tif ($(this).val() == '' || $(this).val() == $(this).attr('title')) {\n",
      "\t\t\t$(this).addClass('tips').val($(this).attr('title'));\n",
      "\t\t}\n",
      "\t}).blur().autocomplete({\n",
      "\t\t'source':'suggest.php',\n",
      "\t\t'select':function(ev,ui) {\n",
      "\t\t\t$('#q-input .search-query').val(ui.item.label);\n",
      "\t\t\t$('#q-form').submit();\n",
      "\t\t}\n",
      "\t});\n",
      "\t// submit check\n",
      "\t$('#q-form').submit(function(){\n",
      "\t\tvar  = $('#q-input .search-query');\n",
      "\t\tif (.val() == .attr('title')) {\n",
      "\t\t\talert('请先输入关键词');\n",
      "\t\t\t.focus();\n",
      "\t\t\treturn false;\n",
      "\t\t}\n",
      "\t});\n",
      "});\n",
      "</script>\n",
      "</body>\n",
      "</html>\n"
     ]
    }
   ],
   "source": [
    "print(res.text)"
   ]
  },
  {
   "cell_type": "code",
   "execution_count": 23,
   "id": "f05614d1",
   "metadata": {},
   "outputs": [],
   "source": [
    "res=res.text"
   ]
  },
  {
   "cell_type": "code",
   "execution_count": 24,
   "id": "7bd69f47",
   "metadata": {},
   "outputs": [
    {
     "data": {
      "text/plain": [
       "'<!DOCTYPE html>\\n<html lang=\"en\">\\n<head>\\n<meta http-equiv=\"Content-Type\" content=\"text/html; charset=utf-8\" />\\n<meta name=\"googlebot\" content=\"index,noarchive,nofollow,noodp\" />\\n<meta name=\"robots\" content=\"index,nofollow,noarchive,noodp\" />\\n<meta content=\"width=device-width, initial-scale=1.0, maximum-scale=1.0, user-scalable=no;\" name=\"viewport\">\\n<meta name=\"apple-mobile-web-app-capable\" content=\"yes\">\\n<meta name=\"apple-mobile-web-app-status-bar-style\" content=\"black\">\\n<title>证券日报网</title>\\n<meta http-equiv=\"keywords\" content=\"Fulltext Search Engine Zqrb_search xunsearch\" />\\n<meta http-equiv=\"description\" content=\"Fulltext Search for Zqrb_search, Powered by xunsearch/1.4.11 \" />\\n<link rel=\"stylesheet\" type=\"text/css\" href=\"css/bootstrap.css\"/>\\n<link rel=\"stylesheet\" type=\"text/css\" href=\"css/style.css\"/>\\n<link rel=\"stylesheet\" href=\"http://apps.bdimg.com/libs/jqueryui/1.8.16/themes/redmond/jquery-ui.css\" type=\"text/css\" media=\"all\" />\\n<!--[if lt IE 9]>\\n<script src=\"http://html5shiv.googlecode.com/svn/trunk/html5.js\"></script>\\n<![endif]-->\\n<!--[if lte IE 6]>\\n<link rel=\"stylesheet\" type=\"text/css\" href=\"css/bootstrap-ie6.css\" />\\n<link rel=\"stylesheet\" type=\"text/css\" href=\"css/ie.css\" />\\n<![endif]-->\\n<style>\\n.popup a{position:absolute;text-decoration:none;}\\n.popup a:hover{text-decoration:none;background:none;}\\n.popup span{display:none;}\\n.popup a:hover span{display:block;top:228px;left:302px; width:200px; height:80px; relative:absolute;padding:10px;border:none;}\\n</style>\\n</head>\\n<!-- search.tpl Zqrb_search 搜索模板 -->\\n<body>\\n<div class=\"container\">\\n  <div class=\"row\">\\n\\t<!-- search form -->\\n    <div class=\"span12\">\\n\\t \\n      <h1><a href=\"/search.php\"><img src=\"http://www.zqrb.cn/zqrb_index/images/logoyeshou.jpg\" height=\"42\" width=\"160\"/></a></h1>\\n      <form class=\"form-search\" id=\"q-form\" method=\"get\">\\n        <div class=\"input-append\" id=\"q-input\">\\n                <select name=\"src\" style=\"width:auto;border-radius:14px;\">\\n\\t\\t\\t\\t\\t\\t<option value=\"all\"  selected=\"selected\"\">全部</option>\\n                        <option value=\"news\" \">新闻</option>\\n                        <option value=\"epaper\"  \">电子报</option>\\n\\n                </select>\\n          <input type=\"text\" class=\"span6 search-query\" name=\"q\" title=\"输入任意关键词皆可搜索\" value=\"贵州茅台 \">\\n          <button type=\"submit\" class=\"btn\" style=\"vertical-align:bottom;\">搜索</button>\\n          <span class=\"popup\">\\n          <a style=\"position:relative; width:90px; height:30px; font-size:20px; text-align:left\"  href=\"#\">\\n                  <img src=\"./img/question.png\" width=\"20\" heigth=\"20\" style=\"margin-left:10px;vertical-align:bottom;\" />\\n                  <span style=\"position:absolute; top:-10px; left:60px;width:495px; height:80px; font-size:14px; background-color:#f2f2f2; color:#000\">\\n\\t\\t\\t\\t          搜索技巧<br>\\n\\t\\t\\t\\t\\t\\t  如想搜索“证券日报”但是不想搜索结果中有“基金”，请输入“证券日报 -基金”<br>\\n如不确定搜索的关键词，请使用模糊搜索<br>\\n如不确定关键词的位置，请使用全文搜索<br>\\n                          \\n                  </span>\\n          </a>\\n\\t\\t  <p class=\"result\">大约有<b>4,347</b>项符合查询结果。（搜索耗时：0.018638秒）\\n  </span>\\n        </div>\\n        <div class=\"condition\" id=\"q-options\">\\n          <label class=\"radio inline\"><input type=\"radio\" name=\"f\" value=\"title\"  />标题</label>\\n\\t\\t        <label class=\"radio inline\"><input type=\"radio\" name=\"f\" value=\"author_name\"  />作者</label>\\n\\t\\t\\t\\n          <label class=\"radio inline\">\\n            <input type=\"radio\" name=\"f\" value=\"_all\"  checked  />全文\\n          </label>\\n          <label class=\"checkbox inline\">\\n            <input type=\"checkbox\" name=\"m\" value=\"yes\"  />模糊搜索\\n          </label>\\n          \\n          按\\n          <select name=\"s\" size=\"1\">\\n\\t\\t\\t<option value=\"newsdate_DESC\"  selected=\"selected\" >时间-降序</option>\\n\\t\\t\\t<option value=\"relevance\"  >相关性</option>\\n          </select>\\n          排序\\n\\t\\t</div>\\n      </form>\\n    </div>\\n\\n    \\n\\t\\t<div class=\"span12\"> <dl class=\"result-list\"><dt><a href=\"http://www.zqrb.cn/stock/zuixinbobao/2025-09-25/A1758771410384.html\" target=\"_blank\"><h4>1 午评：创业板指半日大涨2.22%，宁德时代再创新高</h4></a></dt><dd><p class=\"field-info text-error\"><span><strong>作者:</strong></span><span><strong>时间:</strong>2025年09月25日</span><span><strong>栏目:</strong>最新播报</span><span><strong>媒体:</strong>新浪财经</span></p><p>&ensp;&ensp;&ensp;&ensp;三大指数早盘集体上涨，截至午盘，上证指数涨0.16%，深成指涨1.14%，创业板指涨2.22%，北证50跌0.04%。沪深京三市半日成交额15558亿元，较上日放量1355亿元。全市场2000只个股上涨。&ensp;&ensp;&ensp;&ensp;板块题材方面，游戏、电商、视频等AI应用、可控核聚变、有色金属、铜缆高速连接等算力硬件股领涨；<em>贵</em>金属、港口航运、燃气、旅游及酒店、房地产、物流、银行板块跌幅居前。盘面上，游戏、电商、视频等AI应用集体爆发，昆仑万维大涨10%，壹网壹创、天下秀涨停。受消息面影响，有色金属板块集体走高，铜方向领涨，北方铜业、精艺股份、洛阳钼业封死涨停。铜缆高速连接等算力硬件股盘中拉升，新亚电子、浪潮信息涨停。此外，可控核聚变、电池板块均有异动，宁德时代盘中总市值超越<em>贵</em><em>州</em><em>茅</em><em>台</em>。港口航运板块多数调整，南京港、宁波远洋、...... </p></dd><dt><a href=\"http://www.zqrb.cn/gscy/gongsi/2025-09-25/A1758775785170.html\" target=\"_blank\"><h4>2 A股历史一刻！宁德时代总市值超越<em>贵</em><em>州</em><em>茅</em><em>台</em></h4></a></dt><dd><p class=\"field-info text-error\"><span><strong>作者:</strong>李婷 冯雨瑶</span><span><strong>时间:</strong>2025年09月25日</span><span><strong>栏目:</strong>上市公司</span><span><strong>媒体:</strong>证券日报网</span></p><p>&ensp;&ensp;&ensp;&ensp;本报记者 李婷 冯雨瑶&ensp;&ensp;&ensp;&ensp;A股历史性一刻！&ensp;&ensp;&ensp;&ensp;记者注意到，截至9月25日上午收盘时间，宁德时代A股最新市值为1.82万亿元，<em>贵</em><em>州</em><em>茅</em><em>台</em>最新市值为1.80万亿元。宁德时代A股市值暂时超越<em>贵</em><em>州</em><em>茅</em><em>台</em>。&ensp;&ensp;&ensp;&ensp;这一历史性事件，折射了A股市场怎样的变化？&ensp;&ensp;&ensp;&ensp;&ldquo;宁德时代A股市值超过<em>贵</em><em>州</em><em>茅</em><em>台</em>，反映出目前市场的方向在变化。&rdquo;财经评论员、鲸平<em>台</em>智库专家郭施亮对《证券日报》记者表示，<em>贵</em><em>州</em><em>茅</em><em>台</em>代表着消费股，而消费股的走势跟随着CPI（消费者物价指数）的变化，目前CPI尚处于筑底的阶段，<em>贵</em><em>州</em><em>茅</em><em>台</em>等消费股还没有形成上涨催化剂。&ensp;&ensp;&ensp;&ensp;福建...... </p></dd><dt><a href=\"http://www.zqrb.cn/shipin/shipinhangye/2025-09-23/A1758591090099.html\" target=\"_blank\"><h4>3 首款元宇宙主题白酒“国<em>台</em>元宇宙·启元”上市热销</h4></a></dt><dd><p class=\"field-info text-error\"><span><strong>作者:</strong>梁傲男</span><span><strong>时间:</strong>2025年09月23日</span><span><strong>栏目:</strong>食品行业</span><span><strong>媒体:</strong>证券日报网</span></p><p>&ensp;&ensp;&ensp;&ensp;本报讯 （记者梁傲男）9月21日，&ldquo;国<em>台</em>元宇宙&middot;启元&rdquo;在中国酒类TOP达人吴一快手直播间，正式上市销售，并取得了上线半小时销售超百万元的成绩。国<em>台</em>供图&ensp;&ensp;&ensp;&ensp;&ldquo;国<em>台</em>元宇宙&middot;启元&rdquo;是中国白酒行业第一款元宇宙主题产品。国<em>台</em>元宇宙&middot;启元酒以<em>贵</em><em>州</em>国<em>台</em>数智酒业集团股份有限公司（以下简称&ldquo;国<em>台</em>&rdquo;）智能酿造的创新技术为基础，又融合了元宇宙的概念、体验与价值，创造了新的酒饮体验。&ensp;&ensp;&ensp;&ensp;2024年，国<em>台</em>打造出中国白酒行业第一家元宇宙体验平<em>台</em>&mdash;&mdash;国<em>台</em>元宇宙体验馆。国<em>台</em>通过VR技术复刻<em>茅</em><em>台</em>镇产区环境、模拟酿酒工艺全过程，让人在虚拟空间中沉浸式体验正...... </p></dd><dt><a href=\"http://www.zqrb.cn/gscy/qiyexinxi/2025-09-22/A1758531062888.html\" target=\"_blank\"><h4>4 <em>贵</em><em>州</em><em>茅</em><em>台</em>生物科技研发有限责任公司成立</h4></a></dt><dd><p class=\"field-info text-error\"><span><strong>作者:</strong>袁传玺</span><span><strong>时间:</strong>2025年09月22日</span><span><strong>栏目:</strong>企业信息</span><span><strong>媒体:</strong>证券日报网</span></p><p>&ensp;&ensp;&ensp;&ensp;本报讯 （记者袁传玺）天眼查工商信息显示，近日，<em>贵</em><em>州</em><em>茅</em><em>台</em>生物科技研发有限责任公司成立，注册资本10亿元，经营范围含工程和技术研究和试验发展、生物化工产品技术研发、发酵过程优化技术研发、工业酶制剂研发等。股东信息显示，该公司由中国<em>贵</em><em>州</em><em>茅</em><em>台</em>酒厂（集团）有限责任公司、<em>贵</em><em>州</em><em>茅</em><em>台</em>共同持股。（编辑 张文玲 张伟）...... </p></dd><dt><a href=\"http://www.zqrb.cn/stock/zuixinbobao/2025-09-18/A1758159528242.html\" target=\"_blank\"><h4>5 开盘：沪指跌0.01%，创业板指跌0.88，<em>贵</em>金属及消费电子概念股普跌</h4></a></dt><dd><p class=\"field-info text-error\"><span><strong>作者:</strong></span><span><strong>时间:</strong>2025年09月18日</span><span><strong>栏目:</strong>最新播报</span><span><strong>媒体:</strong>金融界</span></p><p>&ensp;&ensp;&ensp;&ensp;9月18日，周四，A股集体低开，沪指跌0.01%报3876.06点，深成指跌0.41%报13161.15点，创业板指跌0.88报3119.77点，科创50指数涨1.1%，报1385.5点。<em>贵</em>金属、消费电子、CPO等板块指数跌幅居前。<em>贵</em>金属板块低开，西部黄金、晓程科技低开超5%，四川黄金、湖南白银、赤峰黄金跟跌；寒武纪高开4%股价重回1500元关口，再次超越<em>贵</em><em>州</em><em>茅</em><em>台</em>。&ensp;&ensp;&ensp;&ensp;盘面上，市场焦点股天普股份（11板）竞价涨停，机器人概念股首开股份（11天10板）高开5.59%、上海建工（4板）高开0.28%、万向钱潮（3板）高开5.92%，低价股山子高科（4板）高开8.11%、荣盛发展（4板）高开0.50%，纺织股泰慕士（3板）竞价涨停，算力板块罗曼股份（5天3板）低开0.08%、科博达（2板）竞价涨停，智能驾...... </p></dd><dt><a href=\"http://www.zqrb.cn/shipin/shipinhangye/2025-09-18/A1758171850345.html\" target=\"_blank\"><h4>6 <em>贵</em><em>州</em>酱酒行业分化加速 长远发展前景广阔</h4></a></dt><dd><p class=\"field-info text-error\"><span><strong>作者:</strong>梁傲男</span><span><strong>时间:</strong>2025年09月18日</span><span><strong>栏目:</strong>食品行业</span><span><strong>媒体:</strong>证券日报网</span></p><p>&ensp;&ensp;&ensp;&ensp;本报讯 （记者梁傲男）2025年上半年，酱酒产业表现如何？&ensp;&ensp;&ensp;&ensp;上半年，<em>贵</em><em>州</em><em>茅</em><em>台</em>酒股份有限公司依旧是一枝独秀，但是营收同比增速有所下滑。<em>贵</em><em>州</em>习酒投资控股集团有限责任公司的策略依旧是保持稳健，保持战略定力。&ensp;&ensp;&ensp;&ensp;<em>贵</em><em>州</em>国<em>台</em>数智酒业集团股份有限公司上半年营收约20亿元，作为<em>贵</em><em>州</em>酱酒的重要力量，其表现进一步印证了酱酒行业分化的加剧。在行业调整期内，公司依然保持了一定的市场规模，展现出品牌的基本盘韧性。&ensp;&ensp;&ensp;&ensp;珍酒李渡集团有限公司正在通过一系列产品端、渠道端、战略端的相应举措应对行业调整，代表了酱酒第二梯队企业的典型应对策略，通过产品创新、渠道变革和战略多元化来应对行业挑战。&ensp;&ensp;&ensp;&ensp;调整仍在...... </p></dd><dt><a href=\"http://epaper.zqrb.cn/html/2025-09/15/content_1182488.htm\" target=\"_blank\"><h4>7 甲骨文靠“卖铲子”出圈折射科技产业深层变革</h4></a></dt><dd><p class=\"field-info text-error\"><span><strong>作者:</strong></span><span><strong>时间:</strong>2025年09月15日</span><span><strong>栏目:</strong>A4</span><span><strong>媒体:</strong>证券日报电子报</span></p><p>\\u3000\\u3000■李春莲\\u3000\\u3000近日，AI领域再次出现标志性事件。美国当地时间9月10日，科技巨头甲骨文股价暴涨36%，创下1992年以来最大单日涨幅，股价达历史新高，公司市值更是达到9200亿美元。尽管随后甲骨文股价有所回落，但仍旧在市场引发热议。\\u3000\\u3000在美股，甲骨文股价的火热表现，实则是其长期布局AI算力基础设施的必然结果。而若将目光转向A股，前不久寒武纪股价大涨，曾短暂取代<em>贵</em><em>州</em><em>茅</em><em>台</em>成为A股“股王”。两个案例相互呼应，本质上是全球产业变革在不同区域的同频共振，折射出全球科技产业的深层变革。\\u3000\\u3000第一，AI重塑产业格局，云计算与基础设施成为核心竞争力。\\u3000\\u3000甲骨文此次股价飙升的核心动力源于其云计算业务的爆发。财报显示，甲骨文2026财年第一财季云收入同比增长28%至71.86亿美元，占总营收近半，且剩余履约义务（即已签订但尚未确认的收入）飙升至4550亿美元，其中新增订单主要来自OpenAI、xAI等AI巨头...... </p></dd><dt><a href=\"http://www.zqrb.cn/gscy/gongsi/2025-09-14/A1757756652942.html\" target=\"_blank\"><h4>8 中沁控股与国<em>台</em>达成战略合作</h4></a></dt><dd><p class=\"field-info text-error\"><span><strong>作者:</strong>梁傲男</span><span><strong>时间:</strong>2025年09月14日</span><span><strong>栏目:</strong>上市公司</span><span><strong>媒体:</strong>证券日报网</span></p><p>&ensp;&ensp;&ensp;&ensp;本报讯 （记者梁傲男）9月11日，中沁控股（浙江）有限公司（以下简称&ldquo;中沁控股&rdquo;）与<em>贵</em><em>州</em>国<em>台</em>数智酒业集团股份有限公司（以下简称&ldquo;国<em>台</em>&rdquo;）达成战略合作，在上海正式签订7000万元白酒销售合同。双方将在品牌定制、数字营销、供应链优化等多个维度展开深度合作，共同探索&ldquo;产业+资本&rdquo;的创新商业模式，为消费行业发展注入新动能。此举也标志着国<em>台</em>&ldquo;厂商同心、共创共享、尊享愉悦、长期共赢&rdquo;的合作发展理念获得越来越多认可，&ldquo;国<em>台</em>通之商道&rdquo;商业生态进一步得到壮大与完善。&ensp;&ensp;&ensp;&ensp;在&ldquo;携手国<em>台</em>，沪上启航&rdquo;战略合作签约仪式上，中沁控股总经理刘沁灵表示，国<em>台</em>是<em>茅</em><em>台</em>镇第二大酿酒企业。二十多年来...... </p></dd><dt><a href=\"http://www.zqrb.cn/review/chanjingpinglun/2025-09-14/A1757756652968.html\" target=\"_blank\"><h4>9 甲骨文靠“卖铲子”出圈折射科技产业深层变革</h4></a></dt><dd><p class=\"field-info text-error\"><span><strong>作者:</strong>李春莲</span><span><strong>时间:</strong>2025年09月14日</span><span><strong>栏目:</strong>产经评论</span><span><strong>媒体:</strong>证券日报</span></p><p>&ensp;&ensp;&ensp;&ensp;■李春莲&ensp;&ensp;&ensp;&ensp;近日，AI领域再次出现标志性事件。美国当地时间9月10日，科技巨头甲骨文股价暴涨36%，创下1992年以来最大单日涨幅，股价达历史新高，公司市值更是达到9200亿美元。尽管随后甲骨文股价有所回落，但仍旧在市场引发热议。&ensp;&ensp;&ensp;&ensp;在美股，甲骨文股价的火热表现，实则是其长期布局AI算力基础设施的必然结果。而若将目光转向A股，前不久寒武纪股价大涨，曾短暂取代<em>贵</em><em>州</em><em>茅</em><em>台</em>成为A股&ldquo;股王&rdquo;。两个案例相互呼应，本质上是全球产业变革在不同区域的同频共振，折射出全球科技产业的深层变革。&ensp;&ensp;&ensp;&ensp;第一，AI重塑产业格局，云计算与基础设施成为核心竞争力。&ensp;&ensp;&ensp;&ensp;甲骨文此次股...... </p></dd><dt><a href=\"http://www.zqrb.cn/gscy/gongsi/2025-09-08/A1757314940156.html\" target=\"_blank\"><h4>10 主动运用政策工具进行市值管理 <em>茅</em><em>台</em>集团获最高27亿元增持贷款支持</h4></a></dt><dd><p class=\"field-info text-error\"><span><strong>作者:</strong>冯雨瑶</span><span><strong>时间:</strong>2025年09月08日</span><span><strong>栏目:</strong>上市公司</span><span><strong>媒体:</strong>证券日报网</span></p><p>&ensp;&ensp;&ensp;&ensp;本报讯 （记者冯雨瑶）近日，<em>贵</em><em>州</em><em>茅</em><em>台</em>酒股份有限公司（以下简称&ldquo;<em>贵</em><em>州</em><em>茅</em><em>台</em>&rdquo;）发布公告称，公司控股股东中国<em>贵</em><em>州</em><em>茅</em><em>台</em>酒厂（集团）有限责任公司（以下简称&ldquo;<em>茅</em><em>台</em>集团&rdquo;）已获得中国农业银行股份有限公司<em>贵</em><em>州</em>省分行出具的贷款承诺函，承诺对<em>茅</em><em>台</em>集团股票增持事项提供贷款支持，贷款额度不高于人民币27亿元。&ensp;&ensp;&ensp;&ensp;公告显示，<em>茅</em><em>台</em>集团基于对公司长期价值的认可和未来发展的信心，计划自增持计划公告发布之日起6个月内，通过集中竞价交易方式增持公司股票，拟增持金额不低于人民币30亿元（含）且不高于人民币33亿元（含）。<em>茅</em><em>台</em>集团获农行<em>贵</em><em>州</em>省分行不超过27亿元贷款承诺函，用于支持不低于30亿元增持计划。&ensp;&ensp;&ensp;&ensp;这是股票回购增持再贷款政策于2024年10...... </p></dd><dt><a href=\"http://www.zqrb.cn/gscy/ggkx/2025-09-05/A1757062547767.html\" target=\"_blank\"><h4>11 <em>贵</em><em>州</em><em>茅</em><em>台</em>：关于控股股东取得增持股份贷款承诺函的公告</h4></a></dt><dd><p class=\"field-info text-error\"><span><strong>作者:</strong>楚丽君</span><span><strong>时间:</strong>2025年09月05日</span><span><strong>栏目:</strong>公告快讯</span><span><strong>媒体:</strong>证券日报网</span></p><p>&ensp;&ensp;&ensp;&ensp;证券日报网讯 \\xa09月5日晚间，<em>贵</em><em>州</em><em>茅</em><em>台</em>发布公告称，近日收到公司控股股东中国<em>贵</em><em>州</em><em>茅</em><em>台</em>酒厂（集团）有限责任公司（以下简称“<em>茅</em><em>台</em>集团”）通知，<em>茅</em><em>台</em>集团已获得中国农业银行股份有限公司<em>贵</em><em>州</em>省分行（以下简称“农业银行”）出具的贷款承诺函，农业银行承诺对<em>茅</em><em>台</em>集团股票增持事项提供贷款支持，贷款额度不高于人民币27亿元。（编辑 楚丽君）...... </p></dd><dt><a href=\"http://www.zqrb.cn/stock/redian/2025-09-03/A1756829424606.html\" target=\"_blank\"><h4>12 公募、券商与社保基金“同框”145只个股</h4></a></dt><dd><p class=\"field-info text-error\"><span><strong>作者:</strong>方凌晨</span><span><strong>时间:</strong>2025年09月03日</span><span><strong>栏目:</strong>热点关注</span><span><strong>媒体:</strong>证券日报</span></p><p>&ensp;&ensp;&ensp;&ensp;89只属于新质生产力概念，向&ldquo;新&rdquo;集聚趋势显著&ensp;&ensp;&ensp;&ensp;本报记者 方凌晨&ensp;&ensp;&ensp;&ensp;作为资本市场重要参与者，机构投资者的投资动向始终受到市场广泛关注。《证券日报》记者在梳理A股上市公司2025年半年报时注意到，截至今年二季度末，公募基金、券商（含券商集合理财，下同）和社保基金三者共同持有的个股共计145只。其中，有89只个股属于新质生产力概念，向&ldquo;新&rdquo;集聚趋势显著。&ensp;&ensp;&ensp;&ensp;在受访人士看来，上述三类机构在新质生产力概念个股上形成持仓共识，源于对政策导向、产业趋势与长期价值的共同判断。&ensp;&ensp;&ensp;&ensp;社保基金新晋130家公司&ensp;&ensp;&ens...... </p></dd><dt><a href=\"http://epaper.zqrb.cn/html/2025-09/03/content_1179254.htm\" target=\"_blank\"><h4>13 公募、券商与社保基金“同框”145只个股</h4></a></dt><dd><p class=\"field-info text-error\"><span><strong>作者:</strong>本报记者方凌晨</span><span><strong>时间:</strong>2025年09月03日</span><span><strong>栏目:</strong>B1</span><span><strong>媒体:</strong>证券日报电子报</span></p><p>\\u3000\\u3000本报记者方凌晨\\u3000\\u3000作为资本市场重要参与者，机构投资者的投资动向始终受到市场广泛关注。《证券日报》记者在梳理A股上市公司2025年半年报时注意到，截至今年二季度末，公募基金、券商（含券商集合理财，下同）和社保基金三者共同持有的个股共计145只。其中，有89只个股属于新质生产力概念，向“新”集聚趋势显著。\\u3000\\u3000在受访人士看来，上述三类机构在新质生产力概念个股上形成持仓共识，源于对政策导向、产业趋势与长期价值的共同判断。\\u3000\\u3000社保基金新晋130家公司\\u3000\\u3000前十大流通股股东\\u3000\\u3000中长期资金是维护市场平稳健康运行的“压舱石”“稳定器”，作为中长期资金的典型代表，社保基金持仓动向被市场高度关注。\\u3000\\u3000Wind资讯数据显示，截至二季度末，社保基金现身568家上市公司前十大流通股股东之列。按6月30日收盘价计算，社保基金合计持股市值达1650.68亿元。其中，社保基金对三一重工、传音控股、华鲁恒升等30只个股的...... </p></dd><dt><a href=\"http://www.zqrb.cn/gscy/gongsi/2025-08-30/A1756482210440.html\" target=\"_blank\"><h4>14 <em>贵</em><em>州</em><em>茅</em><em>台</em>大股东启动增持计划 多维举措夯实市值管理与投资者信心</h4></a></dt><dd><p class=\"field-info text-error\"><span><strong>作者:</strong>冯雨瑶</span><span><strong>时间:</strong>2025年08月30日</span><span><strong>栏目:</strong>上市公司</span><span><strong>媒体:</strong>证券日报网</span></p><p>&ensp;&ensp;&ensp;&ensp;本报讯 （记者冯雨瑶）&ensp;&ensp;&ensp;&ensp;8月29日晚间，<em>贵</em><em>州</em><em>茅</em><em>台</em>酒股份有限公司（以下简称&ldquo;<em>贵</em><em>州</em><em>茅</em><em>台</em>&rdquo;）发布公告，公司控股股东中国<em>贵</em><em>州</em><em>茅</em><em>台</em>酒厂（集团）有限责任公司（以下简称&ldquo;<em>茅</em><em>台</em>集团&rdquo;）正式推出增持公司股份的计划。公告明确，<em>茅</em><em>台</em>集团将通过自有资金和自筹资金来完成此次增持。&ensp;&ensp;&ensp;&ensp;业内人士分析，<em>茅</em><em>台</em>集团基于对公司未来发展前景的信心及长期价值的认可，计划于公告之日起正式启动增持计划，拟使用自有资金和自筹资金30亿元至33亿元，用于增持上市公司<em>贵</em><em>州</em><em>茅</em><em>台</em>股票，提振投资者信心，提升上市公司投资价值。&ensp;&ensp;&ensp;&ensp;响应政策导向&ensp;&ensp;&ensp;&ensp;筑牢市场&ldquo;压舱石&rd...... </p></dd><dt><a href=\"http://epaper.zqrb.cn/html/2025-08/30/content_1178012.htm\" target=\"_blank\"><h4>15 今日视点：A股“股王”更替背后的三重逻辑</h4></a></dt><dd><p class=\"field-info text-error\"><span><strong>作者:</strong></span><span><strong>时间:</strong>2025年08月30日</span><span><strong>栏目:</strong>A1</span><span><strong>媒体:</strong>证券日报电子报</span></p><p>\\u3000\\u3000■李春莲\\u3000\\u30008月28日，中科寒武纪科技股份有限公司（以下简称“寒武纪”）股价收报1587.91元/股，超越<em>贵</em><em>州</em><em>茅</em><em>台</em>酒股份有限公司（以下简称“<em>贵</em><em>州</em><em>茅</em><em>台</em>”），成为当日A股收盘价最高的“股王”。截至8月29日收盘，寒武纪股价虽有所回落，但仍高于<em>贵</em><em>州</em><em>茅</em><em>台</em>当日收盘价。\\u3000\\u3000A股“股王”更替，不是简单的股价波动，寒武纪的崛起也并非偶然，而是中国资本市场对科技创新的价值重估，其背后是三重深层次逻辑的叠加共振。\\u3000\\u3000其一，经济转型逻辑：从消费驱动到科技创新。\\u3000\\u3000此前，<em>贵</em><em>州</em><em>茅</em><em>台</em>作为A股“股王”，一直被视为传统消费的时代象征，稀缺性、高毛利率与稳定现金流使其成为价值投资的典范。如今，寒武纪成为新晋“股王”，说明AI大模型、算力、机器人等新兴产业的优质企业走到了资本市场舞<em>台</em>中央。\\u3000\\u3000当前，中国经济增长引擎从依赖传统消费逐渐切换至科技创新。在过去，传统消费产业是经济增长的重要支柱，消费升级带动了白酒等行业的繁荣，...... </p></dd> </dl> </div></div><div class=\"pagination pagination-centered\"><ul><li><a href=\"http://search.zqrb.cn/search.php?src=all&q=%E8%B4%B5%E5%B7%9E%E8%8C%85%E5%8F%B0&f=_all&s=newsdate_DESC&p=1\">1</a></li><li><a href=\"http://search.zqrb.cn/search.php?src=all&q=%E8%B4%B5%E5%B7%9E%E8%8C%85%E5%8F%B0&f=_all&s=newsdate_DESC&p=2\">2</a></li><li><a href=\"http://search.zqrb.cn/search.php?src=all&q=%E8%B4%B5%E5%B7%9E%E8%8C%85%E5%8F%B0&f=_all&s=newsdate_DESC&p=3\">3</a></li><li><a href=\"http://search.zqrb.cn/search.php?src=all&q=%E8%B4%B5%E5%B7%9E%E8%8C%85%E5%8F%B0&f=_all&s=newsdate_DESC&p=4\">4</a></li><li><a href=\"http://search.zqrb.cn/search.php?src=all&q=%E8%B4%B5%E5%B7%9E%E8%8C%85%E5%8F%B0&f=_all&s=newsdate_DESC&p=5\">5</a></li><li><a href=\"http://search.zqrb.cn/search.php?src=all&q=%E8%B4%B5%E5%B7%9E%E8%8C%85%E5%8F%B0&f=_all&s=newsdate_DESC&p=6\">6</a></li><li><a href=\"http://search.zqrb.cn/search.php?src=all&q=%E8%B4%B5%E5%B7%9E%E8%8C%85%E5%8F%B0&f=_all&s=newsdate_DESC&p=7\">7</a></li><li><a href=\"http://search.zqrb.cn/search.php?src=all&q=%E8%B4%B5%E5%B7%9E%E8%8C%85%E5%8F%B0&f=_all&s=newsdate_DESC&p=8\">8</a></li><li><a href=\"http://search.zqrb.cn/search.php?src=all&q=%E8%B4%B5%E5%B7%9E%E8%8C%85%E5%8F%B0&f=_all&s=newsdate_DESC&p=9\">9</a></li><li><a href=\"http://search.zqrb.cn/search.php?src=all&q=%E8%B4%B5%E5%B7%9E%E8%8C%85%E5%8F%B0&f=_all&s=newsdate_DESC&p=10\">10</a></li></div> </div>\\n\\t<footer>\\n  <div class=\"container\">\\n\\n  </div>\\n</footer>\\n<script type=\"text/javascript\" src=\"http://apps.bdimg.com/libs/jquery/1.6.2/jquery.min.js\"></script>\\n<script type=\"text/javascript\" src=\"http://apps.bdimg.com/libs/jqueryui/1.10.4/jquery-ui.min.js\"></script>\\n<script type=\"text/javascript\">\\n$(function(){\\n\\t// input tips\\n\\t$(\\'#q-input .search-query\\').focus(function(){\\n\\t\\tif ($(this).val() == $(this).attr(\\'title\\')) {\\n\\t\\t\\t$(this).val(\\'\\').removeClass(\\'tips\\');\\n\\t\\t}\\n\\t}).blur(function(){\\n\\t\\tif ($(this).val() == \\'\\' || $(this).val() == $(this).attr(\\'title\\')) {\\n\\t\\t\\t$(this).addClass(\\'tips\\').val($(this).attr(\\'title\\'));\\n\\t\\t}\\n\\t}).blur().autocomplete({\\n\\t\\t\\'source\\':\\'suggest.php\\',\\n\\t\\t\\'select\\':function(ev,ui) {\\n\\t\\t\\t$(\\'#q-input .search-query\\').val(ui.item.label);\\n\\t\\t\\t$(\\'#q-form\\').submit();\\n\\t\\t}\\n\\t});\\n\\t// submit check\\n\\t$(\\'#q-form\\').submit(function(){\\n\\t\\tvar  = $(\\'#q-input .search-query\\');\\n\\t\\tif (.val() == .attr(\\'title\\')) {\\n\\t\\t\\talert(\\'请先输入关键词\\');\\n\\t\\t\\t.focus();\\n\\t\\t\\treturn false;\\n\\t\\t}\\n\\t});\\n});\\n</script>\\n</body>\\n</html>'"
      ]
     },
     "execution_count": 24,
     "metadata": {},
     "output_type": "execute_result"
    }
   ],
   "source": [
    "res"
   ]
  },
  {
   "cell_type": "code",
   "execution_count": 25,
   "id": "a093d8c6",
   "metadata": {},
   "outputs": [],
   "source": [
    "p_title='<dt><a href=\".*?\" target=\"_blank\"><h4>(.*?)</h4></a></dt>'"
   ]
  },
  {
   "cell_type": "code",
   "execution_count": 26,
   "id": "d0ba2609",
   "metadata": {},
   "outputs": [
    {
     "data": {
      "text/plain": [
       "['1 午评：创业板指半日大涨2.22%，宁德时代再创新高',\n",
       " '2 A股历史一刻！宁德时代总市值超越<em>贵</em><em>州</em><em>茅</em><em>台</em>',\n",
       " '3 首款元宇宙主题白酒“国<em>台</em>元宇宙·启元”上市热销',\n",
       " '4 <em>贵</em><em>州</em><em>茅</em><em>台</em>生物科技研发有限责任公司成立',\n",
       " '5 开盘：沪指跌0.01%，创业板指跌0.88，<em>贵</em>金属及消费电子概念股普跌',\n",
       " '6 <em>贵</em><em>州</em>酱酒行业分化加速 长远发展前景广阔',\n",
       " '7 甲骨文靠“卖铲子”出圈折射科技产业深层变革',\n",
       " '8 中沁控股与国<em>台</em>达成战略合作',\n",
       " '9 甲骨文靠“卖铲子”出圈折射科技产业深层变革',\n",
       " '10 主动运用政策工具进行市值管理 <em>茅</em><em>台</em>集团获最高27亿元增持贷款支持',\n",
       " '11 <em>贵</em><em>州</em><em>茅</em><em>台</em>：关于控股股东取得增持股份贷款承诺函的公告',\n",
       " '12 公募、券商与社保基金“同框”145只个股',\n",
       " '13 公募、券商与社保基金“同框”145只个股',\n",
       " '14 <em>贵</em><em>州</em><em>茅</em><em>台</em>大股东启动增持计划 多维举措夯实市值管理与投资者信心',\n",
       " '15 今日视点：A股“股王”更替背后的三重逻辑']"
      ]
     },
     "execution_count": 26,
     "metadata": {},
     "output_type": "execute_result"
    }
   ],
   "source": [
    "re.findall(p_title,res)"
   ]
  },
  {
   "cell_type": "code",
   "execution_count": 27,
   "id": "5608670b",
   "metadata": {},
   "outputs": [],
   "source": [
    "p_date='<span><strong>时间:</strong>(.*?)</span>'"
   ]
  },
  {
   "cell_type": "code",
   "execution_count": 28,
   "id": "9bb05f44",
   "metadata": {},
   "outputs": [
    {
     "data": {
      "text/plain": [
       "['2025年09月25日',\n",
       " '2025年09月25日',\n",
       " '2025年09月23日',\n",
       " '2025年09月22日',\n",
       " '2025年09月18日',\n",
       " '2025年09月18日',\n",
       " '2025年09月15日',\n",
       " '2025年09月14日',\n",
       " '2025年09月14日',\n",
       " '2025年09月08日',\n",
       " '2025年09月05日',\n",
       " '2025年09月03日',\n",
       " '2025年09月03日',\n",
       " '2025年08月30日',\n",
       " '2025年08月30日']"
      ]
     },
     "execution_count": 28,
     "metadata": {},
     "output_type": "execute_result"
    }
   ],
   "source": [
    "re.findall(p_date,res)"
   ]
  },
  {
   "cell_type": "code",
   "execution_count": 29,
   "id": "2ae11915",
   "metadata": {},
   "outputs": [],
   "source": [
    "date=re.findall(p_date,res)"
   ]
  },
  {
   "cell_type": "code",
   "execution_count": 30,
   "id": "1e422842",
   "metadata": {},
   "outputs": [
    {
     "data": {
      "text/plain": [
       "15"
      ]
     },
     "execution_count": 30,
     "metadata": {},
     "output_type": "execute_result"
    }
   ],
   "source": [
    "len(date)"
   ]
  },
  {
   "cell_type": "code",
   "execution_count": 31,
   "id": "187dc60d",
   "metadata": {},
   "outputs": [],
   "source": [
    "p_href='<dt><a href=\"(.*?)\" target=\"_blank\"><h4>'"
   ]
  },
  {
   "cell_type": "code",
   "execution_count": 32,
   "id": "124d4b54",
   "metadata": {},
   "outputs": [
    {
     "data": {
      "text/plain": [
       "['http://www.zqrb.cn/stock/zuixinbobao/2025-09-25/A1758771410384.html',\n",
       " 'http://www.zqrb.cn/gscy/gongsi/2025-09-25/A1758775785170.html',\n",
       " 'http://www.zqrb.cn/shipin/shipinhangye/2025-09-23/A1758591090099.html',\n",
       " 'http://www.zqrb.cn/gscy/qiyexinxi/2025-09-22/A1758531062888.html',\n",
       " 'http://www.zqrb.cn/stock/zuixinbobao/2025-09-18/A1758159528242.html',\n",
       " 'http://www.zqrb.cn/shipin/shipinhangye/2025-09-18/A1758171850345.html',\n",
       " 'http://epaper.zqrb.cn/html/2025-09/15/content_1182488.htm',\n",
       " 'http://www.zqrb.cn/gscy/gongsi/2025-09-14/A1757756652942.html',\n",
       " 'http://www.zqrb.cn/review/chanjingpinglun/2025-09-14/A1757756652968.html',\n",
       " 'http://www.zqrb.cn/gscy/gongsi/2025-09-08/A1757314940156.html',\n",
       " 'http://www.zqrb.cn/gscy/ggkx/2025-09-05/A1757062547767.html',\n",
       " 'http://www.zqrb.cn/stock/redian/2025-09-03/A1756829424606.html',\n",
       " 'http://epaper.zqrb.cn/html/2025-09/03/content_1179254.htm',\n",
       " 'http://www.zqrb.cn/gscy/gongsi/2025-08-30/A1756482210440.html',\n",
       " 'http://epaper.zqrb.cn/html/2025-08/30/content_1178012.htm']"
      ]
     },
     "execution_count": 32,
     "metadata": {},
     "output_type": "execute_result"
    }
   ],
   "source": [
    "href=re.findall(p_href,res)\n",
    "href"
   ]
  },
  {
   "cell_type": "code",
   "execution_count": 33,
   "id": "c4600966",
   "metadata": {},
   "outputs": [
    {
     "data": {
      "text/plain": [
       "15"
      ]
     },
     "execution_count": 33,
     "metadata": {},
     "output_type": "execute_result"
    }
   ],
   "source": [
    "len(href)"
   ]
  },
  {
   "cell_type": "code",
   "execution_count": 35,
   "id": "bb074d55",
   "metadata": {},
   "outputs": [],
   "source": [
    "title=re.findall(p_title,res)\n",
    "date=re.findall(p_date,res)\n",
    "href=re.findall(p_href,res)"
   ]
  },
  {
   "cell_type": "code",
   "execution_count": 36,
   "id": "3e78b3ad",
   "metadata": {},
   "outputs": [
    {
     "name": "stdout",
     "output_type": "stream",
     "text": [
      "1 午评：创业板指半日大涨2.22%，宁德时代再创新高(2025年09月25日)\n",
      "http://www.zqrb.cn/stock/zuixinbobao/2025-09-25/A1758771410384.html\n",
      "2 A股历史一刻！宁德时代总市值超越<em>贵</em><em>州</em><em>茅</em><em>台</em>(2025年09月25日)\n",
      "http://www.zqrb.cn/gscy/gongsi/2025-09-25/A1758775785170.html\n",
      "3 首款元宇宙主题白酒“国<em>台</em>元宇宙·启元”上市热销(2025年09月23日)\n",
      "http://www.zqrb.cn/shipin/shipinhangye/2025-09-23/A1758591090099.html\n",
      "4 <em>贵</em><em>州</em><em>茅</em><em>台</em>生物科技研发有限责任公司成立(2025年09月22日)\n",
      "http://www.zqrb.cn/gscy/qiyexinxi/2025-09-22/A1758531062888.html\n",
      "5 开盘：沪指跌0.01%，创业板指跌0.88，<em>贵</em>金属及消费电子概念股普跌(2025年09月18日)\n",
      "http://www.zqrb.cn/stock/zuixinbobao/2025-09-18/A1758159528242.html\n",
      "6 <em>贵</em><em>州</em>酱酒行业分化加速 长远发展前景广阔(2025年09月18日)\n",
      "http://www.zqrb.cn/shipin/shipinhangye/2025-09-18/A1758171850345.html\n",
      "7 甲骨文靠“卖铲子”出圈折射科技产业深层变革(2025年09月15日)\n",
      "http://epaper.zqrb.cn/html/2025-09/15/content_1182488.htm\n",
      "8 中沁控股与国<em>台</em>达成战略合作(2025年09月14日)\n",
      "http://www.zqrb.cn/gscy/gongsi/2025-09-14/A1757756652942.html\n",
      "9 甲骨文靠“卖铲子”出圈折射科技产业深层变革(2025年09月14日)\n",
      "http://www.zqrb.cn/review/chanjingpinglun/2025-09-14/A1757756652968.html\n",
      "10 主动运用政策工具进行市值管理 <em>茅</em><em>台</em>集团获最高27亿元增持贷款支持(2025年09月08日)\n",
      "http://www.zqrb.cn/gscy/gongsi/2025-09-08/A1757314940156.html\n",
      "11 <em>贵</em><em>州</em><em>茅</em><em>台</em>：关于控股股东取得增持股份贷款承诺函的公告(2025年09月05日)\n",
      "http://www.zqrb.cn/gscy/ggkx/2025-09-05/A1757062547767.html\n",
      "12 公募、券商与社保基金“同框”145只个股(2025年09月03日)\n",
      "http://www.zqrb.cn/stock/redian/2025-09-03/A1756829424606.html\n",
      "13 公募、券商与社保基金“同框”145只个股(2025年09月03日)\n",
      "http://epaper.zqrb.cn/html/2025-09/03/content_1179254.htm\n",
      "14 <em>贵</em><em>州</em><em>茅</em><em>台</em>大股东启动增持计划 多维举措夯实市值管理与投资者信心(2025年08月30日)\n",
      "http://www.zqrb.cn/gscy/gongsi/2025-08-30/A1756482210440.html\n",
      "15 今日视点：A股“股王”更替背后的三重逻辑(2025年08月30日)\n",
      "http://epaper.zqrb.cn/html/2025-08/30/content_1178012.htm\n"
     ]
    }
   ],
   "source": [
    "for i in range(15):\n",
    "    print(title[i]+'('+date[i]+')')\n",
    "    print(href[i])"
   ]
  },
  {
   "cell_type": "code",
   "execution_count": 37,
   "id": "b2a4c25f",
   "metadata": {},
   "outputs": [
    {
     "name": "stdout",
     "output_type": "stream",
     "text": [
      "1 午评：创业板指半日大涨2.22%，宁德时代再创新高(2025年09月25日)\n",
      "http://www.zqrb.cn/stock/zuixinbobao/2025-09-25/A1758771410384.html\n",
      "2 A股历史一刻！宁德时代总市值超越贵州茅台(2025年09月25日)\n",
      "http://www.zqrb.cn/gscy/gongsi/2025-09-25/A1758775785170.html\n",
      "3 首款元宇宙主题白酒“国台元宇宙·启元”上市热销(2025年09月23日)\n",
      "http://www.zqrb.cn/shipin/shipinhangye/2025-09-23/A1758591090099.html\n",
      "4 贵州茅台生物科技研发有限责任公司成立(2025年09月22日)\n",
      "http://www.zqrb.cn/gscy/qiyexinxi/2025-09-22/A1758531062888.html\n",
      "5 开盘：沪指跌0.01%，创业板指跌0.88，贵金属及消费电子概念股普跌(2025年09月18日)\n",
      "http://www.zqrb.cn/stock/zuixinbobao/2025-09-18/A1758159528242.html\n",
      "6 贵州酱酒行业分化加速 长远发展前景广阔(2025年09月18日)\n",
      "http://www.zqrb.cn/shipin/shipinhangye/2025-09-18/A1758171850345.html\n",
      "7 甲骨文靠“卖铲子”出圈折射科技产业深层变革(2025年09月15日)\n",
      "http://epaper.zqrb.cn/html/2025-09/15/content_1182488.htm\n",
      "8 中沁控股与国台达成战略合作(2025年09月14日)\n",
      "http://www.zqrb.cn/gscy/gongsi/2025-09-14/A1757756652942.html\n",
      "9 甲骨文靠“卖铲子”出圈折射科技产业深层变革(2025年09月14日)\n",
      "http://www.zqrb.cn/review/chanjingpinglun/2025-09-14/A1757756652968.html\n",
      "10 主动运用政策工具进行市值管理 茅台集团获最高27亿元增持贷款支持(2025年09月08日)\n",
      "http://www.zqrb.cn/gscy/gongsi/2025-09-08/A1757314940156.html\n",
      "11 贵州茅台：关于控股股东取得增持股份贷款承诺函的公告(2025年09月05日)\n",
      "http://www.zqrb.cn/gscy/ggkx/2025-09-05/A1757062547767.html\n",
      "12 公募、券商与社保基金“同框”145只个股(2025年09月03日)\n",
      "http://www.zqrb.cn/stock/redian/2025-09-03/A1756829424606.html\n",
      "13 公募、券商与社保基金“同框”145只个股(2025年09月03日)\n",
      "http://epaper.zqrb.cn/html/2025-09/03/content_1179254.htm\n",
      "14 贵州茅台大股东启动增持计划 多维举措夯实市值管理与投资者信心(2025年08月30日)\n",
      "http://www.zqrb.cn/gscy/gongsi/2025-08-30/A1756482210440.html\n",
      "15 今日视点：A股“股王”更替背后的三重逻辑(2025年08月30日)\n",
      "http://epaper.zqrb.cn/html/2025-08/30/content_1178012.htm\n"
     ]
    }
   ],
   "source": [
    "for i in range(15):\n",
    "    title[i]=re.sub('<.*?>','',title[i])\n",
    "    print(title[i]+'('+date[i]+')')\n",
    "    print(href[i])"
   ]
  },
  {
   "cell_type": "code",
   "execution_count": 38,
   "id": "5d43ffbb",
   "metadata": {},
   "outputs": [
    {
     "name": "stdout",
     "output_type": "stream",
     "text": [
      "1 午评：创业板指半日大涨2.22%，宁德时代再创新高(日期：2025年09月25日)\n",
      "http://www.zqrb.cn/stock/zuixinbobao/2025-09-25/A1758771410384.html\n",
      "2 A股历史一刻！宁德时代总市值超越贵州茅台(日期：2025年09月25日)\n",
      "http://www.zqrb.cn/gscy/gongsi/2025-09-25/A1758775785170.html\n",
      "3 首款元宇宙主题白酒“国台元宇宙·启元”上市热销(日期：2025年09月23日)\n",
      "http://www.zqrb.cn/shipin/shipinhangye/2025-09-23/A1758591090099.html\n",
      "4 贵州茅台生物科技研发有限责任公司成立(日期：2025年09月22日)\n",
      "http://www.zqrb.cn/gscy/qiyexinxi/2025-09-22/A1758531062888.html\n",
      "5 开盘：沪指跌0.01%，创业板指跌0.88，贵金属及消费电子概念股普跌(日期：2025年09月18日)\n",
      "http://www.zqrb.cn/stock/zuixinbobao/2025-09-18/A1758159528242.html\n",
      "6 贵州酱酒行业分化加速 长远发展前景广阔(日期：2025年09月18日)\n",
      "http://www.zqrb.cn/shipin/shipinhangye/2025-09-18/A1758171850345.html\n",
      "7 甲骨文靠“卖铲子”出圈折射科技产业深层变革(日期：2025年09月15日)\n",
      "http://epaper.zqrb.cn/html/2025-09/15/content_1182488.htm\n",
      "8 中沁控股与国台达成战略合作(日期：2025年09月14日)\n",
      "http://www.zqrb.cn/gscy/gongsi/2025-09-14/A1757756652942.html\n",
      "9 甲骨文靠“卖铲子”出圈折射科技产业深层变革(日期：2025年09月14日)\n",
      "http://www.zqrb.cn/review/chanjingpinglun/2025-09-14/A1757756652968.html\n",
      "10 主动运用政策工具进行市值管理 茅台集团获最高27亿元增持贷款支持(日期：2025年09月08日)\n",
      "http://www.zqrb.cn/gscy/gongsi/2025-09-08/A1757314940156.html\n",
      "11 贵州茅台：关于控股股东取得增持股份贷款承诺函的公告(日期：2025年09月05日)\n",
      "http://www.zqrb.cn/gscy/ggkx/2025-09-05/A1757062547767.html\n",
      "12 公募、券商与社保基金“同框”145只个股(日期：2025年09月03日)\n",
      "http://www.zqrb.cn/stock/redian/2025-09-03/A1756829424606.html\n",
      "13 公募、券商与社保基金“同框”145只个股(日期：2025年09月03日)\n",
      "http://epaper.zqrb.cn/html/2025-09/03/content_1179254.htm\n",
      "14 贵州茅台大股东启动增持计划 多维举措夯实市值管理与投资者信心(日期：2025年08月30日)\n",
      "http://www.zqrb.cn/gscy/gongsi/2025-08-30/A1756482210440.html\n",
      "15 今日视点：A股“股王”更替背后的三重逻辑(日期：2025年08月30日)\n",
      "http://epaper.zqrb.cn/html/2025-08/30/content_1178012.htm\n"
     ]
    }
   ],
   "source": [
    "for i in range(15):\n",
    "    title[i]=re.sub('<.*?>','',title[i])\n",
    "    print(title[i]+'(日期：'+date[i]+')')\n",
    "    print(href[i])"
   ]
  },
  {
   "cell_type": "code",
   "execution_count": null,
   "id": "0bb012d2",
   "metadata": {},
   "outputs": [],
   "source": []
  }
 ],
 "metadata": {
  "kernelspec": {
   "display_name": "Python 3",
   "language": "python",
   "name": "python3"
  },
  "language_info": {
   "codemirror_mode": {
    "name": "ipython",
    "version": 3
   },
   "file_extension": ".py",
   "mimetype": "text/x-python",
   "name": "python",
   "nbconvert_exporter": "python",
   "pygments_lexer": "ipython3",
   "version": "3.8.8"
  }
 },
 "nbformat": 4,
 "nbformat_minor": 5
}
