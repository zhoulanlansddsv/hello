{
 "cells": [
  {
   "cell_type": "code",
   "execution_count": 1,
   "id": "256ef032",
   "metadata": {},
   "outputs": [],
   "source": [
    "import requests\n",
    "import re\n",
    "\n",
    "headers = {'User-Agent': 'Mozilla/5.0 (Windows NT 10.0; Win64; x64) AppleWebKit/537.36 (KHTML, like Gecko) Chrome/86.0.4240.198 Safari/537.36'}\n",
    "\n",
    "# 1.获取网页源代码\n",
    "url = 'http://search.zqrb.cn/search.php?src=all&q=贵州茅台&f=_all&s=newsdate_DESC'\n",
    "res = requests.get(url, headers=headers).text"
   ]
  },
  {
   "cell_type": "code",
   "execution_count": 2,
   "id": "2b2f2069",
   "metadata": {},
   "outputs": [
    {
     "data": {
      "text/plain": [
       "'<!DOCTYPE html>\\n<html lang=\"en\">\\n<head>\\n<meta http-equiv=\"Content-Type\" content=\"text/html; charset=utf-8\" />\\n<meta name=\"googlebot\" content=\"index,noarchive,nofollow,noodp\" />\\n<meta name=\"robots\" content=\"index,nofollow,noarchive,noodp\" />\\n<meta content=\"width=device-width, initial-scale=1.0, maximum-scale=1.0, user-scalable=no;\" name=\"viewport\">\\n<meta name=\"apple-mobile-web-app-capable\" content=\"yes\">\\n<meta name=\"apple-mobile-web-app-status-bar-style\" content=\"black\">\\n<title>证券日报网</title>\\n<meta http-equiv=\"keywords\" content=\"Fulltext Search Engine Zqrb_search xunsearch\" />\\n<meta http-equiv=\"description\" content=\"Fulltext Search for Zqrb_search, Powered by xunsearch/1.4.11 \" />\\n<link rel=\"stylesheet\" type=\"text/css\" href=\"css/bootstrap.css\"/>\\n<link rel=\"stylesheet\" type=\"text/css\" href=\"css/style.css\"/>\\n<link rel=\"stylesheet\" href=\"http://apps.bdimg.com/libs/jqueryui/1.8.16/themes/redmond/jquery-ui.css\" type=\"text/css\" media=\"all\" />\\n<!--[if lt IE 9]>\\n<script src=\"http://html5shiv.googlecode.com/svn/trunk/html5.js\"></script>\\n<![endif]-->\\n<!--[if lte IE 6]>\\n<link rel=\"stylesheet\" type=\"text/css\" href=\"css/bootstrap-ie6.css\" />\\n<link rel=\"stylesheet\" type=\"text/css\" href=\"css/ie.css\" />\\n<![endif]-->\\n<style>\\n.popup a{position:absolute;text-decoration:none;}\\n.popup a:hover{text-decoration:none;background:none;}\\n.popup span{display:none;}\\n.popup a:hover span{display:block;top:228px;left:302px; width:200px; height:80px; relative:absolute;padding:10px;border:none;}\\n</style>\\n</head>\\n<!-- search.tpl Zqrb_search 搜索模板 -->\\n<body>\\n<div class=\"container\">\\n  <div class=\"row\">\\n\\t<!-- search form -->\\n    <div class=\"span12\">\\n\\t \\n      <h1><a href=\"/search.php\"><img src=\"http://www.zqrb.cn/zqrb_index/images/logoyeshou.jpg\" height=\"42\" width=\"160\"/></a></h1>\\n      <form class=\"form-search\" id=\"q-form\" method=\"get\">\\n        <div class=\"input-append\" id=\"q-input\">\\n                <select name=\"src\" style=\"width:auto;border-radius:14px;\">\\n\\t\\t\\t\\t\\t\\t<option value=\"all\"  selected=\"selected\"\">全部</option>\\n                        <option value=\"news\" \">新闻</option>\\n                        <option value=\"epaper\"  \">电子报</option>\\n\\n                </select>\\n          <input type=\"text\" class=\"span6 search-query\" name=\"q\" title=\"输入任意关键词皆可搜索\" value=\"贵州茅台 \">\\n          <button type=\"submit\" class=\"btn\" style=\"vertical-align:bottom;\">搜索</button>\\n          <span class=\"popup\">\\n          <a style=\"position:relative; width:90px; height:30px; font-size:20px; text-align:left\"  href=\"#\">\\n                  <img src=\"./img/question.png\" width=\"20\" heigth=\"20\" style=\"margin-left:10px;vertical-align:bottom;\" />\\n                  <span style=\"position:absolute; top:-10px; left:60px;width:495px; height:80px; font-size:14px; background-color:#f2f2f2; color:#000\">\\n\\t\\t\\t\\t          搜索技巧<br>\\n\\t\\t\\t\\t\\t\\t  如想搜索“证券日报”但是不想搜索结果中有“基金”，请输入“证券日报 -基金”<br>\\n如不确定搜索的关键词，请使用模糊搜索<br>\\n如不确定关键词的位置，请使用全文搜索<br>\\n                          \\n                  </span>\\n          </a>\\n\\t\\t  <p class=\"result\">大约有<b>4,352</b>项符合查询结果。（搜索耗时：0.021314秒）\\n  </span>\\n        </div>\\n        <div class=\"condition\" id=\"q-options\">\\n          <label class=\"radio inline\"><input type=\"radio\" name=\"f\" value=\"title\"  />标题</label>\\n\\t\\t        <label class=\"radio inline\"><input type=\"radio\" name=\"f\" value=\"author_name\"  />作者</label>\\n\\t\\t\\t\\n          <label class=\"radio inline\">\\n            <input type=\"radio\" name=\"f\" value=\"_all\"  checked  />全文\\n          </label>\\n          <label class=\"checkbox inline\">\\n            <input type=\"checkbox\" name=\"m\" value=\"yes\"  />模糊搜索\\n          </label>\\n          \\n          按\\n          <select name=\"s\" size=\"1\">\\n\\t\\t\\t<option value=\"newsdate_DESC\"  selected=\"selected\" >时间-降序</option>\\n\\t\\t\\t<option value=\"relevance\"  >相关性</option>\\n          </select>\\n          排序\\n\\t\\t</div>\\n      </form>\\n    </div>\\n\\n    \\n\\t\\t<div class=\"span12\"> <dl class=\"result-list\"><dt><a href=\"http://www.zqrb.cn/gscy/gongsi/2025-09-29/A1759146241623.html\" target=\"_blank\"><h4>1 <em>茅</em><em>台</em>酒市场逆势回暖  释放了什么信号？</h4></a></dt><dd><p class=\"field-info text-error\"><span><strong>作者:</strong>冯雨瑶</span><span><strong>时间:</strong>2025年09月29日</span><span><strong>栏目:</strong>上市公司</span><span><strong>媒体:</strong>证券日报网</span></p><p>&ensp;&ensp;&ensp;&ensp;本报记者 冯雨瑶&ensp;&ensp;&ensp;&ensp;临近中秋、国庆&ldquo;双节&rdquo;旺季，<em>茅</em><em>台</em>酒市场呈现明显的回暖迹象。9月29日，记者从北京、郑<em>州</em>、重庆等多家<em>贵</em><em>州</em><em>茅</em><em>台</em>专卖店了解到，目前53度500ml飞天<em>茅</em><em>台</em>酒的市场需求量回升，单瓶的价格大约在1800元/瓶至1900元/瓶不等。&ensp;&ensp;&ensp;&ensp;&ldquo;现在买<em>茅</em><em>台</em>酒的人比平常要多点，店里日销售量也多了些。&rdquo;位于北京的一家专卖店内的工作人员向《证券日报》记者如是说。&ensp;&ensp;&ensp;&ensp;不仅&ldquo;双节&rdquo;旺销，<em>茅</em><em>台</em>酒市场的回暖其实早有迹可循。9月16日，华创证券就曾发布研报表示，<em>茅</em><em>台</em>酒动销在7月份呈现边际好转态势，8月份终端环比增长约15%至35%。白酒行业分析师、武汉京魁科...... </p></dd><dt><a href=\"http://www.zqrb.cn/shipin/shipinhangye/2025-09-27/A1758901387553.html\" target=\"_blank\"><h4>2 9月份动销环比翻倍增长、同比增长超20%  <em>茅</em><em>台</em>“秋收行动”传递回暖强信号</h4></a></dt><dd><p class=\"field-info text-error\"><span><strong>作者:</strong></span><span><strong>时间:</strong>2025年09月27日</span><span><strong>栏目:</strong>食品行业</span><span><strong>媒体:</strong>证券日报网</span></p><p>&ensp;&ensp;&ensp;&ensp;在行业承压的最近几个月，市场的种种迹象显示：<em>茅</em><em>台</em>酒已率先跨过了突发性场景中断的这道难关。&ensp;&ensp;&ensp;&ensp;近期，结合市场调研和多地经销商的反馈，在&ldquo;双节&rdquo;效应的催化下，<em>茅</em><em>台</em>酒9月份市场端的动销数据大幅度地反弹：环比增长约一倍，同比增长超20%；与此同时，经销商的&ldquo;存销比&rdquo;下降五成，处于良好的水平。显然，这份&ldquo;两增一降&rdquo;的业绩数据充分印证：第一，<em>茅</em><em>台</em>酒的市场需求逻辑没有改变；第二，<em>茅</em><em>台</em>酒&ldquo;4+6&rdquo;的渠道体系具有强大韧性；第三，表明了<em>茅</em><em>台</em>的&ldquo;三个转型&rdquo;战略在市场实践中卓有成效。&ensp;&ensp;&ensp;&ensp;从局部到整体&ensp;&ensp;&ensp;&ensp;释放回暖的强信号...... </p></dd><dt><a href=\"http://www.zqrb.cn/review/gushireping/2025-09-26/A1758790044671.html\" target=\"_blank\"><h4>3 A股市值格局变化折射出三大新趋势</h4></a></dt><dd><p class=\"field-info text-error\"><span><strong>作者:</strong>苏向杲</span><span><strong>时间:</strong>2025年09月26日</span><span><strong>栏目:</strong>股市热评</span><span><strong>媒体:</strong>证券日报</span></p><p>&ensp;&ensp;&ensp;&ensp;■苏向杲&ensp;&ensp;&ensp;&ensp;9月25日，宁德时代股价盘中突破400元整数关口，总市值一度超越<em>贵</em><em>州</em><em>茅</em><em>台</em>，引发市场广泛关注。今年以来，A股科技板块持续活跃，而部分传统行业板块表现相对平淡，不同板块之间的市值呈现&ldquo;此消彼长&rdquo;态势，持续重塑着市场结构。&ensp;&ensp;&ensp;&ensp;近日，中国证监会主席吴清在国新办新闻发布会上指出，目前A股科技板块市值占比超过1/4，已明显高于银行、非银金融、房地产行业市值合计占比。市值前50名公司中科技企业从&ldquo;十三五&rdquo;末的18家提升至当前的24家。&ensp;&ensp;&ensp;&ensp;笔者认为，A股市场市值格局的演变，清晰反映了我国经济转型的路径。进一步看，这一变化折射出三大新趋势。&ensp;&ensp;&ens...... </p></dd><dt><a href=\"http://epaper.zqrb.cn/html/2025-09/26/content_1185470.htm\" target=\"_blank\"><h4>4 今日视点：A股市值格局变化折射出三大新趋势</h4></a></dt><dd><p class=\"field-info text-error\"><span><strong>作者:</strong></span><span><strong>时间:</strong>2025年09月26日</span><span><strong>栏目:</strong>A1</span><span><strong>媒体:</strong>证券日报电子报</span></p><p>\\u3000\\u3000■苏向杲\\u3000\\u30009月25日，宁德时代股价盘中突破400元整数关口，总市值一度超越<em>贵</em><em>州</em><em>茅</em><em>台</em>，引发市场广泛关注。今年以来，A股科技板块持续活跃，而部分传统行业板块表现相对平淡，不同板块之间的市值呈现“此消彼长”态势，持续重塑着市场结构。\\u3000\\u3000近日，中国证监会主席吴清在国新办新闻发布会上指出，目前A股科技板块市值占比超过1/4，已明显高于银行、非银金融、房地产行业市值合计占比。市值前50名公司中科技企业从“十三五”末的18家提升至当前的24家。\\u3000\\u3000笔者认为，A股市场市值格局的演变，清晰反映了我国经济转型的路径。进一步看，这一变化折射出三大新趋势。\\u3000\\u3000其一，科技革命成为驱动增长的新引擎。\\u3000\\u3000以往，金融、地产和传统资源类企业是市场的市值支柱，其高占比反映出投资拉动的增长模式。当前，科技板块市值占比持续提升，新能源、人工智能、生物医药等新兴产业公司市值快速攀升，标志着中国经济正加速转向创新驱动。这一转变...... </p></dd><dt><a href=\"http://www.zqrb.cn/gscy/qiyexinxi/2025-09-26/A1758875478253.html\" target=\"_blank\"><h4>5 <em>贵</em><em>州</em><em>茅</em><em>台</em>酒秋季十六省市场调研在青海收官</h4></a></dt><dd><p class=\"field-info text-error\"><span><strong>作者:</strong></span><span><strong>时间:</strong>2025年09月26日</span><span><strong>栏目:</strong>企业信息</span><span><strong>媒体:</strong>证券日报网</span></p><p>&ensp;&ensp;&ensp;&ensp;9月25日，<em>茅</em><em>台</em>集团党委副书记、总经理王莉率队深入青海市场一线调研，并在西宁组织召开青甘新藏四省区<em>贵</em><em>州</em><em>茅</em><em>台</em>酒市场营销座谈会，与渠道商面对面深入交流，共商市场动态、共探发展机遇，进一步凝聚可持续高质量发展共识。<em>贵</em><em>州</em><em>茅</em><em>台</em>公益基金会理事长卓玛才让参加。&ensp;&ensp;&ensp;&ensp;&ensp;&ensp;&ensp;&ensp;此次座谈会标志着自今年8月底启动的<em>贵</em><em>州</em><em>茅</em><em>台</em>酒秋季市场调研圆满收官。在一个月的时间内，王莉率队深入华东、西南、东北、华北、西北市场一线，并先后在扬<em>州</em>、重庆、长春、北京、西宁组织召开了共16个省区的<em>贵</em><em>州</em><em>茅</em><em>台</em>酒市场营销座谈会，与全国300余家渠道商展开深度对话，围绕新形势下白酒行业趋势、<em>茅</em><em>台</em>酒市场现状及潜在机遇展开全方位探讨。这一系列高密度、广覆盖的调研活动，不仅彰显了<em>茅</em><em>台</em>对市场一线的高度关注，更传递出<em>茅</em><em>台</em>与渠道...... </p></dd><dt><a href=\"http://www.zqrb.cn/stock/zuixinbobao/2025-09-25/A1758771410384.html\" target=\"_blank\"><h4>6 午评：创业板指半日大涨2.22%，宁德时代再创新高</h4></a></dt><dd><p class=\"field-info text-error\"><span><strong>作者:</strong></span><span><strong>时间:</strong>2025年09月25日</span><span><strong>栏目:</strong>最新播报</span><span><strong>媒体:</strong>新浪财经</span></p><p>&ensp;&ensp;&ensp;&ensp;三大指数早盘集体上涨，截至午盘，上证指数涨0.16%，深成指涨1.14%，创业板指涨2.22%，北证50跌0.04%。沪深京三市半日成交额15558亿元，较上日放量1355亿元。全市场2000只个股上涨。&ensp;&ensp;&ensp;&ensp;板块题材方面，游戏、电商、视频等AI应用、可控核聚变、有色金属、铜缆高速连接等算力硬件股领涨；<em>贵</em>金属、港口航运、燃气、旅游及酒店、房地产、物流、银行板块跌幅居前。盘面上，游戏、电商、视频等AI应用集体爆发，昆仑万维大涨10%，壹网壹创、天下秀涨停。受消息面影响，有色金属板块集体走高，铜方向领涨，北方铜业、精艺股份、洛阳钼业封死涨停。铜缆高速连接等算力硬件股盘中拉升，新亚电子、浪潮信息涨停。此外，可控核聚变、电池板块均有异动，宁德时代盘中总市值超越<em>贵</em><em>州</em><em>茅</em><em>台</em>。港口航运板块多数调整，南京港、宁波远洋、...... </p></dd><dt><a href=\"http://www.zqrb.cn/gscy/gongsi/2025-09-25/A1758775785170.html\" target=\"_blank\"><h4>7 A股历史一刻！宁德时代总市值超越<em>贵</em><em>州</em><em>茅</em><em>台</em></h4></a></dt><dd><p class=\"field-info text-error\"><span><strong>作者:</strong>李婷 冯雨瑶</span><span><strong>时间:</strong>2025年09月25日</span><span><strong>栏目:</strong>上市公司</span><span><strong>媒体:</strong>证券日报网</span></p><p>&ensp;&ensp;&ensp;&ensp;本报记者 李婷 冯雨瑶&ensp;&ensp;&ensp;&ensp;A股历史性一刻！&ensp;&ensp;&ensp;&ensp;记者注意到，截至9月25日上午收盘时间，宁德时代A股最新市值为1.82万亿元，<em>贵</em><em>州</em><em>茅</em><em>台</em>最新市值为1.80万亿元。宁德时代A股市值暂时超越<em>贵</em><em>州</em><em>茅</em><em>台</em>。&ensp;&ensp;&ensp;&ensp;这一历史性事件，折射了A股市场怎样的变化？&ensp;&ensp;&ensp;&ensp;&ldquo;宁德时代A股市值超过<em>贵</em><em>州</em><em>茅</em><em>台</em>，反映出目前市场的方向在变化。&rdquo;财经评论员、鲸平<em>台</em>智库专家郭施亮对《证券日报》记者表示，<em>贵</em><em>州</em><em>茅</em><em>台</em>代表着消费股，而消费股的走势跟随着CPI（消费者物价指数）的变化，目前CPI尚处于筑底的阶段，<em>贵</em><em>州</em><em>茅</em><em>台</em>等消费股还没有形成上涨催化剂。&ensp;&ensp;&ensp;&ensp;福建...... </p></dd><dt><a href=\"http://www.zqrb.cn/shipin/shipinhangye/2025-09-23/A1758591090099.html\" target=\"_blank\"><h4>8 首款元宇宙主题白酒“国<em>台</em>元宇宙·启元”上市热销</h4></a></dt><dd><p class=\"field-info text-error\"><span><strong>作者:</strong>梁傲男</span><span><strong>时间:</strong>2025年09月23日</span><span><strong>栏目:</strong>食品行业</span><span><strong>媒体:</strong>证券日报网</span></p><p>&ensp;&ensp;&ensp;&ensp;本报讯 （记者梁傲男）9月21日，&ldquo;国<em>台</em>元宇宙&middot;启元&rdquo;在中国酒类TOP达人吴一快手直播间，正式上市销售，并取得了上线半小时销售超百万元的成绩。国<em>台</em>供图&ensp;&ensp;&ensp;&ensp;&ldquo;国<em>台</em>元宇宙&middot;启元&rdquo;是中国白酒行业第一款元宇宙主题产品。国<em>台</em>元宇宙&middot;启元酒以<em>贵</em><em>州</em>国<em>台</em>数智酒业集团股份有限公司（以下简称&ldquo;国<em>台</em>&rdquo;）智能酿造的创新技术为基础，又融合了元宇宙的概念、体验与价值，创造了新的酒饮体验。&ensp;&ensp;&ensp;&ensp;2024年，国<em>台</em>打造出中国白酒行业第一家元宇宙体验平<em>台</em>&mdash;&mdash;国<em>台</em>元宇宙体验馆。国<em>台</em>通过VR技术复刻<em>茅</em><em>台</em>镇产区环境、模拟酿酒工艺全过程，让人在虚拟空间中沉浸式体验正...... </p></dd><dt><a href=\"http://www.zqrb.cn/gscy/qiyexinxi/2025-09-22/A1758531062888.html\" target=\"_blank\"><h4>9 <em>贵</em><em>州</em><em>茅</em><em>台</em>生物科技研发有限责任公司成立</h4></a></dt><dd><p class=\"field-info text-error\"><span><strong>作者:</strong>袁传玺</span><span><strong>时间:</strong>2025年09月22日</span><span><strong>栏目:</strong>企业信息</span><span><strong>媒体:</strong>证券日报网</span></p><p>&ensp;&ensp;&ensp;&ensp;本报讯 （记者袁传玺）天眼查工商信息显示，近日，<em>贵</em><em>州</em><em>茅</em><em>台</em>生物科技研发有限责任公司成立，注册资本10亿元，经营范围含工程和技术研究和试验发展、生物化工产品技术研发、发酵过程优化技术研发、工业酶制剂研发等。股东信息显示，该公司由中国<em>贵</em><em>州</em><em>茅</em><em>台</em>酒厂（集团）有限责任公司、<em>贵</em><em>州</em><em>茅</em><em>台</em>共同持股。（编辑 张文玲 张伟）...... </p></dd><dt><a href=\"http://www.zqrb.cn/stock/zuixinbobao/2025-09-18/A1758159528242.html\" target=\"_blank\"><h4>10 开盘：沪指跌0.01%，创业板指跌0.88，<em>贵</em>金属及消费电子概念股普跌</h4></a></dt><dd><p class=\"field-info text-error\"><span><strong>作者:</strong></span><span><strong>时间:</strong>2025年09月18日</span><span><strong>栏目:</strong>最新播报</span><span><strong>媒体:</strong>金融界</span></p><p>&ensp;&ensp;&ensp;&ensp;9月18日，周四，A股集体低开，沪指跌0.01%报3876.06点，深成指跌0.41%报13161.15点，创业板指跌0.88报3119.77点，科创50指数涨1.1%，报1385.5点。<em>贵</em>金属、消费电子、CPO等板块指数跌幅居前。<em>贵</em>金属板块低开，西部黄金、晓程科技低开超5%，四川黄金、湖南白银、赤峰黄金跟跌；寒武纪高开4%股价重回1500元关口，再次超越<em>贵</em><em>州</em><em>茅</em><em>台</em>。&ensp;&ensp;&ensp;&ensp;盘面上，市场焦点股天普股份（11板）竞价涨停，机器人概念股首开股份（11天10板）高开5.59%、上海建工（4板）高开0.28%、万向钱潮（3板）高开5.92%，低价股山子高科（4板）高开8.11%、荣盛发展（4板）高开0.50%，纺织股泰慕士（3板）竞价涨停，算力板块罗曼股份（5天3板）低开0.08%、科博达（2板）竞价涨停，智能驾...... </p></dd><dt><a href=\"http://www.zqrb.cn/shipin/shipinhangye/2025-09-18/A1758171850345.html\" target=\"_blank\"><h4>11 <em>贵</em><em>州</em>酱酒行业分化加速 长远发展前景广阔</h4></a></dt><dd><p class=\"field-info text-error\"><span><strong>作者:</strong>梁傲男</span><span><strong>时间:</strong>2025年09月18日</span><span><strong>栏目:</strong>食品行业</span><span><strong>媒体:</strong>证券日报网</span></p><p>&ensp;&ensp;&ensp;&ensp;本报讯 （记者梁傲男）2025年上半年，酱酒产业表现如何？&ensp;&ensp;&ensp;&ensp;上半年，<em>贵</em><em>州</em><em>茅</em><em>台</em>酒股份有限公司依旧是一枝独秀，但是营收同比增速有所下滑。<em>贵</em><em>州</em>习酒投资控股集团有限责任公司的策略依旧是保持稳健，保持战略定力。&ensp;&ensp;&ensp;&ensp;<em>贵</em><em>州</em>国<em>台</em>数智酒业集团股份有限公司上半年营收约20亿元，作为<em>贵</em><em>州</em>酱酒的重要力量，其表现进一步印证了酱酒行业分化的加剧。在行业调整期内，公司依然保持了一定的市场规模，展现出品牌的基本盘韧性。&ensp;&ensp;&ensp;&ensp;珍酒李渡集团有限公司正在通过一系列产品端、渠道端、战略端的相应举措应对行业调整，代表了酱酒第二梯队企业的典型应对策略，通过产品创新、渠道变革和战略多元化来应对行业挑战。&ensp;&ensp;&ensp;&ensp;调整仍在...... </p></dd><dt><a href=\"http://epaper.zqrb.cn/html/2025-09/15/content_1182488.htm\" target=\"_blank\"><h4>12 甲骨文靠“卖铲子”出圈折射科技产业深层变革</h4></a></dt><dd><p class=\"field-info text-error\"><span><strong>作者:</strong></span><span><strong>时间:</strong>2025年09月15日</span><span><strong>栏目:</strong>A4</span><span><strong>媒体:</strong>证券日报电子报</span></p><p>\\u3000\\u3000■李春莲\\u3000\\u3000近日，AI领域再次出现标志性事件。美国当地时间9月10日，科技巨头甲骨文股价暴涨36%，创下1992年以来最大单日涨幅，股价达历史新高，公司市值更是达到9200亿美元。尽管随后甲骨文股价有所回落，但仍旧在市场引发热议。\\u3000\\u3000在美股，甲骨文股价的火热表现，实则是其长期布局AI算力基础设施的必然结果。而若将目光转向A股，前不久寒武纪股价大涨，曾短暂取代<em>贵</em><em>州</em><em>茅</em><em>台</em>成为A股“股王”。两个案例相互呼应，本质上是全球产业变革在不同区域的同频共振，折射出全球科技产业的深层变革。\\u3000\\u3000第一，AI重塑产业格局，云计算与基础设施成为核心竞争力。\\u3000\\u3000甲骨文此次股价飙升的核心动力源于其云计算业务的爆发。财报显示，甲骨文2026财年第一财季云收入同比增长28%至71.86亿美元，占总营收近半，且剩余履约义务（即已签订但尚未确认的收入）飙升至4550亿美元，其中新增订单主要来自OpenAI、xAI等AI巨头...... </p></dd><dt><a href=\"http://www.zqrb.cn/gscy/gongsi/2025-09-14/A1757756652942.html\" target=\"_blank\"><h4>13 中沁控股与国<em>台</em>达成战略合作</h4></a></dt><dd><p class=\"field-info text-error\"><span><strong>作者:</strong>梁傲男</span><span><strong>时间:</strong>2025年09月14日</span><span><strong>栏目:</strong>上市公司</span><span><strong>媒体:</strong>证券日报网</span></p><p>&ensp;&ensp;&ensp;&ensp;本报讯 （记者梁傲男）9月11日，中沁控股（浙江）有限公司（以下简称&ldquo;中沁控股&rdquo;）与<em>贵</em><em>州</em>国<em>台</em>数智酒业集团股份有限公司（以下简称&ldquo;国<em>台</em>&rdquo;）达成战略合作，在上海正式签订7000万元白酒销售合同。双方将在品牌定制、数字营销、供应链优化等多个维度展开深度合作，共同探索&ldquo;产业+资本&rdquo;的创新商业模式，为消费行业发展注入新动能。此举也标志着国<em>台</em>&ldquo;厂商同心、共创共享、尊享愉悦、长期共赢&rdquo;的合作发展理念获得越来越多认可，&ldquo;国<em>台</em>通之商道&rdquo;商业生态进一步得到壮大与完善。&ensp;&ensp;&ensp;&ensp;在&ldquo;携手国<em>台</em>，沪上启航&rdquo;战略合作签约仪式上，中沁控股总经理刘沁灵表示，国<em>台</em>是<em>茅</em><em>台</em>镇第二大酿酒企业。二十多年来...... </p></dd><dt><a href=\"http://www.zqrb.cn/review/chanjingpinglun/2025-09-14/A1757756652968.html\" target=\"_blank\"><h4>14 甲骨文靠“卖铲子”出圈折射科技产业深层变革</h4></a></dt><dd><p class=\"field-info text-error\"><span><strong>作者:</strong>李春莲</span><span><strong>时间:</strong>2025年09月14日</span><span><strong>栏目:</strong>产经评论</span><span><strong>媒体:</strong>证券日报</span></p><p>&ensp;&ensp;&ensp;&ensp;■李春莲&ensp;&ensp;&ensp;&ensp;近日，AI领域再次出现标志性事件。美国当地时间9月10日，科技巨头甲骨文股价暴涨36%，创下1992年以来最大单日涨幅，股价达历史新高，公司市值更是达到9200亿美元。尽管随后甲骨文股价有所回落，但仍旧在市场引发热议。&ensp;&ensp;&ensp;&ensp;在美股，甲骨文股价的火热表现，实则是其长期布局AI算力基础设施的必然结果。而若将目光转向A股，前不久寒武纪股价大涨，曾短暂取代<em>贵</em><em>州</em><em>茅</em><em>台</em>成为A股&ldquo;股王&rdquo;。两个案例相互呼应，本质上是全球产业变革在不同区域的同频共振，折射出全球科技产业的深层变革。&ensp;&ensp;&ensp;&ensp;第一，AI重塑产业格局，云计算与基础设施成为核心竞争力。&ensp;&ensp;&ensp;&ensp;甲骨文此次股...... </p></dd><dt><a href=\"http://www.zqrb.cn/gscy/gongsi/2025-09-08/A1757314940156.html\" target=\"_blank\"><h4>15 主动运用政策工具进行市值管理 <em>茅</em><em>台</em>集团获最高27亿元增持贷款支持</h4></a></dt><dd><p class=\"field-info text-error\"><span><strong>作者:</strong>冯雨瑶</span><span><strong>时间:</strong>2025年09月08日</span><span><strong>栏目:</strong>上市公司</span><span><strong>媒体:</strong>证券日报网</span></p><p>&ensp;&ensp;&ensp;&ensp;本报讯 （记者冯雨瑶）近日，<em>贵</em><em>州</em><em>茅</em><em>台</em>酒股份有限公司（以下简称&ldquo;<em>贵</em><em>州</em><em>茅</em><em>台</em>&rdquo;）发布公告称，公司控股股东中国<em>贵</em><em>州</em><em>茅</em><em>台</em>酒厂（集团）有限责任公司（以下简称&ldquo;<em>茅</em><em>台</em>集团&rdquo;）已获得中国农业银行股份有限公司<em>贵</em><em>州</em>省分行出具的贷款承诺函，承诺对<em>茅</em><em>台</em>集团股票增持事项提供贷款支持，贷款额度不高于人民币27亿元。&ensp;&ensp;&ensp;&ensp;公告显示，<em>茅</em><em>台</em>集团基于对公司长期价值的认可和未来发展的信心，计划自增持计划公告发布之日起6个月内，通过集中竞价交易方式增持公司股票，拟增持金额不低于人民币30亿元（含）且不高于人民币33亿元（含）。<em>茅</em><em>台</em>集团获农行<em>贵</em><em>州</em>省分行不超过27亿元贷款承诺函，用于支持不低于30亿元增持计划。&ensp;&ensp;&ensp;&ensp;这是股票回购增持再贷款政策于2024年10...... </p></dd> </dl> </div></div><div class=\"pagination pagination-centered\"><ul><li><a href=\"http://search.zqrb.cn/search.php?src=all&q=%E8%B4%B5%E5%B7%9E%E8%8C%85%E5%8F%B0&f=_all&s=newsdate_DESC&p=1\">1</a></li><li><a href=\"http://search.zqrb.cn/search.php?src=all&q=%E8%B4%B5%E5%B7%9E%E8%8C%85%E5%8F%B0&f=_all&s=newsdate_DESC&p=2\">2</a></li><li><a href=\"http://search.zqrb.cn/search.php?src=all&q=%E8%B4%B5%E5%B7%9E%E8%8C%85%E5%8F%B0&f=_all&s=newsdate_DESC&p=3\">3</a></li><li><a href=\"http://search.zqrb.cn/search.php?src=all&q=%E8%B4%B5%E5%B7%9E%E8%8C%85%E5%8F%B0&f=_all&s=newsdate_DESC&p=4\">4</a></li><li><a href=\"http://search.zqrb.cn/search.php?src=all&q=%E8%B4%B5%E5%B7%9E%E8%8C%85%E5%8F%B0&f=_all&s=newsdate_DESC&p=5\">5</a></li><li><a href=\"http://search.zqrb.cn/search.php?src=all&q=%E8%B4%B5%E5%B7%9E%E8%8C%85%E5%8F%B0&f=_all&s=newsdate_DESC&p=6\">6</a></li><li><a href=\"http://search.zqrb.cn/search.php?src=all&q=%E8%B4%B5%E5%B7%9E%E8%8C%85%E5%8F%B0&f=_all&s=newsdate_DESC&p=7\">7</a></li><li><a href=\"http://search.zqrb.cn/search.php?src=all&q=%E8%B4%B5%E5%B7%9E%E8%8C%85%E5%8F%B0&f=_all&s=newsdate_DESC&p=8\">8</a></li><li><a href=\"http://search.zqrb.cn/search.php?src=all&q=%E8%B4%B5%E5%B7%9E%E8%8C%85%E5%8F%B0&f=_all&s=newsdate_DESC&p=9\">9</a></li><li><a href=\"http://search.zqrb.cn/search.php?src=all&q=%E8%B4%B5%E5%B7%9E%E8%8C%85%E5%8F%B0&f=_all&s=newsdate_DESC&p=10\">10</a></li></div> </div>\\n\\t<footer>\\n  <div class=\"container\">\\n\\n  </div>\\n</footer>\\n<script type=\"text/javascript\" src=\"http://apps.bdimg.com/libs/jquery/1.6.2/jquery.min.js\"></script>\\n<script type=\"text/javascript\" src=\"http://apps.bdimg.com/libs/jqueryui/1.10.4/jquery-ui.min.js\"></script>\\n<script type=\"text/javascript\">\\n$(function(){\\n\\t// input tips\\n\\t$(\\'#q-input .search-query\\').focus(function(){\\n\\t\\tif ($(this).val() == $(this).attr(\\'title\\')) {\\n\\t\\t\\t$(this).val(\\'\\').removeClass(\\'tips\\');\\n\\t\\t}\\n\\t}).blur(function(){\\n\\t\\tif ($(this).val() == \\'\\' || $(this).val() == $(this).attr(\\'title\\')) {\\n\\t\\t\\t$(this).addClass(\\'tips\\').val($(this).attr(\\'title\\'));\\n\\t\\t}\\n\\t}).blur().autocomplete({\\n\\t\\t\\'source\\':\\'suggest.php\\',\\n\\t\\t\\'select\\':function(ev,ui) {\\n\\t\\t\\t$(\\'#q-input .search-query\\').val(ui.item.label);\\n\\t\\t\\t$(\\'#q-form\\').submit();\\n\\t\\t}\\n\\t});\\n\\t// submit check\\n\\t$(\\'#q-form\\').submit(function(){\\n\\t\\tvar  = $(\\'#q-input .search-query\\');\\n\\t\\tif (.val() == .attr(\\'title\\')) {\\n\\t\\t\\talert(\\'请先输入关键词\\');\\n\\t\\t\\t.focus();\\n\\t\\t\\treturn false;\\n\\t\\t}\\n\\t});\\n});\\n</script>\\n</body>\\n</html>'"
      ]
     },
     "execution_count": 2,
     "metadata": {},
     "output_type": "execute_result"
    }
   ],
   "source": [
    "res"
   ]
  },
  {
   "cell_type": "code",
   "execution_count": 3,
   "id": "ae77ac73",
   "metadata": {},
   "outputs": [],
   "source": [
    "p_date='<span><strong>时间:</strong>(.*?)</span>'"
   ]
  },
  {
   "cell_type": "code",
   "execution_count": 4,
   "id": "5edd4596",
   "metadata": {},
   "outputs": [],
   "source": [
    "date=re.findall(p_date,res)"
   ]
  },
  {
   "cell_type": "code",
   "execution_count": 5,
   "id": "8ad90c80",
   "metadata": {},
   "outputs": [
    {
     "data": {
      "text/plain": [
       "['2025年09月29日',\n",
       " '2025年09月27日',\n",
       " '2025年09月26日',\n",
       " '2025年09月26日',\n",
       " '2025年09月26日',\n",
       " '2025年09月25日',\n",
       " '2025年09月25日',\n",
       " '2025年09月23日',\n",
       " '2025年09月22日',\n",
       " '2025年09月18日',\n",
       " '2025年09月18日',\n",
       " '2025年09月15日',\n",
       " '2025年09月14日',\n",
       " '2025年09月14日',\n",
       " '2025年09月08日']"
      ]
     },
     "execution_count": 5,
     "metadata": {},
     "output_type": "execute_result"
    }
   ],
   "source": [
    "date"
   ]
  },
  {
   "cell_type": "code",
   "execution_count": 6,
   "id": "9552c082",
   "metadata": {},
   "outputs": [
    {
     "data": {
      "text/plain": [
       "15"
      ]
     },
     "execution_count": 6,
     "metadata": {},
     "output_type": "execute_result"
    }
   ],
   "source": [
    "len(date)"
   ]
  },
  {
   "cell_type": "code",
   "execution_count": 7,
   "id": "def4d248",
   "metadata": {},
   "outputs": [],
   "source": [
    "import requests\n",
    "from bs4 import BeautifulSoup\n",
    "import re\n",
    "headers = {'User-Agent': 'Mozilla/5.0 (Windows NT 10.0; Win64; x64) AppleWebKit/537.36 (KHTML, like Gecko) Chrome/86.0.4240.198 Safari/537.36'}\n",
    "\n",
    "url = 'http://search.zqrb.cn/search.php?src=all&q=贵州茅台&f=_all&s=newsdate_DESC'\n",
    "res = requests.get(url, headers=headers).text"
   ]
  },
  {
   "cell_type": "code",
   "execution_count": 8,
   "id": "bcb83d18",
   "metadata": {},
   "outputs": [
    {
     "data": {
      "text/plain": [
       "'<!DOCTYPE html>\\n<html lang=\"en\">\\n<head>\\n<meta http-equiv=\"Content-Type\" content=\"text/html; charset=utf-8\" />\\n<meta name=\"googlebot\" content=\"index,noarchive,nofollow,noodp\" />\\n<meta name=\"robots\" content=\"index,nofollow,noarchive,noodp\" />\\n<meta content=\"width=device-width, initial-scale=1.0, maximum-scale=1.0, user-scalable=no;\" name=\"viewport\">\\n<meta name=\"apple-mobile-web-app-capable\" content=\"yes\">\\n<meta name=\"apple-mobile-web-app-status-bar-style\" content=\"black\">\\n<title>证券日报网</title>\\n<meta http-equiv=\"keywords\" content=\"Fulltext Search Engine Zqrb_search xunsearch\" />\\n<meta http-equiv=\"description\" content=\"Fulltext Search for Zqrb_search, Powered by xunsearch/1.4.11 \" />\\n<link rel=\"stylesheet\" type=\"text/css\" href=\"css/bootstrap.css\"/>\\n<link rel=\"stylesheet\" type=\"text/css\" href=\"css/style.css\"/>\\n<link rel=\"stylesheet\" href=\"http://apps.bdimg.com/libs/jqueryui/1.8.16/themes/redmond/jquery-ui.css\" type=\"text/css\" media=\"all\" />\\n<!--[if lt IE 9]>\\n<script src=\"http://html5shiv.googlecode.com/svn/trunk/html5.js\"></script>\\n<![endif]-->\\n<!--[if lte IE 6]>\\n<link rel=\"stylesheet\" type=\"text/css\" href=\"css/bootstrap-ie6.css\" />\\n<link rel=\"stylesheet\" type=\"text/css\" href=\"css/ie.css\" />\\n<![endif]-->\\n<style>\\n.popup a{position:absolute;text-decoration:none;}\\n.popup a:hover{text-decoration:none;background:none;}\\n.popup span{display:none;}\\n.popup a:hover span{display:block;top:228px;left:302px; width:200px; height:80px; relative:absolute;padding:10px;border:none;}\\n</style>\\n</head>\\n<!-- search.tpl Zqrb_search 搜索模板 -->\\n<body>\\n<div class=\"container\">\\n  <div class=\"row\">\\n\\t<!-- search form -->\\n    <div class=\"span12\">\\n\\t \\n      <h1><a href=\"/search.php\"><img src=\"http://www.zqrb.cn/zqrb_index/images/logoyeshou.jpg\" height=\"42\" width=\"160\"/></a></h1>\\n      <form class=\"form-search\" id=\"q-form\" method=\"get\">\\n        <div class=\"input-append\" id=\"q-input\">\\n                <select name=\"src\" style=\"width:auto;border-radius:14px;\">\\n\\t\\t\\t\\t\\t\\t<option value=\"all\"  selected=\"selected\"\">全部</option>\\n                        <option value=\"news\" \">新闻</option>\\n                        <option value=\"epaper\"  \">电子报</option>\\n\\n                </select>\\n          <input type=\"text\" class=\"span6 search-query\" name=\"q\" title=\"输入任意关键词皆可搜索\" value=\"贵州茅台 \">\\n          <button type=\"submit\" class=\"btn\" style=\"vertical-align:bottom;\">搜索</button>\\n          <span class=\"popup\">\\n          <a style=\"position:relative; width:90px; height:30px; font-size:20px; text-align:left\"  href=\"#\">\\n                  <img src=\"./img/question.png\" width=\"20\" heigth=\"20\" style=\"margin-left:10px;vertical-align:bottom;\" />\\n                  <span style=\"position:absolute; top:-10px; left:60px;width:495px; height:80px; font-size:14px; background-color:#f2f2f2; color:#000\">\\n\\t\\t\\t\\t          搜索技巧<br>\\n\\t\\t\\t\\t\\t\\t  如想搜索“证券日报”但是不想搜索结果中有“基金”，请输入“证券日报 -基金”<br>\\n如不确定搜索的关键词，请使用模糊搜索<br>\\n如不确定关键词的位置，请使用全文搜索<br>\\n                          \\n                  </span>\\n          </a>\\n\\t\\t  <p class=\"result\">大约有<b>4,352</b>项符合查询结果。（搜索耗时：0.015982秒）\\n  </span>\\n        </div>\\n        <div class=\"condition\" id=\"q-options\">\\n          <label class=\"radio inline\"><input type=\"radio\" name=\"f\" value=\"title\"  />标题</label>\\n\\t\\t        <label class=\"radio inline\"><input type=\"radio\" name=\"f\" value=\"author_name\"  />作者</label>\\n\\t\\t\\t\\n          <label class=\"radio inline\">\\n            <input type=\"radio\" name=\"f\" value=\"_all\"  checked  />全文\\n          </label>\\n          <label class=\"checkbox inline\">\\n            <input type=\"checkbox\" name=\"m\" value=\"yes\"  />模糊搜索\\n          </label>\\n          \\n          按\\n          <select name=\"s\" size=\"1\">\\n\\t\\t\\t<option value=\"newsdate_DESC\"  selected=\"selected\" >时间-降序</option>\\n\\t\\t\\t<option value=\"relevance\"  >相关性</option>\\n          </select>\\n          排序\\n\\t\\t</div>\\n      </form>\\n    </div>\\n\\n    \\n\\t\\t<div class=\"span12\"> <dl class=\"result-list\"><dt><a href=\"http://www.zqrb.cn/gscy/gongsi/2025-09-29/A1759146241623.html\" target=\"_blank\"><h4>1 <em>茅</em><em>台</em>酒市场逆势回暖  释放了什么信号？</h4></a></dt><dd><p class=\"field-info text-error\"><span><strong>作者:</strong>冯雨瑶</span><span><strong>时间:</strong>2025年09月29日</span><span><strong>栏目:</strong>上市公司</span><span><strong>媒体:</strong>证券日报网</span></p><p>&ensp;&ensp;&ensp;&ensp;本报记者 冯雨瑶&ensp;&ensp;&ensp;&ensp;临近中秋、国庆&ldquo;双节&rdquo;旺季，<em>茅</em><em>台</em>酒市场呈现明显的回暖迹象。9月29日，记者从北京、郑<em>州</em>、重庆等多家<em>贵</em><em>州</em><em>茅</em><em>台</em>专卖店了解到，目前53度500ml飞天<em>茅</em><em>台</em>酒的市场需求量回升，单瓶的价格大约在1800元/瓶至1900元/瓶不等。&ensp;&ensp;&ensp;&ensp;&ldquo;现在买<em>茅</em><em>台</em>酒的人比平常要多点，店里日销售量也多了些。&rdquo;位于北京的一家专卖店内的工作人员向《证券日报》记者如是说。&ensp;&ensp;&ensp;&ensp;不仅&ldquo;双节&rdquo;旺销，<em>茅</em><em>台</em>酒市场的回暖其实早有迹可循。9月16日，华创证券就曾发布研报表示，<em>茅</em><em>台</em>酒动销在7月份呈现边际好转态势，8月份终端环比增长约15%至35%。白酒行业分析师、武汉京魁科...... </p></dd><dt><a href=\"http://www.zqrb.cn/shipin/shipinhangye/2025-09-27/A1758901387553.html\" target=\"_blank\"><h4>2 9月份动销环比翻倍增长、同比增长超20%  <em>茅</em><em>台</em>“秋收行动”传递回暖强信号</h4></a></dt><dd><p class=\"field-info text-error\"><span><strong>作者:</strong></span><span><strong>时间:</strong>2025年09月27日</span><span><strong>栏目:</strong>食品行业</span><span><strong>媒体:</strong>证券日报网</span></p><p>&ensp;&ensp;&ensp;&ensp;在行业承压的最近几个月，市场的种种迹象显示：<em>茅</em><em>台</em>酒已率先跨过了突发性场景中断的这道难关。&ensp;&ensp;&ensp;&ensp;近期，结合市场调研和多地经销商的反馈，在&ldquo;双节&rdquo;效应的催化下，<em>茅</em><em>台</em>酒9月份市场端的动销数据大幅度地反弹：环比增长约一倍，同比增长超20%；与此同时，经销商的&ldquo;存销比&rdquo;下降五成，处于良好的水平。显然，这份&ldquo;两增一降&rdquo;的业绩数据充分印证：第一，<em>茅</em><em>台</em>酒的市场需求逻辑没有改变；第二，<em>茅</em><em>台</em>酒&ldquo;4+6&rdquo;的渠道体系具有强大韧性；第三，表明了<em>茅</em><em>台</em>的&ldquo;三个转型&rdquo;战略在市场实践中卓有成效。&ensp;&ensp;&ensp;&ensp;从局部到整体&ensp;&ensp;&ensp;&ensp;释放回暖的强信号...... </p></dd><dt><a href=\"http://www.zqrb.cn/review/gushireping/2025-09-26/A1758790044671.html\" target=\"_blank\"><h4>3 A股市值格局变化折射出三大新趋势</h4></a></dt><dd><p class=\"field-info text-error\"><span><strong>作者:</strong>苏向杲</span><span><strong>时间:</strong>2025年09月26日</span><span><strong>栏目:</strong>股市热评</span><span><strong>媒体:</strong>证券日报</span></p><p>&ensp;&ensp;&ensp;&ensp;■苏向杲&ensp;&ensp;&ensp;&ensp;9月25日，宁德时代股价盘中突破400元整数关口，总市值一度超越<em>贵</em><em>州</em><em>茅</em><em>台</em>，引发市场广泛关注。今年以来，A股科技板块持续活跃，而部分传统行业板块表现相对平淡，不同板块之间的市值呈现&ldquo;此消彼长&rdquo;态势，持续重塑着市场结构。&ensp;&ensp;&ensp;&ensp;近日，中国证监会主席吴清在国新办新闻发布会上指出，目前A股科技板块市值占比超过1/4，已明显高于银行、非银金融、房地产行业市值合计占比。市值前50名公司中科技企业从&ldquo;十三五&rdquo;末的18家提升至当前的24家。&ensp;&ensp;&ensp;&ensp;笔者认为，A股市场市值格局的演变，清晰反映了我国经济转型的路径。进一步看，这一变化折射出三大新趋势。&ensp;&ensp;&ens...... </p></dd><dt><a href=\"http://epaper.zqrb.cn/html/2025-09/26/content_1185470.htm\" target=\"_blank\"><h4>4 今日视点：A股市值格局变化折射出三大新趋势</h4></a></dt><dd><p class=\"field-info text-error\"><span><strong>作者:</strong></span><span><strong>时间:</strong>2025年09月26日</span><span><strong>栏目:</strong>A1</span><span><strong>媒体:</strong>证券日报电子报</span></p><p>\\u3000\\u3000■苏向杲\\u3000\\u30009月25日，宁德时代股价盘中突破400元整数关口，总市值一度超越<em>贵</em><em>州</em><em>茅</em><em>台</em>，引发市场广泛关注。今年以来，A股科技板块持续活跃，而部分传统行业板块表现相对平淡，不同板块之间的市值呈现“此消彼长”态势，持续重塑着市场结构。\\u3000\\u3000近日，中国证监会主席吴清在国新办新闻发布会上指出，目前A股科技板块市值占比超过1/4，已明显高于银行、非银金融、房地产行业市值合计占比。市值前50名公司中科技企业从“十三五”末的18家提升至当前的24家。\\u3000\\u3000笔者认为，A股市场市值格局的演变，清晰反映了我国经济转型的路径。进一步看，这一变化折射出三大新趋势。\\u3000\\u3000其一，科技革命成为驱动增长的新引擎。\\u3000\\u3000以往，金融、地产和传统资源类企业是市场的市值支柱，其高占比反映出投资拉动的增长模式。当前，科技板块市值占比持续提升，新能源、人工智能、生物医药等新兴产业公司市值快速攀升，标志着中国经济正加速转向创新驱动。这一转变...... </p></dd><dt><a href=\"http://www.zqrb.cn/gscy/qiyexinxi/2025-09-26/A1758875478253.html\" target=\"_blank\"><h4>5 <em>贵</em><em>州</em><em>茅</em><em>台</em>酒秋季十六省市场调研在青海收官</h4></a></dt><dd><p class=\"field-info text-error\"><span><strong>作者:</strong></span><span><strong>时间:</strong>2025年09月26日</span><span><strong>栏目:</strong>企业信息</span><span><strong>媒体:</strong>证券日报网</span></p><p>&ensp;&ensp;&ensp;&ensp;9月25日，<em>茅</em><em>台</em>集团党委副书记、总经理王莉率队深入青海市场一线调研，并在西宁组织召开青甘新藏四省区<em>贵</em><em>州</em><em>茅</em><em>台</em>酒市场营销座谈会，与渠道商面对面深入交流，共商市场动态、共探发展机遇，进一步凝聚可持续高质量发展共识。<em>贵</em><em>州</em><em>茅</em><em>台</em>公益基金会理事长卓玛才让参加。&ensp;&ensp;&ensp;&ensp;&ensp;&ensp;&ensp;&ensp;此次座谈会标志着自今年8月底启动的<em>贵</em><em>州</em><em>茅</em><em>台</em>酒秋季市场调研圆满收官。在一个月的时间内，王莉率队深入华东、西南、东北、华北、西北市场一线，并先后在扬<em>州</em>、重庆、长春、北京、西宁组织召开了共16个省区的<em>贵</em><em>州</em><em>茅</em><em>台</em>酒市场营销座谈会，与全国300余家渠道商展开深度对话，围绕新形势下白酒行业趋势、<em>茅</em><em>台</em>酒市场现状及潜在机遇展开全方位探讨。这一系列高密度、广覆盖的调研活动，不仅彰显了<em>茅</em><em>台</em>对市场一线的高度关注，更传递出<em>茅</em><em>台</em>与渠道...... </p></dd><dt><a href=\"http://www.zqrb.cn/stock/zuixinbobao/2025-09-25/A1758771410384.html\" target=\"_blank\"><h4>6 午评：创业板指半日大涨2.22%，宁德时代再创新高</h4></a></dt><dd><p class=\"field-info text-error\"><span><strong>作者:</strong></span><span><strong>时间:</strong>2025年09月25日</span><span><strong>栏目:</strong>最新播报</span><span><strong>媒体:</strong>新浪财经</span></p><p>&ensp;&ensp;&ensp;&ensp;三大指数早盘集体上涨，截至午盘，上证指数涨0.16%，深成指涨1.14%，创业板指涨2.22%，北证50跌0.04%。沪深京三市半日成交额15558亿元，较上日放量1355亿元。全市场2000只个股上涨。&ensp;&ensp;&ensp;&ensp;板块题材方面，游戏、电商、视频等AI应用、可控核聚变、有色金属、铜缆高速连接等算力硬件股领涨；<em>贵</em>金属、港口航运、燃气、旅游及酒店、房地产、物流、银行板块跌幅居前。盘面上，游戏、电商、视频等AI应用集体爆发，昆仑万维大涨10%，壹网壹创、天下秀涨停。受消息面影响，有色金属板块集体走高，铜方向领涨，北方铜业、精艺股份、洛阳钼业封死涨停。铜缆高速连接等算力硬件股盘中拉升，新亚电子、浪潮信息涨停。此外，可控核聚变、电池板块均有异动，宁德时代盘中总市值超越<em>贵</em><em>州</em><em>茅</em><em>台</em>。港口航运板块多数调整，南京港、宁波远洋、...... </p></dd><dt><a href=\"http://www.zqrb.cn/gscy/gongsi/2025-09-25/A1758775785170.html\" target=\"_blank\"><h4>7 A股历史一刻！宁德时代总市值超越<em>贵</em><em>州</em><em>茅</em><em>台</em></h4></a></dt><dd><p class=\"field-info text-error\"><span><strong>作者:</strong>李婷 冯雨瑶</span><span><strong>时间:</strong>2025年09月25日</span><span><strong>栏目:</strong>上市公司</span><span><strong>媒体:</strong>证券日报网</span></p><p>&ensp;&ensp;&ensp;&ensp;本报记者 李婷 冯雨瑶&ensp;&ensp;&ensp;&ensp;A股历史性一刻！&ensp;&ensp;&ensp;&ensp;记者注意到，截至9月25日上午收盘时间，宁德时代A股最新市值为1.82万亿元，<em>贵</em><em>州</em><em>茅</em><em>台</em>最新市值为1.80万亿元。宁德时代A股市值暂时超越<em>贵</em><em>州</em><em>茅</em><em>台</em>。&ensp;&ensp;&ensp;&ensp;这一历史性事件，折射了A股市场怎样的变化？&ensp;&ensp;&ensp;&ensp;&ldquo;宁德时代A股市值超过<em>贵</em><em>州</em><em>茅</em><em>台</em>，反映出目前市场的方向在变化。&rdquo;财经评论员、鲸平<em>台</em>智库专家郭施亮对《证券日报》记者表示，<em>贵</em><em>州</em><em>茅</em><em>台</em>代表着消费股，而消费股的走势跟随着CPI（消费者物价指数）的变化，目前CPI尚处于筑底的阶段，<em>贵</em><em>州</em><em>茅</em><em>台</em>等消费股还没有形成上涨催化剂。&ensp;&ensp;&ensp;&ensp;福建...... </p></dd><dt><a href=\"http://www.zqrb.cn/shipin/shipinhangye/2025-09-23/A1758591090099.html\" target=\"_blank\"><h4>8 首款元宇宙主题白酒“国<em>台</em>元宇宙·启元”上市热销</h4></a></dt><dd><p class=\"field-info text-error\"><span><strong>作者:</strong>梁傲男</span><span><strong>时间:</strong>2025年09月23日</span><span><strong>栏目:</strong>食品行业</span><span><strong>媒体:</strong>证券日报网</span></p><p>&ensp;&ensp;&ensp;&ensp;本报讯 （记者梁傲男）9月21日，&ldquo;国<em>台</em>元宇宙&middot;启元&rdquo;在中国酒类TOP达人吴一快手直播间，正式上市销售，并取得了上线半小时销售超百万元的成绩。国<em>台</em>供图&ensp;&ensp;&ensp;&ensp;&ldquo;国<em>台</em>元宇宙&middot;启元&rdquo;是中国白酒行业第一款元宇宙主题产品。国<em>台</em>元宇宙&middot;启元酒以<em>贵</em><em>州</em>国<em>台</em>数智酒业集团股份有限公司（以下简称&ldquo;国<em>台</em>&rdquo;）智能酿造的创新技术为基础，又融合了元宇宙的概念、体验与价值，创造了新的酒饮体验。&ensp;&ensp;&ensp;&ensp;2024年，国<em>台</em>打造出中国白酒行业第一家元宇宙体验平<em>台</em>&mdash;&mdash;国<em>台</em>元宇宙体验馆。国<em>台</em>通过VR技术复刻<em>茅</em><em>台</em>镇产区环境、模拟酿酒工艺全过程，让人在虚拟空间中沉浸式体验正...... </p></dd><dt><a href=\"http://www.zqrb.cn/gscy/qiyexinxi/2025-09-22/A1758531062888.html\" target=\"_blank\"><h4>9 <em>贵</em><em>州</em><em>茅</em><em>台</em>生物科技研发有限责任公司成立</h4></a></dt><dd><p class=\"field-info text-error\"><span><strong>作者:</strong>袁传玺</span><span><strong>时间:</strong>2025年09月22日</span><span><strong>栏目:</strong>企业信息</span><span><strong>媒体:</strong>证券日报网</span></p><p>&ensp;&ensp;&ensp;&ensp;本报讯 （记者袁传玺）天眼查工商信息显示，近日，<em>贵</em><em>州</em><em>茅</em><em>台</em>生物科技研发有限责任公司成立，注册资本10亿元，经营范围含工程和技术研究和试验发展、生物化工产品技术研发、发酵过程优化技术研发、工业酶制剂研发等。股东信息显示，该公司由中国<em>贵</em><em>州</em><em>茅</em><em>台</em>酒厂（集团）有限责任公司、<em>贵</em><em>州</em><em>茅</em><em>台</em>共同持股。（编辑 张文玲 张伟）...... </p></dd><dt><a href=\"http://www.zqrb.cn/stock/zuixinbobao/2025-09-18/A1758159528242.html\" target=\"_blank\"><h4>10 开盘：沪指跌0.01%，创业板指跌0.88，<em>贵</em>金属及消费电子概念股普跌</h4></a></dt><dd><p class=\"field-info text-error\"><span><strong>作者:</strong></span><span><strong>时间:</strong>2025年09月18日</span><span><strong>栏目:</strong>最新播报</span><span><strong>媒体:</strong>金融界</span></p><p>&ensp;&ensp;&ensp;&ensp;9月18日，周四，A股集体低开，沪指跌0.01%报3876.06点，深成指跌0.41%报13161.15点，创业板指跌0.88报3119.77点，科创50指数涨1.1%，报1385.5点。<em>贵</em>金属、消费电子、CPO等板块指数跌幅居前。<em>贵</em>金属板块低开，西部黄金、晓程科技低开超5%，四川黄金、湖南白银、赤峰黄金跟跌；寒武纪高开4%股价重回1500元关口，再次超越<em>贵</em><em>州</em><em>茅</em><em>台</em>。&ensp;&ensp;&ensp;&ensp;盘面上，市场焦点股天普股份（11板）竞价涨停，机器人概念股首开股份（11天10板）高开5.59%、上海建工（4板）高开0.28%、万向钱潮（3板）高开5.92%，低价股山子高科（4板）高开8.11%、荣盛发展（4板）高开0.50%，纺织股泰慕士（3板）竞价涨停，算力板块罗曼股份（5天3板）低开0.08%、科博达（2板）竞价涨停，智能驾...... </p></dd><dt><a href=\"http://www.zqrb.cn/shipin/shipinhangye/2025-09-18/A1758171850345.html\" target=\"_blank\"><h4>11 <em>贵</em><em>州</em>酱酒行业分化加速 长远发展前景广阔</h4></a></dt><dd><p class=\"field-info text-error\"><span><strong>作者:</strong>梁傲男</span><span><strong>时间:</strong>2025年09月18日</span><span><strong>栏目:</strong>食品行业</span><span><strong>媒体:</strong>证券日报网</span></p><p>&ensp;&ensp;&ensp;&ensp;本报讯 （记者梁傲男）2025年上半年，酱酒产业表现如何？&ensp;&ensp;&ensp;&ensp;上半年，<em>贵</em><em>州</em><em>茅</em><em>台</em>酒股份有限公司依旧是一枝独秀，但是营收同比增速有所下滑。<em>贵</em><em>州</em>习酒投资控股集团有限责任公司的策略依旧是保持稳健，保持战略定力。&ensp;&ensp;&ensp;&ensp;<em>贵</em><em>州</em>国<em>台</em>数智酒业集团股份有限公司上半年营收约20亿元，作为<em>贵</em><em>州</em>酱酒的重要力量，其表现进一步印证了酱酒行业分化的加剧。在行业调整期内，公司依然保持了一定的市场规模，展现出品牌的基本盘韧性。&ensp;&ensp;&ensp;&ensp;珍酒李渡集团有限公司正在通过一系列产品端、渠道端、战略端的相应举措应对行业调整，代表了酱酒第二梯队企业的典型应对策略，通过产品创新、渠道变革和战略多元化来应对行业挑战。&ensp;&ensp;&ensp;&ensp;调整仍在...... </p></dd><dt><a href=\"http://epaper.zqrb.cn/html/2025-09/15/content_1182488.htm\" target=\"_blank\"><h4>12 甲骨文靠“卖铲子”出圈折射科技产业深层变革</h4></a></dt><dd><p class=\"field-info text-error\"><span><strong>作者:</strong></span><span><strong>时间:</strong>2025年09月15日</span><span><strong>栏目:</strong>A4</span><span><strong>媒体:</strong>证券日报电子报</span></p><p>\\u3000\\u3000■李春莲\\u3000\\u3000近日，AI领域再次出现标志性事件。美国当地时间9月10日，科技巨头甲骨文股价暴涨36%，创下1992年以来最大单日涨幅，股价达历史新高，公司市值更是达到9200亿美元。尽管随后甲骨文股价有所回落，但仍旧在市场引发热议。\\u3000\\u3000在美股，甲骨文股价的火热表现，实则是其长期布局AI算力基础设施的必然结果。而若将目光转向A股，前不久寒武纪股价大涨，曾短暂取代<em>贵</em><em>州</em><em>茅</em><em>台</em>成为A股“股王”。两个案例相互呼应，本质上是全球产业变革在不同区域的同频共振，折射出全球科技产业的深层变革。\\u3000\\u3000第一，AI重塑产业格局，云计算与基础设施成为核心竞争力。\\u3000\\u3000甲骨文此次股价飙升的核心动力源于其云计算业务的爆发。财报显示，甲骨文2026财年第一财季云收入同比增长28%至71.86亿美元，占总营收近半，且剩余履约义务（即已签订但尚未确认的收入）飙升至4550亿美元，其中新增订单主要来自OpenAI、xAI等AI巨头...... </p></dd><dt><a href=\"http://www.zqrb.cn/gscy/gongsi/2025-09-14/A1757756652942.html\" target=\"_blank\"><h4>13 中沁控股与国<em>台</em>达成战略合作</h4></a></dt><dd><p class=\"field-info text-error\"><span><strong>作者:</strong>梁傲男</span><span><strong>时间:</strong>2025年09月14日</span><span><strong>栏目:</strong>上市公司</span><span><strong>媒体:</strong>证券日报网</span></p><p>&ensp;&ensp;&ensp;&ensp;本报讯 （记者梁傲男）9月11日，中沁控股（浙江）有限公司（以下简称&ldquo;中沁控股&rdquo;）与<em>贵</em><em>州</em>国<em>台</em>数智酒业集团股份有限公司（以下简称&ldquo;国<em>台</em>&rdquo;）达成战略合作，在上海正式签订7000万元白酒销售合同。双方将在品牌定制、数字营销、供应链优化等多个维度展开深度合作，共同探索&ldquo;产业+资本&rdquo;的创新商业模式，为消费行业发展注入新动能。此举也标志着国<em>台</em>&ldquo;厂商同心、共创共享、尊享愉悦、长期共赢&rdquo;的合作发展理念获得越来越多认可，&ldquo;国<em>台</em>通之商道&rdquo;商业生态进一步得到壮大与完善。&ensp;&ensp;&ensp;&ensp;在&ldquo;携手国<em>台</em>，沪上启航&rdquo;战略合作签约仪式上，中沁控股总经理刘沁灵表示，国<em>台</em>是<em>茅</em><em>台</em>镇第二大酿酒企业。二十多年来...... </p></dd><dt><a href=\"http://www.zqrb.cn/review/chanjingpinglun/2025-09-14/A1757756652968.html\" target=\"_blank\"><h4>14 甲骨文靠“卖铲子”出圈折射科技产业深层变革</h4></a></dt><dd><p class=\"field-info text-error\"><span><strong>作者:</strong>李春莲</span><span><strong>时间:</strong>2025年09月14日</span><span><strong>栏目:</strong>产经评论</span><span><strong>媒体:</strong>证券日报</span></p><p>&ensp;&ensp;&ensp;&ensp;■李春莲&ensp;&ensp;&ensp;&ensp;近日，AI领域再次出现标志性事件。美国当地时间9月10日，科技巨头甲骨文股价暴涨36%，创下1992年以来最大单日涨幅，股价达历史新高，公司市值更是达到9200亿美元。尽管随后甲骨文股价有所回落，但仍旧在市场引发热议。&ensp;&ensp;&ensp;&ensp;在美股，甲骨文股价的火热表现，实则是其长期布局AI算力基础设施的必然结果。而若将目光转向A股，前不久寒武纪股价大涨，曾短暂取代<em>贵</em><em>州</em><em>茅</em><em>台</em>成为A股&ldquo;股王&rdquo;。两个案例相互呼应，本质上是全球产业变革在不同区域的同频共振，折射出全球科技产业的深层变革。&ensp;&ensp;&ensp;&ensp;第一，AI重塑产业格局，云计算与基础设施成为核心竞争力。&ensp;&ensp;&ensp;&ensp;甲骨文此次股...... </p></dd><dt><a href=\"http://www.zqrb.cn/gscy/gongsi/2025-09-08/A1757314940156.html\" target=\"_blank\"><h4>15 主动运用政策工具进行市值管理 <em>茅</em><em>台</em>集团获最高27亿元增持贷款支持</h4></a></dt><dd><p class=\"field-info text-error\"><span><strong>作者:</strong>冯雨瑶</span><span><strong>时间:</strong>2025年09月08日</span><span><strong>栏目:</strong>上市公司</span><span><strong>媒体:</strong>证券日报网</span></p><p>&ensp;&ensp;&ensp;&ensp;本报讯 （记者冯雨瑶）近日，<em>贵</em><em>州</em><em>茅</em><em>台</em>酒股份有限公司（以下简称&ldquo;<em>贵</em><em>州</em><em>茅</em><em>台</em>&rdquo;）发布公告称，公司控股股东中国<em>贵</em><em>州</em><em>茅</em><em>台</em>酒厂（集团）有限责任公司（以下简称&ldquo;<em>茅</em><em>台</em>集团&rdquo;）已获得中国农业银行股份有限公司<em>贵</em><em>州</em>省分行出具的贷款承诺函，承诺对<em>茅</em><em>台</em>集团股票增持事项提供贷款支持，贷款额度不高于人民币27亿元。&ensp;&ensp;&ensp;&ensp;公告显示，<em>茅</em><em>台</em>集团基于对公司长期价值的认可和未来发展的信心，计划自增持计划公告发布之日起6个月内，通过集中竞价交易方式增持公司股票，拟增持金额不低于人民币30亿元（含）且不高于人民币33亿元（含）。<em>茅</em><em>台</em>集团获农行<em>贵</em><em>州</em>省分行不超过27亿元贷款承诺函，用于支持不低于30亿元增持计划。&ensp;&ensp;&ensp;&ensp;这是股票回购增持再贷款政策于2024年10...... </p></dd> </dl> </div></div><div class=\"pagination pagination-centered\"><ul><li><a href=\"http://search.zqrb.cn/search.php?src=all&q=%E8%B4%B5%E5%B7%9E%E8%8C%85%E5%8F%B0&f=_all&s=newsdate_DESC&p=1\">1</a></li><li><a href=\"http://search.zqrb.cn/search.php?src=all&q=%E8%B4%B5%E5%B7%9E%E8%8C%85%E5%8F%B0&f=_all&s=newsdate_DESC&p=2\">2</a></li><li><a href=\"http://search.zqrb.cn/search.php?src=all&q=%E8%B4%B5%E5%B7%9E%E8%8C%85%E5%8F%B0&f=_all&s=newsdate_DESC&p=3\">3</a></li><li><a href=\"http://search.zqrb.cn/search.php?src=all&q=%E8%B4%B5%E5%B7%9E%E8%8C%85%E5%8F%B0&f=_all&s=newsdate_DESC&p=4\">4</a></li><li><a href=\"http://search.zqrb.cn/search.php?src=all&q=%E8%B4%B5%E5%B7%9E%E8%8C%85%E5%8F%B0&f=_all&s=newsdate_DESC&p=5\">5</a></li><li><a href=\"http://search.zqrb.cn/search.php?src=all&q=%E8%B4%B5%E5%B7%9E%E8%8C%85%E5%8F%B0&f=_all&s=newsdate_DESC&p=6\">6</a></li><li><a href=\"http://search.zqrb.cn/search.php?src=all&q=%E8%B4%B5%E5%B7%9E%E8%8C%85%E5%8F%B0&f=_all&s=newsdate_DESC&p=7\">7</a></li><li><a href=\"http://search.zqrb.cn/search.php?src=all&q=%E8%B4%B5%E5%B7%9E%E8%8C%85%E5%8F%B0&f=_all&s=newsdate_DESC&p=8\">8</a></li><li><a href=\"http://search.zqrb.cn/search.php?src=all&q=%E8%B4%B5%E5%B7%9E%E8%8C%85%E5%8F%B0&f=_all&s=newsdate_DESC&p=9\">9</a></li><li><a href=\"http://search.zqrb.cn/search.php?src=all&q=%E8%B4%B5%E5%B7%9E%E8%8C%85%E5%8F%B0&f=_all&s=newsdate_DESC&p=10\">10</a></li></div> </div>\\n\\t<footer>\\n  <div class=\"container\">\\n\\n  </div>\\n</footer>\\n<script type=\"text/javascript\" src=\"http://apps.bdimg.com/libs/jquery/1.6.2/jquery.min.js\"></script>\\n<script type=\"text/javascript\" src=\"http://apps.bdimg.com/libs/jqueryui/1.10.4/jquery-ui.min.js\"></script>\\n<script type=\"text/javascript\">\\n$(function(){\\n\\t// input tips\\n\\t$(\\'#q-input .search-query\\').focus(function(){\\n\\t\\tif ($(this).val() == $(this).attr(\\'title\\')) {\\n\\t\\t\\t$(this).val(\\'\\').removeClass(\\'tips\\');\\n\\t\\t}\\n\\t}).blur(function(){\\n\\t\\tif ($(this).val() == \\'\\' || $(this).val() == $(this).attr(\\'title\\')) {\\n\\t\\t\\t$(this).addClass(\\'tips\\').val($(this).attr(\\'title\\'));\\n\\t\\t}\\n\\t}).blur().autocomplete({\\n\\t\\t\\'source\\':\\'suggest.php\\',\\n\\t\\t\\'select\\':function(ev,ui) {\\n\\t\\t\\t$(\\'#q-input .search-query\\').val(ui.item.label);\\n\\t\\t\\t$(\\'#q-form\\').submit();\\n\\t\\t}\\n\\t});\\n\\t// submit check\\n\\t$(\\'#q-form\\').submit(function(){\\n\\t\\tvar  = $(\\'#q-input .search-query\\');\\n\\t\\tif (.val() == .attr(\\'title\\')) {\\n\\t\\t\\talert(\\'请先输入关键词\\');\\n\\t\\t\\t.focus();\\n\\t\\t\\treturn false;\\n\\t\\t}\\n\\t});\\n});\\n</script>\\n</body>\\n</html>'"
      ]
     },
     "execution_count": 8,
     "metadata": {},
     "output_type": "execute_result"
    }
   ],
   "source": [
    "res"
   ]
  },
  {
   "cell_type": "code",
   "execution_count": 9,
   "id": "b5dd4dc1",
   "metadata": {},
   "outputs": [],
   "source": [
    "soup = BeautifulSoup(res, 'html.parser')"
   ]
  },
  {
   "cell_type": "code",
   "execution_count": 10,
   "id": "075f6c7f",
   "metadata": {},
   "outputs": [
    {
     "data": {
      "text/plain": [
       "<!DOCTYPE html>\n",
       "\n",
       "<html lang=\"en\">\n",
       "<head>\n",
       "<meta content=\"text/html; charset=utf-8\" http-equiv=\"Content-Type\"/>\n",
       "<meta content=\"index,noarchive,nofollow,noodp\" name=\"googlebot\"/>\n",
       "<meta content=\"index,nofollow,noarchive,noodp\" name=\"robots\"/>\n",
       "<meta content=\"width=device-width, initial-scale=1.0, maximum-scale=1.0, user-scalable=no;\" name=\"viewport\"/>\n",
       "<meta content=\"yes\" name=\"apple-mobile-web-app-capable\"/>\n",
       "<meta content=\"black\" name=\"apple-mobile-web-app-status-bar-style\"/>\n",
       "<title>证券日报网</title>\n",
       "<meta content=\"Fulltext Search Engine Zqrb_search xunsearch\" http-equiv=\"keywords\">\n",
       "<meta content=\"Fulltext Search for Zqrb_search, Powered by xunsearch/1.4.11 \" http-equiv=\"description\">\n",
       "<link href=\"css/bootstrap.css\" rel=\"stylesheet\" type=\"text/css\"/>\n",
       "<link href=\"css/style.css\" rel=\"stylesheet\" type=\"text/css\"/>\n",
       "<link href=\"http://apps.bdimg.com/libs/jqueryui/1.8.16/themes/redmond/jquery-ui.css\" media=\"all\" rel=\"stylesheet\" type=\"text/css\"/>\n",
       "<!--[if lt IE 9]>\n",
       "<script src=\"http://html5shiv.googlecode.com/svn/trunk/html5.js\"></script>\n",
       "<![endif]-->\n",
       "<!--[if lte IE 6]>\n",
       "<link rel=\"stylesheet\" type=\"text/css\" href=\"css/bootstrap-ie6.css\" />\n",
       "<link rel=\"stylesheet\" type=\"text/css\" href=\"css/ie.css\" />\n",
       "<![endif]-->\n",
       "<style>\n",
       ".popup a{position:absolute;text-decoration:none;}\n",
       ".popup a:hover{text-decoration:none;background:none;}\n",
       ".popup span{display:none;}\n",
       ".popup a:hover span{display:block;top:228px;left:302px; width:200px; height:80px; relative:absolute;padding:10px;border:none;}\n",
       "</style>\n",
       "</meta></meta></head>\n",
       "<!-- search.tpl Zqrb_search 搜索模板 -->\n",
       "<body>\n",
       "<div class=\"container\">\n",
       "<div class=\"row\">\n",
       "<!-- search form -->\n",
       "<div class=\"span12\">\n",
       "<h1><a href=\"/search.php\"><img height=\"42\" src=\"http://www.zqrb.cn/zqrb_index/images/logoyeshou.jpg\" width=\"160\"/></a></h1>\n",
       "<form class=\"form-search\" id=\"q-form\" method=\"get\">\n",
       "<div class=\"input-append\" id=\"q-input\">\n",
       "<select name=\"src\" style=\"width:auto;border-radius:14px;\">\n",
       "<option \"=\"\" selected=\"selected\" value=\"all\">全部</option>\n",
       "<option \"=\"\" value=\"news\">新闻</option>\n",
       "<option \"=\"\" value=\"epaper\">电子报</option>\n",
       "</select>\n",
       "<input class=\"span6 search-query\" name=\"q\" title=\"输入任意关键词皆可搜索\" type=\"text\" value=\"贵州茅台 \"/>\n",
       "<button class=\"btn\" style=\"vertical-align:bottom;\" type=\"submit\">搜索</button>\n",
       "<span class=\"popup\">\n",
       "<a href=\"#\" style=\"position:relative; width:90px; height:30px; font-size:20px; text-align:left\">\n",
       "<img heigth=\"20\" src=\"./img/question.png\" style=\"margin-left:10px;vertical-align:bottom;\" width=\"20\"/>\n",
       "<span style=\"position:absolute; top:-10px; left:60px;width:495px; height:80px; font-size:14px; background-color:#f2f2f2; color:#000\">\n",
       "\t\t\t\t          搜索技巧<br/>\n",
       "\t\t\t\t\t\t  如想搜索“证券日报”但是不想搜索结果中有“基金”，请输入“证券日报 -基金”<br/>\n",
       "如不确定搜索的关键词，请使用模糊搜索<br/>\n",
       "如不确定关键词的位置，请使用全文搜索<br/>\n",
       "</span>\n",
       "</a>\n",
       "<p class=\"result\">大约有<b>4,352</b>项符合查询结果。（搜索耗时：0.015982秒）\n",
       "  </p></span>\n",
       "</div>\n",
       "<div class=\"condition\" id=\"q-options\">\n",
       "<label class=\"radio inline\"><input name=\"f\" type=\"radio\" value=\"title\">标题</input></label>\n",
       "<label class=\"radio inline\"><input name=\"f\" type=\"radio\" value=\"author_name\"/>作者</label>\n",
       "<label class=\"radio inline\">\n",
       "<input checked=\"\" name=\"f\" type=\"radio\" value=\"_all\"/>全文\n",
       "          </label>\n",
       "<label class=\"checkbox inline\">\n",
       "<input name=\"m\" type=\"checkbox\" value=\"yes\"/>模糊搜索\n",
       "          </label>\n",
       "          \n",
       "          按\n",
       "          <select name=\"s\" size=\"1\">\n",
       "<option selected=\"selected\" value=\"newsdate_DESC\">时间-降序</option>\n",
       "<option value=\"relevance\">相关性</option>\n",
       "</select>\n",
       "          排序\n",
       "\t\t</div>\n",
       "</form>\n",
       "</div>\n",
       "<div class=\"span12\"> <dl class=\"result-list\"><dt><a href=\"http://www.zqrb.cn/gscy/gongsi/2025-09-29/A1759146241623.html\" target=\"_blank\"><h4>1 <em>茅</em><em>台</em>酒市场逆势回暖  释放了什么信号？</h4></a></dt><dd><p class=\"field-info text-error\"><span><strong>作者:</strong>冯雨瑶</span><span><strong>时间:</strong>2025年09月29日</span><span><strong>栏目:</strong>上市公司</span><span><strong>媒体:</strong>证券日报网</span></p><p>    本报记者 冯雨瑶    临近中秋、国庆“双节”旺季，<em>茅</em><em>台</em>酒市场呈现明显的回暖迹象。9月29日，记者从北京、郑<em>州</em>、重庆等多家<em>贵</em><em>州</em><em>茅</em><em>台</em>专卖店了解到，目前53度500ml飞天<em>茅</em><em>台</em>酒的市场需求量回升，单瓶的价格大约在1800元/瓶至1900元/瓶不等。    “现在买<em>茅</em><em>台</em>酒的人比平常要多点，店里日销售量也多了些。”位于北京的一家专卖店内的工作人员向《证券日报》记者如是说。    不仅“双节”旺销，<em>茅</em><em>台</em>酒市场的回暖其实早有迹可循。9月16日，华创证券就曾发布研报表示，<em>茅</em><em>台</em>酒动销在7月份呈现边际好转态势，8月份终端环比增长约15%至35%。白酒行业分析师、武汉京魁科...... </p></dd><dt><a href=\"http://www.zqrb.cn/shipin/shipinhangye/2025-09-27/A1758901387553.html\" target=\"_blank\"><h4>2 9月份动销环比翻倍增长、同比增长超20%  <em>茅</em><em>台</em>“秋收行动”传递回暖强信号</h4></a></dt><dd><p class=\"field-info text-error\"><span><strong>作者:</strong></span><span><strong>时间:</strong>2025年09月27日</span><span><strong>栏目:</strong>食品行业</span><span><strong>媒体:</strong>证券日报网</span></p><p>    在行业承压的最近几个月，市场的种种迹象显示：<em>茅</em><em>台</em>酒已率先跨过了突发性场景中断的这道难关。    近期，结合市场调研和多地经销商的反馈，在“双节”效应的催化下，<em>茅</em><em>台</em>酒9月份市场端的动销数据大幅度地反弹：环比增长约一倍，同比增长超20%；与此同时，经销商的“存销比”下降五成，处于良好的水平。显然，这份“两增一降”的业绩数据充分印证：第一，<em>茅</em><em>台</em>酒的市场需求逻辑没有改变；第二，<em>茅</em><em>台</em>酒“4+6”的渠道体系具有强大韧性；第三，表明了<em>茅</em><em>台</em>的“三个转型”战略在市场实践中卓有成效。    从局部到整体    释放回暖的强信号...... </p></dd><dt><a href=\"http://www.zqrb.cn/review/gushireping/2025-09-26/A1758790044671.html\" target=\"_blank\"><h4>3 A股市值格局变化折射出三大新趋势</h4></a></dt><dd><p class=\"field-info text-error\"><span><strong>作者:</strong>苏向杲</span><span><strong>时间:</strong>2025年09月26日</span><span><strong>栏目:</strong>股市热评</span><span><strong>媒体:</strong>证券日报</span></p><p>    ■苏向杲    9月25日，宁德时代股价盘中突破400元整数关口，总市值一度超越<em>贵</em><em>州</em><em>茅</em><em>台</em>，引发市场广泛关注。今年以来，A股科技板块持续活跃，而部分传统行业板块表现相对平淡，不同板块之间的市值呈现“此消彼长”态势，持续重塑着市场结构。    近日，中国证监会主席吴清在国新办新闻发布会上指出，目前A股科技板块市值占比超过1/4，已明显高于银行、非银金融、房地产行业市值合计占比。市值前50名公司中科技企业从“十三五”末的18家提升至当前的24家。    笔者认为，A股市场市值格局的演变，清晰反映了我国经济转型的路径。进一步看，这一变化折射出三大新趋势。  &amp;ens...... </p></dd><dt><a href=\"http://epaper.zqrb.cn/html/2025-09/26/content_1185470.htm\" target=\"_blank\"><h4>4 今日视点：A股市值格局变化折射出三大新趋势</h4></a></dt><dd><p class=\"field-info text-error\"><span><strong>作者:</strong></span><span><strong>时间:</strong>2025年09月26日</span><span><strong>栏目:</strong>A1</span><span><strong>媒体:</strong>证券日报电子报</span></p><p>　　■苏向杲　　9月25日，宁德时代股价盘中突破400元整数关口，总市值一度超越<em>贵</em><em>州</em><em>茅</em><em>台</em>，引发市场广泛关注。今年以来，A股科技板块持续活跃，而部分传统行业板块表现相对平淡，不同板块之间的市值呈现“此消彼长”态势，持续重塑着市场结构。　　近日，中国证监会主席吴清在国新办新闻发布会上指出，目前A股科技板块市值占比超过1/4，已明显高于银行、非银金融、房地产行业市值合计占比。市值前50名公司中科技企业从“十三五”末的18家提升至当前的24家。　　笔者认为，A股市场市值格局的演变，清晰反映了我国经济转型的路径。进一步看，这一变化折射出三大新趋势。　　其一，科技革命成为驱动增长的新引擎。　　以往，金融、地产和传统资源类企业是市场的市值支柱，其高占比反映出投资拉动的增长模式。当前，科技板块市值占比持续提升，新能源、人工智能、生物医药等新兴产业公司市值快速攀升，标志着中国经济正加速转向创新驱动。这一转变...... </p></dd><dt><a href=\"http://www.zqrb.cn/gscy/qiyexinxi/2025-09-26/A1758875478253.html\" target=\"_blank\"><h4>5 <em>贵</em><em>州</em><em>茅</em><em>台</em>酒秋季十六省市场调研在青海收官</h4></a></dt><dd><p class=\"field-info text-error\"><span><strong>作者:</strong></span><span><strong>时间:</strong>2025年09月26日</span><span><strong>栏目:</strong>企业信息</span><span><strong>媒体:</strong>证券日报网</span></p><p>    9月25日，<em>茅</em><em>台</em>集团党委副书记、总经理王莉率队深入青海市场一线调研，并在西宁组织召开青甘新藏四省区<em>贵</em><em>州</em><em>茅</em><em>台</em>酒市场营销座谈会，与渠道商面对面深入交流，共商市场动态、共探发展机遇，进一步凝聚可持续高质量发展共识。<em>贵</em><em>州</em><em>茅</em><em>台</em>公益基金会理事长卓玛才让参加。        此次座谈会标志着自今年8月底启动的<em>贵</em><em>州</em><em>茅</em><em>台</em>酒秋季市场调研圆满收官。在一个月的时间内，王莉率队深入华东、西南、东北、华北、西北市场一线，并先后在扬<em>州</em>、重庆、长春、北京、西宁组织召开了共16个省区的<em>贵</em><em>州</em><em>茅</em><em>台</em>酒市场营销座谈会，与全国300余家渠道商展开深度对话，围绕新形势下白酒行业趋势、<em>茅</em><em>台</em>酒市场现状及潜在机遇展开全方位探讨。这一系列高密度、广覆盖的调研活动，不仅彰显了<em>茅</em><em>台</em>对市场一线的高度关注，更传递出<em>茅</em><em>台</em>与渠道...... </p></dd><dt><a href=\"http://www.zqrb.cn/stock/zuixinbobao/2025-09-25/A1758771410384.html\" target=\"_blank\"><h4>6 午评：创业板指半日大涨2.22%，宁德时代再创新高</h4></a></dt><dd><p class=\"field-info text-error\"><span><strong>作者:</strong></span><span><strong>时间:</strong>2025年09月25日</span><span><strong>栏目:</strong>最新播报</span><span><strong>媒体:</strong>新浪财经</span></p><p>    三大指数早盘集体上涨，截至午盘，上证指数涨0.16%，深成指涨1.14%，创业板指涨2.22%，北证50跌0.04%。沪深京三市半日成交额15558亿元，较上日放量1355亿元。全市场2000只个股上涨。    板块题材方面，游戏、电商、视频等AI应用、可控核聚变、有色金属、铜缆高速连接等算力硬件股领涨；<em>贵</em>金属、港口航运、燃气、旅游及酒店、房地产、物流、银行板块跌幅居前。盘面上，游戏、电商、视频等AI应用集体爆发，昆仑万维大涨10%，壹网壹创、天下秀涨停。受消息面影响，有色金属板块集体走高，铜方向领涨，北方铜业、精艺股份、洛阳钼业封死涨停。铜缆高速连接等算力硬件股盘中拉升，新亚电子、浪潮信息涨停。此外，可控核聚变、电池板块均有异动，宁德时代盘中总市值超越<em>贵</em><em>州</em><em>茅</em><em>台</em>。港口航运板块多数调整，南京港、宁波远洋、...... </p></dd><dt><a href=\"http://www.zqrb.cn/gscy/gongsi/2025-09-25/A1758775785170.html\" target=\"_blank\"><h4>7 A股历史一刻！宁德时代总市值超越<em>贵</em><em>州</em><em>茅</em><em>台</em></h4></a></dt><dd><p class=\"field-info text-error\"><span><strong>作者:</strong>李婷 冯雨瑶</span><span><strong>时间:</strong>2025年09月25日</span><span><strong>栏目:</strong>上市公司</span><span><strong>媒体:</strong>证券日报网</span></p><p>    本报记者 李婷 冯雨瑶    A股历史性一刻！    记者注意到，截至9月25日上午收盘时间，宁德时代A股最新市值为1.82万亿元，<em>贵</em><em>州</em><em>茅</em><em>台</em>最新市值为1.80万亿元。宁德时代A股市值暂时超越<em>贵</em><em>州</em><em>茅</em><em>台</em>。    这一历史性事件，折射了A股市场怎样的变化？    “宁德时代A股市值超过<em>贵</em><em>州</em><em>茅</em><em>台</em>，反映出目前市场的方向在变化。”财经评论员、鲸平<em>台</em>智库专家郭施亮对《证券日报》记者表示，<em>贵</em><em>州</em><em>茅</em><em>台</em>代表着消费股，而消费股的走势跟随着CPI（消费者物价指数）的变化，目前CPI尚处于筑底的阶段，<em>贵</em><em>州</em><em>茅</em><em>台</em>等消费股还没有形成上涨催化剂。    福建...... </p></dd><dt><a href=\"http://www.zqrb.cn/shipin/shipinhangye/2025-09-23/A1758591090099.html\" target=\"_blank\"><h4>8 首款元宇宙主题白酒“国<em>台</em>元宇宙·启元”上市热销</h4></a></dt><dd><p class=\"field-info text-error\"><span><strong>作者:</strong>梁傲男</span><span><strong>时间:</strong>2025年09月23日</span><span><strong>栏目:</strong>食品行业</span><span><strong>媒体:</strong>证券日报网</span></p><p>    本报讯 （记者梁傲男）9月21日，“国<em>台</em>元宇宙·启元”在中国酒类TOP达人吴一快手直播间，正式上市销售，并取得了上线半小时销售超百万元的成绩。国<em>台</em>供图    “国<em>台</em>元宇宙·启元”是中国白酒行业第一款元宇宙主题产品。国<em>台</em>元宇宙·启元酒以<em>贵</em><em>州</em>国<em>台</em>数智酒业集团股份有限公司（以下简称“国<em>台</em>”）智能酿造的创新技术为基础，又融合了元宇宙的概念、体验与价值，创造了新的酒饮体验。    2024年，国<em>台</em>打造出中国白酒行业第一家元宇宙体验平<em>台</em>——国<em>台</em>元宇宙体验馆。国<em>台</em>通过VR技术复刻<em>茅</em><em>台</em>镇产区环境、模拟酿酒工艺全过程，让人在虚拟空间中沉浸式体验正...... </p></dd><dt><a href=\"http://www.zqrb.cn/gscy/qiyexinxi/2025-09-22/A1758531062888.html\" target=\"_blank\"><h4>9 <em>贵</em><em>州</em><em>茅</em><em>台</em>生物科技研发有限责任公司成立</h4></a></dt><dd><p class=\"field-info text-error\"><span><strong>作者:</strong>袁传玺</span><span><strong>时间:</strong>2025年09月22日</span><span><strong>栏目:</strong>企业信息</span><span><strong>媒体:</strong>证券日报网</span></p><p>    本报讯 （记者袁传玺）天眼查工商信息显示，近日，<em>贵</em><em>州</em><em>茅</em><em>台</em>生物科技研发有限责任公司成立，注册资本10亿元，经营范围含工程和技术研究和试验发展、生物化工产品技术研发、发酵过程优化技术研发、工业酶制剂研发等。股东信息显示，该公司由中国<em>贵</em><em>州</em><em>茅</em><em>台</em>酒厂（集团）有限责任公司、<em>贵</em><em>州</em><em>茅</em><em>台</em>共同持股。（编辑 张文玲 张伟）...... </p></dd><dt><a href=\"http://www.zqrb.cn/stock/zuixinbobao/2025-09-18/A1758159528242.html\" target=\"_blank\"><h4>10 开盘：沪指跌0.01%，创业板指跌0.88，<em>贵</em>金属及消费电子概念股普跌</h4></a></dt><dd><p class=\"field-info text-error\"><span><strong>作者:</strong></span><span><strong>时间:</strong>2025年09月18日</span><span><strong>栏目:</strong>最新播报</span><span><strong>媒体:</strong>金融界</span></p><p>    9月18日，周四，A股集体低开，沪指跌0.01%报3876.06点，深成指跌0.41%报13161.15点，创业板指跌0.88报3119.77点，科创50指数涨1.1%，报1385.5点。<em>贵</em>金属、消费电子、CPO等板块指数跌幅居前。<em>贵</em>金属板块低开，西部黄金、晓程科技低开超5%，四川黄金、湖南白银、赤峰黄金跟跌；寒武纪高开4%股价重回1500元关口，再次超越<em>贵</em><em>州</em><em>茅</em><em>台</em>。    盘面上，市场焦点股天普股份（11板）竞价涨停，机器人概念股首开股份（11天10板）高开5.59%、上海建工（4板）高开0.28%、万向钱潮（3板）高开5.92%，低价股山子高科（4板）高开8.11%、荣盛发展（4板）高开0.50%，纺织股泰慕士（3板）竞价涨停，算力板块罗曼股份（5天3板）低开0.08%、科博达（2板）竞价涨停，智能驾...... </p></dd><dt><a href=\"http://www.zqrb.cn/shipin/shipinhangye/2025-09-18/A1758171850345.html\" target=\"_blank\"><h4>11 <em>贵</em><em>州</em>酱酒行业分化加速 长远发展前景广阔</h4></a></dt><dd><p class=\"field-info text-error\"><span><strong>作者:</strong>梁傲男</span><span><strong>时间:</strong>2025年09月18日</span><span><strong>栏目:</strong>食品行业</span><span><strong>媒体:</strong>证券日报网</span></p><p>    本报讯 （记者梁傲男）2025年上半年，酱酒产业表现如何？    上半年，<em>贵</em><em>州</em><em>茅</em><em>台</em>酒股份有限公司依旧是一枝独秀，但是营收同比增速有所下滑。<em>贵</em><em>州</em>习酒投资控股集团有限责任公司的策略依旧是保持稳健，保持战略定力。    <em>贵</em><em>州</em>国<em>台</em>数智酒业集团股份有限公司上半年营收约20亿元，作为<em>贵</em><em>州</em>酱酒的重要力量，其表现进一步印证了酱酒行业分化的加剧。在行业调整期内，公司依然保持了一定的市场规模，展现出品牌的基本盘韧性。    珍酒李渡集团有限公司正在通过一系列产品端、渠道端、战略端的相应举措应对行业调整，代表了酱酒第二梯队企业的典型应对策略，通过产品创新、渠道变革和战略多元化来应对行业挑战。    调整仍在...... </p></dd><dt><a href=\"http://epaper.zqrb.cn/html/2025-09/15/content_1182488.htm\" target=\"_blank\"><h4>12 甲骨文靠“卖铲子”出圈折射科技产业深层变革</h4></a></dt><dd><p class=\"field-info text-error\"><span><strong>作者:</strong></span><span><strong>时间:</strong>2025年09月15日</span><span><strong>栏目:</strong>A4</span><span><strong>媒体:</strong>证券日报电子报</span></p><p>　　■李春莲　　近日，AI领域再次出现标志性事件。美国当地时间9月10日，科技巨头甲骨文股价暴涨36%，创下1992年以来最大单日涨幅，股价达历史新高，公司市值更是达到9200亿美元。尽管随后甲骨文股价有所回落，但仍旧在市场引发热议。　　在美股，甲骨文股价的火热表现，实则是其长期布局AI算力基础设施的必然结果。而若将目光转向A股，前不久寒武纪股价大涨，曾短暂取代<em>贵</em><em>州</em><em>茅</em><em>台</em>成为A股“股王”。两个案例相互呼应，本质上是全球产业变革在不同区域的同频共振，折射出全球科技产业的深层变革。　　第一，AI重塑产业格局，云计算与基础设施成为核心竞争力。　　甲骨文此次股价飙升的核心动力源于其云计算业务的爆发。财报显示，甲骨文2026财年第一财季云收入同比增长28%至71.86亿美元，占总营收近半，且剩余履约义务（即已签订但尚未确认的收入）飙升至4550亿美元，其中新增订单主要来自OpenAI、xAI等AI巨头...... </p></dd><dt><a href=\"http://www.zqrb.cn/gscy/gongsi/2025-09-14/A1757756652942.html\" target=\"_blank\"><h4>13 中沁控股与国<em>台</em>达成战略合作</h4></a></dt><dd><p class=\"field-info text-error\"><span><strong>作者:</strong>梁傲男</span><span><strong>时间:</strong>2025年09月14日</span><span><strong>栏目:</strong>上市公司</span><span><strong>媒体:</strong>证券日报网</span></p><p>    本报讯 （记者梁傲男）9月11日，中沁控股（浙江）有限公司（以下简称“中沁控股”）与<em>贵</em><em>州</em>国<em>台</em>数智酒业集团股份有限公司（以下简称“国<em>台</em>”）达成战略合作，在上海正式签订7000万元白酒销售合同。双方将在品牌定制、数字营销、供应链优化等多个维度展开深度合作，共同探索“产业+资本”的创新商业模式，为消费行业发展注入新动能。此举也标志着国<em>台</em>“厂商同心、共创共享、尊享愉悦、长期共赢”的合作发展理念获得越来越多认可，“国<em>台</em>通之商道”商业生态进一步得到壮大与完善。    在“携手国<em>台</em>，沪上启航”战略合作签约仪式上，中沁控股总经理刘沁灵表示，国<em>台</em>是<em>茅</em><em>台</em>镇第二大酿酒企业。二十多年来...... </p></dd><dt><a href=\"http://www.zqrb.cn/review/chanjingpinglun/2025-09-14/A1757756652968.html\" target=\"_blank\"><h4>14 甲骨文靠“卖铲子”出圈折射科技产业深层变革</h4></a></dt><dd><p class=\"field-info text-error\"><span><strong>作者:</strong>李春莲</span><span><strong>时间:</strong>2025年09月14日</span><span><strong>栏目:</strong>产经评论</span><span><strong>媒体:</strong>证券日报</span></p><p>    ■李春莲    近日，AI领域再次出现标志性事件。美国当地时间9月10日，科技巨头甲骨文股价暴涨36%，创下1992年以来最大单日涨幅，股价达历史新高，公司市值更是达到9200亿美元。尽管随后甲骨文股价有所回落，但仍旧在市场引发热议。    在美股，甲骨文股价的火热表现，实则是其长期布局AI算力基础设施的必然结果。而若将目光转向A股，前不久寒武纪股价大涨，曾短暂取代<em>贵</em><em>州</em><em>茅</em><em>台</em>成为A股“股王”。两个案例相互呼应，本质上是全球产业变革在不同区域的同频共振，折射出全球科技产业的深层变革。    第一，AI重塑产业格局，云计算与基础设施成为核心竞争力。    甲骨文此次股...... </p></dd><dt><a href=\"http://www.zqrb.cn/gscy/gongsi/2025-09-08/A1757314940156.html\" target=\"_blank\"><h4>15 主动运用政策工具进行市值管理 <em>茅</em><em>台</em>集团获最高27亿元增持贷款支持</h4></a></dt><dd><p class=\"field-info text-error\"><span><strong>作者:</strong>冯雨瑶</span><span><strong>时间:</strong>2025年09月08日</span><span><strong>栏目:</strong>上市公司</span><span><strong>媒体:</strong>证券日报网</span></p><p>    本报讯 （记者冯雨瑶）近日，<em>贵</em><em>州</em><em>茅</em><em>台</em>酒股份有限公司（以下简称“<em>贵</em><em>州</em><em>茅</em><em>台</em>”）发布公告称，公司控股股东中国<em>贵</em><em>州</em><em>茅</em><em>台</em>酒厂（集团）有限责任公司（以下简称“<em>茅</em><em>台</em>集团”）已获得中国农业银行股份有限公司<em>贵</em><em>州</em>省分行出具的贷款承诺函，承诺对<em>茅</em><em>台</em>集团股票增持事项提供贷款支持，贷款额度不高于人民币27亿元。    公告显示，<em>茅</em><em>台</em>集团基于对公司长期价值的认可和未来发展的信心，计划自增持计划公告发布之日起6个月内，通过集中竞价交易方式增持公司股票，拟增持金额不低于人民币30亿元（含）且不高于人民币33亿元（含）。<em>茅</em><em>台</em>集团获农行<em>贵</em><em>州</em>省分行不超过27亿元贷款承诺函，用于支持不低于30亿元增持计划。    这是股票回购增持再贷款政策于2024年10...... </p></dd> </dl> </div></div><div class=\"pagination pagination-centered\"><ul><li><a href=\"http://search.zqrb.cn/search.php?src=all&amp;q=%E8%B4%B5%E5%B7%9E%E8%8C%85%E5%8F%B0&amp;f=_all&amp;s=newsdate_DESC&amp;p=1\">1</a></li><li><a href=\"http://search.zqrb.cn/search.php?src=all&amp;q=%E8%B4%B5%E5%B7%9E%E8%8C%85%E5%8F%B0&amp;f=_all&amp;s=newsdate_DESC&amp;p=2\">2</a></li><li><a href=\"http://search.zqrb.cn/search.php?src=all&amp;q=%E8%B4%B5%E5%B7%9E%E8%8C%85%E5%8F%B0&amp;f=_all&amp;s=newsdate_DESC&amp;p=3\">3</a></li><li><a href=\"http://search.zqrb.cn/search.php?src=all&amp;q=%E8%B4%B5%E5%B7%9E%E8%8C%85%E5%8F%B0&amp;f=_all&amp;s=newsdate_DESC&amp;p=4\">4</a></li><li><a href=\"http://search.zqrb.cn/search.php?src=all&amp;q=%E8%B4%B5%E5%B7%9E%E8%8C%85%E5%8F%B0&amp;f=_all&amp;s=newsdate_DESC&amp;p=5\">5</a></li><li><a href=\"http://search.zqrb.cn/search.php?src=all&amp;q=%E8%B4%B5%E5%B7%9E%E8%8C%85%E5%8F%B0&amp;f=_all&amp;s=newsdate_DESC&amp;p=6\">6</a></li><li><a href=\"http://search.zqrb.cn/search.php?src=all&amp;q=%E8%B4%B5%E5%B7%9E%E8%8C%85%E5%8F%B0&amp;f=_all&amp;s=newsdate_DESC&amp;p=7\">7</a></li><li><a href=\"http://search.zqrb.cn/search.php?src=all&amp;q=%E8%B4%B5%E5%B7%9E%E8%8C%85%E5%8F%B0&amp;f=_all&amp;s=newsdate_DESC&amp;p=8\">8</a></li><li><a href=\"http://search.zqrb.cn/search.php?src=all&amp;q=%E8%B4%B5%E5%B7%9E%E8%8C%85%E5%8F%B0&amp;f=_all&amp;s=newsdate_DESC&amp;p=9\">9</a></li><li><a href=\"http://search.zqrb.cn/search.php?src=all&amp;q=%E8%B4%B5%E5%B7%9E%E8%8C%85%E5%8F%B0&amp;f=_all&amp;s=newsdate_DESC&amp;p=10\">10</a></li></ul></div> </div>\n",
       "<footer>\n",
       "<div class=\"container\">\n",
       "</div>\n",
       "</footer>\n",
       "<script src=\"http://apps.bdimg.com/libs/jquery/1.6.2/jquery.min.js\" type=\"text/javascript\"></script>\n",
       "<script src=\"http://apps.bdimg.com/libs/jqueryui/1.10.4/jquery-ui.min.js\" type=\"text/javascript\"></script>\n",
       "<script type=\"text/javascript\">\n",
       "$(function(){\n",
       "\t// input tips\n",
       "\t$('#q-input .search-query').focus(function(){\n",
       "\t\tif ($(this).val() == $(this).attr('title')) {\n",
       "\t\t\t$(this).val('').removeClass('tips');\n",
       "\t\t}\n",
       "\t}).blur(function(){\n",
       "\t\tif ($(this).val() == '' || $(this).val() == $(this).attr('title')) {\n",
       "\t\t\t$(this).addClass('tips').val($(this).attr('title'));\n",
       "\t\t}\n",
       "\t}).blur().autocomplete({\n",
       "\t\t'source':'suggest.php',\n",
       "\t\t'select':function(ev,ui) {\n",
       "\t\t\t$('#q-input .search-query').val(ui.item.label);\n",
       "\t\t\t$('#q-form').submit();\n",
       "\t\t}\n",
       "\t});\n",
       "\t// submit check\n",
       "\t$('#q-form').submit(function(){\n",
       "\t\tvar  = $('#q-input .search-query');\n",
       "\t\tif (.val() == .attr('title')) {\n",
       "\t\t\talert('请先输入关键词');\n",
       "\t\t\t.focus();\n",
       "\t\t\treturn false;\n",
       "\t\t}\n",
       "\t});\n",
       "});\n",
       "</script>\n",
       "</body>\n",
       "</html>"
      ]
     },
     "execution_count": 10,
     "metadata": {},
     "output_type": "execute_result"
    }
   ],
   "source": [
    "soup"
   ]
  },
  {
   "cell_type": "code",
   "execution_count": 11,
   "id": "f1018dac",
   "metadata": {},
   "outputs": [
    {
     "name": "stdout",
     "output_type": "stream",
     "text": [
      "<!DOCTYPE html>\n",
      "<html lang=\"en\">\n",
      "<head>\n",
      "<meta http-equiv=\"Content-Type\" content=\"text/html; charset=utf-8\" />\n",
      "<meta name=\"googlebot\" content=\"index,noarchive,nofollow,noodp\" />\n",
      "<meta name=\"robots\" content=\"index,nofollow,noarchive,noodp\" />\n",
      "<meta content=\"width=device-width, initial-scale=1.0, maximum-scale=1.0, user-scalable=no;\" name=\"viewport\">\n",
      "<meta name=\"apple-mobile-web-app-capable\" content=\"yes\">\n",
      "<meta name=\"apple-mobile-web-app-status-bar-style\" content=\"black\">\n",
      "<title>证券日报网</title>\n",
      "<meta http-equiv=\"keywords\" content=\"Fulltext Search Engine Zqrb_search xunsearch\" />\n",
      "<meta http-equiv=\"description\" content=\"Fulltext Search for Zqrb_search, Powered by xunsearch/1.4.11 \" />\n",
      "<link rel=\"stylesheet\" type=\"text/css\" href=\"css/bootstrap.css\"/>\n",
      "<link rel=\"stylesheet\" type=\"text/css\" href=\"css/style.css\"/>\n",
      "<link rel=\"stylesheet\" href=\"http://apps.bdimg.com/libs/jqueryui/1.8.16/themes/redmond/jquery-ui.css\" type=\"text/css\" media=\"all\" />\n",
      "<!--[if lt IE 9]>\n",
      "<script src=\"http://html5shiv.googlecode.com/svn/trunk/html5.js\"></script>\n",
      "<![endif]-->\n",
      "<!--[if lte IE 6]>\n",
      "<link rel=\"stylesheet\" type=\"text/css\" href=\"css/bootstrap-ie6.css\" />\n",
      "<link rel=\"stylesheet\" type=\"text/css\" href=\"css/ie.css\" />\n",
      "<![endif]-->\n",
      "<style>\n",
      ".popup a{position:absolute;text-decoration:none;}\n",
      ".popup a:hover{text-decoration:none;background:none;}\n",
      ".popup span{display:none;}\n",
      ".popup a:hover span{display:block;top:228px;left:302px; width:200px; height:80px; relative:absolute;padding:10px;border:none;}\n",
      "</style>\n",
      "</head>\n",
      "<!-- search.tpl Zqrb_search 搜索模板 -->\n",
      "<body>\n",
      "<div class=\"container\">\n",
      "  <div class=\"row\">\n",
      "\t<!-- search form -->\n",
      "    <div class=\"span12\">\n",
      "\t \n",
      "      <h1><a href=\"/search.php\"><img src=\"http://www.zqrb.cn/zqrb_index/images/logoyeshou.jpg\" height=\"42\" width=\"160\"/></a></h1>\n",
      "      <form class=\"form-search\" id=\"q-form\" method=\"get\">\n",
      "        <div class=\"input-append\" id=\"q-input\">\n",
      "                <select name=\"src\" style=\"width:auto;border-radius:14px;\">\n",
      "\t\t\t\t\t\t<option value=\"all\"  selected=\"selected\"\">全部</option>\n",
      "                        <option value=\"news\" \">新闻</option>\n",
      "                        <option value=\"epaper\"  \">电子报</option>\n",
      "\n",
      "                </select>\n",
      "          <input type=\"text\" class=\"span6 search-query\" name=\"q\" title=\"输入任意关键词皆可搜索\" value=\"贵州茅台 \">\n",
      "          <button type=\"submit\" class=\"btn\" style=\"vertical-align:bottom;\">搜索</button>\n",
      "          <span class=\"popup\">\n",
      "          <a style=\"position:relative; width:90px; height:30px; font-size:20px; text-align:left\"  href=\"#\">\n",
      "                  <img src=\"./img/question.png\" width=\"20\" heigth=\"20\" style=\"margin-left:10px;vertical-align:bottom;\" />\n",
      "                  <span style=\"position:absolute; top:-10px; left:60px;width:495px; height:80px; font-size:14px; background-color:#f2f2f2; color:#000\">\n",
      "\t\t\t\t          搜索技巧<br>\n",
      "\t\t\t\t\t\t  如想搜索“证券日报”但是不想搜索结果中有“基金”，请输入“证券日报 -基金”<br>\n",
      "如不确定搜索的关键词，请使用模糊搜索<br>\n",
      "如不确定关键词的位置，请使用全文搜索<br>\n",
      "                          \n",
      "                  </span>\n",
      "          </a>\n",
      "\t\t  <p class=\"result\">大约有<b>4,352</b>项符合查询结果。（搜索耗时：0.015982秒）\n",
      "  </span>\n",
      "        </div>\n",
      "        <div class=\"condition\" id=\"q-options\">\n",
      "          <label class=\"radio inline\"><input type=\"radio\" name=\"f\" value=\"title\"  />标题</label>\n",
      "\t\t        <label class=\"radio inline\"><input type=\"radio\" name=\"f\" value=\"author_name\"  />作者</label>\n",
      "\t\t\t\n",
      "          <label class=\"radio inline\">\n",
      "            <input type=\"radio\" name=\"f\" value=\"_all\"  checked  />全文\n",
      "          </label>\n",
      "          <label class=\"checkbox inline\">\n",
      "            <input type=\"checkbox\" name=\"m\" value=\"yes\"  />模糊搜索\n",
      "          </label>\n",
      "          \n",
      "          按\n",
      "          <select name=\"s\" size=\"1\">\n",
      "\t\t\t<option value=\"newsdate_DESC\"  selected=\"selected\" >时间-降序</option>\n",
      "\t\t\t<option value=\"relevance\"  >相关性</option>\n",
      "          </select>\n",
      "          排序\n",
      "\t\t</div>\n",
      "      </form>\n",
      "    </div>\n",
      "\n",
      "    \n",
      "\t\t<div class=\"span12\"> <dl class=\"result-list\"><dt><a href=\"http://www.zqrb.cn/gscy/gongsi/2025-09-29/A1759146241623.html\" target=\"_blank\"><h4>1 <em>茅</em><em>台</em>酒市场逆势回暖  释放了什么信号？</h4></a></dt><dd><p class=\"field-info text-error\"><span><strong>作者:</strong>冯雨瑶</span><span><strong>时间:</strong>2025年09月29日</span><span><strong>栏目:</strong>上市公司</span><span><strong>媒体:</strong>证券日报网</span></p><p>&ensp;&ensp;&ensp;&ensp;本报记者 冯雨瑶&ensp;&ensp;&ensp;&ensp;临近中秋、国庆&ldquo;双节&rdquo;旺季，<em>茅</em><em>台</em>酒市场呈现明显的回暖迹象。9月29日，记者从北京、郑<em>州</em>、重庆等多家<em>贵</em><em>州</em><em>茅</em><em>台</em>专卖店了解到，目前53度500ml飞天<em>茅</em><em>台</em>酒的市场需求量回升，单瓶的价格大约在1800元/瓶至1900元/瓶不等。&ensp;&ensp;&ensp;&ensp;&ldquo;现在买<em>茅</em><em>台</em>酒的人比平常要多点，店里日销售量也多了些。&rdquo;位于北京的一家专卖店内的工作人员向《证券日报》记者如是说。&ensp;&ensp;&ensp;&ensp;不仅&ldquo;双节&rdquo;旺销，<em>茅</em><em>台</em>酒市场的回暖其实早有迹可循。9月16日，华创证券就曾发布研报表示，<em>茅</em><em>台</em>酒动销在7月份呈现边际好转态势，8月份终端环比增长约15%至35%。白酒行业分析师、武汉京魁科...... </p></dd><dt><a href=\"http://www.zqrb.cn/shipin/shipinhangye/2025-09-27/A1758901387553.html\" target=\"_blank\"><h4>2 9月份动销环比翻倍增长、同比增长超20%  <em>茅</em><em>台</em>“秋收行动”传递回暖强信号</h4></a></dt><dd><p class=\"field-info text-error\"><span><strong>作者:</strong></span><span><strong>时间:</strong>2025年09月27日</span><span><strong>栏目:</strong>食品行业</span><span><strong>媒体:</strong>证券日报网</span></p><p>&ensp;&ensp;&ensp;&ensp;在行业承压的最近几个月，市场的种种迹象显示：<em>茅</em><em>台</em>酒已率先跨过了突发性场景中断的这道难关。&ensp;&ensp;&ensp;&ensp;近期，结合市场调研和多地经销商的反馈，在&ldquo;双节&rdquo;效应的催化下，<em>茅</em><em>台</em>酒9月份市场端的动销数据大幅度地反弹：环比增长约一倍，同比增长超20%；与此同时，经销商的&ldquo;存销比&rdquo;下降五成，处于良好的水平。显然，这份&ldquo;两增一降&rdquo;的业绩数据充分印证：第一，<em>茅</em><em>台</em>酒的市场需求逻辑没有改变；第二，<em>茅</em><em>台</em>酒&ldquo;4+6&rdquo;的渠道体系具有强大韧性；第三，表明了<em>茅</em><em>台</em>的&ldquo;三个转型&rdquo;战略在市场实践中卓有成效。&ensp;&ensp;&ensp;&ensp;从局部到整体&ensp;&ensp;&ensp;&ensp;释放回暖的强信号...... </p></dd><dt><a href=\"http://www.zqrb.cn/review/gushireping/2025-09-26/A1758790044671.html\" target=\"_blank\"><h4>3 A股市值格局变化折射出三大新趋势</h4></a></dt><dd><p class=\"field-info text-error\"><span><strong>作者:</strong>苏向杲</span><span><strong>时间:</strong>2025年09月26日</span><span><strong>栏目:</strong>股市热评</span><span><strong>媒体:</strong>证券日报</span></p><p>&ensp;&ensp;&ensp;&ensp;■苏向杲&ensp;&ensp;&ensp;&ensp;9月25日，宁德时代股价盘中突破400元整数关口，总市值一度超越<em>贵</em><em>州</em><em>茅</em><em>台</em>，引发市场广泛关注。今年以来，A股科技板块持续活跃，而部分传统行业板块表现相对平淡，不同板块之间的市值呈现&ldquo;此消彼长&rdquo;态势，持续重塑着市场结构。&ensp;&ensp;&ensp;&ensp;近日，中国证监会主席吴清在国新办新闻发布会上指出，目前A股科技板块市值占比超过1/4，已明显高于银行、非银金融、房地产行业市值合计占比。市值前50名公司中科技企业从&ldquo;十三五&rdquo;末的18家提升至当前的24家。&ensp;&ensp;&ensp;&ensp;笔者认为，A股市场市值格局的演变，清晰反映了我国经济转型的路径。进一步看，这一变化折射出三大新趋势。&ensp;&ensp;&ens...... </p></dd><dt><a href=\"http://epaper.zqrb.cn/html/2025-09/26/content_1185470.htm\" target=\"_blank\"><h4>4 今日视点：A股市值格局变化折射出三大新趋势</h4></a></dt><dd><p class=\"field-info text-error\"><span><strong>作者:</strong></span><span><strong>时间:</strong>2025年09月26日</span><span><strong>栏目:</strong>A1</span><span><strong>媒体:</strong>证券日报电子报</span></p><p>　　■苏向杲　　9月25日，宁德时代股价盘中突破400元整数关口，总市值一度超越<em>贵</em><em>州</em><em>茅</em><em>台</em>，引发市场广泛关注。今年以来，A股科技板块持续活跃，而部分传统行业板块表现相对平淡，不同板块之间的市值呈现“此消彼长”态势，持续重塑着市场结构。　　近日，中国证监会主席吴清在国新办新闻发布会上指出，目前A股科技板块市值占比超过1/4，已明显高于银行、非银金融、房地产行业市值合计占比。市值前50名公司中科技企业从“十三五”末的18家提升至当前的24家。　　笔者认为，A股市场市值格局的演变，清晰反映了我国经济转型的路径。进一步看，这一变化折射出三大新趋势。　　其一，科技革命成为驱动增长的新引擎。　　以往，金融、地产和传统资源类企业是市场的市值支柱，其高占比反映出投资拉动的增长模式。当前，科技板块市值占比持续提升，新能源、人工智能、生物医药等新兴产业公司市值快速攀升，标志着中国经济正加速转向创新驱动。这一转变...... </p></dd><dt><a href=\"http://www.zqrb.cn/gscy/qiyexinxi/2025-09-26/A1758875478253.html\" target=\"_blank\"><h4>5 <em>贵</em><em>州</em><em>茅</em><em>台</em>酒秋季十六省市场调研在青海收官</h4></a></dt><dd><p class=\"field-info text-error\"><span><strong>作者:</strong></span><span><strong>时间:</strong>2025年09月26日</span><span><strong>栏目:</strong>企业信息</span><span><strong>媒体:</strong>证券日报网</span></p><p>&ensp;&ensp;&ensp;&ensp;9月25日，<em>茅</em><em>台</em>集团党委副书记、总经理王莉率队深入青海市场一线调研，并在西宁组织召开青甘新藏四省区<em>贵</em><em>州</em><em>茅</em><em>台</em>酒市场营销座谈会，与渠道商面对面深入交流，共商市场动态、共探发展机遇，进一步凝聚可持续高质量发展共识。<em>贵</em><em>州</em><em>茅</em><em>台</em>公益基金会理事长卓玛才让参加。&ensp;&ensp;&ensp;&ensp;&ensp;&ensp;&ensp;&ensp;此次座谈会标志着自今年8月底启动的<em>贵</em><em>州</em><em>茅</em><em>台</em>酒秋季市场调研圆满收官。在一个月的时间内，王莉率队深入华东、西南、东北、华北、西北市场一线，并先后在扬<em>州</em>、重庆、长春、北京、西宁组织召开了共16个省区的<em>贵</em><em>州</em><em>茅</em><em>台</em>酒市场营销座谈会，与全国300余家渠道商展开深度对话，围绕新形势下白酒行业趋势、<em>茅</em><em>台</em>酒市场现状及潜在机遇展开全方位探讨。这一系列高密度、广覆盖的调研活动，不仅彰显了<em>茅</em><em>台</em>对市场一线的高度关注，更传递出<em>茅</em><em>台</em>与渠道...... </p></dd><dt><a href=\"http://www.zqrb.cn/stock/zuixinbobao/2025-09-25/A1758771410384.html\" target=\"_blank\"><h4>6 午评：创业板指半日大涨2.22%，宁德时代再创新高</h4></a></dt><dd><p class=\"field-info text-error\"><span><strong>作者:</strong></span><span><strong>时间:</strong>2025年09月25日</span><span><strong>栏目:</strong>最新播报</span><span><strong>媒体:</strong>新浪财经</span></p><p>&ensp;&ensp;&ensp;&ensp;三大指数早盘集体上涨，截至午盘，上证指数涨0.16%，深成指涨1.14%，创业板指涨2.22%，北证50跌0.04%。沪深京三市半日成交额15558亿元，较上日放量1355亿元。全市场2000只个股上涨。&ensp;&ensp;&ensp;&ensp;板块题材方面，游戏、电商、视频等AI应用、可控核聚变、有色金属、铜缆高速连接等算力硬件股领涨；<em>贵</em>金属、港口航运、燃气、旅游及酒店、房地产、物流、银行板块跌幅居前。盘面上，游戏、电商、视频等AI应用集体爆发，昆仑万维大涨10%，壹网壹创、天下秀涨停。受消息面影响，有色金属板块集体走高，铜方向领涨，北方铜业、精艺股份、洛阳钼业封死涨停。铜缆高速连接等算力硬件股盘中拉升，新亚电子、浪潮信息涨停。此外，可控核聚变、电池板块均有异动，宁德时代盘中总市值超越<em>贵</em><em>州</em><em>茅</em><em>台</em>。港口航运板块多数调整，南京港、宁波远洋、...... </p></dd><dt><a href=\"http://www.zqrb.cn/gscy/gongsi/2025-09-25/A1758775785170.html\" target=\"_blank\"><h4>7 A股历史一刻！宁德时代总市值超越<em>贵</em><em>州</em><em>茅</em><em>台</em></h4></a></dt><dd><p class=\"field-info text-error\"><span><strong>作者:</strong>李婷 冯雨瑶</span><span><strong>时间:</strong>2025年09月25日</span><span><strong>栏目:</strong>上市公司</span><span><strong>媒体:</strong>证券日报网</span></p><p>&ensp;&ensp;&ensp;&ensp;本报记者 李婷 冯雨瑶&ensp;&ensp;&ensp;&ensp;A股历史性一刻！&ensp;&ensp;&ensp;&ensp;记者注意到，截至9月25日上午收盘时间，宁德时代A股最新市值为1.82万亿元，<em>贵</em><em>州</em><em>茅</em><em>台</em>最新市值为1.80万亿元。宁德时代A股市值暂时超越<em>贵</em><em>州</em><em>茅</em><em>台</em>。&ensp;&ensp;&ensp;&ensp;这一历史性事件，折射了A股市场怎样的变化？&ensp;&ensp;&ensp;&ensp;&ldquo;宁德时代A股市值超过<em>贵</em><em>州</em><em>茅</em><em>台</em>，反映出目前市场的方向在变化。&rdquo;财经评论员、鲸平<em>台</em>智库专家郭施亮对《证券日报》记者表示，<em>贵</em><em>州</em><em>茅</em><em>台</em>代表着消费股，而消费股的走势跟随着CPI（消费者物价指数）的变化，目前CPI尚处于筑底的阶段，<em>贵</em><em>州</em><em>茅</em><em>台</em>等消费股还没有形成上涨催化剂。&ensp;&ensp;&ensp;&ensp;福建...... </p></dd><dt><a href=\"http://www.zqrb.cn/shipin/shipinhangye/2025-09-23/A1758591090099.html\" target=\"_blank\"><h4>8 首款元宇宙主题白酒“国<em>台</em>元宇宙·启元”上市热销</h4></a></dt><dd><p class=\"field-info text-error\"><span><strong>作者:</strong>梁傲男</span><span><strong>时间:</strong>2025年09月23日</span><span><strong>栏目:</strong>食品行业</span><span><strong>媒体:</strong>证券日报网</span></p><p>&ensp;&ensp;&ensp;&ensp;本报讯 （记者梁傲男）9月21日，&ldquo;国<em>台</em>元宇宙&middot;启元&rdquo;在中国酒类TOP达人吴一快手直播间，正式上市销售，并取得了上线半小时销售超百万元的成绩。国<em>台</em>供图&ensp;&ensp;&ensp;&ensp;&ldquo;国<em>台</em>元宇宙&middot;启元&rdquo;是中国白酒行业第一款元宇宙主题产品。国<em>台</em>元宇宙&middot;启元酒以<em>贵</em><em>州</em>国<em>台</em>数智酒业集团股份有限公司（以下简称&ldquo;国<em>台</em>&rdquo;）智能酿造的创新技术为基础，又融合了元宇宙的概念、体验与价值，创造了新的酒饮体验。&ensp;&ensp;&ensp;&ensp;2024年，国<em>台</em>打造出中国白酒行业第一家元宇宙体验平<em>台</em>&mdash;&mdash;国<em>台</em>元宇宙体验馆。国<em>台</em>通过VR技术复刻<em>茅</em><em>台</em>镇产区环境、模拟酿酒工艺全过程，让人在虚拟空间中沉浸式体验正...... </p></dd><dt><a href=\"http://www.zqrb.cn/gscy/qiyexinxi/2025-09-22/A1758531062888.html\" target=\"_blank\"><h4>9 <em>贵</em><em>州</em><em>茅</em><em>台</em>生物科技研发有限责任公司成立</h4></a></dt><dd><p class=\"field-info text-error\"><span><strong>作者:</strong>袁传玺</span><span><strong>时间:</strong>2025年09月22日</span><span><strong>栏目:</strong>企业信息</span><span><strong>媒体:</strong>证券日报网</span></p><p>&ensp;&ensp;&ensp;&ensp;本报讯 （记者袁传玺）天眼查工商信息显示，近日，<em>贵</em><em>州</em><em>茅</em><em>台</em>生物科技研发有限责任公司成立，注册资本10亿元，经营范围含工程和技术研究和试验发展、生物化工产品技术研发、发酵过程优化技术研发、工业酶制剂研发等。股东信息显示，该公司由中国<em>贵</em><em>州</em><em>茅</em><em>台</em>酒厂（集团）有限责任公司、<em>贵</em><em>州</em><em>茅</em><em>台</em>共同持股。（编辑 张文玲 张伟）...... </p></dd><dt><a href=\"http://www.zqrb.cn/stock/zuixinbobao/2025-09-18/A1758159528242.html\" target=\"_blank\"><h4>10 开盘：沪指跌0.01%，创业板指跌0.88，<em>贵</em>金属及消费电子概念股普跌</h4></a></dt><dd><p class=\"field-info text-error\"><span><strong>作者:</strong></span><span><strong>时间:</strong>2025年09月18日</span><span><strong>栏目:</strong>最新播报</span><span><strong>媒体:</strong>金融界</span></p><p>&ensp;&ensp;&ensp;&ensp;9月18日，周四，A股集体低开，沪指跌0.01%报3876.06点，深成指跌0.41%报13161.15点，创业板指跌0.88报3119.77点，科创50指数涨1.1%，报1385.5点。<em>贵</em>金属、消费电子、CPO等板块指数跌幅居前。<em>贵</em>金属板块低开，西部黄金、晓程科技低开超5%，四川黄金、湖南白银、赤峰黄金跟跌；寒武纪高开4%股价重回1500元关口，再次超越<em>贵</em><em>州</em><em>茅</em><em>台</em>。&ensp;&ensp;&ensp;&ensp;盘面上，市场焦点股天普股份（11板）竞价涨停，机器人概念股首开股份（11天10板）高开5.59%、上海建工（4板）高开0.28%、万向钱潮（3板）高开5.92%，低价股山子高科（4板）高开8.11%、荣盛发展（4板）高开0.50%，纺织股泰慕士（3板）竞价涨停，算力板块罗曼股份（5天3板）低开0.08%、科博达（2板）竞价涨停，智能驾...... </p></dd><dt><a href=\"http://www.zqrb.cn/shipin/shipinhangye/2025-09-18/A1758171850345.html\" target=\"_blank\"><h4>11 <em>贵</em><em>州</em>酱酒行业分化加速 长远发展前景广阔</h4></a></dt><dd><p class=\"field-info text-error\"><span><strong>作者:</strong>梁傲男</span><span><strong>时间:</strong>2025年09月18日</span><span><strong>栏目:</strong>食品行业</span><span><strong>媒体:</strong>证券日报网</span></p><p>&ensp;&ensp;&ensp;&ensp;本报讯 （记者梁傲男）2025年上半年，酱酒产业表现如何？&ensp;&ensp;&ensp;&ensp;上半年，<em>贵</em><em>州</em><em>茅</em><em>台</em>酒股份有限公司依旧是一枝独秀，但是营收同比增速有所下滑。<em>贵</em><em>州</em>习酒投资控股集团有限责任公司的策略依旧是保持稳健，保持战略定力。&ensp;&ensp;&ensp;&ensp;<em>贵</em><em>州</em>国<em>台</em>数智酒业集团股份有限公司上半年营收约20亿元，作为<em>贵</em><em>州</em>酱酒的重要力量，其表现进一步印证了酱酒行业分化的加剧。在行业调整期内，公司依然保持了一定的市场规模，展现出品牌的基本盘韧性。&ensp;&ensp;&ensp;&ensp;珍酒李渡集团有限公司正在通过一系列产品端、渠道端、战略端的相应举措应对行业调整，代表了酱酒第二梯队企业的典型应对策略，通过产品创新、渠道变革和战略多元化来应对行业挑战。&ensp;&ensp;&ensp;&ensp;调整仍在...... </p></dd><dt><a href=\"http://epaper.zqrb.cn/html/2025-09/15/content_1182488.htm\" target=\"_blank\"><h4>12 甲骨文靠“卖铲子”出圈折射科技产业深层变革</h4></a></dt><dd><p class=\"field-info text-error\"><span><strong>作者:</strong></span><span><strong>时间:</strong>2025年09月15日</span><span><strong>栏目:</strong>A4</span><span><strong>媒体:</strong>证券日报电子报</span></p><p>　　■李春莲　　近日，AI领域再次出现标志性事件。美国当地时间9月10日，科技巨头甲骨文股价暴涨36%，创下1992年以来最大单日涨幅，股价达历史新高，公司市值更是达到9200亿美元。尽管随后甲骨文股价有所回落，但仍旧在市场引发热议。　　在美股，甲骨文股价的火热表现，实则是其长期布局AI算力基础设施的必然结果。而若将目光转向A股，前不久寒武纪股价大涨，曾短暂取代<em>贵</em><em>州</em><em>茅</em><em>台</em>成为A股“股王”。两个案例相互呼应，本质上是全球产业变革在不同区域的同频共振，折射出全球科技产业的深层变革。　　第一，AI重塑产业格局，云计算与基础设施成为核心竞争力。　　甲骨文此次股价飙升的核心动力源于其云计算业务的爆发。财报显示，甲骨文2026财年第一财季云收入同比增长28%至71.86亿美元，占总营收近半，且剩余履约义务（即已签订但尚未确认的收入）飙升至4550亿美元，其中新增订单主要来自OpenAI、xAI等AI巨头...... </p></dd><dt><a href=\"http://www.zqrb.cn/gscy/gongsi/2025-09-14/A1757756652942.html\" target=\"_blank\"><h4>13 中沁控股与国<em>台</em>达成战略合作</h4></a></dt><dd><p class=\"field-info text-error\"><span><strong>作者:</strong>梁傲男</span><span><strong>时间:</strong>2025年09月14日</span><span><strong>栏目:</strong>上市公司</span><span><strong>媒体:</strong>证券日报网</span></p><p>&ensp;&ensp;&ensp;&ensp;本报讯 （记者梁傲男）9月11日，中沁控股（浙江）有限公司（以下简称&ldquo;中沁控股&rdquo;）与<em>贵</em><em>州</em>国<em>台</em>数智酒业集团股份有限公司（以下简称&ldquo;国<em>台</em>&rdquo;）达成战略合作，在上海正式签订7000万元白酒销售合同。双方将在品牌定制、数字营销、供应链优化等多个维度展开深度合作，共同探索&ldquo;产业+资本&rdquo;的创新商业模式，为消费行业发展注入新动能。此举也标志着国<em>台</em>&ldquo;厂商同心、共创共享、尊享愉悦、长期共赢&rdquo;的合作发展理念获得越来越多认可，&ldquo;国<em>台</em>通之商道&rdquo;商业生态进一步得到壮大与完善。&ensp;&ensp;&ensp;&ensp;在&ldquo;携手国<em>台</em>，沪上启航&rdquo;战略合作签约仪式上，中沁控股总经理刘沁灵表示，国<em>台</em>是<em>茅</em><em>台</em>镇第二大酿酒企业。二十多年来...... </p></dd><dt><a href=\"http://www.zqrb.cn/review/chanjingpinglun/2025-09-14/A1757756652968.html\" target=\"_blank\"><h4>14 甲骨文靠“卖铲子”出圈折射科技产业深层变革</h4></a></dt><dd><p class=\"field-info text-error\"><span><strong>作者:</strong>李春莲</span><span><strong>时间:</strong>2025年09月14日</span><span><strong>栏目:</strong>产经评论</span><span><strong>媒体:</strong>证券日报</span></p><p>&ensp;&ensp;&ensp;&ensp;■李春莲&ensp;&ensp;&ensp;&ensp;近日，AI领域再次出现标志性事件。美国当地时间9月10日，科技巨头甲骨文股价暴涨36%，创下1992年以来最大单日涨幅，股价达历史新高，公司市值更是达到9200亿美元。尽管随后甲骨文股价有所回落，但仍旧在市场引发热议。&ensp;&ensp;&ensp;&ensp;在美股，甲骨文股价的火热表现，实则是其长期布局AI算力基础设施的必然结果。而若将目光转向A股，前不久寒武纪股价大涨，曾短暂取代<em>贵</em><em>州</em><em>茅</em><em>台</em>成为A股&ldquo;股王&rdquo;。两个案例相互呼应，本质上是全球产业变革在不同区域的同频共振，折射出全球科技产业的深层变革。&ensp;&ensp;&ensp;&ensp;第一，AI重塑产业格局，云计算与基础设施成为核心竞争力。&ensp;&ensp;&ensp;&ensp;甲骨文此次股...... </p></dd><dt><a href=\"http://www.zqrb.cn/gscy/gongsi/2025-09-08/A1757314940156.html\" target=\"_blank\"><h4>15 主动运用政策工具进行市值管理 <em>茅</em><em>台</em>集团获最高27亿元增持贷款支持</h4></a></dt><dd><p class=\"field-info text-error\"><span><strong>作者:</strong>冯雨瑶</span><span><strong>时间:</strong>2025年09月08日</span><span><strong>栏目:</strong>上市公司</span><span><strong>媒体:</strong>证券日报网</span></p><p>&ensp;&ensp;&ensp;&ensp;本报讯 （记者冯雨瑶）近日，<em>贵</em><em>州</em><em>茅</em><em>台</em>酒股份有限公司（以下简称&ldquo;<em>贵</em><em>州</em><em>茅</em><em>台</em>&rdquo;）发布公告称，公司控股股东中国<em>贵</em><em>州</em><em>茅</em><em>台</em>酒厂（集团）有限责任公司（以下简称&ldquo;<em>茅</em><em>台</em>集团&rdquo;）已获得中国农业银行股份有限公司<em>贵</em><em>州</em>省分行出具的贷款承诺函，承诺对<em>茅</em><em>台</em>集团股票增持事项提供贷款支持，贷款额度不高于人民币27亿元。&ensp;&ensp;&ensp;&ensp;公告显示，<em>茅</em><em>台</em>集团基于对公司长期价值的认可和未来发展的信心，计划自增持计划公告发布之日起6个月内，通过集中竞价交易方式增持公司股票，拟增持金额不低于人民币30亿元（含）且不高于人民币33亿元（含）。<em>茅</em><em>台</em>集团获农行<em>贵</em><em>州</em>省分行不超过27亿元贷款承诺函，用于支持不低于30亿元增持计划。&ensp;&ensp;&ensp;&ensp;这是股票回购增持再贷款政策于2024年10...... </p></dd> </dl> </div></div><div class=\"pagination pagination-centered\"><ul><li><a href=\"http://search.zqrb.cn/search.php?src=all&q=%E8%B4%B5%E5%B7%9E%E8%8C%85%E5%8F%B0&f=_all&s=newsdate_DESC&p=1\">1</a></li><li><a href=\"http://search.zqrb.cn/search.php?src=all&q=%E8%B4%B5%E5%B7%9E%E8%8C%85%E5%8F%B0&f=_all&s=newsdate_DESC&p=2\">2</a></li><li><a href=\"http://search.zqrb.cn/search.php?src=all&q=%E8%B4%B5%E5%B7%9E%E8%8C%85%E5%8F%B0&f=_all&s=newsdate_DESC&p=3\">3</a></li><li><a href=\"http://search.zqrb.cn/search.php?src=all&q=%E8%B4%B5%E5%B7%9E%E8%8C%85%E5%8F%B0&f=_all&s=newsdate_DESC&p=4\">4</a></li><li><a href=\"http://search.zqrb.cn/search.php?src=all&q=%E8%B4%B5%E5%B7%9E%E8%8C%85%E5%8F%B0&f=_all&s=newsdate_DESC&p=5\">5</a></li><li><a href=\"http://search.zqrb.cn/search.php?src=all&q=%E8%B4%B5%E5%B7%9E%E8%8C%85%E5%8F%B0&f=_all&s=newsdate_DESC&p=6\">6</a></li><li><a href=\"http://search.zqrb.cn/search.php?src=all&q=%E8%B4%B5%E5%B7%9E%E8%8C%85%E5%8F%B0&f=_all&s=newsdate_DESC&p=7\">7</a></li><li><a href=\"http://search.zqrb.cn/search.php?src=all&q=%E8%B4%B5%E5%B7%9E%E8%8C%85%E5%8F%B0&f=_all&s=newsdate_DESC&p=8\">8</a></li><li><a href=\"http://search.zqrb.cn/search.php?src=all&q=%E8%B4%B5%E5%B7%9E%E8%8C%85%E5%8F%B0&f=_all&s=newsdate_DESC&p=9\">9</a></li><li><a href=\"http://search.zqrb.cn/search.php?src=all&q=%E8%B4%B5%E5%B7%9E%E8%8C%85%E5%8F%B0&f=_all&s=newsdate_DESC&p=10\">10</a></li></div> </div>\n",
      "\t<footer>\n",
      "  <div class=\"container\">\n",
      "\n",
      "  </div>\n",
      "</footer>\n",
      "<script type=\"text/javascript\" src=\"http://apps.bdimg.com/libs/jquery/1.6.2/jquery.min.js\"></script>\n",
      "<script type=\"text/javascript\" src=\"http://apps.bdimg.com/libs/jqueryui/1.10.4/jquery-ui.min.js\"></script>\n",
      "<script type=\"text/javascript\">\n",
      "$(function(){\n",
      "\t// input tips\n",
      "\t$('#q-input .search-query').focus(function(){\n",
      "\t\tif ($(this).val() == $(this).attr('title')) {\n",
      "\t\t\t$(this).val('').removeClass('tips');\n",
      "\t\t}\n",
      "\t}).blur(function(){\n",
      "\t\tif ($(this).val() == '' || $(this).val() == $(this).attr('title')) {\n",
      "\t\t\t$(this).addClass('tips').val($(this).attr('title'));\n",
      "\t\t}\n",
      "\t}).blur().autocomplete({\n",
      "\t\t'source':'suggest.php',\n",
      "\t\t'select':function(ev,ui) {\n",
      "\t\t\t$('#q-input .search-query').val(ui.item.label);\n",
      "\t\t\t$('#q-form').submit();\n",
      "\t\t}\n",
      "\t});\n",
      "\t// submit check\n",
      "\t$('#q-form').submit(function(){\n",
      "\t\tvar  = $('#q-input .search-query');\n",
      "\t\tif (.val() == .attr('title')) {\n",
      "\t\t\talert('请先输入关键词');\n",
      "\t\t\t.focus();\n",
      "\t\t\treturn false;\n",
      "\t\t}\n",
      "\t});\n",
      "});\n",
      "</script>\n",
      "</body>\n",
      "</html>\n"
     ]
    }
   ],
   "source": [
    "print(res)"
   ]
  },
  {
   "cell_type": "code",
   "execution_count": 12,
   "id": "e2c519fd",
   "metadata": {},
   "outputs": [
    {
     "data": {
      "text/plain": [
       "[<a href=\"/search.php\"><img height=\"42\" src=\"http://www.zqrb.cn/zqrb_index/images/logoyeshou.jpg\" width=\"160\"/></a>,\n",
       " <a href=\"#\" style=\"position:relative; width:90px; height:30px; font-size:20px; text-align:left\">\n",
       " <img heigth=\"20\" src=\"./img/question.png\" style=\"margin-left:10px;vertical-align:bottom;\" width=\"20\"/>\n",
       " <span style=\"position:absolute; top:-10px; left:60px;width:495px; height:80px; font-size:14px; background-color:#f2f2f2; color:#000\">\n",
       " \t\t\t\t          搜索技巧<br/>\n",
       " \t\t\t\t\t\t  如想搜索“证券日报”但是不想搜索结果中有“基金”，请输入“证券日报 -基金”<br/>\n",
       " 如不确定搜索的关键词，请使用模糊搜索<br/>\n",
       " 如不确定关键词的位置，请使用全文搜索<br/>\n",
       " </span>\n",
       " </a>,\n",
       " <a href=\"http://www.zqrb.cn/gscy/gongsi/2025-09-29/A1759146241623.html\" target=\"_blank\"><h4>1 <em>茅</em><em>台</em>酒市场逆势回暖  释放了什么信号？</h4></a>,\n",
       " <a href=\"http://www.zqrb.cn/shipin/shipinhangye/2025-09-27/A1758901387553.html\" target=\"_blank\"><h4>2 9月份动销环比翻倍增长、同比增长超20%  <em>茅</em><em>台</em>“秋收行动”传递回暖强信号</h4></a>,\n",
       " <a href=\"http://www.zqrb.cn/review/gushireping/2025-09-26/A1758790044671.html\" target=\"_blank\"><h4>3 A股市值格局变化折射出三大新趋势</h4></a>,\n",
       " <a href=\"http://epaper.zqrb.cn/html/2025-09/26/content_1185470.htm\" target=\"_blank\"><h4>4 今日视点：A股市值格局变化折射出三大新趋势</h4></a>,\n",
       " <a href=\"http://www.zqrb.cn/gscy/qiyexinxi/2025-09-26/A1758875478253.html\" target=\"_blank\"><h4>5 <em>贵</em><em>州</em><em>茅</em><em>台</em>酒秋季十六省市场调研在青海收官</h4></a>,\n",
       " <a href=\"http://www.zqrb.cn/stock/zuixinbobao/2025-09-25/A1758771410384.html\" target=\"_blank\"><h4>6 午评：创业板指半日大涨2.22%，宁德时代再创新高</h4></a>,\n",
       " <a href=\"http://www.zqrb.cn/gscy/gongsi/2025-09-25/A1758775785170.html\" target=\"_blank\"><h4>7 A股历史一刻！宁德时代总市值超越<em>贵</em><em>州</em><em>茅</em><em>台</em></h4></a>,\n",
       " <a href=\"http://www.zqrb.cn/shipin/shipinhangye/2025-09-23/A1758591090099.html\" target=\"_blank\"><h4>8 首款元宇宙主题白酒“国<em>台</em>元宇宙·启元”上市热销</h4></a>,\n",
       " <a href=\"http://www.zqrb.cn/gscy/qiyexinxi/2025-09-22/A1758531062888.html\" target=\"_blank\"><h4>9 <em>贵</em><em>州</em><em>茅</em><em>台</em>生物科技研发有限责任公司成立</h4></a>,\n",
       " <a href=\"http://www.zqrb.cn/stock/zuixinbobao/2025-09-18/A1758159528242.html\" target=\"_blank\"><h4>10 开盘：沪指跌0.01%，创业板指跌0.88，<em>贵</em>金属及消费电子概念股普跌</h4></a>,\n",
       " <a href=\"http://www.zqrb.cn/shipin/shipinhangye/2025-09-18/A1758171850345.html\" target=\"_blank\"><h4>11 <em>贵</em><em>州</em>酱酒行业分化加速 长远发展前景广阔</h4></a>,\n",
       " <a href=\"http://epaper.zqrb.cn/html/2025-09/15/content_1182488.htm\" target=\"_blank\"><h4>12 甲骨文靠“卖铲子”出圈折射科技产业深层变革</h4></a>,\n",
       " <a href=\"http://www.zqrb.cn/gscy/gongsi/2025-09-14/A1757756652942.html\" target=\"_blank\"><h4>13 中沁控股与国<em>台</em>达成战略合作</h4></a>,\n",
       " <a href=\"http://www.zqrb.cn/review/chanjingpinglun/2025-09-14/A1757756652968.html\" target=\"_blank\"><h4>14 甲骨文靠“卖铲子”出圈折射科技产业深层变革</h4></a>,\n",
       " <a href=\"http://www.zqrb.cn/gscy/gongsi/2025-09-08/A1757314940156.html\" target=\"_blank\"><h4>15 主动运用政策工具进行市值管理 <em>茅</em><em>台</em>集团获最高27亿元增持贷款支持</h4></a>,\n",
       " <a href=\"http://search.zqrb.cn/search.php?src=all&amp;q=%E8%B4%B5%E5%B7%9E%E8%8C%85%E5%8F%B0&amp;f=_all&amp;s=newsdate_DESC&amp;p=1\">1</a>,\n",
       " <a href=\"http://search.zqrb.cn/search.php?src=all&amp;q=%E8%B4%B5%E5%B7%9E%E8%8C%85%E5%8F%B0&amp;f=_all&amp;s=newsdate_DESC&amp;p=2\">2</a>,\n",
       " <a href=\"http://search.zqrb.cn/search.php?src=all&amp;q=%E8%B4%B5%E5%B7%9E%E8%8C%85%E5%8F%B0&amp;f=_all&amp;s=newsdate_DESC&amp;p=3\">3</a>,\n",
       " <a href=\"http://search.zqrb.cn/search.php?src=all&amp;q=%E8%B4%B5%E5%B7%9E%E8%8C%85%E5%8F%B0&amp;f=_all&amp;s=newsdate_DESC&amp;p=4\">4</a>,\n",
       " <a href=\"http://search.zqrb.cn/search.php?src=all&amp;q=%E8%B4%B5%E5%B7%9E%E8%8C%85%E5%8F%B0&amp;f=_all&amp;s=newsdate_DESC&amp;p=5\">5</a>,\n",
       " <a href=\"http://search.zqrb.cn/search.php?src=all&amp;q=%E8%B4%B5%E5%B7%9E%E8%8C%85%E5%8F%B0&amp;f=_all&amp;s=newsdate_DESC&amp;p=6\">6</a>,\n",
       " <a href=\"http://search.zqrb.cn/search.php?src=all&amp;q=%E8%B4%B5%E5%B7%9E%E8%8C%85%E5%8F%B0&amp;f=_all&amp;s=newsdate_DESC&amp;p=7\">7</a>,\n",
       " <a href=\"http://search.zqrb.cn/search.php?src=all&amp;q=%E8%B4%B5%E5%B7%9E%E8%8C%85%E5%8F%B0&amp;f=_all&amp;s=newsdate_DESC&amp;p=8\">8</a>,\n",
       " <a href=\"http://search.zqrb.cn/search.php?src=all&amp;q=%E8%B4%B5%E5%B7%9E%E8%8C%85%E5%8F%B0&amp;f=_all&amp;s=newsdate_DESC&amp;p=9\">9</a>,\n",
       " <a href=\"http://search.zqrb.cn/search.php?src=all&amp;q=%E8%B4%B5%E5%B7%9E%E8%8C%85%E5%8F%B0&amp;f=_all&amp;s=newsdate_DESC&amp;p=10\">10</a>]"
      ]
     },
     "execution_count": 12,
     "metadata": {},
     "output_type": "execute_result"
    }
   ],
   "source": [
    "soup.select('a')"
   ]
  },
  {
   "cell_type": "code",
   "execution_count": 13,
   "id": "3a428874",
   "metadata": {},
   "outputs": [
    {
     "data": {
      "text/plain": [
       "[<a href=\"http://www.zqrb.cn/gscy/gongsi/2025-09-29/A1759146241623.html\" target=\"_blank\"><h4>1 <em>茅</em><em>台</em>酒市场逆势回暖  释放了什么信号？</h4></a>,\n",
       " <a href=\"http://www.zqrb.cn/shipin/shipinhangye/2025-09-27/A1758901387553.html\" target=\"_blank\"><h4>2 9月份动销环比翻倍增长、同比增长超20%  <em>茅</em><em>台</em>“秋收行动”传递回暖强信号</h4></a>,\n",
       " <a href=\"http://www.zqrb.cn/review/gushireping/2025-09-26/A1758790044671.html\" target=\"_blank\"><h4>3 A股市值格局变化折射出三大新趋势</h4></a>,\n",
       " <a href=\"http://epaper.zqrb.cn/html/2025-09/26/content_1185470.htm\" target=\"_blank\"><h4>4 今日视点：A股市值格局变化折射出三大新趋势</h4></a>,\n",
       " <a href=\"http://www.zqrb.cn/gscy/qiyexinxi/2025-09-26/A1758875478253.html\" target=\"_blank\"><h4>5 <em>贵</em><em>州</em><em>茅</em><em>台</em>酒秋季十六省市场调研在青海收官</h4></a>,\n",
       " <a href=\"http://www.zqrb.cn/stock/zuixinbobao/2025-09-25/A1758771410384.html\" target=\"_blank\"><h4>6 午评：创业板指半日大涨2.22%，宁德时代再创新高</h4></a>,\n",
       " <a href=\"http://www.zqrb.cn/gscy/gongsi/2025-09-25/A1758775785170.html\" target=\"_blank\"><h4>7 A股历史一刻！宁德时代总市值超越<em>贵</em><em>州</em><em>茅</em><em>台</em></h4></a>,\n",
       " <a href=\"http://www.zqrb.cn/shipin/shipinhangye/2025-09-23/A1758591090099.html\" target=\"_blank\"><h4>8 首款元宇宙主题白酒“国<em>台</em>元宇宙·启元”上市热销</h4></a>,\n",
       " <a href=\"http://www.zqrb.cn/gscy/qiyexinxi/2025-09-22/A1758531062888.html\" target=\"_blank\"><h4>9 <em>贵</em><em>州</em><em>茅</em><em>台</em>生物科技研发有限责任公司成立</h4></a>,\n",
       " <a href=\"http://www.zqrb.cn/stock/zuixinbobao/2025-09-18/A1758159528242.html\" target=\"_blank\"><h4>10 开盘：沪指跌0.01%，创业板指跌0.88，<em>贵</em>金属及消费电子概念股普跌</h4></a>,\n",
       " <a href=\"http://www.zqrb.cn/shipin/shipinhangye/2025-09-18/A1758171850345.html\" target=\"_blank\"><h4>11 <em>贵</em><em>州</em>酱酒行业分化加速 长远发展前景广阔</h4></a>,\n",
       " <a href=\"http://epaper.zqrb.cn/html/2025-09/15/content_1182488.htm\" target=\"_blank\"><h4>12 甲骨文靠“卖铲子”出圈折射科技产业深层变革</h4></a>,\n",
       " <a href=\"http://www.zqrb.cn/gscy/gongsi/2025-09-14/A1757756652942.html\" target=\"_blank\"><h4>13 中沁控股与国<em>台</em>达成战略合作</h4></a>,\n",
       " <a href=\"http://www.zqrb.cn/review/chanjingpinglun/2025-09-14/A1757756652968.html\" target=\"_blank\"><h4>14 甲骨文靠“卖铲子”出圈折射科技产业深层变革</h4></a>,\n",
       " <a href=\"http://www.zqrb.cn/gscy/gongsi/2025-09-08/A1757314940156.html\" target=\"_blank\"><h4>15 主动运用政策工具进行市值管理 <em>茅</em><em>台</em>集团获最高27亿元增持贷款支持</h4></a>]"
      ]
     },
     "execution_count": 13,
     "metadata": {},
     "output_type": "execute_result"
    }
   ],
   "source": [
    "soup.select('dt a')"
   ]
  },
  {
   "cell_type": "code",
   "execution_count": 14,
   "id": "ec5a834e",
   "metadata": {},
   "outputs": [],
   "source": [
    "b=soup.select('dt a')"
   ]
  },
  {
   "cell_type": "code",
   "execution_count": 15,
   "id": "1204004c",
   "metadata": {},
   "outputs": [
    {
     "data": {
      "text/plain": [
       "[<a href=\"http://www.zqrb.cn/gscy/gongsi/2025-09-29/A1759146241623.html\" target=\"_blank\"><h4>1 <em>茅</em><em>台</em>酒市场逆势回暖  释放了什么信号？</h4></a>,\n",
       " <a href=\"http://www.zqrb.cn/shipin/shipinhangye/2025-09-27/A1758901387553.html\" target=\"_blank\"><h4>2 9月份动销环比翻倍增长、同比增长超20%  <em>茅</em><em>台</em>“秋收行动”传递回暖强信号</h4></a>,\n",
       " <a href=\"http://www.zqrb.cn/review/gushireping/2025-09-26/A1758790044671.html\" target=\"_blank\"><h4>3 A股市值格局变化折射出三大新趋势</h4></a>,\n",
       " <a href=\"http://epaper.zqrb.cn/html/2025-09/26/content_1185470.htm\" target=\"_blank\"><h4>4 今日视点：A股市值格局变化折射出三大新趋势</h4></a>,\n",
       " <a href=\"http://www.zqrb.cn/gscy/qiyexinxi/2025-09-26/A1758875478253.html\" target=\"_blank\"><h4>5 <em>贵</em><em>州</em><em>茅</em><em>台</em>酒秋季十六省市场调研在青海收官</h4></a>,\n",
       " <a href=\"http://www.zqrb.cn/stock/zuixinbobao/2025-09-25/A1758771410384.html\" target=\"_blank\"><h4>6 午评：创业板指半日大涨2.22%，宁德时代再创新高</h4></a>,\n",
       " <a href=\"http://www.zqrb.cn/gscy/gongsi/2025-09-25/A1758775785170.html\" target=\"_blank\"><h4>7 A股历史一刻！宁德时代总市值超越<em>贵</em><em>州</em><em>茅</em><em>台</em></h4></a>,\n",
       " <a href=\"http://www.zqrb.cn/shipin/shipinhangye/2025-09-23/A1758591090099.html\" target=\"_blank\"><h4>8 首款元宇宙主题白酒“国<em>台</em>元宇宙·启元”上市热销</h4></a>,\n",
       " <a href=\"http://www.zqrb.cn/gscy/qiyexinxi/2025-09-22/A1758531062888.html\" target=\"_blank\"><h4>9 <em>贵</em><em>州</em><em>茅</em><em>台</em>生物科技研发有限责任公司成立</h4></a>,\n",
       " <a href=\"http://www.zqrb.cn/stock/zuixinbobao/2025-09-18/A1758159528242.html\" target=\"_blank\"><h4>10 开盘：沪指跌0.01%，创业板指跌0.88，<em>贵</em>金属及消费电子概念股普跌</h4></a>,\n",
       " <a href=\"http://www.zqrb.cn/shipin/shipinhangye/2025-09-18/A1758171850345.html\" target=\"_blank\"><h4>11 <em>贵</em><em>州</em>酱酒行业分化加速 长远发展前景广阔</h4></a>,\n",
       " <a href=\"http://epaper.zqrb.cn/html/2025-09/15/content_1182488.htm\" target=\"_blank\"><h4>12 甲骨文靠“卖铲子”出圈折射科技产业深层变革</h4></a>,\n",
       " <a href=\"http://www.zqrb.cn/gscy/gongsi/2025-09-14/A1757756652942.html\" target=\"_blank\"><h4>13 中沁控股与国<em>台</em>达成战略合作</h4></a>,\n",
       " <a href=\"http://www.zqrb.cn/review/chanjingpinglun/2025-09-14/A1757756652968.html\" target=\"_blank\"><h4>14 甲骨文靠“卖铲子”出圈折射科技产业深层变革</h4></a>,\n",
       " <a href=\"http://www.zqrb.cn/gscy/gongsi/2025-09-08/A1757314940156.html\" target=\"_blank\"><h4>15 主动运用政策工具进行市值管理 <em>茅</em><em>台</em>集团获最高27亿元增持贷款支持</h4></a>]"
      ]
     },
     "execution_count": 15,
     "metadata": {},
     "output_type": "execute_result"
    }
   ],
   "source": [
    "b"
   ]
  },
  {
   "cell_type": "code",
   "execution_count": 16,
   "id": "580fe207",
   "metadata": {},
   "outputs": [
    {
     "data": {
      "text/plain": [
       "<a href=\"http://www.zqrb.cn/gscy/gongsi/2025-09-29/A1759146241623.html\" target=\"_blank\"><h4>1 <em>茅</em><em>台</em>酒市场逆势回暖  释放了什么信号？</h4></a>"
      ]
     },
     "execution_count": 16,
     "metadata": {},
     "output_type": "execute_result"
    }
   ],
   "source": [
    "b[0]"
   ]
  },
  {
   "cell_type": "code",
   "execution_count": 17,
   "id": "d9cf1d63",
   "metadata": {},
   "outputs": [
    {
     "data": {
      "text/plain": [
       "'1 茅台酒市场逆势回暖  释放了什么信号？'"
      ]
     },
     "execution_count": 17,
     "metadata": {},
     "output_type": "execute_result"
    }
   ],
   "source": [
    "b[0].text"
   ]
  },
  {
   "cell_type": "code",
   "execution_count": 19,
   "id": "a011d06e",
   "metadata": {},
   "outputs": [
    {
     "name": "stdout",
     "output_type": "stream",
     "text": [
      "1 茅台酒市场逆势回暖  释放了什么信号？\n",
      "2 9月份动销环比翻倍增长、同比增长超20%  茅台“秋收行动”传递回暖强信号\n",
      "3 A股市值格局变化折射出三大新趋势\n",
      "4 今日视点：A股市值格局变化折射出三大新趋势\n",
      "5 贵州茅台酒秋季十六省市场调研在青海收官\n",
      "6 午评：创业板指半日大涨2.22%，宁德时代再创新高\n",
      "7 A股历史一刻！宁德时代总市值超越贵州茅台\n",
      "8 首款元宇宙主题白酒“国台元宇宙·启元”上市热销\n",
      "9 贵州茅台生物科技研发有限责任公司成立\n",
      "10 开盘：沪指跌0.01%，创业板指跌0.88，贵金属及消费电子概念股普跌\n",
      "11 贵州酱酒行业分化加速 长远发展前景广阔\n",
      "12 甲骨文靠“卖铲子”出圈折射科技产业深层变革\n",
      "13 中沁控股与国台达成战略合作\n",
      "14 甲骨文靠“卖铲子”出圈折射科技产业深层变革\n",
      "15 主动运用政策工具进行市值管理 茅台集团获最高27亿元增持贷款支持\n"
     ]
    }
   ],
   "source": [
    "for i in range(len(b)):\n",
    "    print(b[i].text)"
   ]
  },
  {
   "cell_type": "code",
   "execution_count": 20,
   "id": "ab81e471",
   "metadata": {},
   "outputs": [],
   "source": [
    "ab='<a href=\"http://www.zqrb.cn/gscy/gongsi/2025-09-29/A1759146241623.html\" target=\"_blank\"><h4>1 <em>茅</em><em>台</em>酒市场逆势回暖  释放了什么信号？</h4></a>'"
   ]
  },
  {
   "cell_type": "code",
   "execution_count": 21,
   "id": "10be2df2",
   "metadata": {},
   "outputs": [
    {
     "data": {
      "text/plain": [
       "'<a href=\"http://www.zqrb.cn/gscy/gongsi/2025-09-29/A1759146241623.html\" target=\"_blank\"><h4>1 <em>茅</em><em>台</em>酒市场逆势回暖  释放了什么信号？</h4></a>'"
      ]
     },
     "execution_count": 21,
     "metadata": {},
     "output_type": "execute_result"
    }
   ],
   "source": [
    "ab"
   ]
  },
  {
   "cell_type": "code",
   "execution_count": 22,
   "id": "7dd4b974",
   "metadata": {},
   "outputs": [
    {
     "ename": "AttributeError",
     "evalue": "'str' object has no attribute 'text'",
     "output_type": "error",
     "traceback": [
      "\u001b[1;31m---------------------------------------------------------------------------\u001b[0m",
      "\u001b[1;31mAttributeError\u001b[0m                            Traceback (most recent call last)",
      "\u001b[1;32m<ipython-input-22-1afc3f9ccb07>\u001b[0m in \u001b[0;36m<module>\u001b[1;34m\u001b[0m\n\u001b[1;32m----> 1\u001b[1;33m \u001b[0mab\u001b[0m\u001b[1;33m.\u001b[0m\u001b[0mtext\u001b[0m\u001b[1;33m\u001b[0m\u001b[1;33m\u001b[0m\u001b[0m\n\u001b[0m",
      "\u001b[1;31mAttributeError\u001b[0m: 'str' object has no attribute 'text'"
     ]
    }
   ],
   "source": [
    "ab.text"
   ]
  },
  {
   "cell_type": "code",
   "execution_count": 23,
   "id": "55dd4c2e",
   "metadata": {},
   "outputs": [
    {
     "data": {
      "text/plain": [
       "<a href=\"http://www.zqrb.cn/gscy/gongsi/2025-09-29/A1759146241623.html\" target=\"_blank\"><h4>1 <em>茅</em><em>台</em>酒市场逆势回暖  释放了什么信号？</h4></a>"
      ]
     },
     "execution_count": 23,
     "metadata": {},
     "output_type": "execute_result"
    }
   ],
   "source": [
    "b[0]"
   ]
  },
  {
   "cell_type": "code",
   "execution_count": 24,
   "id": "710cb449",
   "metadata": {},
   "outputs": [
    {
     "data": {
      "text/plain": [
       "'http://www.zqrb.cn/gscy/gongsi/2025-09-29/A1759146241623.html'"
      ]
     },
     "execution_count": 24,
     "metadata": {},
     "output_type": "execute_result"
    }
   ],
   "source": [
    "b[0]['href']"
   ]
  },
  {
   "cell_type": "code",
   "execution_count": 25,
   "id": "ff99d88e",
   "metadata": {},
   "outputs": [
    {
     "data": {
      "text/plain": [
       "'_blank'"
      ]
     },
     "execution_count": 25,
     "metadata": {},
     "output_type": "execute_result"
    }
   ],
   "source": [
    "b[0]['target']"
   ]
  },
  {
   "cell_type": "code",
   "execution_count": 26,
   "id": "8ad0dfe7",
   "metadata": {},
   "outputs": [
    {
     "name": "stdout",
     "output_type": "stream",
     "text": [
      "1 茅台酒市场逆势回暖  释放了什么信号？\n",
      "http://www.zqrb.cn/gscy/gongsi/2025-09-29/A1759146241623.html\n",
      "2 9月份动销环比翻倍增长、同比增长超20%  茅台“秋收行动”传递回暖强信号\n",
      "http://www.zqrb.cn/shipin/shipinhangye/2025-09-27/A1758901387553.html\n",
      "3 A股市值格局变化折射出三大新趋势\n",
      "http://www.zqrb.cn/review/gushireping/2025-09-26/A1758790044671.html\n",
      "4 今日视点：A股市值格局变化折射出三大新趋势\n",
      "http://epaper.zqrb.cn/html/2025-09/26/content_1185470.htm\n",
      "5 贵州茅台酒秋季十六省市场调研在青海收官\n",
      "http://www.zqrb.cn/gscy/qiyexinxi/2025-09-26/A1758875478253.html\n",
      "6 午评：创业板指半日大涨2.22%，宁德时代再创新高\n",
      "http://www.zqrb.cn/stock/zuixinbobao/2025-09-25/A1758771410384.html\n",
      "7 A股历史一刻！宁德时代总市值超越贵州茅台\n",
      "http://www.zqrb.cn/gscy/gongsi/2025-09-25/A1758775785170.html\n",
      "8 首款元宇宙主题白酒“国台元宇宙·启元”上市热销\n",
      "http://www.zqrb.cn/shipin/shipinhangye/2025-09-23/A1758591090099.html\n",
      "9 贵州茅台生物科技研发有限责任公司成立\n",
      "http://www.zqrb.cn/gscy/qiyexinxi/2025-09-22/A1758531062888.html\n",
      "10 开盘：沪指跌0.01%，创业板指跌0.88，贵金属及消费电子概念股普跌\n",
      "http://www.zqrb.cn/stock/zuixinbobao/2025-09-18/A1758159528242.html\n",
      "11 贵州酱酒行业分化加速 长远发展前景广阔\n",
      "http://www.zqrb.cn/shipin/shipinhangye/2025-09-18/A1758171850345.html\n",
      "12 甲骨文靠“卖铲子”出圈折射科技产业深层变革\n",
      "http://epaper.zqrb.cn/html/2025-09/15/content_1182488.htm\n",
      "13 中沁控股与国台达成战略合作\n",
      "http://www.zqrb.cn/gscy/gongsi/2025-09-14/A1757756652942.html\n",
      "14 甲骨文靠“卖铲子”出圈折射科技产业深层变革\n",
      "http://www.zqrb.cn/review/chanjingpinglun/2025-09-14/A1757756652968.html\n",
      "15 主动运用政策工具进行市值管理 茅台集团获最高27亿元增持贷款支持\n",
      "http://www.zqrb.cn/gscy/gongsi/2025-09-08/A1757314940156.html\n"
     ]
    }
   ],
   "source": [
    "for i in range(len(b)):\n",
    "    print(b[i].text)\n",
    "    print(b[i]['href'])"
   ]
  },
  {
   "cell_type": "code",
   "execution_count": 27,
   "id": "137e1b27",
   "metadata": {},
   "outputs": [
    {
     "data": {
      "text/plain": [
       "[<span class=\"popup\">\n",
       " <a href=\"#\" style=\"position:relative; width:90px; height:30px; font-size:20px; text-align:left\">\n",
       " <img heigth=\"20\" src=\"./img/question.png\" style=\"margin-left:10px;vertical-align:bottom;\" width=\"20\"/>\n",
       " <span style=\"position:absolute; top:-10px; left:60px;width:495px; height:80px; font-size:14px; background-color:#f2f2f2; color:#000\">\n",
       " \t\t\t\t          搜索技巧<br/>\n",
       " \t\t\t\t\t\t  如想搜索“证券日报”但是不想搜索结果中有“基金”，请输入“证券日报 -基金”<br/>\n",
       " 如不确定搜索的关键词，请使用模糊搜索<br/>\n",
       " 如不确定关键词的位置，请使用全文搜索<br/>\n",
       " </span>\n",
       " </a>\n",
       " <p class=\"result\">大约有<b>4,352</b>项符合查询结果。（搜索耗时：0.015982秒）\n",
       "   </p></span>,\n",
       " <span style=\"position:absolute; top:-10px; left:60px;width:495px; height:80px; font-size:14px; background-color:#f2f2f2; color:#000\">\n",
       " \t\t\t\t          搜索技巧<br/>\n",
       " \t\t\t\t\t\t  如想搜索“证券日报”但是不想搜索结果中有“基金”，请输入“证券日报 -基金”<br/>\n",
       " 如不确定搜索的关键词，请使用模糊搜索<br/>\n",
       " 如不确定关键词的位置，请使用全文搜索<br/>\n",
       " </span>,\n",
       " <span><strong>作者:</strong>冯雨瑶</span>,\n",
       " <span><strong>时间:</strong>2025年09月29日</span>,\n",
       " <span><strong>栏目:</strong>上市公司</span>,\n",
       " <span><strong>媒体:</strong>证券日报网</span>,\n",
       " <span><strong>作者:</strong></span>,\n",
       " <span><strong>时间:</strong>2025年09月27日</span>,\n",
       " <span><strong>栏目:</strong>食品行业</span>,\n",
       " <span><strong>媒体:</strong>证券日报网</span>,\n",
       " <span><strong>作者:</strong>苏向杲</span>,\n",
       " <span><strong>时间:</strong>2025年09月26日</span>,\n",
       " <span><strong>栏目:</strong>股市热评</span>,\n",
       " <span><strong>媒体:</strong>证券日报</span>,\n",
       " <span><strong>作者:</strong></span>,\n",
       " <span><strong>时间:</strong>2025年09月26日</span>,\n",
       " <span><strong>栏目:</strong>A1</span>,\n",
       " <span><strong>媒体:</strong>证券日报电子报</span>,\n",
       " <span><strong>作者:</strong></span>,\n",
       " <span><strong>时间:</strong>2025年09月26日</span>,\n",
       " <span><strong>栏目:</strong>企业信息</span>,\n",
       " <span><strong>媒体:</strong>证券日报网</span>,\n",
       " <span><strong>作者:</strong></span>,\n",
       " <span><strong>时间:</strong>2025年09月25日</span>,\n",
       " <span><strong>栏目:</strong>最新播报</span>,\n",
       " <span><strong>媒体:</strong>新浪财经</span>,\n",
       " <span><strong>作者:</strong>李婷 冯雨瑶</span>,\n",
       " <span><strong>时间:</strong>2025年09月25日</span>,\n",
       " <span><strong>栏目:</strong>上市公司</span>,\n",
       " <span><strong>媒体:</strong>证券日报网</span>,\n",
       " <span><strong>作者:</strong>梁傲男</span>,\n",
       " <span><strong>时间:</strong>2025年09月23日</span>,\n",
       " <span><strong>栏目:</strong>食品行业</span>,\n",
       " <span><strong>媒体:</strong>证券日报网</span>,\n",
       " <span><strong>作者:</strong>袁传玺</span>,\n",
       " <span><strong>时间:</strong>2025年09月22日</span>,\n",
       " <span><strong>栏目:</strong>企业信息</span>,\n",
       " <span><strong>媒体:</strong>证券日报网</span>,\n",
       " <span><strong>作者:</strong></span>,\n",
       " <span><strong>时间:</strong>2025年09月18日</span>,\n",
       " <span><strong>栏目:</strong>最新播报</span>,\n",
       " <span><strong>媒体:</strong>金融界</span>,\n",
       " <span><strong>作者:</strong>梁傲男</span>,\n",
       " <span><strong>时间:</strong>2025年09月18日</span>,\n",
       " <span><strong>栏目:</strong>食品行业</span>,\n",
       " <span><strong>媒体:</strong>证券日报网</span>,\n",
       " <span><strong>作者:</strong></span>,\n",
       " <span><strong>时间:</strong>2025年09月15日</span>,\n",
       " <span><strong>栏目:</strong>A4</span>,\n",
       " <span><strong>媒体:</strong>证券日报电子报</span>,\n",
       " <span><strong>作者:</strong>梁傲男</span>,\n",
       " <span><strong>时间:</strong>2025年09月14日</span>,\n",
       " <span><strong>栏目:</strong>上市公司</span>,\n",
       " <span><strong>媒体:</strong>证券日报网</span>,\n",
       " <span><strong>作者:</strong>李春莲</span>,\n",
       " <span><strong>时间:</strong>2025年09月14日</span>,\n",
       " <span><strong>栏目:</strong>产经评论</span>,\n",
       " <span><strong>媒体:</strong>证券日报</span>,\n",
       " <span><strong>作者:</strong>冯雨瑶</span>,\n",
       " <span><strong>时间:</strong>2025年09月08日</span>,\n",
       " <span><strong>栏目:</strong>上市公司</span>,\n",
       " <span><strong>媒体:</strong>证券日报网</span>]"
      ]
     },
     "execution_count": 27,
     "metadata": {},
     "output_type": "execute_result"
    }
   ],
   "source": [
    "soup.select('span')"
   ]
  },
  {
   "cell_type": "code",
   "execution_count": 28,
   "id": "c6100436",
   "metadata": {},
   "outputs": [
    {
     "data": {
      "text/plain": [
       "[<span><strong>作者:</strong>冯雨瑶</span>,\n",
       " <span><strong>时间:</strong>2025年09月29日</span>,\n",
       " <span><strong>栏目:</strong>上市公司</span>,\n",
       " <span><strong>媒体:</strong>证券日报网</span>,\n",
       " <span><strong>作者:</strong></span>,\n",
       " <span><strong>时间:</strong>2025年09月27日</span>,\n",
       " <span><strong>栏目:</strong>食品行业</span>,\n",
       " <span><strong>媒体:</strong>证券日报网</span>,\n",
       " <span><strong>作者:</strong>苏向杲</span>,\n",
       " <span><strong>时间:</strong>2025年09月26日</span>,\n",
       " <span><strong>栏目:</strong>股市热评</span>,\n",
       " <span><strong>媒体:</strong>证券日报</span>,\n",
       " <span><strong>作者:</strong></span>,\n",
       " <span><strong>时间:</strong>2025年09月26日</span>,\n",
       " <span><strong>栏目:</strong>A1</span>,\n",
       " <span><strong>媒体:</strong>证券日报电子报</span>,\n",
       " <span><strong>作者:</strong></span>,\n",
       " <span><strong>时间:</strong>2025年09月26日</span>,\n",
       " <span><strong>栏目:</strong>企业信息</span>,\n",
       " <span><strong>媒体:</strong>证券日报网</span>,\n",
       " <span><strong>作者:</strong></span>,\n",
       " <span><strong>时间:</strong>2025年09月25日</span>,\n",
       " <span><strong>栏目:</strong>最新播报</span>,\n",
       " <span><strong>媒体:</strong>新浪财经</span>,\n",
       " <span><strong>作者:</strong>李婷 冯雨瑶</span>,\n",
       " <span><strong>时间:</strong>2025年09月25日</span>,\n",
       " <span><strong>栏目:</strong>上市公司</span>,\n",
       " <span><strong>媒体:</strong>证券日报网</span>,\n",
       " <span><strong>作者:</strong>梁傲男</span>,\n",
       " <span><strong>时间:</strong>2025年09月23日</span>,\n",
       " <span><strong>栏目:</strong>食品行业</span>,\n",
       " <span><strong>媒体:</strong>证券日报网</span>,\n",
       " <span><strong>作者:</strong>袁传玺</span>,\n",
       " <span><strong>时间:</strong>2025年09月22日</span>,\n",
       " <span><strong>栏目:</strong>企业信息</span>,\n",
       " <span><strong>媒体:</strong>证券日报网</span>,\n",
       " <span><strong>作者:</strong></span>,\n",
       " <span><strong>时间:</strong>2025年09月18日</span>,\n",
       " <span><strong>栏目:</strong>最新播报</span>,\n",
       " <span><strong>媒体:</strong>金融界</span>,\n",
       " <span><strong>作者:</strong>梁傲男</span>,\n",
       " <span><strong>时间:</strong>2025年09月18日</span>,\n",
       " <span><strong>栏目:</strong>食品行业</span>,\n",
       " <span><strong>媒体:</strong>证券日报网</span>,\n",
       " <span><strong>作者:</strong></span>,\n",
       " <span><strong>时间:</strong>2025年09月15日</span>,\n",
       " <span><strong>栏目:</strong>A4</span>,\n",
       " <span><strong>媒体:</strong>证券日报电子报</span>,\n",
       " <span><strong>作者:</strong>梁傲男</span>,\n",
       " <span><strong>时间:</strong>2025年09月14日</span>,\n",
       " <span><strong>栏目:</strong>上市公司</span>,\n",
       " <span><strong>媒体:</strong>证券日报网</span>,\n",
       " <span><strong>作者:</strong>李春莲</span>,\n",
       " <span><strong>时间:</strong>2025年09月14日</span>,\n",
       " <span><strong>栏目:</strong>产经评论</span>,\n",
       " <span><strong>媒体:</strong>证券日报</span>,\n",
       " <span><strong>作者:</strong>冯雨瑶</span>,\n",
       " <span><strong>时间:</strong>2025年09月08日</span>,\n",
       " <span><strong>栏目:</strong>上市公司</span>,\n",
       " <span><strong>媒体:</strong>证券日报网</span>]"
      ]
     },
     "execution_count": 28,
     "metadata": {},
     "output_type": "execute_result"
    }
   ],
   "source": [
    "soup.select('p span')"
   ]
  },
  {
   "cell_type": "code",
   "execution_count": 29,
   "id": "e97bb314",
   "metadata": {},
   "outputs": [],
   "source": [
    "aa=soup.select('p span')"
   ]
  },
  {
   "cell_type": "code",
   "execution_count": 30,
   "id": "7bbdca71",
   "metadata": {},
   "outputs": [
    {
     "data": {
      "text/plain": [
       "60"
      ]
     },
     "execution_count": 30,
     "metadata": {},
     "output_type": "execute_result"
    }
   ],
   "source": [
    "len(aa)"
   ]
  },
  {
   "cell_type": "code",
   "execution_count": 31,
   "id": "edaa4e96",
   "metadata": {},
   "outputs": [
    {
     "data": {
      "text/plain": [
       "<span><strong>作者:</strong>冯雨瑶</span>"
      ]
     },
     "execution_count": 31,
     "metadata": {},
     "output_type": "execute_result"
    }
   ],
   "source": [
    "aa[0]"
   ]
  },
  {
   "cell_type": "code",
   "execution_count": 32,
   "id": "05eb28f5",
   "metadata": {},
   "outputs": [
    {
     "data": {
      "text/plain": [
       "<span><strong>时间:</strong>2025年09月29日</span>"
      ]
     },
     "execution_count": 32,
     "metadata": {},
     "output_type": "execute_result"
    }
   ],
   "source": [
    "aa[1]"
   ]
  },
  {
   "cell_type": "code",
   "execution_count": 33,
   "id": "b76ae723",
   "metadata": {},
   "outputs": [
    {
     "data": {
      "text/plain": [
       "<span><strong>时间:</strong>2025年09月27日</span>"
      ]
     },
     "execution_count": 33,
     "metadata": {},
     "output_type": "execute_result"
    }
   ],
   "source": [
    "aa[5]"
   ]
  },
  {
   "cell_type": "code",
   "execution_count": 34,
   "id": "9405fe9a",
   "metadata": {},
   "outputs": [
    {
     "data": {
      "text/plain": [
       "<span><strong>时间:</strong>2025年09月26日</span>"
      ]
     },
     "execution_count": 34,
     "metadata": {},
     "output_type": "execute_result"
    }
   ],
   "source": [
    "aa[9]"
   ]
  },
  {
   "cell_type": "code",
   "execution_count": 35,
   "id": "00e863c3",
   "metadata": {},
   "outputs": [],
   "source": [
    "bb=[]\n",
    "for i in range(15):\n",
    "    bb.append(aa[4*i+1])"
   ]
  },
  {
   "cell_type": "code",
   "execution_count": 36,
   "id": "874392b7",
   "metadata": {},
   "outputs": [
    {
     "data": {
      "text/plain": [
       "[<span><strong>时间:</strong>2025年09月29日</span>,\n",
       " <span><strong>时间:</strong>2025年09月27日</span>,\n",
       " <span><strong>时间:</strong>2025年09月26日</span>,\n",
       " <span><strong>时间:</strong>2025年09月26日</span>,\n",
       " <span><strong>时间:</strong>2025年09月26日</span>,\n",
       " <span><strong>时间:</strong>2025年09月25日</span>,\n",
       " <span><strong>时间:</strong>2025年09月25日</span>,\n",
       " <span><strong>时间:</strong>2025年09月23日</span>,\n",
       " <span><strong>时间:</strong>2025年09月22日</span>,\n",
       " <span><strong>时间:</strong>2025年09月18日</span>,\n",
       " <span><strong>时间:</strong>2025年09月18日</span>,\n",
       " <span><strong>时间:</strong>2025年09月15日</span>,\n",
       " <span><strong>时间:</strong>2025年09月14日</span>,\n",
       " <span><strong>时间:</strong>2025年09月14日</span>,\n",
       " <span><strong>时间:</strong>2025年09月08日</span>]"
      ]
     },
     "execution_count": 36,
     "metadata": {},
     "output_type": "execute_result"
    }
   ],
   "source": [
    "bb"
   ]
  },
  {
   "cell_type": "code",
   "execution_count": 37,
   "id": "8e1f479b",
   "metadata": {},
   "outputs": [
    {
     "data": {
      "text/plain": [
       "<span><strong>时间:</strong>2025年09月29日</span>"
      ]
     },
     "execution_count": 37,
     "metadata": {},
     "output_type": "execute_result"
    }
   ],
   "source": [
    "bb[0]"
   ]
  },
  {
   "cell_type": "code",
   "execution_count": 38,
   "id": "8f8e0ac6",
   "metadata": {},
   "outputs": [
    {
     "data": {
      "text/plain": [
       "'时间:2025年09月29日'"
      ]
     },
     "execution_count": 38,
     "metadata": {},
     "output_type": "execute_result"
    }
   ],
   "source": [
    "bb[0].text"
   ]
  },
  {
   "cell_type": "code",
   "execution_count": 39,
   "id": "81afb207",
   "metadata": {},
   "outputs": [],
   "source": [
    "page=[]\n",
    "for i in range(10):\n",
    "    page.append('http://search.zqrb.cn/search.php?src=all&q=贵州茅台&f=_all&s=newsdate_DESC&&&&&&p='+str(i+1))"
   ]
  },
  {
   "cell_type": "code",
   "execution_count": 40,
   "id": "0ddd7ee1",
   "metadata": {},
   "outputs": [
    {
     "data": {
      "text/plain": [
       "['http://search.zqrb.cn/search.php?src=all&q=贵州茅台&f=_all&s=newsdate_DESC&&&&&&p=1',\n",
       " 'http://search.zqrb.cn/search.php?src=all&q=贵州茅台&f=_all&s=newsdate_DESC&&&&&&p=2',\n",
       " 'http://search.zqrb.cn/search.php?src=all&q=贵州茅台&f=_all&s=newsdate_DESC&&&&&&p=3',\n",
       " 'http://search.zqrb.cn/search.php?src=all&q=贵州茅台&f=_all&s=newsdate_DESC&&&&&&p=4',\n",
       " 'http://search.zqrb.cn/search.php?src=all&q=贵州茅台&f=_all&s=newsdate_DESC&&&&&&p=5',\n",
       " 'http://search.zqrb.cn/search.php?src=all&q=贵州茅台&f=_all&s=newsdate_DESC&&&&&&p=6',\n",
       " 'http://search.zqrb.cn/search.php?src=all&q=贵州茅台&f=_all&s=newsdate_DESC&&&&&&p=7',\n",
       " 'http://search.zqrb.cn/search.php?src=all&q=贵州茅台&f=_all&s=newsdate_DESC&&&&&&p=8',\n",
       " 'http://search.zqrb.cn/search.php?src=all&q=贵州茅台&f=_all&s=newsdate_DESC&&&&&&p=9',\n",
       " 'http://search.zqrb.cn/search.php?src=all&q=贵州茅台&f=_all&s=newsdate_DESC&&&&&&p=10']"
      ]
     },
     "execution_count": 40,
     "metadata": {},
     "output_type": "execute_result"
    }
   ],
   "source": [
    "page"
   ]
  },
  {
   "cell_type": "code",
   "execution_count": null,
   "id": "615a393d",
   "metadata": {},
   "outputs": [],
   "source": [
    "for web in page:\n",
    "    res=requests.get(web,headers).text\n",
    "    "
   ]
  }
 ],
 "metadata": {
  "kernelspec": {
   "display_name": "Python 3",
   "language": "python",
   "name": "python3"
  },
  "language_info": {
   "codemirror_mode": {
    "name": "ipython",
    "version": 3
   },
   "file_extension": ".py",
   "mimetype": "text/x-python",
   "name": "python",
   "nbconvert_exporter": "python",
   "pygments_lexer": "ipython3",
   "version": "3.8.8"
  }
 },
 "nbformat": 4,
 "nbformat_minor": 5
}
