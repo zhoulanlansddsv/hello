{
 "cells": [
  {
   "cell_type": "code",
   "execution_count": 2,
   "metadata": {},
   "outputs": [
    {
     "name": "stdout",
     "output_type": "stream",
     "text": [
      "<re.Match object; span=(3, 6), match='123'>\n"
     ]
    }
   ],
   "source": [
    "# 正则表达式\n",
    "#例1 \n",
    "import re\n",
    "reg=r'\\d+' #匹配连续的多个数值\n",
    "m=re.search(reg,\"abc123cd\")\n",
    "print(m)"
   ]
  },
  {
   "cell_type": "code",
   "execution_count": 4,
   "metadata": {},
   "outputs": [
    {
     "name": "stdout",
     "output_type": "stream",
     "text": [
      "<re.Match object; span=(7, 8), match='d'>\n"
     ]
    }
   ],
   "source": [
    "#例2\n",
    "# （1）字符“\\d”匹配0-9之间的一个数值, \\d=[0-9]=[0123456789]\n",
    "import re\n",
    "reg=r'd'\n",
    "m=re.search(reg,\"abc123cd\")\n",
    "print(m)"
   ]
  },
  {
   "cell_type": "code",
   "execution_count": 5,
   "metadata": {},
   "outputs": [
    {
     "name": "stdout",
     "output_type": "stream",
     "text": [
      "<re.Match object; span=(3, 7), match='b123'>\n"
     ]
    }
   ],
   "source": [
    "#例3\n",
    "# （2）“+”重复前面一个匹配字符一次或者多次\n",
    "import re\n",
    "reg=r\"b\\d+\"\n",
    "m=re.search(reg,\"a12b123c\")\n",
    "print(m)"
   ]
  },
  {
   "cell_type": "code",
   "execution_count": 7,
   "metadata": {},
   "outputs": [
    {
     "name": "stdout",
     "output_type": "stream",
     "text": [
      "<re.Match object; span=(2, 4), match='ab'>\n",
      "<re.Match object; span=(0, 1), match='a'>\n"
     ]
    }
   ],
   "source": [
    "#例4\n",
    "#（3）“*”重复前面一个匹配字符零次或者多次\n",
    "import re \n",
    "reg=r\"ab+\"\n",
    "m=re.search(reg,\"acabc\")\n",
    "print(m)\n",
    "reg=r\"ab*\"\n",
    "m=re.search(reg,\"acabc\")\n",
    "print(m)\n"
   ]
  },
  {
   "cell_type": "code",
   "execution_count": 8,
   "metadata": {},
   "outputs": [
    {
     "name": "stdout",
     "output_type": "stream",
     "text": [
      "<re.Match object; span=(0, 2), match='ab'>\n"
     ]
    }
   ],
   "source": [
    "#例5\n",
    "#（4）“？”重复前面一个匹配字符零次或者一次\n",
    "import re\n",
    "reg=r\"ab?\"\n",
    "m=re.search(reg,\"abbcabc\")\n",
    "print(m)\n"
   ]
  },
  {
   "cell_type": "code",
   "execution_count": 9,
   "metadata": {},
   "outputs": [
    {
     "name": "stdout",
     "output_type": "stream",
     "text": [
      "<re.Match object; span=(1, 4), match='axb'>\n"
     ]
    }
   ],
   "source": [
    "#例6\n",
    "#（6）“.”代表任何一个字符\n",
    "import re\n",
    "s=\"xaxby\"\n",
    "m=re.search(r\"a.b\",s)\n",
    "print(m)"
   ]
  },
  {
   "cell_type": "code",
   "execution_count": 10,
   "metadata": {},
   "outputs": [
    {
     "name": "stdout",
     "output_type": "stream",
     "text": [
      "<re.Match object; span=(2, 4), match='ab'>\n"
     ]
    }
   ],
   "source": [
    "#例7\n",
    "#“|”代表把左右分成两个部分,在正则表达式中表示“或”\n",
    "import re\n",
    "s=\"xaabababy\"\n",
    "m=re.search(r\"ab|ba\",s)\n",
    "print(m)"
   ]
  },
  {
   "cell_type": "code",
   "execution_count": 11,
   "metadata": {},
   "outputs": [
    {
     "name": "stdout",
     "output_type": "stream",
     "text": [
      "<re.Match object; span=(1, 4), match='a\\nb'>\n"
     ]
    }
   ],
   "source": [
    "#例8\n",
    "#特殊字符使用反斜线“\\”来引导，例如“\\r”,\"\\n\",\"\\t\",\"\\\\\",分别表示 回车、换行、制表符号、反斜线本身\n",
    "import re\n",
    "reg=r\"a\\nb?\"\n",
    "m=re.search(reg,\"ca\\nbcabc\")\n",
    "print(m)\n"
   ]
  },
  {
   "cell_type": "code",
   "execution_count": 12,
   "metadata": {},
   "outputs": [
    {
     "name": "stdout",
     "output_type": "stream",
     "text": [
      "<re.Match object; span=(4, 7), match='car'>\n"
     ]
    }
   ],
   "source": [
    "#例9\n",
    "#字符“\\b”表示单词结尾，包括各种空白字符或者字符串结尾\n",
    "import re\n",
    "reg=r\"car\\b\"\n",
    "m=re.search(reg,\"The car is black\")\n",
    "print(m)"
   ]
  },
  {
   "cell_type": "code",
   "execution_count": 13,
   "metadata": {},
   "outputs": [
    {
     "name": "stdout",
     "output_type": "stream",
     "text": [
      "<re.Match object; span=(2, 5), match='x2y'>\n"
     ]
    }
   ],
   "source": [
    "#例10\n",
    "#\"[]\"中的字符表示任意选择一个，如果字符是ASCII码中连续的一组，那么可以使用“-”符号链接，例如[0-9]表示0-9的其中一个数字，\n",
    "#[A-Z]表示A-Z的其中一个大写字符，[0-9A-Z]表示0-9的其中一个数字或者是A-Z的其中一个大写字符\n",
    "import re\n",
    "reg=r\"x[0-9]y\"\n",
    "m=re.search(reg,\"xyx2y\")\n",
    "print(m)"
   ]
  },
  {
   "cell_type": "code",
   "execution_count": 14,
   "metadata": {},
   "outputs": [
    {
     "name": "stdout",
     "output_type": "stream",
     "text": [
      "<re.Match object; span=(6, 9), match='xcy'>\n"
     ]
    }
   ],
   "source": [
    "#例11\n",
    "#“^”出现在[]的第一个字符位置，就代表取反，例如[^ab0-9]表示不是a、b,也不是0-9的数字\n",
    "import re\n",
    "reg=r\"x[^ab0-9]y\"\n",
    "m=re.search(reg,\"xayx2yxcy\")\n",
    "print(m)"
   ]
  },
  {
   "cell_type": "code",
   "execution_count": 15,
   "metadata": {},
   "outputs": [
    {
     "name": "stdout",
     "output_type": "stream",
     "text": [
      "<re.Match object; span=(1, 4), match='a b'>\n"
     ]
    }
   ],
   "source": [
    "#例12\n",
    "#“\\s”匹配任何空白字符，等价“[\\r\\n\\x20\\t\\f\\v]”\n",
    "import re\n",
    "s=\"la ba\\tbxy\"\n",
    "\n",
    "m=re.search(r\"a\\sb\",s)\n",
    "print(m)"
   ]
  },
  {
   "cell_type": "code",
   "execution_count": 18,
   "metadata": {},
   "outputs": [
    {
     "name": "stdout",
     "output_type": "stream",
     "text": [
      "<re.Match object; span=(0, 7), match='Python_'>\n"
     ]
    }
   ],
   "source": [
    "#例13\n",
    "#“\\w”匹配包括下划线内的单词字符，等价于“[a-zA-Z0-9_]”\n",
    "import re\n",
    "reg=r\"\\w+\"\n",
    "m=re.search(reg,\"Python_ is easy_\")\n",
    "print(m)"
   ]
  },
  {
   "cell_type": "code",
   "execution_count": 19,
   "metadata": {},
   "outputs": [
    {
     "name": "stdout",
     "output_type": "stream",
     "text": [
      "None\n"
     ]
    }
   ],
   "source": [
    "#例14\n",
    "#“^”匹配字符串的开头位置\n",
    "import re\n",
    "reg=r\"^ab\"\n",
    "m=re.search(reg,\"cabcab\")\n",
    "print(m)"
   ]
  },
  {
   "cell_type": "code",
   "execution_count": 20,
   "metadata": {},
   "outputs": [
    {
     "name": "stdout",
     "output_type": "stream",
     "text": [
      "<re.Match object; span=(3, 5), match='ab'>\n"
     ]
    }
   ],
   "source": [
    "#例15\n",
    "#“$”字符匹配字符串的结尾位置\n",
    "import re\n",
    "reg=r\"ab$\"\n",
    "m=re.search(reg,\"abcab\")\n",
    "print(m)"
   ]
  },
  {
   "cell_type": "code",
   "execution_count": 21,
   "metadata": {},
   "outputs": [
    {
     "name": "stdout",
     "output_type": "stream",
     "text": [
      "<re.Match object; span=(0, 4), match='abab'>\n"
     ]
    }
   ],
   "source": [
    "#例16\n",
    "#使用（）可以把括号内的内容看作一个整体，经常与“+”等通配符连续使用\n",
    "import re\n",
    "reg=r\"(ab)+\"\n",
    "m=re.search(reg,\"ababcab\")\n",
    "print(m)"
   ]
  },
  {
   "cell_type": "markdown",
   "metadata": {},
   "source": [
    "匹配Email地址的正则表达式：\\w+([-+.]\\w+)*@\\w+([-.]\\w+)*\\.\\w+([-.]\\w+)*\n",
    "　　评注：表单验证时很实用\n",
    "　　匹配网址URL的正则表达式：[a-zA-z]+://[^\\s]*\n",
    "　　评注：网上流传的版本功能很有限，上面这个基本可以满足需求\n",
    "　　匹配帐号是否合法(字母开头，允许5-16字节，允许字母数字下划线)：^[a-zA-Z][a-zA-Z0-9_]{4,15}$\n",
    "　　评注：表单验证时很实用\n",
    "　　匹配国内电话号码：\\d{3}-\\d{8}|\\d{4}-\\d{7}\n",
    "　　评注：匹配形式如 0511-4405222 或 021-87888822\n",
    "　　匹配腾讯QQ号：[1-9][0-9]{4,}\n",
    "　　评注：腾讯QQ号从10000开始\n",
    "　　匹配中国邮政编码：[1-9]\\d{5}(?!\\d)\n",
    "　　评注：中国邮政编码为6位数字\n",
    "　　匹配身份证：\\d{15}|\\d{18}\n",
    "　　评注：中国的身份证为15位或18位\n",
    "　　匹配ip地址：\\d+\\.\\d+\\.\\d+\\.\\d+\n",
    "　　评注：提取ip地址时有用\n",
    "　　匹配特定数字：\n",
    "　　^[1-9]\\d*$　 　 //匹配正整数\n",
    "　　^-[1-9]\\d*$ 　 //匹配负整数\n",
    "　　^-?[1-9]\\d*$　　 //匹配整数\n",
    "　　^[1-9]\\d*|0$　 //匹配非负整数（正整数 + 0）\n",
    "　　^-[1-9]\\d*|0$　　 //匹配非正整数（负整数 + 0）\n",
    "　　^[1-9]\\d*\\.\\d*|0\\.\\d*[1-9]\\d*$　　 //匹配正浮点数\n",
    "　　^-([1-9]\\d*\\.\\d*|0\\.\\d*[1-9]\\d*)$　 //匹配负浮点数\n",
    "　　^-?([1-9]\\d*\\.\\d*|0\\.\\d*[1-9]\\d*|0?\\.0+|0)$　 //匹配浮点数\n",
    "　　^[1-9]\\d*\\.\\d*|0\\.\\d*[1-9]\\d*|0?\\.0+|0$　　 //匹配非负浮点数（正浮点数 + 0）\n",
    "　　^(-([1-9]\\d*\\.\\d*|0\\.\\d*[1-9]\\d*))|0?\\.0+|0$　　//匹配非正浮点数（负浮点数 + 0）\n",
    "　　评注：处理大量数据时有用，具体应用时注意修正\n",
    "　　匹配特定字符串：\n",
    "　　^[A-Za-z]+$　　//匹配由26个英文字母组成的字符串\n",
    "　　^[A-Z]+$　　//匹配由26个英文字母的大写组成的字符串\n",
    "　　^[a-z]+$　　//匹配由26个英文字母的小写组成的字符串\n",
    "　　^[A-Za-z0-9]+$　　//匹配由数字和26个英文字母组成的字符串\n",
    "　　^\\w+$　　//匹配由数字、26个英文字母或者下划线组成的字符串\n"
   ]
  }
 ],
 "metadata": {
  "kernelspec": {
   "display_name": "Python 3",
   "language": "python",
   "name": "python3"
  },
  "language_info": {
   "codemirror_mode": {
    "name": "ipython",
    "version": 3
   },
   "file_extension": ".py",
   "mimetype": "text/x-python",
   "name": "python",
   "nbconvert_exporter": "python",
   "pygments_lexer": "ipython3",
   "version": "3.8.8"
  }
 },
 "nbformat": 4,
 "nbformat_minor": 4
}
