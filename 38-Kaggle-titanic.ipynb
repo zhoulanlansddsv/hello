{
 "cells": [
  {
   "cell_type": "code",
   "execution_count": 348,
   "id": "efe25867-ace5-4ae8-85a0-66be7af38825",
   "metadata": {},
   "outputs": [
    {
     "data": {
      "text/html": [
       "<div>\n",
       "<style scoped>\n",
       "    .dataframe tbody tr th:only-of-type {\n",
       "        vertical-align: middle;\n",
       "    }\n",
       "\n",
       "    .dataframe tbody tr th {\n",
       "        vertical-align: top;\n",
       "    }\n",
       "\n",
       "    .dataframe thead th {\n",
       "        text-align: right;\n",
       "    }\n",
       "</style>\n",
       "<table border=\"1\" class=\"dataframe\">\n",
       "  <thead>\n",
       "    <tr style=\"text-align: right;\">\n",
       "      <th></th>\n",
       "      <th>PassengerId</th>\n",
       "      <th>Survived</th>\n",
       "      <th>Pclass</th>\n",
       "      <th>Name</th>\n",
       "      <th>Sex</th>\n",
       "      <th>Age</th>\n",
       "      <th>SibSp</th>\n",
       "      <th>Parch</th>\n",
       "      <th>Ticket</th>\n",
       "      <th>Fare</th>\n",
       "      <th>Cabin</th>\n",
       "      <th>Embarked</th>\n",
       "    </tr>\n",
       "  </thead>\n",
       "  <tbody>\n",
       "    <tr>\n",
       "      <th>0</th>\n",
       "      <td>1</td>\n",
       "      <td>0</td>\n",
       "      <td>3</td>\n",
       "      <td>Braund, Mr. Owen Harris</td>\n",
       "      <td>male</td>\n",
       "      <td>22.0</td>\n",
       "      <td>1</td>\n",
       "      <td>0</td>\n",
       "      <td>A/5 21171</td>\n",
       "      <td>7.2500</td>\n",
       "      <td>NaN</td>\n",
       "      <td>S</td>\n",
       "    </tr>\n",
       "    <tr>\n",
       "      <th>1</th>\n",
       "      <td>2</td>\n",
       "      <td>1</td>\n",
       "      <td>1</td>\n",
       "      <td>Cumings, Mrs. John Bradley (Florence Briggs Th...</td>\n",
       "      <td>female</td>\n",
       "      <td>38.0</td>\n",
       "      <td>1</td>\n",
       "      <td>0</td>\n",
       "      <td>PC 17599</td>\n",
       "      <td>71.2833</td>\n",
       "      <td>C85</td>\n",
       "      <td>C</td>\n",
       "    </tr>\n",
       "    <tr>\n",
       "      <th>2</th>\n",
       "      <td>3</td>\n",
       "      <td>1</td>\n",
       "      <td>3</td>\n",
       "      <td>Heikkinen, Miss. Laina</td>\n",
       "      <td>female</td>\n",
       "      <td>26.0</td>\n",
       "      <td>0</td>\n",
       "      <td>0</td>\n",
       "      <td>STON/O2. 3101282</td>\n",
       "      <td>7.9250</td>\n",
       "      <td>NaN</td>\n",
       "      <td>S</td>\n",
       "    </tr>\n",
       "    <tr>\n",
       "      <th>3</th>\n",
       "      <td>4</td>\n",
       "      <td>1</td>\n",
       "      <td>1</td>\n",
       "      <td>Futrelle, Mrs. Jacques Heath (Lily May Peel)</td>\n",
       "      <td>female</td>\n",
       "      <td>35.0</td>\n",
       "      <td>1</td>\n",
       "      <td>0</td>\n",
       "      <td>113803</td>\n",
       "      <td>53.1000</td>\n",
       "      <td>C123</td>\n",
       "      <td>S</td>\n",
       "    </tr>\n",
       "    <tr>\n",
       "      <th>4</th>\n",
       "      <td>5</td>\n",
       "      <td>0</td>\n",
       "      <td>3</td>\n",
       "      <td>Allen, Mr. William Henry</td>\n",
       "      <td>male</td>\n",
       "      <td>35.0</td>\n",
       "      <td>0</td>\n",
       "      <td>0</td>\n",
       "      <td>373450</td>\n",
       "      <td>8.0500</td>\n",
       "      <td>NaN</td>\n",
       "      <td>S</td>\n",
       "    </tr>\n",
       "  </tbody>\n",
       "</table>\n",
       "</div>"
      ],
      "text/plain": [
       "   PassengerId  Survived  Pclass  \\\n",
       "0            1         0       3   \n",
       "1            2         1       1   \n",
       "2            3         1       3   \n",
       "3            4         1       1   \n",
       "4            5         0       3   \n",
       "\n",
       "                                                Name     Sex   Age  SibSp  \\\n",
       "0                            Braund, Mr. Owen Harris    male  22.0      1   \n",
       "1  Cumings, Mrs. John Bradley (Florence Briggs Th...  female  38.0      1   \n",
       "2                             Heikkinen, Miss. Laina  female  26.0      0   \n",
       "3       Futrelle, Mrs. Jacques Heath (Lily May Peel)  female  35.0      1   \n",
       "4                           Allen, Mr. William Henry    male  35.0      0   \n",
       "\n",
       "   Parch            Ticket     Fare Cabin Embarked  \n",
       "0      0         A/5 21171   7.2500   NaN        S  \n",
       "1      0          PC 17599  71.2833   C85        C  \n",
       "2      0  STON/O2. 3101282   7.9250   NaN        S  \n",
       "3      0            113803  53.1000  C123        S  \n",
       "4      0            373450   8.0500   NaN        S  "
      ]
     },
     "metadata": {},
     "output_type": "display_data"
    }
   ],
   "source": [
    "import warnings\n",
    "warnings.filterwarnings(\"ignore\")\n",
    "import numpy as np\n",
    "import pandas as pd\n",
    "import seaborn as sns\n",
    "\n",
    "sns.set(style='white',context='notebook',palette='muted')\n",
    "import matplotlib.pyplot as plt\n",
    "\n",
    "train=pd.read_csv('D:/deeskpethuomian/train.csv')\n",
    "test=pd.read_csv('D:/deeskpethuomian/test.csv')\n",
    "display(train.head())\n"
   ]
  },
  {
   "cell_type": "code",
   "execution_count": null,
   "id": "f69885ed-b0c4-4fdd-8f7d-910e204a26ff",
   "metadata": {},
   "outputs": [],
   "source": []
  },
  {
   "cell_type": "code",
   "execution_count": 349,
   "id": "d6c593b2-ab74-42fa-9848-1db24a5d9778",
   "metadata": {},
   "outputs": [
    {
     "name": "stdout",
     "output_type": "stream",
     "text": [
      "训练数据大小： (891, 12)\n",
      "预测数据大小: (418, 11)\n"
     ]
    }
   ],
   "source": [
    "print('训练数据大小：',train.shape)\n",
    "print('预测数据大小:',test.shape)"
   ]
  },
  {
   "cell_type": "code",
   "execution_count": 350,
   "id": "e7681b4e-3d80-4ce9-aec9-6848e7a0cbaf",
   "metadata": {},
   "outputs": [
    {
     "data": {
      "text/html": [
       "<div>\n",
       "<style scoped>\n",
       "    .dataframe tbody tr th:only-of-type {\n",
       "        vertical-align: middle;\n",
       "    }\n",
       "\n",
       "    .dataframe tbody tr th {\n",
       "        vertical-align: top;\n",
       "    }\n",
       "\n",
       "    .dataframe thead th {\n",
       "        text-align: right;\n",
       "    }\n",
       "</style>\n",
       "<table border=\"1\" class=\"dataframe\">\n",
       "  <thead>\n",
       "    <tr style=\"text-align: right;\">\n",
       "      <th></th>\n",
       "      <th>PassengerId</th>\n",
       "      <th>Survived</th>\n",
       "      <th>Pclass</th>\n",
       "      <th>Name</th>\n",
       "      <th>Sex</th>\n",
       "      <th>Age</th>\n",
       "      <th>SibSp</th>\n",
       "      <th>Parch</th>\n",
       "      <th>Ticket</th>\n",
       "      <th>Fare</th>\n",
       "      <th>Cabin</th>\n",
       "      <th>Embarked</th>\n",
       "    </tr>\n",
       "  </thead>\n",
       "  <tbody>\n",
       "    <tr>\n",
       "      <th>0</th>\n",
       "      <td>1</td>\n",
       "      <td>0</td>\n",
       "      <td>3</td>\n",
       "      <td>Braund, Mr. Owen Harris</td>\n",
       "      <td>male</td>\n",
       "      <td>22.0</td>\n",
       "      <td>1</td>\n",
       "      <td>0</td>\n",
       "      <td>A/5 21171</td>\n",
       "      <td>7.2500</td>\n",
       "      <td>NaN</td>\n",
       "      <td>S</td>\n",
       "    </tr>\n",
       "    <tr>\n",
       "      <th>1</th>\n",
       "      <td>2</td>\n",
       "      <td>1</td>\n",
       "      <td>1</td>\n",
       "      <td>Cumings, Mrs. John Bradley (Florence Briggs Th...</td>\n",
       "      <td>female</td>\n",
       "      <td>38.0</td>\n",
       "      <td>1</td>\n",
       "      <td>0</td>\n",
       "      <td>PC 17599</td>\n",
       "      <td>71.2833</td>\n",
       "      <td>C85</td>\n",
       "      <td>C</td>\n",
       "    </tr>\n",
       "    <tr>\n",
       "      <th>2</th>\n",
       "      <td>3</td>\n",
       "      <td>1</td>\n",
       "      <td>3</td>\n",
       "      <td>Heikkinen, Miss. Laina</td>\n",
       "      <td>female</td>\n",
       "      <td>26.0</td>\n",
       "      <td>0</td>\n",
       "      <td>0</td>\n",
       "      <td>STON/O2. 3101282</td>\n",
       "      <td>7.9250</td>\n",
       "      <td>NaN</td>\n",
       "      <td>S</td>\n",
       "    </tr>\n",
       "    <tr>\n",
       "      <th>3</th>\n",
       "      <td>4</td>\n",
       "      <td>1</td>\n",
       "      <td>1</td>\n",
       "      <td>Futrelle, Mrs. Jacques Heath (Lily May Peel)</td>\n",
       "      <td>female</td>\n",
       "      <td>35.0</td>\n",
       "      <td>1</td>\n",
       "      <td>0</td>\n",
       "      <td>113803</td>\n",
       "      <td>53.1000</td>\n",
       "      <td>C123</td>\n",
       "      <td>S</td>\n",
       "    </tr>\n",
       "    <tr>\n",
       "      <th>4</th>\n",
       "      <td>5</td>\n",
       "      <td>0</td>\n",
       "      <td>3</td>\n",
       "      <td>Allen, Mr. William Henry</td>\n",
       "      <td>male</td>\n",
       "      <td>35.0</td>\n",
       "      <td>0</td>\n",
       "      <td>0</td>\n",
       "      <td>373450</td>\n",
       "      <td>8.0500</td>\n",
       "      <td>NaN</td>\n",
       "      <td>S</td>\n",
       "    </tr>\n",
       "  </tbody>\n",
       "</table>\n",
       "</div>"
      ],
      "text/plain": [
       "   PassengerId  Survived  Pclass  \\\n",
       "0            1         0       3   \n",
       "1            2         1       1   \n",
       "2            3         1       3   \n",
       "3            4         1       1   \n",
       "4            5         0       3   \n",
       "\n",
       "                                                Name     Sex   Age  SibSp  \\\n",
       "0                            Braund, Mr. Owen Harris    male  22.0      1   \n",
       "1  Cumings, Mrs. John Bradley (Florence Briggs Th...  female  38.0      1   \n",
       "2                             Heikkinen, Miss. Laina  female  26.0      0   \n",
       "3       Futrelle, Mrs. Jacques Heath (Lily May Peel)  female  35.0      1   \n",
       "4                           Allen, Mr. William Henry    male  35.0      0   \n",
       "\n",
       "   Parch            Ticket     Fare Cabin Embarked  \n",
       "0      0         A/5 21171   7.2500   NaN        S  \n",
       "1      0          PC 17599  71.2833   C85        C  \n",
       "2      0  STON/O2. 3101282   7.9250   NaN        S  \n",
       "3      0            113803  53.1000  C123        S  \n",
       "4      0            373450   8.0500   NaN        S  "
      ]
     },
     "metadata": {},
     "output_type": "display_data"
    },
    {
     "data": {
      "text/html": [
       "<div>\n",
       "<style scoped>\n",
       "    .dataframe tbody tr th:only-of-type {\n",
       "        vertical-align: middle;\n",
       "    }\n",
       "\n",
       "    .dataframe tbody tr th {\n",
       "        vertical-align: top;\n",
       "    }\n",
       "\n",
       "    .dataframe thead th {\n",
       "        text-align: right;\n",
       "    }\n",
       "</style>\n",
       "<table border=\"1\" class=\"dataframe\">\n",
       "  <thead>\n",
       "    <tr style=\"text-align: right;\">\n",
       "      <th></th>\n",
       "      <th>PassengerId</th>\n",
       "      <th>Pclass</th>\n",
       "      <th>Name</th>\n",
       "      <th>Sex</th>\n",
       "      <th>Age</th>\n",
       "      <th>SibSp</th>\n",
       "      <th>Parch</th>\n",
       "      <th>Ticket</th>\n",
       "      <th>Fare</th>\n",
       "      <th>Cabin</th>\n",
       "      <th>Embarked</th>\n",
       "    </tr>\n",
       "  </thead>\n",
       "  <tbody>\n",
       "    <tr>\n",
       "      <th>0</th>\n",
       "      <td>892</td>\n",
       "      <td>3</td>\n",
       "      <td>Kelly, Mr. James</td>\n",
       "      <td>male</td>\n",
       "      <td>34.5</td>\n",
       "      <td>0</td>\n",
       "      <td>0</td>\n",
       "      <td>330911</td>\n",
       "      <td>7.8292</td>\n",
       "      <td>NaN</td>\n",
       "      <td>Q</td>\n",
       "    </tr>\n",
       "    <tr>\n",
       "      <th>1</th>\n",
       "      <td>893</td>\n",
       "      <td>3</td>\n",
       "      <td>Wilkes, Mrs. James (Ellen Needs)</td>\n",
       "      <td>female</td>\n",
       "      <td>47.0</td>\n",
       "      <td>1</td>\n",
       "      <td>0</td>\n",
       "      <td>363272</td>\n",
       "      <td>7.0000</td>\n",
       "      <td>NaN</td>\n",
       "      <td>S</td>\n",
       "    </tr>\n",
       "    <tr>\n",
       "      <th>2</th>\n",
       "      <td>894</td>\n",
       "      <td>2</td>\n",
       "      <td>Myles, Mr. Thomas Francis</td>\n",
       "      <td>male</td>\n",
       "      <td>62.0</td>\n",
       "      <td>0</td>\n",
       "      <td>0</td>\n",
       "      <td>240276</td>\n",
       "      <td>9.6875</td>\n",
       "      <td>NaN</td>\n",
       "      <td>Q</td>\n",
       "    </tr>\n",
       "    <tr>\n",
       "      <th>3</th>\n",
       "      <td>895</td>\n",
       "      <td>3</td>\n",
       "      <td>Wirz, Mr. Albert</td>\n",
       "      <td>male</td>\n",
       "      <td>27.0</td>\n",
       "      <td>0</td>\n",
       "      <td>0</td>\n",
       "      <td>315154</td>\n",
       "      <td>8.6625</td>\n",
       "      <td>NaN</td>\n",
       "      <td>S</td>\n",
       "    </tr>\n",
       "    <tr>\n",
       "      <th>4</th>\n",
       "      <td>896</td>\n",
       "      <td>3</td>\n",
       "      <td>Hirvonen, Mrs. Alexander (Helga E Lindqvist)</td>\n",
       "      <td>female</td>\n",
       "      <td>22.0</td>\n",
       "      <td>1</td>\n",
       "      <td>1</td>\n",
       "      <td>3101298</td>\n",
       "      <td>12.2875</td>\n",
       "      <td>NaN</td>\n",
       "      <td>S</td>\n",
       "    </tr>\n",
       "  </tbody>\n",
       "</table>\n",
       "</div>"
      ],
      "text/plain": [
       "   PassengerId  Pclass                                          Name     Sex  \\\n",
       "0          892       3                              Kelly, Mr. James    male   \n",
       "1          893       3              Wilkes, Mrs. James (Ellen Needs)  female   \n",
       "2          894       2                     Myles, Mr. Thomas Francis    male   \n",
       "3          895       3                              Wirz, Mr. Albert    male   \n",
       "4          896       3  Hirvonen, Mrs. Alexander (Helga E Lindqvist)  female   \n",
       "\n",
       "    Age  SibSp  Parch   Ticket     Fare Cabin Embarked  \n",
       "0  34.5      0      0   330911   7.8292   NaN        Q  \n",
       "1  47.0      1      0   363272   7.0000   NaN        S  \n",
       "2  62.0      0      0   240276   9.6875   NaN        Q  \n",
       "3  27.0      0      0   315154   8.6625   NaN        S  \n",
       "4  22.0      1      1  3101298  12.2875   NaN        S  "
      ]
     },
     "metadata": {},
     "output_type": "display_data"
    }
   ],
   "source": [
    "display(train.head(),test.head())"
   ]
  },
  {
   "cell_type": "code",
   "execution_count": 351,
   "id": "7f55d220-d884-4821-99a3-606f9167e2e9",
   "metadata": {},
   "outputs": [
    {
     "data": {
      "text/html": [
       "<div>\n",
       "<style scoped>\n",
       "    .dataframe tbody tr th:only-of-type {\n",
       "        vertical-align: middle;\n",
       "    }\n",
       "\n",
       "    .dataframe tbody tr th {\n",
       "        vertical-align: top;\n",
       "    }\n",
       "\n",
       "    .dataframe thead th {\n",
       "        text-align: right;\n",
       "    }\n",
       "</style>\n",
       "<table border=\"1\" class=\"dataframe\">\n",
       "  <thead>\n",
       "    <tr style=\"text-align: right;\">\n",
       "      <th></th>\n",
       "      <th>PassengerId</th>\n",
       "      <th>Survived</th>\n",
       "      <th>Pclass</th>\n",
       "      <th>Age</th>\n",
       "      <th>SibSp</th>\n",
       "      <th>Parch</th>\n",
       "      <th>Fare</th>\n",
       "    </tr>\n",
       "  </thead>\n",
       "  <tbody>\n",
       "    <tr>\n",
       "      <th>count</th>\n",
       "      <td>1309.000000</td>\n",
       "      <td>891.000000</td>\n",
       "      <td>1309.000000</td>\n",
       "      <td>1046.000000</td>\n",
       "      <td>1309.000000</td>\n",
       "      <td>1309.000000</td>\n",
       "      <td>1308.000000</td>\n",
       "    </tr>\n",
       "    <tr>\n",
       "      <th>mean</th>\n",
       "      <td>655.000000</td>\n",
       "      <td>0.383838</td>\n",
       "      <td>2.294882</td>\n",
       "      <td>29.881138</td>\n",
       "      <td>0.498854</td>\n",
       "      <td>0.385027</td>\n",
       "      <td>33.295479</td>\n",
       "    </tr>\n",
       "    <tr>\n",
       "      <th>std</th>\n",
       "      <td>378.020061</td>\n",
       "      <td>0.486592</td>\n",
       "      <td>0.837836</td>\n",
       "      <td>14.413493</td>\n",
       "      <td>1.041658</td>\n",
       "      <td>0.865560</td>\n",
       "      <td>51.758668</td>\n",
       "    </tr>\n",
       "    <tr>\n",
       "      <th>min</th>\n",
       "      <td>1.000000</td>\n",
       "      <td>0.000000</td>\n",
       "      <td>1.000000</td>\n",
       "      <td>0.170000</td>\n",
       "      <td>0.000000</td>\n",
       "      <td>0.000000</td>\n",
       "      <td>0.000000</td>\n",
       "    </tr>\n",
       "    <tr>\n",
       "      <th>25%</th>\n",
       "      <td>328.000000</td>\n",
       "      <td>0.000000</td>\n",
       "      <td>2.000000</td>\n",
       "      <td>21.000000</td>\n",
       "      <td>0.000000</td>\n",
       "      <td>0.000000</td>\n",
       "      <td>7.895800</td>\n",
       "    </tr>\n",
       "    <tr>\n",
       "      <th>50%</th>\n",
       "      <td>655.000000</td>\n",
       "      <td>0.000000</td>\n",
       "      <td>3.000000</td>\n",
       "      <td>28.000000</td>\n",
       "      <td>0.000000</td>\n",
       "      <td>0.000000</td>\n",
       "      <td>14.454200</td>\n",
       "    </tr>\n",
       "    <tr>\n",
       "      <th>75%</th>\n",
       "      <td>982.000000</td>\n",
       "      <td>1.000000</td>\n",
       "      <td>3.000000</td>\n",
       "      <td>39.000000</td>\n",
       "      <td>1.000000</td>\n",
       "      <td>0.000000</td>\n",
       "      <td>31.275000</td>\n",
       "    </tr>\n",
       "    <tr>\n",
       "      <th>max</th>\n",
       "      <td>1309.000000</td>\n",
       "      <td>1.000000</td>\n",
       "      <td>3.000000</td>\n",
       "      <td>80.000000</td>\n",
       "      <td>8.000000</td>\n",
       "      <td>9.000000</td>\n",
       "      <td>512.329200</td>\n",
       "    </tr>\n",
       "  </tbody>\n",
       "</table>\n",
       "</div>"
      ],
      "text/plain": [
       "       PassengerId    Survived       Pclass          Age        SibSp  \\\n",
       "count  1309.000000  891.000000  1309.000000  1046.000000  1309.000000   \n",
       "mean    655.000000    0.383838     2.294882    29.881138     0.498854   \n",
       "std     378.020061    0.486592     0.837836    14.413493     1.041658   \n",
       "min       1.000000    0.000000     1.000000     0.170000     0.000000   \n",
       "25%     328.000000    0.000000     2.000000    21.000000     0.000000   \n",
       "50%     655.000000    0.000000     3.000000    28.000000     0.000000   \n",
       "75%     982.000000    1.000000     3.000000    39.000000     1.000000   \n",
       "max    1309.000000    1.000000     3.000000    80.000000     8.000000   \n",
       "\n",
       "             Parch         Fare  \n",
       "count  1309.000000  1308.000000  \n",
       "mean      0.385027    33.295479  \n",
       "std       0.865560    51.758668  \n",
       "min       0.000000     0.000000  \n",
       "25%       0.000000     7.895800  \n",
       "50%       0.000000    14.454200  \n",
       "75%       0.000000    31.275000  \n",
       "max       9.000000   512.329200  "
      ]
     },
     "execution_count": 351,
     "metadata": {},
     "output_type": "execute_result"
    }
   ],
   "source": [
    "full_train=pd.concat([train,test],ignore_index=True)\n",
    "full_train.describe()"
   ]
  },
  {
   "cell_type": "code",
   "execution_count": 352,
   "id": "cb10bfee-8479-4287-aa8a-ff447b70ce82",
   "metadata": {},
   "outputs": [
    {
     "name": "stdout",
     "output_type": "stream",
     "text": [
      "<class 'pandas.core.frame.DataFrame'>\n",
      "RangeIndex: 1309 entries, 0 to 1308\n",
      "Data columns (total 12 columns):\n",
      " #   Column       Non-Null Count  Dtype  \n",
      "---  ------       --------------  -----  \n",
      " 0   PassengerId  1309 non-null   int64  \n",
      " 1   Survived     891 non-null    float64\n",
      " 2   Pclass       1309 non-null   int64  \n",
      " 3   Name         1309 non-null   object \n",
      " 4   Sex          1309 non-null   object \n",
      " 5   Age          1046 non-null   float64\n",
      " 6   SibSp        1309 non-null   int64  \n",
      " 7   Parch        1309 non-null   int64  \n",
      " 8   Ticket       1309 non-null   object \n",
      " 9   Fare         1308 non-null   float64\n",
      " 10  Cabin        295 non-null    object \n",
      " 11  Embarked     1307 non-null   object \n",
      "dtypes: float64(3), int64(4), object(5)\n",
      "memory usage: 122.8+ KB\n"
     ]
    }
   ],
   "source": [
    "full_train.info()"
   ]
  },
  {
   "cell_type": "code",
   "execution_count": 353,
   "id": "fc516a94-f4bb-40a7-8340-362a36238c49",
   "metadata": {},
   "outputs": [
    {
     "data": {
      "text/plain": [
       "<Axes: xlabel='Embarked', ylabel='Survived'>"
      ]
     },
     "execution_count": 353,
     "metadata": {},
     "output_type": "execute_result"
    },
    {
     "data": {
      "image/png": "[encoded data removed]",
      "text/plain": [
       "<Figure size 640x480 with 1 Axes>"
      ]
     },
     "metadata": {},
     "output_type": "display_data"
    }
   ],
   "source": [
    "sns.barplot(data=train,x='Embarked',y='Survived')"
   ]
  },
  {
   "cell_type": "code",
   "execution_count": 354,
   "id": "76726955-dd7b-472a-94dd-e04b20ce25d1",
   "metadata": {},
   "outputs": [
    {
     "data": {
      "text/html": [
       "<div>\n",
       "<style scoped>\n",
       "    .dataframe tbody tr th:only-of-type {\n",
       "        vertical-align: middle;\n",
       "    }\n",
       "\n",
       "    .dataframe tbody tr th {\n",
       "        vertical-align: top;\n",
       "    }\n",
       "\n",
       "    .dataframe thead th {\n",
       "        text-align: right;\n",
       "    }\n",
       "</style>\n",
       "<table border=\"1\" class=\"dataframe\">\n",
       "  <thead>\n",
       "    <tr style=\"text-align: right;\">\n",
       "      <th></th>\n",
       "      <th></th>\n",
       "      <th>count</th>\n",
       "    </tr>\n",
       "    <tr>\n",
       "      <th>Embarked</th>\n",
       "      <th>Survived</th>\n",
       "      <th></th>\n",
       "    </tr>\n",
       "  </thead>\n",
       "  <tbody>\n",
       "    <tr>\n",
       "      <th rowspan=\"2\" valign=\"top\">C</th>\n",
       "      <th>1.0</th>\n",
       "      <td>93</td>\n",
       "    </tr>\n",
       "    <tr>\n",
       "      <th>0.0</th>\n",
       "      <td>75</td>\n",
       "    </tr>\n",
       "    <tr>\n",
       "      <th rowspan=\"2\" valign=\"top\">Q</th>\n",
       "      <th>0.0</th>\n",
       "      <td>47</td>\n",
       "    </tr>\n",
       "    <tr>\n",
       "      <th>1.0</th>\n",
       "      <td>30</td>\n",
       "    </tr>\n",
       "    <tr>\n",
       "      <th rowspan=\"2\" valign=\"top\">S</th>\n",
       "      <th>0.0</th>\n",
       "      <td>427</td>\n",
       "    </tr>\n",
       "    <tr>\n",
       "      <th>1.0</th>\n",
       "      <td>217</td>\n",
       "    </tr>\n",
       "  </tbody>\n",
       "</table>\n",
       "</div>"
      ],
      "text/plain": [
       "                   count\n",
       "Embarked Survived       \n",
       "C        1.0          93\n",
       "         0.0          75\n",
       "Q        0.0          47\n",
       "         1.0          30\n",
       "S        0.0         427\n",
       "         1.0         217"
      ]
     },
     "metadata": {},
     "output_type": "display_data"
    },
    {
     "data": {
      "text/html": [
       "<div>\n",
       "<style scoped>\n",
       "    .dataframe tbody tr th:only-of-type {\n",
       "        vertical-align: middle;\n",
       "    }\n",
       "\n",
       "    .dataframe tbody tr th {\n",
       "        vertical-align: top;\n",
       "    }\n",
       "\n",
       "    .dataframe thead th {\n",
       "        text-align: right;\n",
       "    }\n",
       "</style>\n",
       "<table border=\"1\" class=\"dataframe\">\n",
       "  <thead>\n",
       "    <tr style=\"text-align: right;\">\n",
       "      <th></th>\n",
       "      <th></th>\n",
       "      <th>count</th>\n",
       "    </tr>\n",
       "    <tr>\n",
       "      <th>Embarked</th>\n",
       "      <th>Survived</th>\n",
       "      <th></th>\n",
       "    </tr>\n",
       "  </thead>\n",
       "  <tbody>\n",
       "    <tr>\n",
       "      <th rowspan=\"2\" valign=\"top\">C</th>\n",
       "      <th>1.0</th>\n",
       "      <td>0.553571</td>\n",
       "    </tr>\n",
       "    <tr>\n",
       "      <th>0.0</th>\n",
       "      <td>0.446429</td>\n",
       "    </tr>\n",
       "    <tr>\n",
       "      <th rowspan=\"2\" valign=\"top\">Q</th>\n",
       "      <th>0.0</th>\n",
       "      <td>0.610390</td>\n",
       "    </tr>\n",
       "    <tr>\n",
       "      <th>1.0</th>\n",
       "      <td>0.389610</td>\n",
       "    </tr>\n",
       "    <tr>\n",
       "      <th rowspan=\"2\" valign=\"top\">S</th>\n",
       "      <th>0.0</th>\n",
       "      <td>0.663043</td>\n",
       "    </tr>\n",
       "    <tr>\n",
       "      <th>1.0</th>\n",
       "      <td>0.336957</td>\n",
       "    </tr>\n",
       "  </tbody>\n",
       "</table>\n",
       "</div>"
      ],
      "text/plain": [
       "                      count\n",
       "Embarked Survived          \n",
       "C        1.0       0.553571\n",
       "         0.0       0.446429\n",
       "Q        0.0       0.610390\n",
       "         1.0       0.389610\n",
       "S        0.0       0.663043\n",
       "         1.0       0.336957"
      ]
     },
     "metadata": {},
     "output_type": "display_data"
    },
    {
     "data": {
      "text/html": [
       "<div>\n",
       "<style scoped>\n",
       "    .dataframe tbody tr th:only-of-type {\n",
       "        vertical-align: middle;\n",
       "    }\n",
       "\n",
       "    .dataframe tbody tr th {\n",
       "        vertical-align: top;\n",
       "    }\n",
       "\n",
       "    .dataframe thead th {\n",
       "        text-align: right;\n",
       "    }\n",
       "</style>\n",
       "<table border=\"1\" class=\"dataframe\">\n",
       "  <thead>\n",
       "    <tr style=\"text-align: right;\">\n",
       "      <th></th>\n",
       "      <th></th>\n",
       "      <th>count_num</th>\n",
       "      <th>count_rate</th>\n",
       "    </tr>\n",
       "    <tr>\n",
       "      <th>Embarked</th>\n",
       "      <th>Survived</th>\n",
       "      <th></th>\n",
       "      <th></th>\n",
       "    </tr>\n",
       "  </thead>\n",
       "  <tbody>\n",
       "    <tr>\n",
       "      <th rowspan=\"2\" valign=\"top\">C</th>\n",
       "      <th>1.0</th>\n",
       "      <td>93</td>\n",
       "      <td>0.553571</td>\n",
       "    </tr>\n",
       "    <tr>\n",
       "      <th>0.0</th>\n",
       "      <td>75</td>\n",
       "      <td>0.446429</td>\n",
       "    </tr>\n",
       "    <tr>\n",
       "      <th rowspan=\"2\" valign=\"top\">Q</th>\n",
       "      <th>0.0</th>\n",
       "      <td>47</td>\n",
       "      <td>0.610390</td>\n",
       "    </tr>\n",
       "    <tr>\n",
       "      <th>1.0</th>\n",
       "      <td>30</td>\n",
       "      <td>0.389610</td>\n",
       "    </tr>\n",
       "    <tr>\n",
       "      <th rowspan=\"2\" valign=\"top\">S</th>\n",
       "      <th>0.0</th>\n",
       "      <td>427</td>\n",
       "      <td>0.663043</td>\n",
       "    </tr>\n",
       "    <tr>\n",
       "      <th>1.0</th>\n",
       "      <td>217</td>\n",
       "      <td>0.336957</td>\n",
       "    </tr>\n",
       "  </tbody>\n",
       "</table>\n",
       "</div>"
      ],
      "text/plain": [
       "                   count_num  count_rate\n",
       "Embarked Survived                       \n",
       "C        1.0              93    0.553571\n",
       "         0.0              75    0.446429\n",
       "Q        0.0              47    0.610390\n",
       "         1.0              30    0.389610\n",
       "S        0.0             427    0.663043\n",
       "         1.0             217    0.336957"
      ]
     },
     "execution_count": 354,
     "metadata": {},
     "output_type": "execute_result"
    }
   ],
   "source": [
    "s=full_train.groupby('Embarked')['Survived'].value_counts().to_frame()\n",
    "display(s)\n",
    "s2=s/s.groupby(level=0).sum()\n",
    "display(s2)\n",
    "pd.merge(s,s2,left_index=True,right_index=True,suffixes=['_num','_rate'])"
   ]
  },
  {
   "cell_type": "code",
   "execution_count": 355,
   "id": "4320e8fb-d273-4bfe-bcfe-c689690978a9",
   "metadata": {},
   "outputs": [
    {
     "data": {
      "text/plain": [
       "<seaborn.axisgrid.FacetGrid at 0x262edcb42c0>"
      ]
     },
     "execution_count": 355,
     "metadata": {},
     "output_type": "execute_result"
    },
    {
     "data": {
      "image/png": "[encoded data removed]",
      "text/plain": [
       "<Figure size 912.222x300 with 3 Axes>"
      ]
     },
     "metadata": {},
     "output_type": "display_data"
    }
   ],
   "source": [
    "sns.catplot(x='Pclass',col='Embarked',data=train,kind='count',height=3,aspect=1)"
   ]
  },
  {
   "cell_type": "code",
   "execution_count": 356,
   "id": "3ea7ad7e-6521-4074-be05-5da96120b39f",
   "metadata": {},
   "outputs": [
    {
     "data": {
      "text/plain": [
       "<Axes: xlabel='Parch', ylabel='Survived'>"
      ]
     },
     "execution_count": 356,
     "metadata": {},
     "output_type": "execute_result"
    },
    {
     "data": {
      "image/png": "[encoded data removed]",
      "text/plain": [
       "<Figure size 640x480 with 1 Axes>"
      ]
     },
     "metadata": {},
     "output_type": "display_data"
    }
   ],
   "source": [
    "sns.barplot(data=train,x='Parch',y='Survived')\n"
   ]
  },
  {
   "cell_type": "code",
   "execution_count": 357,
   "id": "c18cb168-9a89-4bf9-96eb-b920aba54263",
   "metadata": {},
   "outputs": [
    {
     "data": {
      "text/plain": [
       "<Axes: xlabel='SibSp', ylabel='Survived'>"
      ]
     },
     "execution_count": 357,
     "metadata": {},
     "output_type": "execute_result"
    },
    {
     "data": {
      "image/png": "[encoded data removed]",
      "text/plain": [
       "<Figure size 640x480 with 1 Axes>"
      ]
     },
     "metadata": {},
     "output_type": "display_data"
    }
   ],
   "source": [
    "sns.barplot(data=train,x='SibSp',y='Survived')\n",
    "sns.barplot(data=train,x='Pclass',y='Survived')\n",
    "sns.barplot(data=train,x='Sex',y='Survived')"
   ]
  },
  {
   "cell_type": "code",
   "execution_count": 358,
   "id": "552e7b90-7418-4939-993b-2ad7b5b08cf4",
   "metadata": {},
   "outputs": [
    {
     "data": {
      "text/plain": [
       "<Axes: xlabel='Pclass', ylabel='Survived'>"
      ]
     },
     "execution_count": 358,
     "metadata": {},
     "output_type": "execute_result"
    },
    {
     "data": {
      "image/png": "[encoded data removed]",
      "text/plain": [
       "<Figure size 640x480 with 1 Axes>"
      ]
     },
     "metadata": {},
     "output_type": "display_data"
    }
   ],
   "source": [
    "sns.barplot(data=train,x='Pclass',y='Survived')"
   ]
  },
  {
   "cell_type": "code",
   "execution_count": 359,
   "id": "995a982c-9613-48a6-b39b-6494da3da450",
   "metadata": {},
   "outputs": [
    {
     "data": {
      "text/plain": [
       "<Axes: xlabel='Sex', ylabel='Survived'>"
      ]
     },
     "execution_count": 359,
     "metadata": {},
     "output_type": "execute_result"
    },
    {
     "data": {
      "image/png": "[encoded data removed]",
      "text/plain": [
       "<Figure size 640x480 with 1 Axes>"
      ]
     },
     "metadata": {},
     "output_type": "display_data"
    }
   ],
   "source": [
    "sns.barplot(data=train,x='Sex',y='Survived')"
   ]
  },
  {
   "cell_type": "code",
   "execution_count": 360,
   "id": "b07f0a7f-acc2-4ded-9ecb-76a8b67b7f78",
   "metadata": {},
   "outputs": [
    {
     "data": {
      "text/plain": [
       "<seaborn.axisgrid.FacetGrid at 0x262ef0e69f0>"
      ]
     },
     "execution_count": 360,
     "metadata": {},
     "output_type": "execute_result"
    },
    {
     "data": {
      "image/png": "[encoded data removed]",
      "text/plain": [
       "<Figure size 977.472x300 with 1 Axes>"
      ]
     },
     "metadata": {},
     "output_type": "display_data"
    }
   ],
   "source": [
    "ageFacet=sns.FacetGrid(train,hue='Survived',aspect=3)\n",
    "ageFacet.map(sns.kdeplot,'Fare',shade=True)\n",
    "ageFacet.set(xlim=(0,150))\n",
    "ageFacet.add_legend()"
   ]
  },
  {
   "cell_type": "code",
   "execution_count": 361,
   "id": "0f9422c0-5b4a-4eca-a99f-8531ad8aabb1",
   "metadata": {},
   "outputs": [
    {
     "data": {
      "text/plain": [
       "<matplotlib.legend.Legend at 0x262f1b69fa0>"
      ]
     },
     "execution_count": 361,
     "metadata": {},
     "output_type": "execute_result"
    },
    {
     "data": {
      "image/png": "[encoded data removed]",
      "text/plain": [
       "<Figure size 640x480 with 1 Axes>"
      ]
     },
     "metadata": {},
     "output_type": "display_data"
    }
   ],
   "source": [
    "farePlot=sns.distplot(full_train['Fare'][full_train['Fare'].notnull()],\n",
    "                     label='skewness:%.2f'%(full_train['Fare'].skew()))\n",
    "farePlot.legend(loc='best')"
   ]
  },
  {
   "cell_type": "code",
   "execution_count": 362,
   "id": "d8f94c13-bc7e-487b-9978-19ba7b7ccb46",
   "metadata": {},
   "outputs": [
    {
     "data": {
      "image/png": "[encoded data removed]",
      "text/plain": [
       "<Figure size 640x480 with 1 Axes>"
      ]
     },
     "metadata": {},
     "output_type": "display_data"
    }
   ],
   "source": [
    "full_train['Fare']=full_train['Fare'].map(lambda x: np.log(x) if x>0 else x)\n",
    "\n",
    "farePlot=sns.distplot(full_train['Fare'][full_train['Fare'].notnull()],\n",
    "                     label='skewness:%.2f'%(full_train['Fare'].skew()))\n",
    "farePlot.legend(loc='best')\n",
    "plt.savefig('./10-Fare票价分布.png',dpi=200)\n"
   ]
  },
  {
   "cell_type": "code",
   "execution_count": 363,
   "id": "2d3a919c-3b8c-40f6-ada5-ef97694f8d4c",
   "metadata": {},
   "outputs": [
    {
     "data": {
      "text/plain": [
       "<bound method NDFrame.head of 0          U\n",
       "1        C85\n",
       "2          U\n",
       "3       C123\n",
       "4          U\n",
       "        ... \n",
       "1304       U\n",
       "1305    C105\n",
       "1306       U\n",
       "1307       U\n",
       "1308       U\n",
       "Name: Cabin, Length: 1309, dtype: object>"
      ]
     },
     "execution_count": 363,
     "metadata": {},
     "output_type": "execute_result"
    }
   ],
   "source": [
    "full_train['Cabin']=full_train['Cabin'].fillna('U')\n",
    "full_train['Cabin'].head"
   ]
  },
  {
   "cell_type": "code",
   "execution_count": 364,
   "id": "0ced1b15-0e2e-496b-8c06-92e2c5dc8320",
   "metadata": {},
   "outputs": [
    {
     "data": {
      "text/html": [
       "<div>\n",
       "<style scoped>\n",
       "    .dataframe tbody tr th:only-of-type {\n",
       "        vertical-align: middle;\n",
       "    }\n",
       "\n",
       "    .dataframe tbody tr th {\n",
       "        vertical-align: top;\n",
       "    }\n",
       "\n",
       "    .dataframe thead th {\n",
       "        text-align: right;\n",
       "    }\n",
       "</style>\n",
       "<table border=\"1\" class=\"dataframe\">\n",
       "  <thead>\n",
       "    <tr style=\"text-align: right;\">\n",
       "      <th></th>\n",
       "      <th>PassengerId</th>\n",
       "      <th>Survived</th>\n",
       "      <th>Pclass</th>\n",
       "      <th>Name</th>\n",
       "      <th>Sex</th>\n",
       "      <th>Age</th>\n",
       "      <th>SibSp</th>\n",
       "      <th>Parch</th>\n",
       "      <th>Ticket</th>\n",
       "      <th>Fare</th>\n",
       "      <th>Cabin</th>\n",
       "      <th>Embarked</th>\n",
       "    </tr>\n",
       "  </thead>\n",
       "  <tbody>\n",
       "    <tr>\n",
       "      <th>61</th>\n",
       "      <td>62</td>\n",
       "      <td>1.0</td>\n",
       "      <td>1</td>\n",
       "      <td>Icard, Miss. Amelie</td>\n",
       "      <td>female</td>\n",
       "      <td>38.0</td>\n",
       "      <td>0</td>\n",
       "      <td>0</td>\n",
       "      <td>113572</td>\n",
       "      <td>4.382027</td>\n",
       "      <td>B28</td>\n",
       "      <td>NaN</td>\n",
       "    </tr>\n",
       "    <tr>\n",
       "      <th>829</th>\n",
       "      <td>830</td>\n",
       "      <td>1.0</td>\n",
       "      <td>1</td>\n",
       "      <td>Stone, Mrs. George Nelson (Martha Evelyn)</td>\n",
       "      <td>female</td>\n",
       "      <td>62.0</td>\n",
       "      <td>0</td>\n",
       "      <td>0</td>\n",
       "      <td>113572</td>\n",
       "      <td>4.382027</td>\n",
       "      <td>B28</td>\n",
       "      <td>NaN</td>\n",
       "    </tr>\n",
       "  </tbody>\n",
       "</table>\n",
       "</div>"
      ],
      "text/plain": [
       "     PassengerId  Survived  Pclass                                       Name  \\\n",
       "61            62       1.0       1                        Icard, Miss. Amelie   \n",
       "829          830       1.0       1  Stone, Mrs. George Nelson (Martha Evelyn)   \n",
       "\n",
       "        Sex   Age  SibSp  Parch  Ticket      Fare Cabin Embarked  \n",
       "61   female  38.0      0      0  113572  4.382027   B28      NaN  \n",
       "829  female  62.0      0      0  113572  4.382027   B28      NaN  "
      ]
     },
     "metadata": {},
     "output_type": "display_data"
    },
    {
     "data": {
      "text/plain": [
       "Embarked\n",
       "S    914\n",
       "C    270\n",
       "Q    123\n",
       "Name: count, dtype: int64"
      ]
     },
     "metadata": {},
     "output_type": "display_data"
    }
   ],
   "source": [
    "display (full_train[full_train['Embarked'].isnull()])\n",
    "\n",
    "display (full_train['Embarked'].value_counts())"
   ]
  },
  {
   "cell_type": "code",
   "execution_count": 365,
   "id": "c7963894-912b-4874-be2f-df484b7aa0e6",
   "metadata": {},
   "outputs": [
    {
     "data": {
      "text/plain": [
       "<bound method NDFrame.head of 0       S\n",
       "1       C\n",
       "2       S\n",
       "3       S\n",
       "4       S\n",
       "       ..\n",
       "1304    S\n",
       "1305    C\n",
       "1306    S\n",
       "1307    S\n",
       "1308    C\n",
       "Name: Embarked, Length: 1309, dtype: object>"
      ]
     },
     "execution_count": 365,
     "metadata": {},
     "output_type": "execute_result"
    }
   ],
   "source": [
    "full_train['Embarked']=full_train['Embarked'].fillna('S')\n",
    "full_train['Embarked'].head"
   ]
  },
  {
   "cell_type": "code",
   "execution_count": 366,
   "id": "a61a103f-d383-4d71-9da0-151262d7f5c2",
   "metadata": {},
   "outputs": [
    {
     "data": {
      "text/html": [
       "<div>\n",
       "<style scoped>\n",
       "    .dataframe tbody tr th:only-of-type {\n",
       "        vertical-align: middle;\n",
       "    }\n",
       "\n",
       "    .dataframe tbody tr th {\n",
       "        vertical-align: top;\n",
       "    }\n",
       "\n",
       "    .dataframe thead th {\n",
       "        text-align: right;\n",
       "    }\n",
       "</style>\n",
       "<table border=\"1\" class=\"dataframe\">\n",
       "  <thead>\n",
       "    <tr style=\"text-align: right;\">\n",
       "      <th></th>\n",
       "      <th>PassengerId</th>\n",
       "      <th>Survived</th>\n",
       "      <th>Pclass</th>\n",
       "      <th>Name</th>\n",
       "      <th>Sex</th>\n",
       "      <th>Age</th>\n",
       "      <th>SibSp</th>\n",
       "      <th>Parch</th>\n",
       "      <th>Ticket</th>\n",
       "      <th>Fare</th>\n",
       "      <th>Cabin</th>\n",
       "      <th>Embarked</th>\n",
       "    </tr>\n",
       "  </thead>\n",
       "  <tbody>\n",
       "    <tr>\n",
       "      <th>1043</th>\n",
       "      <td>1044</td>\n",
       "      <td>NaN</td>\n",
       "      <td>3</td>\n",
       "      <td>Storey, Mr. Thomas</td>\n",
       "      <td>male</td>\n",
       "      <td>60.5</td>\n",
       "      <td>0</td>\n",
       "      <td>0</td>\n",
       "      <td>3701</td>\n",
       "      <td>NaN</td>\n",
       "      <td>U</td>\n",
       "      <td>S</td>\n",
       "    </tr>\n",
       "  </tbody>\n",
       "</table>\n",
       "</div>"
      ],
      "text/plain": [
       "      PassengerId  Survived  Pclass                Name   Sex   Age  SibSp  \\\n",
       "1043         1044       NaN       3  Storey, Mr. Thomas  male  60.5      0   \n",
       "\n",
       "      Parch Ticket  Fare Cabin Embarked  \n",
       "1043      0   3701   NaN     U        S  "
      ]
     },
     "metadata": {},
     "output_type": "display_data"
    },
    {
     "name": "stdout",
     "output_type": "stream",
     "text": [
      "<class 'pandas.core.frame.DataFrame'>\n",
      "RangeIndex: 1309 entries, 0 to 1308\n",
      "Data columns (total 12 columns):\n",
      " #   Column       Non-Null Count  Dtype  \n",
      "---  ------       --------------  -----  \n",
      " 0   PassengerId  1309 non-null   int64  \n",
      " 1   Survived     891 non-null    float64\n",
      " 2   Pclass       1309 non-null   int64  \n",
      " 3   Name         1309 non-null   object \n",
      " 4   Sex          1309 non-null   object \n",
      " 5   Age          1046 non-null   float64\n",
      " 6   SibSp        1309 non-null   int64  \n",
      " 7   Parch        1309 non-null   int64  \n",
      " 8   Ticket       1309 non-null   object \n",
      " 9   Fare         1309 non-null   float64\n",
      " 10  Cabin        1309 non-null   object \n",
      " 11  Embarked     1309 non-null   object \n",
      "dtypes: float64(3), int64(4), object(5)\n",
      "memory usage: 122.8+ KB\n"
     ]
    }
   ],
   "source": [
    "display (full_train[full_train['Fare'].isnull()])\n",
    "\n",
    "price=full_train[(full_train['Pclass']==3)&(full_train['Embarked']=='S')&(full_train['Cabin']=='U')]['Fare'].mean()\n",
    "full_train['Fare']=full_train['Fare'].fillna(price)\n",
    "full_train.info()\n",
    "\n",
    "\n",
    "\n"
   ]
  },
  {
   "cell_type": "code",
   "execution_count": 367,
   "id": "ae76a277-59a7-4b1c-a0fb-138f14bfb15a",
   "metadata": {},
   "outputs": [
    {
     "data": {
      "text/plain": [
       "Title\n",
       "Mr              757\n",
       "Miss            260\n",
       "Mrs             197\n",
       "Master           61\n",
       "Rev               8\n",
       "Dr                8\n",
       "Col               4\n",
       "Mlle              2\n",
       "Major             2\n",
       "Ms                2\n",
       "Lady              1\n",
       "Sir               1\n",
       "Mme               1\n",
       "Don               1\n",
       "Capt              1\n",
       "the Countess      1\n",
       "Jonkheer          1\n",
       "Dona              1\n",
       "Name: count, dtype: int64"
      ]
     },
     "execution_count": 367,
     "metadata": {},
     "output_type": "execute_result"
    }
   ],
   "source": [
    "full_train['Title']=full_train['Name'].map(lambda x:x.split(',')[1].split('.')[0].strip())\n",
    "full_train['Title'].value_counts()"
   ]
  },
  {
   "cell_type": "code",
   "execution_count": 368,
   "id": "c2b1e240-1260-4c80-859d-de275e3427b0",
   "metadata": {},
   "outputs": [
    {
     "data": {
      "text/plain": [
       "Title\n",
       "Mr         757\n",
       "Miss       262\n",
       "Mrs        200\n",
       "Master      62\n",
       "Officer     23\n",
       "Royalty      4\n",
       "Name: count, dtype: int64"
      ]
     },
     "execution_count": 368,
     "metadata": {},
     "output_type": "execute_result"
    }
   ],
   "source": [
    "# 将title信息进行聚合\n",
    "TitleDict={}\n",
    "TitleDict['Mr']='Mr'\n",
    "TitleDict['Mlle']='Miss'\n",
    "TitleDict['Miss']='Miss'\n",
    "TitleDict['Master']='Master'\n",
    "TitleDict['Jonkheer']='Master'\n",
    "TitleDict['Mme']='Mrs'\n",
    "TitleDict['Ms']='Mrs'\n",
    "TitleDict['Mrs']='Mrs'\n",
    "TitleDict['Dona']='Royalty'\n",
    "TitleDict['Dr'] ='Royalty'\n",
    "TitleDict['Sir']='Royalty'\n",
    "TitleDict['the Countess']='Royalty'\n",
    "TitleDict['Dona']='Royalty'\n",
    "TitleDict['Lady']='Royalty'\n",
    "TitleDict['Capt']='Officer'\n",
    "TitleDict['Col']='Officer'\n",
    "TitleDict['Major']='Officer'\n",
    "TitleDict['Dr'] ='Officer'\n",
    "TitleDict['Rev']='Officer'\n",
    "\n",
    "full_train['Title']=full_train['Title'].map(TitleDict)\n",
    "full_train['Title'].value_counts()"
   ]
  },
  {
   "cell_type": "code",
   "execution_count": 369,
   "id": "07b39715-4933-4cfb-8e50-8a4854047e48",
   "metadata": {},
   "outputs": [],
   "source": [
    "# TitleDict={}\n",
    "# TitleDict['Mr']='Mr'              \n",
    "# TitleDict['Miss']='Miss' \n",
    "# TitleDict['Mrs']='Mrs' \n",
    "# TitleDict['Master']='Master' \n",
    "# TitleDict['Rev']='Officer' \n",
    "# TitleDict['Dr']='Officer' \n",
    "# TitleDict['Col']='Officer' \n",
    "# TitleDict['Mlle']='Miss' \n",
    "# TitleDict['Major']='Officer' \n",
    "# TitleDict['Ms']='Mrs' \n",
    "# TitleDict['Lady']='Royalty' \n",
    "# TitleDict['Sir']='Royalty' \n",
    "# TitleDict['Mme']='Mrs' \n",
    "# TitleDict['Don']='Royalty' \n",
    "# TitleDict['Capt']='Officer' \n",
    "# TitleDict['the Countess']='Royalty' \n",
    "# TitleDict['Jonkheer']='Master' \n",
    "# TitleDict['Dona']='Royalty' \n",
    "\n",
    "# full_train['Title']=full_train['Title'].map(TitleDict)\n",
    "# full_train['Title'].value_counts()\n",
    "\n",
    "\n"
   ]
  },
  {
   "cell_type": "code",
   "execution_count": 370,
   "id": "7415111f-c9b7-4d69-a3c3-9748ebda3c61",
   "metadata": {},
   "outputs": [
    {
     "data": {
      "text/plain": [
       "<Axes: xlabel='Title', ylabel='Survived'>"
      ]
     },
     "execution_count": 370,
     "metadata": {},
     "output_type": "execute_result"
    },
    {
     "data": {
      "image/png": "[encoded data removed]",
      "text/plain": [
       "<Figure size 640x480 with 1 Axes>"
      ]
     },
     "metadata": {},
     "output_type": "display_data"
    }
   ],
   "source": [
    "sns.barplot(data=full_train,x='Title',y='Survived')"
   ]
  },
  {
   "cell_type": "code",
   "execution_count": 371,
   "id": "923bbc7e-4186-4d3f-aaba-91cc6681e2d0",
   "metadata": {},
   "outputs": [
    {
     "data": {
      "text/plain": [
       "<Axes: xlabel='familyNum', ylabel='Survived'>"
      ]
     },
     "execution_count": 371,
     "metadata": {},
     "output_type": "execute_result"
    },
    {
     "data": {
      "image/png": "[encoded data removed]",
      "text/plain": [
       "<Figure size 640x480 with 1 Axes>"
      ]
     },
     "metadata": {},
     "output_type": "display_data"
    }
   ],
   "source": [
    "full_train['familyNum']=full_train['Parch']+full_train['SibSp']+1\n",
    "\n",
    "sns.barplot(data=full_train,x='familyNum',y='Survived')"
   ]
  },
  {
   "cell_type": "code",
   "execution_count": 372,
   "id": "c13bc9da-3ca4-4d2a-8fae-c9056094fae4",
   "metadata": {},
   "outputs": [
    {
     "data": {
      "text/plain": [
       "familysze\n",
       "1    1184\n",
       "2     125\n",
       "Name: count, dtype: int64"
      ]
     },
     "execution_count": 372,
     "metadata": {},
     "output_type": "execute_result"
    }
   ],
   "source": [
    "def familysize(familyNum):\n",
    "    if familyNum==0:\n",
    "        return 0\n",
    "    elif (familyNum>=1)&(familyNum<=3):\n",
    "        return 1\n",
    "    else:\n",
    "        return 2\n",
    "\n",
    "full_train['familysze']=full_train['familyNum'].map(familysize)\n",
    "full_train['familysze'].value_counts()"
   ]
  },
  {
   "cell_type": "code",
   "execution_count": 373,
   "id": "c04e9b14-4a18-49e4-aef9-975ba8e980c0",
   "metadata": {},
   "outputs": [
    {
     "data": {
      "text/plain": [
       "<Axes: xlabel='familysze', ylabel='Survived'>"
      ]
     },
     "execution_count": 373,
     "metadata": {},
     "output_type": "execute_result"
    },
    {
     "data": {
      "image/png": "[encoded data removed]",
      "text/plain": [
       "<Figure size 640x480 with 1 Axes>"
      ]
     },
     "metadata": {},
     "output_type": "display_data"
    }
   ],
   "source": [
    "sns.barplot(data=full_train,x='familysze',y='Survived')"
   ]
  },
  {
   "cell_type": "code",
   "execution_count": 374,
   "id": "15831ad6-a885-4758-a004-b7528b016139",
   "metadata": {},
   "outputs": [
    {
     "data": {
      "image/png": "[encoded data removed]",
      "text/plain": [
       "<Figure size 640x480 with 1 Axes>"
      ]
     },
     "metadata": {},
     "output_type": "display_data"
    }
   ],
   "source": [
    "full_train['Deck']=full_train['Cabin'].map(lambda x:x[0])\n",
    "sns.barplot(data=full_train,x='Deck',y='Survived')\n",
    "plt.savefig('./14-Deck与Survived关系.png',dpi=200)"
   ]
  },
  {
   "cell_type": "code",
   "execution_count": 375,
   "id": "ad69fdad-c0c7-404e-a594-1fde65f14535",
   "metadata": {},
   "outputs": [
    {
     "data": {
      "text/plain": [
       "array(['U', 'C85', 'C123', 'E46', 'G6', 'C103', 'D56', 'A6',\n",
       "       'C23 C25 C27', 'B78', 'D33', 'B30', 'C52', 'B28', 'C83', 'F33',\n",
       "       'F G73', 'E31', 'A5', 'D10 D12', 'D26', 'C110', 'B58 B60', 'E101',\n",
       "       'F E69', 'D47', 'B86', 'F2', 'C2', 'E33', 'B19', 'A7', 'C49', 'F4',\n",
       "       'A32', 'B4', 'B80', 'A31', 'D36', 'D15', 'C93', 'C78', 'D35',\n",
       "       'C87', 'B77', 'E67', 'B94', 'C125', 'C99', 'C118', 'D7', 'A19',\n",
       "       'B49', 'D', 'C22 C26', 'C106', 'C65', 'E36', 'C54',\n",
       "       'B57 B59 B63 B66', 'C7', 'E34', 'C32', 'B18', 'C124', 'C91', 'E40',\n",
       "       'T', 'C128', 'D37', 'B35', 'E50', 'C82', 'B96 B98', 'E10', 'E44',\n",
       "       'A34', 'C104', 'C111', 'C92', 'E38', 'D21', 'E12', 'E63', 'A14',\n",
       "       'B37', 'C30', 'D20', 'B79', 'E25', 'D46', 'B73', 'C95', 'B38',\n",
       "       'B39', 'B22', 'C86', 'C70', 'A16', 'C101', 'C68', 'A10', 'E68',\n",
       "       'B41', 'A20', 'D19', 'D50', 'D9', 'A23', 'B50', 'A26', 'D48',\n",
       "       'E58', 'C126', 'B71', 'B51 B53 B55', 'D49', 'B5', 'B20', 'F G63',\n",
       "       'C62 C64', 'E24', 'C90', 'C45', 'E8', 'B101', 'D45', 'C46', 'D30',\n",
       "       'E121', 'D11', 'E77', 'F38', 'B3', 'D6', 'B82 B84', 'D17', 'A36',\n",
       "       'B102', 'B69', 'E49', 'C47', 'D28', 'E17', 'A24', 'C50', 'B42',\n",
       "       'C148', 'B45', 'B36', 'A21', 'D34', 'A9', 'C31', 'B61', 'C53',\n",
       "       'D43', 'C130', 'C132', 'C55 C57', 'C116', 'F', 'A29', 'C6', 'C28',\n",
       "       'C51', 'C97', 'D22', 'B10', 'E45', 'E52', 'A11', 'B11', 'C80',\n",
       "       'C89', 'F E46', 'B26', 'F E57', 'A18', 'E60', 'E39 E41',\n",
       "       'B52 B54 B56', 'C39', 'B24', 'D40', 'D38', 'C105'], dtype=object)"
      ]
     },
     "execution_count": 375,
     "metadata": {},
     "output_type": "execute_result"
    }
   ],
   "source": [
    "full_train['Cabin'].unique()"
   ]
  },
  {
   "cell_type": "code",
   "execution_count": 376,
   "id": "388cf127-7926-415d-9539-fd48a9a14eaa",
   "metadata": {},
   "outputs": [
    {
     "data": {
      "text/plain": [
       "Ticket\n",
       "CA. 2343        11\n",
       "CA 2144          8\n",
       "1601             8\n",
       "PC 17608         7\n",
       "S.O.C. 14879     7\n",
       "347077           7\n",
       "347082           7\n",
       "3101295          7\n",
       "19950            6\n",
       "113781           6\n",
       "347088           6\n",
       "382652           6\n",
       "4133             5\n",
       "W./C. 6608       5\n",
       "PC 17757         5\n",
       "349909           5\n",
       "220845           5\n",
       "113503           5\n",
       "16966            5\n",
       "LINE             4\n",
       "Name: count, dtype: int64"
      ]
     },
     "execution_count": 376,
     "metadata": {},
     "output_type": "execute_result"
    }
   ],
   "source": [
    "TickCountDict=full_train['Ticket'].value_counts()\n",
    "TickCountDict.head(20)"
   ]
  },
  {
   "cell_type": "code",
   "execution_count": 377,
   "id": "fe0cab8d-f48e-4c64-9555-7e974cafe818",
   "metadata": {},
   "outputs": [
    {
     "data": {
      "text/plain": [
       "<Axes: xlabel='TickCom', ylabel='Survived'>"
      ]
     },
     "execution_count": 377,
     "metadata": {},
     "output_type": "execute_result"
    },
    {
     "data": {
      "image/png": "[encoded data removed]",
      "text/plain": [
       "<Figure size 640x480 with 1 Axes>"
      ]
     },
     "metadata": {},
     "output_type": "display_data"
    }
   ],
   "source": [
    "full_train['TickCom']=full_train['Ticket'].map(TickCountDict)\n",
    "full_train['TickCom'].head()\n",
    "sns.barplot(data=full_train,x='TickCom',y='Survived')"
   ]
  },
  {
   "cell_type": "code",
   "execution_count": 378,
   "id": "c44f7811-c19e-4956-9f1b-8ac3dd6ae7ed",
   "metadata": {},
   "outputs": [
    {
     "data": {
      "text/html": [
       "<div>\n",
       "<style scoped>\n",
       "    .dataframe tbody tr th:only-of-type {\n",
       "        vertical-align: middle;\n",
       "    }\n",
       "\n",
       "    .dataframe tbody tr th {\n",
       "        vertical-align: top;\n",
       "    }\n",
       "\n",
       "    .dataframe thead th {\n",
       "        text-align: right;\n",
       "    }\n",
       "</style>\n",
       "<table border=\"1\" class=\"dataframe\">\n",
       "  <thead>\n",
       "    <tr style=\"text-align: right;\">\n",
       "      <th></th>\n",
       "      <th>PassengerId</th>\n",
       "      <th>Survived</th>\n",
       "      <th>Pclass</th>\n",
       "      <th>Name</th>\n",
       "      <th>Sex</th>\n",
       "      <th>Age</th>\n",
       "      <th>SibSp</th>\n",
       "      <th>Parch</th>\n",
       "      <th>Ticket</th>\n",
       "      <th>Fare</th>\n",
       "      <th>Cabin</th>\n",
       "      <th>Embarked</th>\n",
       "      <th>Title</th>\n",
       "      <th>familyNum</th>\n",
       "      <th>familysze</th>\n",
       "      <th>Deck</th>\n",
       "      <th>TickCom</th>\n",
       "    </tr>\n",
       "  </thead>\n",
       "  <tbody>\n",
       "    <tr>\n",
       "      <th>0</th>\n",
       "      <td>1</td>\n",
       "      <td>0.0</td>\n",
       "      <td>3</td>\n",
       "      <td>Braund, Mr. Owen Harris</td>\n",
       "      <td>male</td>\n",
       "      <td>22.0</td>\n",
       "      <td>1</td>\n",
       "      <td>0</td>\n",
       "      <td>A/5 21171</td>\n",
       "      <td>1.981001</td>\n",
       "      <td>U</td>\n",
       "      <td>S</td>\n",
       "      <td>Mr</td>\n",
       "      <td>2</td>\n",
       "      <td>1</td>\n",
       "      <td>U</td>\n",
       "      <td>1</td>\n",
       "    </tr>\n",
       "    <tr>\n",
       "      <th>1</th>\n",
       "      <td>2</td>\n",
       "      <td>1.0</td>\n",
       "      <td>1</td>\n",
       "      <td>Cumings, Mrs. John Bradley (Florence Briggs Th...</td>\n",
       "      <td>female</td>\n",
       "      <td>38.0</td>\n",
       "      <td>1</td>\n",
       "      <td>0</td>\n",
       "      <td>PC 17599</td>\n",
       "      <td>4.266662</td>\n",
       "      <td>C85</td>\n",
       "      <td>C</td>\n",
       "      <td>Mrs</td>\n",
       "      <td>2</td>\n",
       "      <td>1</td>\n",
       "      <td>C</td>\n",
       "      <td>2</td>\n",
       "    </tr>\n",
       "    <tr>\n",
       "      <th>2</th>\n",
       "      <td>3</td>\n",
       "      <td>1.0</td>\n",
       "      <td>3</td>\n",
       "      <td>Heikkinen, Miss. Laina</td>\n",
       "      <td>female</td>\n",
       "      <td>26.0</td>\n",
       "      <td>0</td>\n",
       "      <td>0</td>\n",
       "      <td>STON/O2. 3101282</td>\n",
       "      <td>2.070022</td>\n",
       "      <td>U</td>\n",
       "      <td>S</td>\n",
       "      <td>Miss</td>\n",
       "      <td>1</td>\n",
       "      <td>1</td>\n",
       "      <td>U</td>\n",
       "      <td>1</td>\n",
       "    </tr>\n",
       "    <tr>\n",
       "      <th>3</th>\n",
       "      <td>4</td>\n",
       "      <td>1.0</td>\n",
       "      <td>1</td>\n",
       "      <td>Futrelle, Mrs. Jacques Heath (Lily May Peel)</td>\n",
       "      <td>female</td>\n",
       "      <td>35.0</td>\n",
       "      <td>1</td>\n",
       "      <td>0</td>\n",
       "      <td>113803</td>\n",
       "      <td>3.972177</td>\n",
       "      <td>C123</td>\n",
       "      <td>S</td>\n",
       "      <td>Mrs</td>\n",
       "      <td>2</td>\n",
       "      <td>1</td>\n",
       "      <td>C</td>\n",
       "      <td>2</td>\n",
       "    </tr>\n",
       "    <tr>\n",
       "      <th>4</th>\n",
       "      <td>5</td>\n",
       "      <td>0.0</td>\n",
       "      <td>3</td>\n",
       "      <td>Allen, Mr. William Henry</td>\n",
       "      <td>male</td>\n",
       "      <td>35.0</td>\n",
       "      <td>0</td>\n",
       "      <td>0</td>\n",
       "      <td>373450</td>\n",
       "      <td>2.085672</td>\n",
       "      <td>U</td>\n",
       "      <td>S</td>\n",
       "      <td>Mr</td>\n",
       "      <td>1</td>\n",
       "      <td>1</td>\n",
       "      <td>U</td>\n",
       "      <td>1</td>\n",
       "    </tr>\n",
       "  </tbody>\n",
       "</table>\n",
       "</div>"
      ],
      "text/plain": [
       "   PassengerId  Survived  Pclass  \\\n",
       "0            1       0.0       3   \n",
       "1            2       1.0       1   \n",
       "2            3       1.0       3   \n",
       "3            4       1.0       1   \n",
       "4            5       0.0       3   \n",
       "\n",
       "                                                Name     Sex   Age  SibSp  \\\n",
       "0                            Braund, Mr. Owen Harris    male  22.0      1   \n",
       "1  Cumings, Mrs. John Bradley (Florence Briggs Th...  female  38.0      1   \n",
       "2                             Heikkinen, Miss. Laina  female  26.0      0   \n",
       "3       Futrelle, Mrs. Jacques Heath (Lily May Peel)  female  35.0      1   \n",
       "4                           Allen, Mr. William Henry    male  35.0      0   \n",
       "\n",
       "   Parch            Ticket      Fare Cabin Embarked Title  familyNum  \\\n",
       "0      0         A/5 21171  1.981001     U        S    Mr          2   \n",
       "1      0          PC 17599  4.266662   C85        C   Mrs          2   \n",
       "2      0  STON/O2. 3101282  2.070022     U        S  Miss          1   \n",
       "3      0            113803  3.972177  C123        S   Mrs          2   \n",
       "4      0            373450  2.085672     U        S    Mr          1   \n",
       "\n",
       "   familysze Deck  TickCom  \n",
       "0          1    U        1  \n",
       "1          1    C        2  \n",
       "2          1    U        1  \n",
       "3          1    C        2  \n",
       "4          1    U        1  "
      ]
     },
     "execution_count": 378,
     "metadata": {},
     "output_type": "execute_result"
    }
   ],
   "source": [
    "full_train.head()"
   ]
  },
  {
   "cell_type": "code",
   "execution_count": 379,
   "id": "ba121f14-d947-4830-8194-d5b56f818ac1",
   "metadata": {},
   "outputs": [
    {
     "data": {
      "text/plain": [
       "<Axes: xlabel='TickGroup', ylabel='Survived'>"
      ]
     },
     "execution_count": 379,
     "metadata": {},
     "output_type": "execute_result"
    },
    {
     "data": {
      "image/png": "[encoded data removed]",
      "text/plain": [
       "<Figure size 640x480 with 1 Axes>"
      ]
     },
     "metadata": {},
     "output_type": "display_data"
    }
   ],
   "source": [
    "def TickCountGroup(num):\n",
    "    if (num>=2)&(num<=4):\n",
    "        return 0\n",
    "    elif (num==1)|((num>=5)&(num<=8)):\n",
    "        return 1\n",
    "    else:\n",
    "        return 2\n",
    "\n",
    "full_train['TickGroup']=full_train['TickCom'].map(TickCountGroup)\n",
    "sns.barplot(data=full_train,x='TickGroup',y='Survived')"
   ]
  },
  {
   "cell_type": "code",
   "execution_count": 380,
   "id": "e03ef1d4-ee69-4eeb-8279-8fde8423a2b5",
   "metadata": {},
   "outputs": [
    {
     "name": "stdout",
     "output_type": "stream",
     "text": [
      "<class 'pandas.core.frame.DataFrame'>\n",
      "RangeIndex: 1309 entries, 0 to 1308\n",
      "Data columns (total 18 columns):\n",
      " #   Column       Non-Null Count  Dtype  \n",
      "---  ------       --------------  -----  \n",
      " 0   PassengerId  1309 non-null   int64  \n",
      " 1   Survived     891 non-null    float64\n",
      " 2   Pclass       1309 non-null   int64  \n",
      " 3   Name         1309 non-null   object \n",
      " 4   Sex          1309 non-null   object \n",
      " 5   Age          1046 non-null   float64\n",
      " 6   SibSp        1309 non-null   int64  \n",
      " 7   Parch        1309 non-null   int64  \n",
      " 8   Ticket       1309 non-null   object \n",
      " 9   Fare         1309 non-null   float64\n",
      " 10  Cabin        1309 non-null   object \n",
      " 11  Embarked     1309 non-null   object \n",
      " 12  Title        1308 non-null   object \n",
      " 13  familyNum    1309 non-null   int64  \n",
      " 14  familysze    1309 non-null   int64  \n",
      " 15  Deck         1309 non-null   object \n",
      " 16  TickCom      1309 non-null   int64  \n",
      " 17  TickGroup    1309 non-null   int64  \n",
      "dtypes: float64(3), int64(8), object(7)\n",
      "memory usage: 184.2+ KB\n"
     ]
    }
   ],
   "source": [
    "full_train.info()\n"
   ]
  },
  {
   "cell_type": "code",
   "execution_count": 381,
   "id": "b52fe0d9-4bc3-450c-8371-87a150697e86",
   "metadata": {},
   "outputs": [],
   "source": [
    "# full_train[full_train['Age'].notnull()].corr()"
   ]
  },
  {
   "cell_type": "code",
   "execution_count": 382,
   "id": "b9b1cb79-6f62-4ae9-83a2-f08fef5e7b7d",
   "metadata": {},
   "outputs": [
    {
     "name": "stdout",
     "output_type": "stream",
     "text": [
      "Age相关系数：1.0\n"
     ]
    }
   ],
   "source": [
    "corr_result=full_train['Age'].corr(full_train['Age'])\n",
    "print(f\"Age相关系数：{corr_result}\")\n"
   ]
  },
  {
   "cell_type": "code",
   "execution_count": 383,
   "id": "b85a9c30-de39-4af9-aa98-777de8c7832d",
   "metadata": {},
   "outputs": [
    {
     "name": "stdout",
     "output_type": "stream",
     "text": [
      "             PassengerId  Survived    Pclass       Age     SibSp     Parch  \\\n",
      "PassengerId     1.000000 -0.002812 -0.038354  0.025731 -0.055224  0.008942   \n",
      "Survived       -0.002812  1.000000 -0.278618 -0.058544 -0.030845  0.062706   \n",
      "Pclass         -0.038354 -0.278618  1.000000 -0.366371  0.060832  0.018322   \n",
      "Age             0.025731 -0.058544 -0.366371  1.000000 -0.190747 -0.130872   \n",
      "SibSp          -0.055224 -0.030845  0.060832 -0.190747  1.000000  0.373587   \n",
      "Parch           0.008942  0.062706  0.018322 -0.130872  0.373587  1.000000   \n",
      "Fare            0.018483  0.273412 -0.694465  0.173484  0.316025  0.327315   \n",
      "familyNum      -0.031437  0.013984  0.050027 -0.196996  0.861952  0.792296   \n",
      "TickCom        -0.010350  0.054093 -0.078554 -0.155070  0.679444  0.647029   \n",
      "TickGroup       0.007477 -0.263375  0.308877 -0.004620 -0.021512 -0.089695   \n",
      "\n",
      "                 Fare  familyNum   TickCom  TickGroup  \n",
      "PassengerId  0.018483  -0.031437 -0.010350   0.007477  \n",
      "Survived     0.273412   0.013984  0.054093  -0.263375  \n",
      "Pclass      -0.694465   0.050027 -0.078554   0.308877  \n",
      "Age          0.173484  -0.196996 -0.155070  -0.004620  \n",
      "SibSp        0.316025   0.861952  0.679444  -0.021512  \n",
      "Parch        0.327315   0.792296  0.647029  -0.089695  \n",
      "Fare         1.000000   0.386768  0.584846  -0.399750  \n",
      "familyNum    0.386768   1.000000  0.800556  -0.063174  \n",
      "TickCom      0.584846   0.800556  1.000000  -0.111638  \n",
      "TickGroup   -0.399750  -0.063174 -0.111638   1.000000  \n"
     ]
    }
   ],
   "source": [
    "import pandas as pd\n",
    "\n",
    "# 1. 加载数据（确保路径正确，若已加载可复用 full）\n",
    "# 替换为你的真实数据路径，示例：假设数据文件是 titanic.csv\n",
    "\n",
    "\n",
    "# 2. 筛选数值列（必须排除含字符串的列！）\n",
    "# 手动指定与示例匹配的数值列（根据示例结果的列名调整）\n",
    "numeric_cols = [\n",
    "    'PassengerId', 'Survived', 'Pclass', 'Age', \n",
    "    'SibSp', 'Parch', 'Fare', 'familyNum', 'TickCom', 'TickGroup'\n",
    "]  \n",
    "\n",
    "# 3. 清洗数值列（处理非数值、缺失值）\n",
    "for col in numeric_cols:\n",
    "    # 强制转数值，非法内容（如字符串）转 NaN\n",
    "    full_train[col] = pd.to_numeric(full_train[col], errors='coerce')  \n",
    "    # 用均值填充 NaN（与示例逻辑对齐，避免差异）\n",
    "    full_train[col].fillna(full_train[col].mean(), inplace=True)  \n",
    "\n",
    "# 4. 计算相关系数矩阵（与示例代码逻辑一致）\n",
    "# 先筛选 Age 非空行，再取数值列计算 corr\n",
    "corr_result = full_train[full_train['Age'].notnull()][numeric_cols].corr()  \n",
    "\n",
    "# 5. 输出结果（与示例格式对齐）\n",
    "print(corr_result.round(6))  # 保留6位小数，匹配示例精度"
   ]
  },
  {
   "cell_type": "code",
   "execution_count": 384,
   "id": "d02e1ce9-7da8-4bfc-a614-01a688fe6d67",
   "metadata": {},
   "outputs": [
    {
     "name": "stdout",
     "output_type": "stream",
     "text": [
      "float64\n"
     ]
    }
   ],
   "source": [
    "print(full_train['Age'].dtype)\n"
   ]
  },
  {
   "cell_type": "code",
   "execution_count": 385,
   "id": "ec584389-760d-4024-9863-9d218dd185c5",
   "metadata": {},
   "outputs": [
    {
     "data": {
      "text/plain": [
       "Title_Master    -0.358853\n",
       "Title_Miss      -0.254146\n",
       "familyNum       -0.196996\n",
       "SibSp           -0.190747\n",
       "TickCom         -0.155070\n",
       "Parch           -0.130872\n",
       "Title_Royalty    0.053174\n",
       "Title_Officer    0.162818\n",
       "Title_Mr         0.165476\n",
       "Title_Mrs        0.198091\n",
       "Age              1.000000\n",
       "Name: Age, dtype: float64"
      ]
     },
     "execution_count": 385,
     "metadata": {},
     "output_type": "execute_result"
    }
   ],
   "source": [
    "agePre=full_train[['Age','Parch','SibSp','familyNum','TickCom','Title']]\n",
    "\n",
    "agePre=pd.get_dummies(agePre)\n",
    "ageCorrDf=agePre.corr()\n",
    "ageCorrDf['Age'].sort_values()"
   ]
  },
  {
   "cell_type": "code",
   "execution_count": 386,
   "id": "85a9ac41-bf26-404e-82bc-85149cc25925",
   "metadata": {},
   "outputs": [
    {
     "data": {
      "text/html": [
       "<div>\n",
       "<style scoped>\n",
       "    .dataframe tbody tr th:only-of-type {\n",
       "        vertical-align: middle;\n",
       "    }\n",
       "\n",
       "    .dataframe tbody tr th {\n",
       "        vertical-align: top;\n",
       "    }\n",
       "\n",
       "    .dataframe thead th {\n",
       "        text-align: right;\n",
       "    }\n",
       "</style>\n",
       "<table border=\"1\" class=\"dataframe\">\n",
       "  <thead>\n",
       "    <tr style=\"text-align: right;\">\n",
       "      <th></th>\n",
       "      <th>Age</th>\n",
       "      <th>Parch</th>\n",
       "      <th>SibSp</th>\n",
       "      <th>familyNum</th>\n",
       "      <th>TickCom</th>\n",
       "      <th>Title_Master</th>\n",
       "      <th>Title_Miss</th>\n",
       "      <th>Title_Mr</th>\n",
       "      <th>Title_Mrs</th>\n",
       "      <th>Title_Officer</th>\n",
       "      <th>Title_Royalty</th>\n",
       "    </tr>\n",
       "  </thead>\n",
       "  <tbody>\n",
       "    <tr>\n",
       "      <th>0</th>\n",
       "      <td>22.0</td>\n",
       "      <td>0</td>\n",
       "      <td>1</td>\n",
       "      <td>2</td>\n",
       "      <td>1</td>\n",
       "      <td>False</td>\n",
       "      <td>False</td>\n",
       "      <td>True</td>\n",
       "      <td>False</td>\n",
       "      <td>False</td>\n",
       "      <td>False</td>\n",
       "    </tr>\n",
       "    <tr>\n",
       "      <th>1</th>\n",
       "      <td>38.0</td>\n",
       "      <td>0</td>\n",
       "      <td>1</td>\n",
       "      <td>2</td>\n",
       "      <td>2</td>\n",
       "      <td>False</td>\n",
       "      <td>False</td>\n",
       "      <td>False</td>\n",
       "      <td>True</td>\n",
       "      <td>False</td>\n",
       "      <td>False</td>\n",
       "    </tr>\n",
       "    <tr>\n",
       "      <th>2</th>\n",
       "      <td>26.0</td>\n",
       "      <td>0</td>\n",
       "      <td>0</td>\n",
       "      <td>1</td>\n",
       "      <td>1</td>\n",
       "      <td>False</td>\n",
       "      <td>True</td>\n",
       "      <td>False</td>\n",
       "      <td>False</td>\n",
       "      <td>False</td>\n",
       "      <td>False</td>\n",
       "    </tr>\n",
       "    <tr>\n",
       "      <th>3</th>\n",
       "      <td>35.0</td>\n",
       "      <td>0</td>\n",
       "      <td>1</td>\n",
       "      <td>2</td>\n",
       "      <td>2</td>\n",
       "      <td>False</td>\n",
       "      <td>False</td>\n",
       "      <td>False</td>\n",
       "      <td>True</td>\n",
       "      <td>False</td>\n",
       "      <td>False</td>\n",
       "    </tr>\n",
       "    <tr>\n",
       "      <th>4</th>\n",
       "      <td>35.0</td>\n",
       "      <td>0</td>\n",
       "      <td>0</td>\n",
       "      <td>1</td>\n",
       "      <td>1</td>\n",
       "      <td>False</td>\n",
       "      <td>False</td>\n",
       "      <td>True</td>\n",
       "      <td>False</td>\n",
       "      <td>False</td>\n",
       "      <td>False</td>\n",
       "    </tr>\n",
       "  </tbody>\n",
       "</table>\n",
       "</div>"
      ],
      "text/plain": [
       "    Age  Parch  SibSp  familyNum  TickCom  Title_Master  Title_Miss  Title_Mr  \\\n",
       "0  22.0      0      1          2        1         False       False      True   \n",
       "1  38.0      0      1          2        2         False       False     False   \n",
       "2  26.0      0      0          1        1         False        True     False   \n",
       "3  35.0      0      1          2        2         False       False     False   \n",
       "4  35.0      0      0          1        1         False       False      True   \n",
       "\n",
       "   Title_Mrs  Title_Officer  Title_Royalty  \n",
       "0      False          False          False  \n",
       "1       True          False          False  \n",
       "2      False          False          False  \n",
       "3       True          False          False  \n",
       "4      False          False          False  "
      ]
     },
     "execution_count": 386,
     "metadata": {},
     "output_type": "execute_result"
    }
   ],
   "source": [
    "agePre.head()"
   ]
  },
  {
   "cell_type": "code",
   "execution_count": 387,
   "id": "ff09c7ee-e162-4163-a4d4-bc6f2f952e58",
   "metadata": {},
   "outputs": [
    {
     "data": {
      "text/html": [
       "<style>#sk-container-id-8 {\n",
       "  /* Definition of color scheme common for light and dark mode */\n",
       "  --sklearn-color-text: black;\n",
       "  --sklearn-color-line: gray;\n",
       "  /* Definition of color scheme for unfitted estimators */\n",
       "  --sklearn-color-unfitted-level-0: #fff5e6;\n",
       "  --sklearn-color-unfitted-level-1: #f6e4d2;\n",
       "  --sklearn-color-unfitted-level-2: #ffe0b3;\n",
       "  --sklearn-color-unfitted-level-3: chocolate;\n",
       "  /* Definition of color scheme for fitted estimators */\n",
       "  --sklearn-color-fitted-level-0: #f0f8ff;\n",
       "  --sklearn-color-fitted-level-1: #d4ebff;\n",
       "  --sklearn-color-fitted-level-2: #b3dbfd;\n",
       "  --sklearn-color-fitted-level-3: cornflowerblue;\n",
       "\n",
       "  /* Specific color for light theme */\n",
       "  --sklearn-color-text-on-default-background: var(--sg-text-color, var(--theme-code-foreground, var(--jp-content-font-color1, black)));\n",
       "  --sklearn-color-background: var(--sg-background-color, var(--theme-background, var(--jp-layout-color0, white)));\n",
       "  --sklearn-color-border-box: var(--sg-text-color, var(--theme-code-foreground, var(--jp-content-font-color1, black)));\n",
       "  --sklearn-color-icon: #696969;\n",
       "\n",
       "  @media (prefers-color-scheme: dark) {\n",
       "    /* Redefinition of color scheme for dark theme */\n",
       "    --sklearn-color-text-on-default-background: var(--sg-text-color, var(--theme-code-foreground, var(--jp-content-font-color1, white)));\n",
       "    --sklearn-color-background: var(--sg-background-color, var(--theme-background, var(--jp-layout-color0, #111)));\n",
       "    --sklearn-color-border-box: var(--sg-text-color, var(--theme-code-foreground, var(--jp-content-font-color1, white)));\n",
       "    --sklearn-color-icon: #878787;\n",
       "  }\n",
       "}\n",
       "\n",
       "#sk-container-id-8 {\n",
       "  color: var(--sklearn-color-text);\n",
       "}\n",
       "\n",
       "#sk-container-id-8 pre {\n",
       "  padding: 0;\n",
       "}\n",
       "\n",
       "#sk-container-id-8 input.sk-hidden--visually {\n",
       "  border: 0;\n",
       "  clip: rect(1px 1px 1px 1px);\n",
       "  clip: rect(1px, 1px, 1px, 1px);\n",
       "  height: 1px;\n",
       "  margin: -1px;\n",
       "  overflow: hidden;\n",
       "  padding: 0;\n",
       "  position: absolute;\n",
       "  width: 1px;\n",
       "}\n",
       "\n",
       "#sk-container-id-8 div.sk-dashed-wrapped {\n",
       "  border: 1px dashed var(--sklearn-color-line);\n",
       "  margin: 0 0.4em 0.5em 0.4em;\n",
       "  box-sizing: border-box;\n",
       "  padding-bottom: 0.4em;\n",
       "  background-color: var(--sklearn-color-background);\n",
       "}\n",
       "\n",
       "#sk-container-id-8 div.sk-container {\n",
       "  /* jupyter's `normalize.less` sets `[hidden] { display: none; }`\n",
       "     but bootstrap.min.css set `[hidden] { display: none !important; }`\n",
       "     so we also need the `!important` here to be able to override the\n",
       "     default hidden behavior on the sphinx rendered scikit-learn.org.\n",
       "     See: https://github.com/scikit-learn/scikit-learn/issues/21755 */\n",
       "  display: inline-block !important;\n",
       "  position: relative;\n",
       "}\n",
       "\n",
       "#sk-container-id-8 div.sk-text-repr-fallback {\n",
       "  display: none;\n",
       "}\n",
       "\n",
       "div.sk-parallel-item,\n",
       "div.sk-serial,\n",
       "div.sk-item {\n",
       "  /* draw centered vertical line to link estimators */\n",
       "  background-image: linear-gradient(var(--sklearn-color-text-on-default-background), var(--sklearn-color-text-on-default-background));\n",
       "  background-size: 2px 100%;\n",
       "  background-repeat: no-repeat;\n",
       "  background-position: center center;\n",
       "}\n",
       "\n",
       "/* Parallel-specific style estimator block */\n",
       "\n",
       "#sk-container-id-8 div.sk-parallel-item::after {\n",
       "  content: \"\";\n",
       "  width: 100%;\n",
       "  border-bottom: 2px solid var(--sklearn-color-text-on-default-background);\n",
       "  flex-grow: 1;\n",
       "}\n",
       "\n",
       "#sk-container-id-8 div.sk-parallel {\n",
       "  display: flex;\n",
       "  align-items: stretch;\n",
       "  justify-content: center;\n",
       "  background-color: var(--sklearn-color-background);\n",
       "  position: relative;\n",
       "}\n",
       "\n",
       "#sk-container-id-8 div.sk-parallel-item {\n",
       "  display: flex;\n",
       "  flex-direction: column;\n",
       "}\n",
       "\n",
       "#sk-container-id-8 div.sk-parallel-item:first-child::after {\n",
       "  align-self: flex-end;\n",
       "  width: 50%;\n",
       "}\n",
       "\n",
       "#sk-container-id-8 div.sk-parallel-item:last-child::after {\n",
       "  align-self: flex-start;\n",
       "  width: 50%;\n",
       "}\n",
       "\n",
       "#sk-container-id-8 div.sk-parallel-item:only-child::after {\n",
       "  width: 0;\n",
       "}\n",
       "\n",
       "/* Serial-specific style estimator block */\n",
       "\n",
       "#sk-container-id-8 div.sk-serial {\n",
       "  display: flex;\n",
       "  flex-direction: column;\n",
       "  align-items: center;\n",
       "  background-color: var(--sklearn-color-background);\n",
       "  padding-right: 1em;\n",
       "  padding-left: 1em;\n",
       "}\n",
       "\n",
       "\n",
       "/* Toggleable style: style used for estimator/Pipeline/ColumnTransformer box that is\n",
       "clickable and can be expanded/collapsed.\n",
       "- Pipeline and ColumnTransformer use this feature and define the default style\n",
       "- Estimators will overwrite some part of the style using the `sk-estimator` class\n",
       "*/\n",
       "\n",
       "/* Pipeline and ColumnTransformer style (default) */\n",
       "\n",
       "#sk-container-id-8 div.sk-toggleable {\n",
       "  /* Default theme specific background. It is overwritten whether we have a\n",
       "  specific estimator or a Pipeline/ColumnTransformer */\n",
       "  background-color: var(--sklearn-color-background);\n",
       "}\n",
       "\n",
       "/* Toggleable label */\n",
       "#sk-container-id-8 label.sk-toggleable__label {\n",
       "  cursor: pointer;\n",
       "  display: block;\n",
       "  width: 100%;\n",
       "  margin-bottom: 0;\n",
       "  padding: 0.5em;\n",
       "  box-sizing: border-box;\n",
       "  text-align: center;\n",
       "}\n",
       "\n",
       "#sk-container-id-8 label.sk-toggleable__label-arrow:before {\n",
       "  /* Arrow on the left of the label */\n",
       "  content: \"▸\";\n",
       "  float: left;\n",
       "  margin-right: 0.25em;\n",
       "  color: var(--sklearn-color-icon);\n",
       "}\n",
       "\n",
       "#sk-container-id-8 label.sk-toggleable__label-arrow:hover:before {\n",
       "  color: var(--sklearn-color-text);\n",
       "}\n",
       "\n",
       "/* Toggleable content - dropdown */\n",
       "\n",
       "#sk-container-id-8 div.sk-toggleable__content {\n",
       "  max-height: 0;\n",
       "  max-width: 0;\n",
       "  overflow: hidden;\n",
       "  text-align: left;\n",
       "  /* unfitted */\n",
       "  background-color: var(--sklearn-color-unfitted-level-0);\n",
       "}\n",
       "\n",
       "#sk-container-id-8 div.sk-toggleable__content.fitted {\n",
       "  /* fitted */\n",
       "  background-color: var(--sklearn-color-fitted-level-0);\n",
       "}\n",
       "\n",
       "#sk-container-id-8 div.sk-toggleable__content pre {\n",
       "  margin: 0.2em;\n",
       "  border-radius: 0.25em;\n",
       "  color: var(--sklearn-color-text);\n",
       "  /* unfitted */\n",
       "  background-color: var(--sklearn-color-unfitted-level-0);\n",
       "}\n",
       "\n",
       "#sk-container-id-8 div.sk-toggleable__content.fitted pre {\n",
       "  /* unfitted */\n",
       "  background-color: var(--sklearn-color-fitted-level-0);\n",
       "}\n",
       "\n",
       "#sk-container-id-8 input.sk-toggleable__control:checked~div.sk-toggleable__content {\n",
       "  /* Expand drop-down */\n",
       "  max-height: 200px;\n",
       "  max-width: 100%;\n",
       "  overflow: auto;\n",
       "}\n",
       "\n",
       "#sk-container-id-8 input.sk-toggleable__control:checked~label.sk-toggleable__label-arrow:before {\n",
       "  content: \"▾\";\n",
       "}\n",
       "\n",
       "/* Pipeline/ColumnTransformer-specific style */\n",
       "\n",
       "#sk-container-id-8 div.sk-label input.sk-toggleable__control:checked~label.sk-toggleable__label {\n",
       "  color: var(--sklearn-color-text);\n",
       "  background-color: var(--sklearn-color-unfitted-level-2);\n",
       "}\n",
       "\n",
       "#sk-container-id-8 div.sk-label.fitted input.sk-toggleable__control:checked~label.sk-toggleable__label {\n",
       "  background-color: var(--sklearn-color-fitted-level-2);\n",
       "}\n",
       "\n",
       "/* Estimator-specific style */\n",
       "\n",
       "/* Colorize estimator box */\n",
       "#sk-container-id-8 div.sk-estimator input.sk-toggleable__control:checked~label.sk-toggleable__label {\n",
       "  /* unfitted */\n",
       "  background-color: var(--sklearn-color-unfitted-level-2);\n",
       "}\n",
       "\n",
       "#sk-container-id-8 div.sk-estimator.fitted input.sk-toggleable__control:checked~label.sk-toggleable__label {\n",
       "  /* fitted */\n",
       "  background-color: var(--sklearn-color-fitted-level-2);\n",
       "}\n",
       "\n",
       "#sk-container-id-8 div.sk-label label.sk-toggleable__label,\n",
       "#sk-container-id-8 div.sk-label label {\n",
       "  /* The background is the default theme color */\n",
       "  color: var(--sklearn-color-text-on-default-background);\n",
       "}\n",
       "\n",
       "/* On hover, darken the color of the background */\n",
       "#sk-container-id-8 div.sk-label:hover label.sk-toggleable__label {\n",
       "  color: var(--sklearn-color-text);\n",
       "  background-color: var(--sklearn-color-unfitted-level-2);\n",
       "}\n",
       "\n",
       "/* Label box, darken color on hover, fitted */\n",
       "#sk-container-id-8 div.sk-label.fitted:hover label.sk-toggleable__label.fitted {\n",
       "  color: var(--sklearn-color-text);\n",
       "  background-color: var(--sklearn-color-fitted-level-2);\n",
       "}\n",
       "\n",
       "/* Estimator label */\n",
       "\n",
       "#sk-container-id-8 div.sk-label label {\n",
       "  font-family: monospace;\n",
       "  font-weight: bold;\n",
       "  display: inline-block;\n",
       "  line-height: 1.2em;\n",
       "}\n",
       "\n",
       "#sk-container-id-8 div.sk-label-container {\n",
       "  text-align: center;\n",
       "}\n",
       "\n",
       "/* Estimator-specific */\n",
       "#sk-container-id-8 div.sk-estimator {\n",
       "  font-family: monospace;\n",
       "  border: 1px dotted var(--sklearn-color-border-box);\n",
       "  border-radius: 0.25em;\n",
       "  box-sizing: border-box;\n",
       "  margin-bottom: 0.5em;\n",
       "  /* unfitted */\n",
       "  background-color: var(--sklearn-color-unfitted-level-0);\n",
       "}\n",
       "\n",
       "#sk-container-id-8 div.sk-estimator.fitted {\n",
       "  /* fitted */\n",
       "  background-color: var(--sklearn-color-fitted-level-0);\n",
       "}\n",
       "\n",
       "/* on hover */\n",
       "#sk-container-id-8 div.sk-estimator:hover {\n",
       "  /* unfitted */\n",
       "  background-color: var(--sklearn-color-unfitted-level-2);\n",
       "}\n",
       "\n",
       "#sk-container-id-8 div.sk-estimator.fitted:hover {\n",
       "  /* fitted */\n",
       "  background-color: var(--sklearn-color-fitted-level-2);\n",
       "}\n",
       "\n",
       "/* Specification for estimator info (e.g. \"i\" and \"?\") */\n",
       "\n",
       "/* Common style for \"i\" and \"?\" */\n",
       "\n",
       ".sk-estimator-doc-link,\n",
       "a:link.sk-estimator-doc-link,\n",
       "a:visited.sk-estimator-doc-link {\n",
       "  float: right;\n",
       "  font-size: smaller;\n",
       "  line-height: 1em;\n",
       "  font-family: monospace;\n",
       "  background-color: var(--sklearn-color-background);\n",
       "  border-radius: 1em;\n",
       "  height: 1em;\n",
       "  width: 1em;\n",
       "  text-decoration: none !important;\n",
       "  margin-left: 1ex;\n",
       "  /* unfitted */\n",
       "  border: var(--sklearn-color-unfitted-level-1) 1pt solid;\n",
       "  color: var(--sklearn-color-unfitted-level-1);\n",
       "}\n",
       "\n",
       ".sk-estimator-doc-link.fitted,\n",
       "a:link.sk-estimator-doc-link.fitted,\n",
       "a:visited.sk-estimator-doc-link.fitted {\n",
       "  /* fitted */\n",
       "  border: var(--sklearn-color-fitted-level-1) 1pt solid;\n",
       "  color: var(--sklearn-color-fitted-level-1);\n",
       "}\n",
       "\n",
       "/* On hover */\n",
       "div.sk-estimator:hover .sk-estimator-doc-link:hover,\n",
       ".sk-estimator-doc-link:hover,\n",
       "div.sk-label-container:hover .sk-estimator-doc-link:hover,\n",
       ".sk-estimator-doc-link:hover {\n",
       "  /* unfitted */\n",
       "  background-color: var(--sklearn-color-unfitted-level-3);\n",
       "  color: var(--sklearn-color-background);\n",
       "  text-decoration: none;\n",
       "}\n",
       "\n",
       "div.sk-estimator.fitted:hover .sk-estimator-doc-link.fitted:hover,\n",
       ".sk-estimator-doc-link.fitted:hover,\n",
       "div.sk-label-container:hover .sk-estimator-doc-link.fitted:hover,\n",
       ".sk-estimator-doc-link.fitted:hover {\n",
       "  /* fitted */\n",
       "  background-color: var(--sklearn-color-fitted-level-3);\n",
       "  color: var(--sklearn-color-background);\n",
       "  text-decoration: none;\n",
       "}\n",
       "\n",
       "/* Span, style for the box shown on hovering the info icon */\n",
       ".sk-estimator-doc-link span {\n",
       "  display: none;\n",
       "  z-index: 9999;\n",
       "  position: relative;\n",
       "  font-weight: normal;\n",
       "  right: .2ex;\n",
       "  padding: .5ex;\n",
       "  margin: .5ex;\n",
       "  width: min-content;\n",
       "  min-width: 20ex;\n",
       "  max-width: 50ex;\n",
       "  color: var(--sklearn-color-text);\n",
       "  box-shadow: 2pt 2pt 4pt #999;\n",
       "  /* unfitted */\n",
       "  background: var(--sklearn-color-unfitted-level-0);\n",
       "  border: .5pt solid var(--sklearn-color-unfitted-level-3);\n",
       "}\n",
       "\n",
       ".sk-estimator-doc-link.fitted span {\n",
       "  /* fitted */\n",
       "  background: var(--sklearn-color-fitted-level-0);\n",
       "  border: var(--sklearn-color-fitted-level-3);\n",
       "}\n",
       "\n",
       ".sk-estimator-doc-link:hover span {\n",
       "  display: block;\n",
       "}\n",
       "\n",
       "/* \"?\"-specific style due to the `<a>` HTML tag */\n",
       "\n",
       "#sk-container-id-8 a.estimator_doc_link {\n",
       "  float: right;\n",
       "  font-size: 1rem;\n",
       "  line-height: 1em;\n",
       "  font-family: monospace;\n",
       "  background-color: var(--sklearn-color-background);\n",
       "  border-radius: 1rem;\n",
       "  height: 1rem;\n",
       "  width: 1rem;\n",
       "  text-decoration: none;\n",
       "  /* unfitted */\n",
       "  color: var(--sklearn-color-unfitted-level-1);\n",
       "  border: var(--sklearn-color-unfitted-level-1) 1pt solid;\n",
       "}\n",
       "\n",
       "#sk-container-id-8 a.estimator_doc_link.fitted {\n",
       "  /* fitted */\n",
       "  border: var(--sklearn-color-fitted-level-1) 1pt solid;\n",
       "  color: var(--sklearn-color-fitted-level-1);\n",
       "}\n",
       "\n",
       "/* On hover */\n",
       "#sk-container-id-8 a.estimator_doc_link:hover {\n",
       "  /* unfitted */\n",
       "  background-color: var(--sklearn-color-unfitted-level-3);\n",
       "  color: var(--sklearn-color-background);\n",
       "  text-decoration: none;\n",
       "}\n",
       "\n",
       "#sk-container-id-8 a.estimator_doc_link.fitted:hover {\n",
       "  /* fitted */\n",
       "  background-color: var(--sklearn-color-fitted-level-3);\n",
       "}\n",
       "</style><div id=\"sk-container-id-8\" class=\"sk-top-container\"><div class=\"sk-text-repr-fallback\"><pre>RandomForestRegressor(n_estimators=500, n_jobs=-1)</pre><b>In a Jupyter environment, please rerun this cell to show the HTML representation or trust the notebook. <br />On GitHub, the HTML representation is unable to render, please try loading this page with nbviewer.org.</b></div><div class=\"sk-container\" hidden><div class=\"sk-item\"><div class=\"sk-estimator fitted sk-toggleable\"><input class=\"sk-toggleable__control sk-hidden--visually\" id=\"sk-estimator-id-8\" type=\"checkbox\" checked><label for=\"sk-estimator-id-8\" class=\"sk-toggleable__label fitted sk-toggleable__label-arrow fitted\">&nbsp;&nbsp;RandomForestRegressor<a class=\"sk-estimator-doc-link fitted\" rel=\"noreferrer\" target=\"_blank\" href=\"https://scikit-learn.org/1.5/modules/generated/sklearn.ensemble.RandomForestRegressor.html\">?<span>Documentation for RandomForestRegressor</span></a><span class=\"sk-estimator-doc-link fitted\">i<span>Fitted</span></span></label><div class=\"sk-toggleable__content fitted\"><pre>RandomForestRegressor(n_estimators=500, n_jobs=-1)</pre></div> </div></div></div></div>"
      ],
      "text/plain": [
       "RandomForestRegressor(n_estimators=500, n_jobs=-1)"
      ]
     },
     "execution_count": 387,
     "metadata": {},
     "output_type": "execute_result"
    }
   ],
   "source": [
    "ageKnown=agePre[agePre['Age'].notnull()]\n",
    "ageUnKnown=agePre[agePre['Age'].isnull()]\n",
    "\n",
    "ageKnown_X=ageKnown.drop(['Age'],axis=1)\n",
    "ageKnown_y=ageKnown['Age']\n",
    "\n",
    "ageUnknown_X=ageUnKnown.drop(['Age'],axis=1)\n",
    "\n",
    "from sklearn.ensemble import RandomForestRegressor\n",
    "rfr=RandomForestRegressor(random_state=None,n_estimators=500,n_jobs=-1)\n",
    "rfr.fit(ageKnown_X,ageKnown_y)"
   ]
  },
  {
   "cell_type": "code",
   "execution_count": 388,
   "id": "64d52e09-e50e-4d54-916d-481d867c1865",
   "metadata": {},
   "outputs": [
    {
     "name": "stdout",
     "output_type": "stream",
     "text": [
      "模型预测年龄得分是： 0.43132093935021487\n"
     ]
    }
   ],
   "source": [
    "# 模型得分\n",
    "score = rfr.score(ageKnown_X,ageKnown_y)\n",
    "print('模型预测年龄得分是：', score)\n",
    "\n",
    "\n"
   ]
  },
  {
   "cell_type": "code",
   "execution_count": 389,
   "id": "f87a8c76-6bfa-4949-a54e-fed351b53580",
   "metadata": {},
   "outputs": [],
   "source": [
    "# 预测年龄\n",
    "\n",
    "# ageUnknown_predict = rfr.predict(ageUnknown.drop(['Age'], axis=1))\n"
   ]
  },
  {
   "cell_type": "code",
   "execution_count": 390,
   "id": "cc508842-e783-4eb2-9a51-30e391c77151",
   "metadata": {},
   "outputs": [],
   "source": [
    "# # 填充预测数据\n",
    "# full.loc[full['Age'].isnull(), ['Age']] = ageUnknown_predict\n",
    "\n",
    "# full.info()  # 此时已无缺失值\n"
   ]
  },
  {
   "cell_type": "code",
   "execution_count": 391,
   "id": "8fb47c34-1038-452b-8f69-a57cd54666a5",
   "metadata": {},
   "outputs": [
    {
     "data": {
      "text/plain": [
       "Surname\n",
       "Andersson    11\n",
       "Sage         11\n",
       "Goodwin       8\n",
       "Asplund       8\n",
       "Davies        7\n",
       "             ..\n",
       "Milling       1\n",
       "Maisner       1\n",
       "Goncalves     1\n",
       "Campbell      1\n",
       "Saether       1\n",
       "Name: count, Length: 875, dtype: int64"
      ]
     },
     "metadata": {},
     "output_type": "display_data"
    },
    {
     "data": {
      "text/plain": [
       "Survived\n",
       "0.000000    73\n",
       "0.383838    43\n",
       "1.000000    19\n",
       "0.191919    13\n",
       "0.500000     3\n",
       "0.255892     2\n",
       "0.127946     2\n",
       "0.691919     1\n",
       "Name: count, dtype: int64"
      ]
     },
     "execution_count": 391,
     "metadata": {},
     "output_type": "execute_result"
    }
   ],
   "source": [
    "full_train['Surname']=full_train['Name'].map(lambda x:x.split(',')[0].strip())\n",
    "SurNameDict=full_train['Surname'].value_counts()\n",
    "display(SurNameDict)\n",
    "full_train['SurnameNum']=full_train['Surname'].map(SurNameDict)\n",
    "MaleDf=full_train[(full_train['Sex']=='male')&(full_train['Age']>12)&(full_train['familyNum']>=2)]\n",
    "\n",
    "MSurNamDf=MaleDf['Survived'].groupby(MaleDf['Surname']).mean()\n",
    "MSurNamDf.head()\n",
    "MSurNamDf.value_counts()\n",
    "\n"
   ]
  },
  {
   "cell_type": "code",
   "execution_count": 392,
   "id": "7c2d3ee7-d2cd-431d-9fb0-ea35eb54f1cb",
   "metadata": {},
   "outputs": [
    {
     "data": {
      "text/plain": [
       "Surname\n",
       "Andersson    11\n",
       "Sage         11\n",
       "Goodwin       8\n",
       "Asplund       8\n",
       "Davies        7\n",
       "             ..\n",
       "Milling       1\n",
       "Maisner       1\n",
       "Goncalves     1\n",
       "Campbell      1\n",
       "Saether       1\n",
       "Name: count, Length: 875, dtype: int64"
      ]
     },
     "metadata": {},
     "output_type": "display_data"
    },
    {
     "data": {
      "text/plain": [
       "Survived\n",
       "0.000000    73\n",
       "0.383838    43\n",
       "1.000000    19\n",
       "0.191919    13\n",
       "0.500000     3\n",
       "0.255892     2\n",
       "0.127946     2\n",
       "0.691919     1\n",
       "Name: count, dtype: int64"
      ]
     },
     "execution_count": 392,
     "metadata": {},
     "output_type": "execute_result"
    }
   ],
   "source": [
    "full_train['Surname']=full_train['Name'].map(lambda x:x.split(',')[0].strip())\n",
    "SurNameDict=full_train['Surname'].value_counts()\n",
    "display(SurNameDict)\n",
    "full_train['SurnameNum']=full_train['Surname'].map(SurNameDict)\n",
    "FemChildDf=full_train[(full_train['Sex']=='female')&(full_train['Age']<=12)&(full_train['familyNum']>=2)]\n",
    "\n",
    "FCSurNamDf=MaleDf['Survived'].groupby(MaleDf['Surname']).mean()\n",
    "FCSurNamDf.head()\n",
    "FCSurNamDf.value_counts()\n"
   ]
  },
  {
   "cell_type": "code",
   "execution_count": 393,
   "id": "c0f3a4e7-abb4-4c45-a71a-7db7ff64cda5",
   "metadata": {},
   "outputs": [
    {
     "data": {
      "text/plain": [
       "Index(['Abelson', 'Andersson', 'Arnold-Franchi', 'Backstrom', 'Baxter',\n",
       "       'Bourke', 'Braund', 'Brown', 'Bryhl', 'Cavendish', 'Chaffee', 'Chapman',\n",
       "       'Collyer', 'Cribb', 'Crosby', 'Danbom', 'Davidson', 'Dean', 'Douglas',\n",
       "       'Fortune', 'Futrelle', 'Goldsmith', 'Graham', 'Gustafsson', 'Hagland',\n",
       "       'Hakkarainen', 'Hansen', 'Harris', 'Hart', 'Hickman', 'Hocking', 'Hold',\n",
       "       'Holverson', 'Jacobsohn', 'Jensen', 'Kantor', 'Kink', 'Klasen',\n",
       "       'Laroche', 'Lefebre', 'Lennon', 'Lindell', 'Lobb', 'Mallet', 'Marvin',\n",
       "       'McNamee', 'Meyer', 'Minahan', 'Moran', 'Nasser', 'Natsch', 'Navratil',\n",
       "       'Newell', 'Nicholls', 'O'Brien', 'Olsen', 'Ostby', 'Panula', 'Pears',\n",
       "       'Penasco y Castellana', 'Petterson', 'Renouf', 'Rosblom', 'Silvey',\n",
       "       'Skoog', 'Taussig', 'Thorneycroft', 'Turpin', 'Van Impe', 'West',\n",
       "       'White', 'Yasbeck', 'del Carlo'],\n",
       "      dtype='object', name='Surname')"
      ]
     },
     "execution_count": 393,
     "metadata": {},
     "output_type": "execute_result"
    }
   ],
   "source": [
    "\n",
    "\n",
    "MSurNamDict=MSurNamDf[MSurNamDf.values==1].index\n",
    "MSurNamDict\n",
    "\n",
    "FCSurNamDict=FCSurNamDf[FCSurNamDf.values==0].index\n",
    "FCSurNamDict\n",
    "\n",
    "\n",
    "\n",
    "\n",
    "\n",
    "\n",
    "\n",
    "\n",
    "\n"
   ]
  },
  {
   "cell_type": "code",
   "execution_count": 394,
   "id": "a3edc4a9-a0ea-4a8c-8891-6c465917523c",
   "metadata": {},
   "outputs": [],
   "source": [
    "full_train.loc[(full_train['Survived'].isnull())&(full_train['Surname'].isin(MSurNamDict))&\n",
    "(full_train['Sex']=='male'),'Sex']='female'\n",
    "full_train.loc[(full_train['Survived'].isnull())&(full_train['Surname'].isin(MSurNamDict))&\n",
    "(full_train['Sex']=='malle'),'Age']=5\n",
    "\n",
    "full_train.loc[(full_train['Survived'].isnull())&(full_train['Surname'].isin(MSurNamDict))&\n",
    "((full_train['Sex']=='female')|(full_train['Age']<=12)),'Sex']='male'\n",
    "full_train.loc[(full_train['Survived'].isnull())&(full_train['Surname'].isin(MSurNamDict))&\n",
    "((full_train['Sex']=='femalle')|(full_train['Age']<=12)),'Age']=60"
   ]
  },
  {
   "cell_type": "code",
   "execution_count": 396,
   "id": "f156a8e5-9702-4ccb-9917-811e6223f6c5",
   "metadata": {},
   "outputs": [],
   "source": [
    "fullSel=full_train.drop(['Cabin','Name','Ticket','PassengerId','Surname','SurnameNum'],axis=1)\n",
    "corrDf=pd.DataFrame()\n",
    "# corrDf=fullSel.corr()\n",
    "# corrDf['Survived'].sort_values(ascending=True)\n",
    "\n",
    "\n",
    "\n"
   ]
  },
  {
   "cell_type": "code",
   "execution_count": 397,
   "id": "bde92ca1-321e-485f-b23c-7561ee358ce0",
   "metadata": {},
   "outputs": [],
   "source": [
    "# corrDf['Survived'].sort_values(ascending=True)"
   ]
  },
  {
   "cell_type": "code",
   "execution_count": 399,
   "id": "c3198ff0-f424-494d-b25c-8e60cb7f41b7",
   "metadata": {},
   "outputs": [
    {
     "data": {
      "text/html": [
       "<div>\n",
       "<style scoped>\n",
       "    .dataframe tbody tr th:only-of-type {\n",
       "        vertical-align: middle;\n",
       "    }\n",
       "\n",
       "    .dataframe tbody tr th {\n",
       "        vertical-align: top;\n",
       "    }\n",
       "\n",
       "    .dataframe thead th {\n",
       "        text-align: right;\n",
       "    }\n",
       "</style>\n",
       "<table border=\"1\" class=\"dataframe\">\n",
       "  <thead>\n",
       "    <tr style=\"text-align: right;\">\n",
       "      <th></th>\n",
       "      <th>Survived</th>\n",
       "      <th>Pclass</th>\n",
       "      <th>Fare</th>\n",
       "      <th>familysze</th>\n",
       "      <th>TickGroup</th>\n",
       "      <th>Sex_female</th>\n",
       "      <th>Sex_male</th>\n",
       "      <th>Embarked_C</th>\n",
       "      <th>Embarked_Q</th>\n",
       "      <th>Embarked_S</th>\n",
       "      <th>...</th>\n",
       "      <th>Title_Royalty</th>\n",
       "      <th>Deck_A</th>\n",
       "      <th>Deck_B</th>\n",
       "      <th>Deck_C</th>\n",
       "      <th>Deck_D</th>\n",
       "      <th>Deck_E</th>\n",
       "      <th>Deck_F</th>\n",
       "      <th>Deck_G</th>\n",
       "      <th>Deck_T</th>\n",
       "      <th>Deck_U</th>\n",
       "    </tr>\n",
       "  </thead>\n",
       "  <tbody>\n",
       "    <tr>\n",
       "      <th>0</th>\n",
       "      <td>0.0</td>\n",
       "      <td>3</td>\n",
       "      <td>1.981001</td>\n",
       "      <td>1</td>\n",
       "      <td>1</td>\n",
       "      <td>False</td>\n",
       "      <td>True</td>\n",
       "      <td>False</td>\n",
       "      <td>False</td>\n",
       "      <td>True</td>\n",
       "      <td>...</td>\n",
       "      <td>False</td>\n",
       "      <td>False</td>\n",
       "      <td>False</td>\n",
       "      <td>False</td>\n",
       "      <td>False</td>\n",
       "      <td>False</td>\n",
       "      <td>False</td>\n",
       "      <td>False</td>\n",
       "      <td>False</td>\n",
       "      <td>True</td>\n",
       "    </tr>\n",
       "    <tr>\n",
       "      <th>1</th>\n",
       "      <td>1.0</td>\n",
       "      <td>1</td>\n",
       "      <td>4.266662</td>\n",
       "      <td>1</td>\n",
       "      <td>0</td>\n",
       "      <td>True</td>\n",
       "      <td>False</td>\n",
       "      <td>True</td>\n",
       "      <td>False</td>\n",
       "      <td>False</td>\n",
       "      <td>...</td>\n",
       "      <td>False</td>\n",
       "      <td>False</td>\n",
       "      <td>False</td>\n",
       "      <td>True</td>\n",
       "      <td>False</td>\n",
       "      <td>False</td>\n",
       "      <td>False</td>\n",
       "      <td>False</td>\n",
       "      <td>False</td>\n",
       "      <td>False</td>\n",
       "    </tr>\n",
       "    <tr>\n",
       "      <th>2</th>\n",
       "      <td>1.0</td>\n",
       "      <td>3</td>\n",
       "      <td>2.070022</td>\n",
       "      <td>1</td>\n",
       "      <td>1</td>\n",
       "      <td>True</td>\n",
       "      <td>False</td>\n",
       "      <td>False</td>\n",
       "      <td>False</td>\n",
       "      <td>True</td>\n",
       "      <td>...</td>\n",
       "      <td>False</td>\n",
       "      <td>False</td>\n",
       "      <td>False</td>\n",
       "      <td>False</td>\n",
       "      <td>False</td>\n",
       "      <td>False</td>\n",
       "      <td>False</td>\n",
       "      <td>False</td>\n",
       "      <td>False</td>\n",
       "      <td>True</td>\n",
       "    </tr>\n",
       "    <tr>\n",
       "      <th>3</th>\n",
       "      <td>1.0</td>\n",
       "      <td>1</td>\n",
       "      <td>3.972177</td>\n",
       "      <td>1</td>\n",
       "      <td>0</td>\n",
       "      <td>True</td>\n",
       "      <td>False</td>\n",
       "      <td>False</td>\n",
       "      <td>False</td>\n",
       "      <td>True</td>\n",
       "      <td>...</td>\n",
       "      <td>False</td>\n",
       "      <td>False</td>\n",
       "      <td>False</td>\n",
       "      <td>True</td>\n",
       "      <td>False</td>\n",
       "      <td>False</td>\n",
       "      <td>False</td>\n",
       "      <td>False</td>\n",
       "      <td>False</td>\n",
       "      <td>False</td>\n",
       "    </tr>\n",
       "    <tr>\n",
       "      <th>4</th>\n",
       "      <td>0.0</td>\n",
       "      <td>3</td>\n",
       "      <td>2.085672</td>\n",
       "      <td>1</td>\n",
       "      <td>1</td>\n",
       "      <td>False</td>\n",
       "      <td>True</td>\n",
       "      <td>False</td>\n",
       "      <td>False</td>\n",
       "      <td>True</td>\n",
       "      <td>...</td>\n",
       "      <td>False</td>\n",
       "      <td>False</td>\n",
       "      <td>False</td>\n",
       "      <td>False</td>\n",
       "      <td>False</td>\n",
       "      <td>False</td>\n",
       "      <td>False</td>\n",
       "      <td>False</td>\n",
       "      <td>False</td>\n",
       "      <td>True</td>\n",
       "    </tr>\n",
       "  </tbody>\n",
       "</table>\n",
       "<p>5 rows × 25 columns</p>\n",
       "</div>"
      ],
      "text/plain": [
       "   Survived  Pclass      Fare  familysze  TickGroup  Sex_female  Sex_male  \\\n",
       "0       0.0       3  1.981001          1          1       False      True   \n",
       "1       1.0       1  4.266662          1          0        True     False   \n",
       "2       1.0       3  2.070022          1          1        True     False   \n",
       "3       1.0       1  3.972177          1          0        True     False   \n",
       "4       0.0       3  2.085672          1          1       False      True   \n",
       "\n",
       "   Embarked_C  Embarked_Q  Embarked_S  ...  Title_Royalty  Deck_A  Deck_B  \\\n",
       "0       False       False        True  ...          False   False   False   \n",
       "1        True       False       False  ...          False   False   False   \n",
       "2       False       False        True  ...          False   False   False   \n",
       "3       False       False        True  ...          False   False   False   \n",
       "4       False       False        True  ...          False   False   False   \n",
       "\n",
       "   Deck_C  Deck_D  Deck_E  Deck_F  Deck_G  Deck_T  Deck_U  \n",
       "0   False   False   False   False   False   False    True  \n",
       "1    True   False   False   False   False   False   False  \n",
       "2   False   False   False   False   False   False    True  \n",
       "3    True   False   False   False   False   False   False  \n",
       "4   False   False   False   False   False   False    True  \n",
       "\n",
       "[5 rows x 25 columns]"
      ]
     },
     "execution_count": 399,
     "metadata": {},
     "output_type": "execute_result"
    }
   ],
   "source": [
    "fullSel=fullSel.drop(['Age','Parch','SibSp','familyNum','TickCom'],axis=1)\n",
    "fullSel=pd.get_dummies(fullSel)\n",
    "fullSel.head()"
   ]
  },
  {
   "cell_type": "code",
   "execution_count": 402,
   "id": "475c2710-9bb2-4a7a-97ae-8d85dfe1decd",
   "metadata": {},
   "outputs": [],
   "source": [
    "experData=fullSel[fullSel['Survived'].notnull()]\n",
    "preData=fullSel[fullSel['Survived'].isnull()]\n",
    "\n"
   ]
  },
  {
   "cell_type": "code",
   "execution_count": 409,
   "id": "6b96882c-94eb-4802-8255-d9ab2359d11b",
   "metadata": {},
   "outputs": [],
   "source": [
    "experData_X=experData.drop('Survived',axis=1)\n",
    "experData_y=experData['Survived']\n",
    "\n",
    "preData_X=preData.drop('Survived',axis=1)"
   ]
  },
  {
   "cell_type": "code",
   "execution_count": 410,
   "id": "14c00457-3f94-4564-97c1-51239db3f494",
   "metadata": {},
   "outputs": [],
   "source": [
    "from sklearn.ensemble import RandomForestClassifier,GradientBoostingClassifier,ExtraTreesClassifier"
   ]
  },
  {
   "cell_type": "code",
   "execution_count": 411,
   "id": "75166598-28b5-4a1e-ad37-415a3c9a5cb3",
   "metadata": {},
   "outputs": [],
   "source": [
    "from sklearn.discriminant_analysis import LinearDiscriminantAnalysis"
   ]
  },
  {
   "cell_type": "code",
   "execution_count": 412,
   "id": "6388bd28-a2a5-4955-8fc7-45f9a664107b",
   "metadata": {},
   "outputs": [],
   "source": [
    "from sklearn.linear_model import LogisticRegression"
   ]
  },
  {
   "cell_type": "code",
   "execution_count": 413,
   "id": "1db578df-63bb-4ac9-95f0-18c0ab8a78cc",
   "metadata": {},
   "outputs": [],
   "source": [
    "from sklearn.neighbors import KNeighborsClassifier"
   ]
  },
  {
   "cell_type": "code",
   "execution_count": 414,
   "id": "c9407d97-3f74-4ed4-9f57-cf677fe6744c",
   "metadata": {},
   "outputs": [],
   "source": [
    "from sklearn.tree import DecisionTreeClassifier"
   ]
  },
  {
   "cell_type": "code",
   "execution_count": 415,
   "id": "211defb2-cf6c-4fe0-8576-77af85e3b3e8",
   "metadata": {},
   "outputs": [],
   "source": [
    "from sklearn.svm import  SVC"
   ]
  },
  {
   "cell_type": "code",
   "execution_count": 416,
   "id": "0220ac91-7954-45c8-ae39-b272fd45b53f",
   "metadata": {},
   "outputs": [],
   "source": [
    "from sklearn.model_selection import GridSearchCV,cross_val_score,StratifiedKFold"
   ]
  },
  {
   "cell_type": "code",
   "execution_count": 417,
   "id": "3277233a-ab04-40c6-b2cf-127dc6a530e7",
   "metadata": {},
   "outputs": [],
   "source": [
    "kfold=StratifiedKFold(n_splits=10)"
   ]
  },
  {
   "cell_type": "code",
   "execution_count": 418,
   "id": "9aad830b-df6f-4efc-94c6-549294fd7522",
   "metadata": {},
   "outputs": [],
   "source": [
    "classifiers=[]"
   ]
  },
  {
   "cell_type": "code",
   "execution_count": 419,
   "id": "6199e6e7-68a6-4d85-8bd9-68caf4e5e9a8",
   "metadata": {},
   "outputs": [],
   "source": [
    "classifiers.append(SVC())"
   ]
  },
  {
   "cell_type": "code",
   "execution_count": 420,
   "id": "f3962e44-c7c5-465d-8de0-4a39ab4983a4",
   "metadata": {},
   "outputs": [],
   "source": [
    "classifiers.append(DecisionTreeClassifier())"
   ]
  },
  {
   "cell_type": "code",
   "execution_count": null,
   "id": "49414ae2-4a62-4af9-953f-86c9499dbf0b",
   "metadata": {},
   "outputs": [],
   "source": [
    "classifiers.append(RandomTreeClassifier())"
   ]
  },
  {
   "cell_type": "code",
   "execution_count": 427,
   "id": "01e0b7ca-cf8c-423c-92ce-e694b7bcf0e4",
   "metadata": {},
   "outputs": [],
   "source": [
    "classifiers.append(ExtraTreesClassifier())"
   ]
  },
  {
   "cell_type": "code",
   "execution_count": 428,
   "id": "c3627c86-0498-4b33-91fb-f2168a672793",
   "metadata": {},
   "outputs": [],
   "source": [
    "classifiers.append(GradientBoostingClassifier())"
   ]
  },
  {
   "cell_type": "code",
   "execution_count": 429,
   "id": "6c807bea-faa3-489b-8069-22f5e7161b0b",
   "metadata": {},
   "outputs": [],
   "source": [
    "classifiers.append(KNeighborsClassifier())"
   ]
  },
  {
   "cell_type": "code",
   "execution_count": 430,
   "id": "64a692b3-dddd-4619-bd11-407fcbc58019",
   "metadata": {},
   "outputs": [],
   "source": [
    "classifiers.append(LogisticRegression())"
   ]
  },
  {
   "cell_type": "code",
   "execution_count": 431,
   "id": "7323bbe4-cd7e-40ac-99f1-d05f52194302",
   "metadata": {},
   "outputs": [],
   "source": [
    "classifiers.append(LinearDiscriminantAnalysis())"
   ]
  },
  {
   "cell_type": "code",
   "execution_count": null,
   "id": "72cae9d3-7fcf-4e59-9cb4-ab1386b56723",
   "metadata": {},
   "outputs": [],
   "source": []
  },
  {
   "cell_type": "code",
   "execution_count": 446,
   "id": "fd8759b9-3502-4931-a942-1dcb3eacdfb0",
   "metadata": {},
   "outputs": [],
   "source": [
    "# cv_means=[]\n",
    "# cv_std=[]\n",
    "# for classifier in classifiers:"
   ]
  },
  {
   "cell_type": "code",
   "execution_count": 444,
   "id": "96abc736-56e8-439a-a9e4-18841b761c0f",
   "metadata": {},
   "outputs": [],
   "source": [
    "import pandas as pd\n",
    "import numpy as np\n",
    "from sklearn.model_selection import cross_val_score, KFold\n",
    "from sklearn.ensemble import GradientBoostingClassifier\n",
    "from sklearn.neighbors import KNeighborsClassifier\n",
    "from sklearn.linear_model import LogisticRegression\n",
    "from sklearn.discriminant_analysis import LinearDiscriminantAnalysis\n",
    "from sklearn.preprocessing import LabelEncoder, StandardScaler\n",
    "from sklearn.impute import SimpleImputer\n",
    "from sklearn.pipeline import make_pipeline\n",
    "\n",
    "# ----------------------\n",
    "# 1. 数据加载与预处理\n",
    "# ----------------------\n",
    "# 替换为你的数据路径，Kaggle  Titanic 数据需包含 'Survived' 等列\n",
    "\n",
    "\n",
    "# 拆分有标签（训练）和无标签（预测）数据\n",
    "\n",
    "\n",
    "# 特征与标签分离\n",
    "\n",
    "\n",
    "# 预处理管道：填充缺失值 + 标准化（针对数值特征）\n",
    "# 这里简单处理，实际可区分数值/类别特征做更细预处理\n",
    "# def preprocess(df):\n",
    "#     # 复制数据避免修改原数据\n",
    "#     df = df.copy()  \n",
    "#     # 填充缺失值（数值用均值，类别用最频繁值，可根据实际调整）\n",
    "#     imputer_num = SimpleImputer(strategy='mean')\n",
    "#     imputer_cat = SimpleImputer(strategy='most_frequent')\n",
    "    \n",
    "#     # 数值特征（示例：Age, Fare）\n",
    "#     num_cols = ['Age', 'Fare']\n",
    "#     df[num_cols] = imputer_num.fit_transform(df[num_cols])\n",
    "    \n",
    "#     # 类别特征（示例：Embarked, Sex）\n",
    "#     cat_cols = ['Embarked', 'Sex']\n",
    "#     df[cat_cols] = imputer_cat.fit_transform(df[cat_cols])\n",
    "    \n",
    "#     # 编码类别特征（LabelEncoder）\n",
    "#     le = LabelEncoder()\n",
    "#     for col in cat_cols:\n",
    "#         df[col] = le.fit_transform(df[col])\n",
    "    \n",
    "#     # .drop 丢弃无意义列（如姓名、 Ticket 等，可根据需求调整）\n",
    "#     return df.drop(['Name', 'Ticket', 'Cabin', 'PassengerId'], axis=1)\n",
    "\n",
    "# 执行预处理\n",
    "\n",
    "\n",
    "# ----------------------\n",
    "# 2. 模型构建与交叉验证\n",
    "# ----------------------\n",
    "# classifiers = [\n",
    "#     GradientBoostingClassifier(random_state=42),\n",
    "#     KNeighborsClassifier(),\n",
    "#     LogisticRegression(random_state=42),\n",
    "#     LinearDiscriminantAnalysis()\n",
    "# ]\n",
    "\n",
    "# cv_results = []\n",
    "# # 交叉验证配置\n",
    "# kf = KFold(n_splits=5, shuffle=True, random_state=42)  \n",
    "\n",
    "# for clf in classifiers:\n",
    "#     # 管道：预处理 + 模型（这里预处理已提前做，实际可整合进管道）\n",
    "#     pipeline = make_pipeline(StandardScaler(), clf)  \n",
    "#     scores = cross_val_score(\n",
    "#         pipeline, \n",
    "#         experData_X, \n",
    "#         experData_y, \n",
    "#         scoring='accuracy', \n",
    "#         cv=kf\n",
    "#     )\n",
    "#     cv_results.append(scores)\n",
    "\n",
    "# ----------------------\n",
    "# 3. 结果输出与模型选择\n",
    "# ----------------------\n",
    "# 打印交叉验证结果\n",
    "# for name, scores in zip([clf.__class__.__name__ for clf in classifiers], cv_results):\n",
    "#     print(f\"{name}: 平均准确率 = {np.mean(scores):.4f}, 标准差 = {np.std(scores):.4f}\")\n",
    "\n",
    "# 选择最优模型（示例：选 GradientBoostingClassifier）\n",
    "# best_clf = GradientBoostingClassifier(random_state=42)\n",
    "# best_clf.fit(experData_X, experData_y)\n",
    "\n",
    "# 预测无标签数据\n",
    "# preData['Survived_pred'] = best_clf.predict(preData_X)\n",
    "\n",
    "# 输出预测结果（可选：保存到文件）\n",
    "# preData[['PassengerId', 'Survived_pred']].to_csv('predictions.csv', index=False)"
   ]
  },
  {
   "cell_type": "code",
   "execution_count": 462,
   "id": "f0dd6d2d-5e9a-4b05-911e-5311a79c7d17",
   "metadata": {},
   "outputs": [],
   "source": [
    "# # GradientBoostingClassifier模型\n",
    "# GBC = GradientBoostingClassifier()\n",
    "# gb_param_grid = {'loss': [\"deviance\"],\n",
    "#                  'n_estimators': [100, 200, 300],\n",
    "#                  'learning_rate': [0.1, 0.05, 0.01],\n",
    "#                  'max_depth': [4, 8],\n",
    "#                  'min_samples_leaf': [100, 150],\n",
    "#                  'max_features': [0.3, 0.1]\n",
    "#                  }\n",
    "# modelgsGBC = GridSearchCV(GBC, param_grid = gb_param_grid, cv = kfold,\n",
    "#                           scoring = \"accuracy\", n_jobs = -1, verbose = 1)\n",
    "# modelgsGBC.fit(experData_X, experData_y)\n",
    "\n",
    "\n",
    "# # LogisticRegression模型\n",
    "# modelLR = LogisticRegression()\n",
    "# LR_param_grid = {'C': [1, 2, 3],\n",
    "#                  'penalty': ['l1', 'l2']}\n",
    "# modelgsLR = GridSearchCV(modelLR, param_grid = LR_param_grid, cv = kfold,\n",
    "#                          scoring = \"accuracy\", n_jobs = -1, verbose = 1)\n",
    "# modelgsLR.fit(experData_X, experData_y)\n",
    "\n",
    "# # SVC模型\n",
    "# svc = SVC()\n",
    "# gb_param_grid = {'C': [0.1, 0.5, 1, 2, 3, 5, 10],\n",
    "#                  'kernel': ['rbf', 'poly', 'sigmoid']\n",
    "#                  }\n",
    "# modelgsSVC = GridSearchCV(svc, param_grid = gb_param_grid, cv = kfold,\n",
    "#                           scoring = \"accuracy\", n_jobs = -1, verbose = 1)\n",
    "# modelgsSVC.fit(experData_X, experData_y)"
   ]
  },
  {
   "cell_type": "code",
   "execution_count": 453,
   "id": "a5494372-02be-4267-a2b4-ec90606ba545",
   "metadata": {},
   "outputs": [],
   "source": [
    "# # # LogisticRegression模型\n",
    "# modelLR = LogisticRegression()\n",
    "# LR_param_grid = {'C': [1, 2, 3],\n",
    "#                  'penalty': ['l1', 'l2']}\n",
    "# modelgsLR = GridSearchCV(modelLR, param_grid = LR_param_grid, cv = kfold,\n",
    "#                          scoring = \"accuracy\", n_jobs = -1, verbose = 1)\n",
    "# modelgsLR.fit(experData_X, experData_y)\n",
    "# modelgsLR.best_score_"
   ]
  },
  {
   "cell_type": "code",
   "execution_count": 456,
   "id": "04023a89-70cd-4e8d-9b5b-32b119cb3edf",
   "metadata": {},
   "outputs": [],
   "source": [
    "# # 导入必要库\n",
    "# from sklearn.ensemble import GradientBoostingClassifier\n",
    "# from sklearn.model_selection import GridSearchCV, KFold\n",
    "# from sklearn.metrics import roc_curve, auc\n",
    "# import matplotlib.pyplot as plt\n",
    "# import pandas as pd\n",
    "\n",
    "# # 假设你已经有这些数据（需提前预处理好，无缺失、类别编码等 ）\n",
    "# # fullSel = pd.read_csv('你的数据文件.csv')\n",
    "# # experData = fullSel[fullSel['Survived'].notnull()]\n",
    "# # experData_X = experData.drop('Survived', axis=1)\n",
    "# # experData_y = experData['Survived'].astype(int)  # 确保标签是整数类型\n",
    "\n",
    "# # 1. 定义模型、参数网格、交叉验证\n",
    "# GBC = GradientBoostingClassifier()\n",
    "# gb_param_grid = {\n",
    "#     'loss': [\"deviance\"],\n",
    "#     'n_estimators': [100, 200, 300],\n",
    "#     'learning_rate': [0.1, 0.05, 0.01],\n",
    "#     'max_depth': [4, 8],\n",
    "#     'min_samples_leaf': [100, 150],\n",
    "#     'max_features': [0.3, 0.1]\n",
    "# }\n",
    "# kfold = KFold(n_splits=5, shuffle=True, random_state=42)\n",
    "# modelgsGBC = GridSearchCV(GBC, param_grid=gb_param_grid, cv=kfold, scoring=\"accuracy\", n_jobs=-1, verbose=1)\n",
    "\n",
    "# # 2. 执行训练！！！\n",
    "# modelgsGBC.fit(experData_X, experData_y)\n",
    "\n",
    "# # 3. 预测\n",
    "# modelgsGBCtestpre_y = modelgsGBC.predict(experData_X.astype(int))\n",
    "\n",
    "# # 4. 画 ROC 曲线（你原来的可视化代码 ）\n",
    "# fpr, tpr, threshold = roc_curve(experData_y, modelgsGBCtestpre_y)\n",
    "# roc_auc = auc(fpr, tpr)\n",
    "\n",
    "# plt.figure(figsize=(10, 10))\n",
    "# lw = 2\n",
    "# plt.plot(fpr, tpr, color='r', lw=lw, label='ROC curve (area = %0.3f)' % roc_auc)\n",
    "# plt.plot([0, 1], [0, 1], color='navy', lw=lw, linestyle='--')\n",
    "# plt.xlim([0.0, 1.0])\n",
    "# plt.ylim([0.0, 1.0])\n",
    "# plt.xlabel('False Positive Rate')\n",
    "# plt.ylabel('True Positive Rate')\n",
    "# plt.title('Titanic GradientBoostingClassifier Model')\n",
    "# plt.legend(loc=\"lower right\")\n",
    "# plt.show()"
   ]
  },
  {
   "cell_type": "code",
   "execution_count": 458,
   "id": "58779394-c9d5-4927-8ba5-e643d36f55f9",
   "metadata": {},
   "outputs": [],
   "source": [
    "# 查看模型ROC曲线\n",
    "# # 求出测试数据模型的预测值\n",
    "# modelgsGBCtestpre_y = modelgsGBC.predict(experData_X.astype(int))\n",
    "# # 画图\n",
    "# from sklearn.metrics import roc_curve, auc  ###计算roc和auc\n",
    "# # Compute ROC curve and ROC area for each class\n",
    "# fpr, tpr, threshold = roc_curve(experData_y, modelgsGBCtestpre_y) ###计算真正率和假正率\n",
    "# roc_auc = auc(fpr, tpr)  ###计算auc的值\n",
    "\n",
    "# plt.figure()\n",
    "# lw = 2\n",
    "# plt.figure(figsize=(10,10))\n",
    "# plt.plot(fpr, tpr, color='r', \n",
    "#          lw=lw, label='ROC curve (area = %0.3f)' % roc_auc) ###假正率为横坐标，真正率为纵坐标做曲线\n",
    "# plt.plot([0, 1], [0, 1], color='navy', lw=lw, linestyle='--')\n",
    "# plt.xlim([0.0, 1.0])\n",
    "# plt.ylim([0.0, 1.0])\n",
    "# plt.xlabel('False Positive Rate')\n",
    "# plt.ylabel('True Positive Rate')\n",
    "# plt.title('Titanic GradientBoostingClassifier Model')\n",
    "# plt.legend(loc=\"lower right\")\n",
    "# plt.show()"
   ]
  },
  {
   "cell_type": "code",
   "execution_count": 463,
   "id": "3f4b51a6-a749-4a95-b857-eeab081cf2fc",
   "metadata": {},
   "outputs": [],
   "source": [
    "# 混淆矩阵\n",
    "from sklearn.metrics import confusion_matrix\n",
    "# print('GradientBoostingClassifier模型混淆矩阵为\\n', confusion_matrix(experData_y, modelgsGBCtestpre_y))\n",
    "# print('LogisticRegression模型混淆矩阵为\\n', confusion_matrix(experData_y, modelgsLRtestpre_y))\n",
    "# print('SVC模型混淆矩阵为\\n', confusion_matrix(experData_y, modelgsSVCtestpre_y))"
   ]
  },
  {
   "cell_type": "code",
   "execution_count": null,
   "id": "ee5b85a8-09d2-4f39-a3a6-1d852f7c1da9",
   "metadata": {},
   "outputs": [],
   "source": []
  }
 ],
 "metadata": {
  "kernelspec": {
   "display_name": "Python 3 (ipykernel)",
   "language": "python",
   "name": "python3"
  },
  "language_info": {
   "codemirror_mode": {
    "name": "ipython",
    "version": 3
   },
   "file_extension": ".py",
   "mimetype": "text/x-python",
   "name": "python",
   "nbconvert_exporter": "python",
   "pygments_lexer": "ipython3",
   "version": "3.12.7"
  }
 },
 "nbformat": 4,
 "nbformat_minor": 5
}
